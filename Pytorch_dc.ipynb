{
  "nbformat": 4,
  "nbformat_minor": 0,
  "metadata": {
    "colab": {
      "provenance": [],
      "authorship_tag": "ABX9TyM7ObMmHN7E0ATNwrxJ9GHD",
      "include_colab_link": true
    },
    "kernelspec": {
      "name": "python3",
      "display_name": "Python 3"
    },
    "language_info": {
      "name": "python"
    }
  },
  "cells": [
    {
      "cell_type": "markdown",
      "metadata": {
        "id": "view-in-github",
        "colab_type": "text"
      },
      "source": [
        "<a href=\"https://colab.research.google.com/github/cosineDaDa0623/2023_Summer_Intern/blob/master/Pytorch_dc.ipynb\" target=\"_parent\"><img src=\"https://colab.research.google.com/assets/colab-badge.svg\" alt=\"Open In Colab\"/></a>"
      ]
    },
    {
      "cell_type": "code",
      "source": [
        "!pip install rdkit\n",
        "!pip install deepchem[torch]\n",
        "!pip install torch_geometric"
      ],
      "metadata": {
        "colab": {
          "base_uri": "https://localhost:8080/"
        },
        "id": "J3HoRD7u3aDu",
        "outputId": "84d94da6-1977-4370-dab1-dcb00517e0e4"
      },
      "execution_count": 1,
      "outputs": [
        {
          "output_type": "stream",
          "name": "stdout",
          "text": [
            "Collecting rdkit\n",
            "  Downloading rdkit-2023.3.3-cp310-cp310-manylinux_2_17_x86_64.manylinux2014_x86_64.whl (29.7 MB)\n",
            "\u001b[2K     \u001b[90m━━━━━━━━━━━━━━━━━━━━━━━━━━━━━━━━━━━━━━━━\u001b[0m \u001b[32m29.7/29.7 MB\u001b[0m \u001b[31m49.8 MB/s\u001b[0m eta \u001b[36m0:00:00\u001b[0m\n",
            "\u001b[?25hRequirement already satisfied: numpy in /usr/local/lib/python3.10/dist-packages (from rdkit) (1.23.5)\n",
            "Requirement already satisfied: Pillow in /usr/local/lib/python3.10/dist-packages (from rdkit) (9.4.0)\n",
            "Installing collected packages: rdkit\n",
            "Successfully installed rdkit-2023.3.3\n",
            "Collecting deepchem[torch]\n",
            "  Downloading deepchem-2.7.1-py3-none-any.whl (693 kB)\n",
            "\u001b[2K     \u001b[90m━━━━━━━━━━━━━━━━━━━━━━━━━━━━━━━━━━━━━━━\u001b[0m \u001b[32m693.2/693.2 kB\u001b[0m \u001b[31m9.2 MB/s\u001b[0m eta \u001b[36m0:00:00\u001b[0m\n",
            "\u001b[?25hRequirement already satisfied: joblib in /usr/local/lib/python3.10/dist-packages (from deepchem[torch]) (1.3.2)\n",
            "Requirement already satisfied: numpy>=1.21 in /usr/local/lib/python3.10/dist-packages (from deepchem[torch]) (1.23.5)\n",
            "Requirement already satisfied: pandas in /usr/local/lib/python3.10/dist-packages (from deepchem[torch]) (1.5.3)\n",
            "Requirement already satisfied: scikit-learn in /usr/local/lib/python3.10/dist-packages (from deepchem[torch]) (1.2.2)\n",
            "Collecting scipy<1.9 (from deepchem[torch])\n",
            "  Downloading scipy-1.8.1-cp310-cp310-manylinux_2_17_x86_64.manylinux2014_x86_64.whl (42.2 MB)\n",
            "\u001b[2K     \u001b[90m━━━━━━━━━━━━━━━━━━━━━━━━━━━━━━━━━━━━━━━━\u001b[0m \u001b[32m42.2/42.2 MB\u001b[0m \u001b[31m11.7 MB/s\u001b[0m eta \u001b[36m0:00:00\u001b[0m\n",
            "\u001b[?25hRequirement already satisfied: rdkit in /usr/local/lib/python3.10/dist-packages (from deepchem[torch]) (2023.3.3)\n",
            "Requirement already satisfied: torch in /usr/local/lib/python3.10/dist-packages (from deepchem[torch]) (2.0.1+cu118)\n",
            "Requirement already satisfied: torchvision in /usr/local/lib/python3.10/dist-packages (from deepchem[torch]) (0.15.2+cu118)\n",
            "Collecting pytorch-lightning (from deepchem[torch])\n",
            "  Downloading pytorch_lightning-2.0.7-py3-none-any.whl (724 kB)\n",
            "\u001b[2K     \u001b[90m━━━━━━━━━━━━━━━━━━━━━━━━━━━━━━━━━━━━━━\u001b[0m \u001b[32m725.0/725.0 kB\u001b[0m \u001b[31m43.3 MB/s\u001b[0m eta \u001b[36m0:00:00\u001b[0m\n",
            "\u001b[?25hCollecting dgl (from deepchem[torch])\n",
            "  Downloading dgl-1.1.2-cp310-cp310-manylinux1_x86_64.whl (6.0 MB)\n",
            "\u001b[2K     \u001b[90m━━━━━━━━━━━━━━━━━━━━━━━━━━━━━━━━━━━━━━━━\u001b[0m \u001b[32m6.0/6.0 MB\u001b[0m \u001b[31m68.6 MB/s\u001b[0m eta \u001b[36m0:00:00\u001b[0m\n",
            "\u001b[?25hCollecting dgllife (from deepchem[torch])\n",
            "  Downloading dgllife-0.3.2-py3-none-any.whl (226 kB)\n",
            "\u001b[2K     \u001b[90m━━━━━━━━━━━━━━━━━━━━━━━━━━━━━━━━━━━━━━\u001b[0m \u001b[32m226.1/226.1 kB\u001b[0m \u001b[31m21.0 MB/s\u001b[0m eta \u001b[36m0:00:00\u001b[0m\n",
            "\u001b[?25hRequirement already satisfied: networkx>=2.1 in /usr/local/lib/python3.10/dist-packages (from dgl->deepchem[torch]) (3.1)\n",
            "Requirement already satisfied: requests>=2.19.0 in /usr/local/lib/python3.10/dist-packages (from dgl->deepchem[torch]) (2.31.0)\n",
            "Requirement already satisfied: tqdm in /usr/local/lib/python3.10/dist-packages (from dgl->deepchem[torch]) (4.66.1)\n",
            "Requirement already satisfied: psutil>=5.8.0 in /usr/local/lib/python3.10/dist-packages (from dgl->deepchem[torch]) (5.9.5)\n",
            "Requirement already satisfied: hyperopt in /usr/local/lib/python3.10/dist-packages (from dgllife->deepchem[torch]) (0.2.7)\n",
            "Requirement already satisfied: threadpoolctl>=2.0.0 in /usr/local/lib/python3.10/dist-packages (from scikit-learn->deepchem[torch]) (3.2.0)\n",
            "Requirement already satisfied: python-dateutil>=2.8.1 in /usr/local/lib/python3.10/dist-packages (from pandas->deepchem[torch]) (2.8.2)\n",
            "Requirement already satisfied: pytz>=2020.1 in /usr/local/lib/python3.10/dist-packages (from pandas->deepchem[torch]) (2023.3)\n",
            "Requirement already satisfied: PyYAML>=5.4 in /usr/local/lib/python3.10/dist-packages (from pytorch-lightning->deepchem[torch]) (6.0.1)\n",
            "Requirement already satisfied: fsspec[http]>2021.06.0 in /usr/local/lib/python3.10/dist-packages (from pytorch-lightning->deepchem[torch]) (2023.6.0)\n",
            "Collecting torchmetrics>=0.7.0 (from pytorch-lightning->deepchem[torch])\n",
            "  Downloading torchmetrics-1.0.3-py3-none-any.whl (731 kB)\n",
            "\u001b[2K     \u001b[90m━━━━━━━━━━━━━━━━━━━━━━━━━━━━━━━━━━━━━━\u001b[0m \u001b[32m731.6/731.6 kB\u001b[0m \u001b[31m48.5 MB/s\u001b[0m eta \u001b[36m0:00:00\u001b[0m\n",
            "\u001b[?25hRequirement already satisfied: packaging>=17.1 in /usr/local/lib/python3.10/dist-packages (from pytorch-lightning->deepchem[torch]) (23.1)\n",
            "Requirement already satisfied: typing-extensions>=4.0.0 in /usr/local/lib/python3.10/dist-packages (from pytorch-lightning->deepchem[torch]) (4.7.1)\n",
            "Collecting lightning-utilities>=0.7.0 (from pytorch-lightning->deepchem[torch])\n",
            "  Downloading lightning_utilities-0.9.0-py3-none-any.whl (23 kB)\n",
            "Requirement already satisfied: filelock in /usr/local/lib/python3.10/dist-packages (from torch->deepchem[torch]) (3.12.2)\n",
            "Requirement already satisfied: sympy in /usr/local/lib/python3.10/dist-packages (from torch->deepchem[torch]) (1.12)\n",
            "Requirement already satisfied: jinja2 in /usr/local/lib/python3.10/dist-packages (from torch->deepchem[torch]) (3.1.2)\n",
            "Requirement already satisfied: triton==2.0.0 in /usr/local/lib/python3.10/dist-packages (from torch->deepchem[torch]) (2.0.0)\n",
            "Requirement already satisfied: cmake in /usr/local/lib/python3.10/dist-packages (from triton==2.0.0->torch->deepchem[torch]) (3.27.2)\n",
            "Requirement already satisfied: lit in /usr/local/lib/python3.10/dist-packages (from triton==2.0.0->torch->deepchem[torch]) (16.0.6)\n",
            "Requirement already satisfied: Pillow in /usr/local/lib/python3.10/dist-packages (from rdkit->deepchem[torch]) (9.4.0)\n",
            "Requirement already satisfied: aiohttp!=4.0.0a0,!=4.0.0a1 in /usr/local/lib/python3.10/dist-packages (from fsspec[http]>2021.06.0->pytorch-lightning->deepchem[torch]) (3.8.5)\n",
            "Requirement already satisfied: six>=1.5 in /usr/local/lib/python3.10/dist-packages (from python-dateutil>=2.8.1->pandas->deepchem[torch]) (1.16.0)\n",
            "Requirement already satisfied: charset-normalizer<4,>=2 in /usr/local/lib/python3.10/dist-packages (from requests>=2.19.0->dgl->deepchem[torch]) (3.2.0)\n",
            "Requirement already satisfied: idna<4,>=2.5 in /usr/local/lib/python3.10/dist-packages (from requests>=2.19.0->dgl->deepchem[torch]) (3.4)\n",
            "Requirement already satisfied: urllib3<3,>=1.21.1 in /usr/local/lib/python3.10/dist-packages (from requests>=2.19.0->dgl->deepchem[torch]) (2.0.4)\n",
            "Requirement already satisfied: certifi>=2017.4.17 in /usr/local/lib/python3.10/dist-packages (from requests>=2.19.0->dgl->deepchem[torch]) (2023.7.22)\n",
            "Requirement already satisfied: future in /usr/local/lib/python3.10/dist-packages (from hyperopt->dgllife->deepchem[torch]) (0.18.3)\n",
            "Requirement already satisfied: cloudpickle in /usr/local/lib/python3.10/dist-packages (from hyperopt->dgllife->deepchem[torch]) (2.2.1)\n",
            "Requirement already satisfied: py4j in /usr/local/lib/python3.10/dist-packages (from hyperopt->dgllife->deepchem[torch]) (0.10.9.7)\n",
            "Requirement already satisfied: MarkupSafe>=2.0 in /usr/local/lib/python3.10/dist-packages (from jinja2->torch->deepchem[torch]) (2.1.3)\n",
            "Requirement already satisfied: mpmath>=0.19 in /usr/local/lib/python3.10/dist-packages (from sympy->torch->deepchem[torch]) (1.3.0)\n",
            "Requirement already satisfied: attrs>=17.3.0 in /usr/local/lib/python3.10/dist-packages (from aiohttp!=4.0.0a0,!=4.0.0a1->fsspec[http]>2021.06.0->pytorch-lightning->deepchem[torch]) (23.1.0)\n",
            "Requirement already satisfied: multidict<7.0,>=4.5 in /usr/local/lib/python3.10/dist-packages (from aiohttp!=4.0.0a0,!=4.0.0a1->fsspec[http]>2021.06.0->pytorch-lightning->deepchem[torch]) (6.0.4)\n",
            "Requirement already satisfied: async-timeout<5.0,>=4.0.0a3 in /usr/local/lib/python3.10/dist-packages (from aiohttp!=4.0.0a0,!=4.0.0a1->fsspec[http]>2021.06.0->pytorch-lightning->deepchem[torch]) (4.0.3)\n",
            "Requirement already satisfied: yarl<2.0,>=1.0 in /usr/local/lib/python3.10/dist-packages (from aiohttp!=4.0.0a0,!=4.0.0a1->fsspec[http]>2021.06.0->pytorch-lightning->deepchem[torch]) (1.9.2)\n",
            "Requirement already satisfied: frozenlist>=1.1.1 in /usr/local/lib/python3.10/dist-packages (from aiohttp!=4.0.0a0,!=4.0.0a1->fsspec[http]>2021.06.0->pytorch-lightning->deepchem[torch]) (1.4.0)\n",
            "Requirement already satisfied: aiosignal>=1.1.2 in /usr/local/lib/python3.10/dist-packages (from aiohttp!=4.0.0a0,!=4.0.0a1->fsspec[http]>2021.06.0->pytorch-lightning->deepchem[torch]) (1.3.1)\n",
            "Installing collected packages: scipy, lightning-utilities, dgl, dgllife, deepchem, torchmetrics, pytorch-lightning\n",
            "  Attempting uninstall: scipy\n",
            "    Found existing installation: scipy 1.10.1\n",
            "    Uninstalling scipy-1.10.1:\n",
            "      Successfully uninstalled scipy-1.10.1\n",
            "Successfully installed deepchem-2.7.1 dgl-1.1.2 dgllife-0.3.2 lightning-utilities-0.9.0 pytorch-lightning-2.0.7 scipy-1.8.1 torchmetrics-1.0.3\n",
            "Collecting torch_geometric\n",
            "  Downloading torch_geometric-2.3.1.tar.gz (661 kB)\n",
            "\u001b[2K     \u001b[90m━━━━━━━━━━━━━━━━━━━━━━━━━━━━━━━━━━━━━━━\u001b[0m \u001b[32m661.6/661.6 kB\u001b[0m \u001b[31m6.3 MB/s\u001b[0m eta \u001b[36m0:00:00\u001b[0m\n",
            "\u001b[?25h  Installing build dependencies ... \u001b[?25l\u001b[?25hdone\n",
            "  Getting requirements to build wheel ... \u001b[?25l\u001b[?25hdone\n",
            "  Preparing metadata (pyproject.toml) ... \u001b[?25l\u001b[?25hdone\n",
            "Requirement already satisfied: tqdm in /usr/local/lib/python3.10/dist-packages (from torch_geometric) (4.66.1)\n",
            "Requirement already satisfied: numpy in /usr/local/lib/python3.10/dist-packages (from torch_geometric) (1.23.5)\n",
            "Requirement already satisfied: scipy in /usr/local/lib/python3.10/dist-packages (from torch_geometric) (1.8.1)\n",
            "Requirement already satisfied: jinja2 in /usr/local/lib/python3.10/dist-packages (from torch_geometric) (3.1.2)\n",
            "Requirement already satisfied: requests in /usr/local/lib/python3.10/dist-packages (from torch_geometric) (2.31.0)\n",
            "Requirement already satisfied: pyparsing in /usr/local/lib/python3.10/dist-packages (from torch_geometric) (3.1.1)\n",
            "Requirement already satisfied: scikit-learn in /usr/local/lib/python3.10/dist-packages (from torch_geometric) (1.2.2)\n",
            "Requirement already satisfied: psutil>=5.8.0 in /usr/local/lib/python3.10/dist-packages (from torch_geometric) (5.9.5)\n",
            "Requirement already satisfied: MarkupSafe>=2.0 in /usr/local/lib/python3.10/dist-packages (from jinja2->torch_geometric) (2.1.3)\n",
            "Requirement already satisfied: charset-normalizer<4,>=2 in /usr/local/lib/python3.10/dist-packages (from requests->torch_geometric) (3.2.0)\n",
            "Requirement already satisfied: idna<4,>=2.5 in /usr/local/lib/python3.10/dist-packages (from requests->torch_geometric) (3.4)\n",
            "Requirement already satisfied: urllib3<3,>=1.21.1 in /usr/local/lib/python3.10/dist-packages (from requests->torch_geometric) (2.0.4)\n",
            "Requirement already satisfied: certifi>=2017.4.17 in /usr/local/lib/python3.10/dist-packages (from requests->torch_geometric) (2023.7.22)\n",
            "Requirement already satisfied: joblib>=1.1.1 in /usr/local/lib/python3.10/dist-packages (from scikit-learn->torch_geometric) (1.3.2)\n",
            "Requirement already satisfied: threadpoolctl>=2.0.0 in /usr/local/lib/python3.10/dist-packages (from scikit-learn->torch_geometric) (3.2.0)\n",
            "Building wheels for collected packages: torch_geometric\n",
            "  Building wheel for torch_geometric (pyproject.toml) ... \u001b[?25l\u001b[?25hdone\n",
            "  Created wheel for torch_geometric: filename=torch_geometric-2.3.1-py3-none-any.whl size=910454 sha256=babc900ffe4bf182426f9a5308a6f0e50035d39899174bacaa6bb4c30d6dfc62\n",
            "  Stored in directory: /root/.cache/pip/wheels/ac/dc/30/e2874821ff308ee67dcd7a66dbde912411e19e35a1addda028\n",
            "Successfully built torch_geometric\n",
            "Installing collected packages: torch_geometric\n",
            "Successfully installed torch_geometric-2.3.1\n"
          ]
        }
      ]
    },
    {
      "cell_type": "code",
      "execution_count": 2,
      "metadata": {
        "colab": {
          "base_uri": "https://localhost:8080/"
        },
        "id": "RbG_28w93R8Z",
        "outputId": "40e0bf2a-bac6-43b5-819f-a80ef0b2b477"
      },
      "outputs": [
        {
          "output_type": "stream",
          "name": "stderr",
          "text": [
            "WARNING:deepchem.models:Skipped loading some Jax models, missing a dependency. No module named 'haiku'\n"
          ]
        },
        {
          "output_type": "stream",
          "name": "stdout",
          "text": [
            "Mounted at /content/drive\n"
          ]
        }
      ],
      "source": [
        "import deepchem as dc\n",
        "from rdkit import Chem\n",
        "from rdkit.Chem import AllChem\n",
        "from rdkit import DataStructs\n",
        "import pandas as pd #Pandas have Dataframe, so the manipulation of data is efficient and convenient\n",
        "import numpy as np #Linear math packages, which are important for the data\n",
        "from google.colab import drive #Just used to get file from the google drive\n",
        "import torch\n",
        "from torch.utils.data import Dataset\n",
        "from torch.utils.data import DataLoader\n",
        "from torch.utils import data\n",
        "from torch import nn\n",
        "drive.mount('/content/drive')\n",
        "# df = pd.read_excel('/content/drive/MyDrive/5HT2A models data.xlsx')\n",
        "from sklearn.metrics import precision_score, recall_score, f1_score, matthews_corrcoef"
      ]
    },
    {
      "cell_type": "code",
      "source": [
        "# def get_response(ligand_class):\n",
        "#   convert_dic = {\n",
        "#       'dude_active' : 0,\n",
        "#       'dude_inactive' : 1,\n",
        "#       'HTR2A_Antagonist_1.0' : 2,\n",
        "#       'HTR2A_Antagonist_0.0' : 3,\n",
        "#       'HTR2A_Agonist_1.0' : 4,\n",
        "#       'HTR2A_Agonist_0.0' : 5,\n",
        "#       'HTR2A_Inverse Agonist_1.0' : 6\n",
        "# }\n",
        "#   return convert_dic[ligand_class]\n",
        "\n",
        "# df['label'] = df['ligand_class'].apply(get_response)"
      ],
      "metadata": {
        "id": "Q8Z3dSOI7YHL"
      },
      "execution_count": null,
      "outputs": []
    },
    {
      "cell_type": "code",
      "source": [
        "# df['label'].unique()"
      ],
      "metadata": {
        "colab": {
          "base_uri": "https://localhost:8080/"
        },
        "id": "znAZtcxy7hL0",
        "outputId": "f603d2aa-73fe-466e-c8e1-7b84b7a3af20"
      },
      "execution_count": null,
      "outputs": [
        {
          "output_type": "execute_result",
          "data": {
            "text/plain": [
              "array([0, 1, 2, 4, 5, 3, 6])"
            ]
          },
          "metadata": {},
          "execution_count": 19
        }
      ]
    },
    {
      "cell_type": "code",
      "source": [
        "# df.to_csv('/content/drive/MyDrive/5HT2A models data.csv')"
      ],
      "metadata": {
        "id": "Bu4Ey9CM48Cc"
      },
      "execution_count": null,
      "outputs": []
    },
    {
      "cell_type": "code",
      "source": [
        "dataset_file = '/content/drive/MyDrive/5HT2A models data.csv'\n",
        "task_list = ['label']\n",
        "featurizer_func = dc.feat.CircularFingerprint(size = 2048, radius = 4)"
      ],
      "metadata": {
        "id": "S8upsWRf4umJ"
      },
      "execution_count": 81,
      "outputs": []
    },
    {
      "cell_type": "code",
      "source": [
        "loader = dc.data.CSVLoader(tasks=task_list, feature_field='smiles', featurizer=featurizer_func)\n",
        "dataset = loader.create_dataset(dataset_file)"
      ],
      "metadata": {
        "id": "7XA3QySo4zXU"
      },
      "execution_count": 82,
      "outputs": []
    },
    {
      "cell_type": "code",
      "source": [
        "scaffoldsplitter = dc.splits.ScaffoldSplitter()\n",
        "test_dataset, vadid_dataset, test_dataset = scaffoldsplitter.train_valid_test_split(dataset, frac_train = 0.7, frac_valid = 0.15, frac_test = 0.15, seed = 23)"
      ],
      "metadata": {
        "id": "YsTolAI38Vcx"
      },
      "execution_count": 83,
      "outputs": []
    },
    {
      "cell_type": "code",
      "source": [
        "tt = test_dataset.make_pytorch_dataset(batch_size = 32)\n",
        "va = vadid_dataset.make_pytorch_dataset(batch_size = 32)\n",
        "te = test_dataset.make_pytorch_dataset(batch_size = 32)"
      ],
      "metadata": {
        "id": "UfMbJscI9w-p"
      },
      "execution_count": 84,
      "outputs": []
    },
    {
      "cell_type": "code",
      "source": [
        "#Import Pytorch which is a commonly-used deeplearning package\n",
        "\n",
        "class NN1(nn.Module):\n",
        "  def __init__(self):\n",
        "    super().__init__()\n",
        "    self.linear_layers = nn.Sequential(\n",
        "        nn.Linear(2048, 1024),\n",
        "        nn.BatchNorm1d(1024),\n",
        "        nn.ReLU(),\n",
        "        nn.Dropout(0.5),\n",
        "        nn.Linear(1024, 512),\n",
        "        nn.BatchNorm1d(512),\n",
        "        nn.ReLU(),\n",
        "        nn.Dropout(0.5),\n",
        "        nn.Linear(512, 256),\n",
        "        nn.BatchNorm1d(256),\n",
        "        nn.ReLU(),\n",
        "        nn.Dropout(0.5),\n",
        "        nn.Linear(256, 7)\n",
        "    )\n",
        "\n",
        "  def forward(self, x):\n",
        "    return self.linear_layers(x)"
      ],
      "metadata": {
        "id": "s7wSZlKW_HFJ"
      },
      "execution_count": 89,
      "outputs": []
    },
    {
      "cell_type": "code",
      "source": [
        "def train_loop(dataloader, model, loss_fn, optimizer):\n",
        "    i = 0\n",
        "    # Set the model to training mode - important for batch normalization and dropout layers\n",
        "    # Unnecessary in this situation but added for best practices\n",
        "    model.train()\n",
        "    for batch, (X, y, _, _) in enumerate(dataloader):\n",
        "      X = torch.tensor(X).float()\n",
        "      y = torch.tensor(y).long()\n",
        "      y = y.squeeze(1)\n",
        "      pred = model(X)\n",
        "      loss = loss_fn(pred, y)\n",
        "      # Backpropagation\n",
        "      loss.backward()\n",
        "      optimizer.step()\n",
        "      optimizer.zero_grad()\n",
        "      if batch % 100 == 0:\n",
        "          loss, current = loss.item(), (batch + 1) * len(X)\n",
        "          print(f\"loss: {loss:>7f}\")\n",
        "\n",
        "def test_loop(dataloader, model, loss_fn):\n",
        "  model.eval()\n",
        "  size = len(dataloader.disk_dataset)\n",
        "  num_batches = 0\n",
        "  test_loss, correct = 0, 0\n",
        "\n",
        "  # Keep track of true and predicted labels for additional metrics\n",
        "  all_true_labels = []\n",
        "  all_predicted_labels = []\n",
        "\n",
        "  with torch.no_grad():\n",
        "      for (X, y, _, _) in dataloader:\n",
        "          X = torch.tensor(X).float()\n",
        "          y = torch.tensor(y).long()\n",
        "          y = y.squeeze(1)\n",
        "          pred = model(X)\n",
        "          test_loss += loss_fn(pred, y).item()\n",
        "          correct += (pred.argmax(1) == y).type(torch.float).sum().item()\n",
        "\n",
        "          # Add true labels and predicted labels to lists\n",
        "          all_true_labels.extend(y.tolist())\n",
        "          all_predicted_labels.extend(pred.argmax(1).tolist())\n",
        "          num_batches += 1\n",
        "\n",
        "  test_loss /= num_batches\n",
        "  correct /= size\n",
        "\n",
        "  # Compute additional metrics\n",
        "  precision = precision_score(all_true_labels, all_predicted_labels, average='macro')\n",
        "  recall = recall_score(all_true_labels, all_predicted_labels, average='macro')\n",
        "  f1 = f1_score(all_true_labels, all_predicted_labels, average='macro')\n",
        "  mcc = matthews_corrcoef(all_true_labels, all_predicted_labels)\n",
        "\n",
        "  print(f\"Test Error: \")\n",
        "  print(f\" Accuracy: {(100*correct):>0.1f}%\")\n",
        "  print(f\" Avg loss: {test_loss:>8f}\")\n",
        "  print(f\" Precision: {precision:>0.4f}\")\n",
        "  print(f\" Recall: {recall:>0.4f}\")\n",
        "  print(f\" F1 Score: {f1:>0.4f}\")\n",
        "  print(f\" Matthew's Correlation Coefficient: {mcc:>0.4f}\")\n",
        "  return test_loss"
      ],
      "metadata": {
        "id": "BUnWFR7b_Z2t"
      },
      "execution_count": 90,
      "outputs": []
    },
    {
      "cell_type": "code",
      "source": [
        "class EarlyStopping:\n",
        "    def __init__(self, patience=10):\n",
        "        self.patience = patience\n",
        "        self.counter = 0\n",
        "        self.best_score = None\n",
        "        self.early_stop = False\n",
        "\n",
        "    def __call__(self, test_loss, model):\n",
        "\n",
        "        if self.best_score is None:\n",
        "            self.best_score = test_loss\n",
        "            self.save_checkpoint(model)\n",
        "        elif test_loss >= self.best_score:\n",
        "            self.counter += 1\n",
        "            print(f'EarlyStopping counter: {self.counter} out of {self.patience}')\n",
        "            if self.counter >= self.patience:\n",
        "                self.early_stop = True\n",
        "        else:\n",
        "            self.best_score = test_loss\n",
        "            self.save_checkpoint(model)\n",
        "            self.counter = 0\n",
        "\n",
        "    def save_checkpoint(self, model):\n",
        "        torch.save(model.state_dict(), '/content/drive/MyDrive/checkpoint.pt')"
      ],
      "metadata": {
        "id": "hPLCkNuAHkPG"
      },
      "execution_count": 97,
      "outputs": []
    },
    {
      "cell_type": "code",
      "source": [
        "nn1 = NN1()\n",
        "loss_fn = nn.CrossEntropyLoss()\n",
        "optimizer = torch.optim.SGD(nn1.parameters(), lr=0.01)\n",
        "early_stopping = EarlyStopping(patience=10)\n",
        "epochs = 100\n",
        "for t in range(epochs):\n",
        "    print(f\"Epoch {t+1}\\n-------------------------------\")\n",
        "    train_loop(tt, nn1, loss_fn, optimizer)\n",
        "    test_loss = test_loop(va, nn1, loss_fn)\n",
        "    early_stopping(test_loss, nn1)\n",
        "    if early_stopping.early_stop:\n",
        "        print(\"Early stopping\")\n",
        "        break\n",
        "print(\"Done!\")"
      ],
      "metadata": {
        "colab": {
          "base_uri": "https://localhost:8080/"
        },
        "id": "ABTOS1cb_c5O",
        "outputId": "f6675ba6-08bc-430e-f4f5-120bc50bee32"
      },
      "execution_count": 99,
      "outputs": [
        {
          "output_type": "stream",
          "name": "stdout",
          "text": [
            "Epoch 1\n",
            "-------------------------------\n",
            "loss: 1.837479\n",
            "loss: 1.024665\n"
          ]
        },
        {
          "output_type": "stream",
          "name": "stderr",
          "text": [
            "/usr/local/lib/python3.10/dist-packages/sklearn/metrics/_classification.py:1344: UndefinedMetricWarning: Precision is ill-defined and being set to 0.0 in labels with no predicted samples. Use `zero_division` parameter to control this behavior.\n",
            "  _warn_prf(average, modifier, msg_start, len(result))\n"
          ]
        },
        {
          "output_type": "stream",
          "name": "stdout",
          "text": [
            "Test Error: \n",
            " Accuracy: 69.6%\n",
            " Avg loss: 1.148619\n",
            " Precision: 0.3410\n",
            " Recall: 0.3534\n",
            " F1 Score: 0.3463\n",
            " Matthew's Correlation Coefficient: 0.5031\n",
            "Epoch 2\n",
            "-------------------------------\n",
            "loss: 0.889622\n",
            "loss: 0.696316\n"
          ]
        },
        {
          "output_type": "stream",
          "name": "stderr",
          "text": [
            "/usr/local/lib/python3.10/dist-packages/sklearn/metrics/_classification.py:1344: UndefinedMetricWarning: Precision is ill-defined and being set to 0.0 in labels with no predicted samples. Use `zero_division` parameter to control this behavior.\n",
            "  _warn_prf(average, modifier, msg_start, len(result))\n"
          ]
        },
        {
          "output_type": "stream",
          "name": "stdout",
          "text": [
            "Test Error: \n",
            " Accuracy: 71.8%\n",
            " Avg loss: 0.952582\n",
            " Precision: 0.3503\n",
            " Recall: 0.3807\n",
            " F1 Score: 0.3485\n",
            " Matthew's Correlation Coefficient: 0.5714\n",
            "Epoch 3\n",
            "-------------------------------\n",
            "loss: 0.970917\n",
            "loss: 0.562620\n"
          ]
        },
        {
          "output_type": "stream",
          "name": "stderr",
          "text": [
            "/usr/local/lib/python3.10/dist-packages/sklearn/metrics/_classification.py:1344: UndefinedMetricWarning: Precision is ill-defined and being set to 0.0 in labels with no predicted samples. Use `zero_division` parameter to control this behavior.\n",
            "  _warn_prf(average, modifier, msg_start, len(result))\n"
          ]
        },
        {
          "output_type": "stream",
          "name": "stdout",
          "text": [
            "Test Error: \n",
            " Accuracy: 73.0%\n",
            " Avg loss: 0.863991\n",
            " Precision: 0.3552\n",
            " Recall: 0.3938\n",
            " F1 Score: 0.3565\n",
            " Matthew's Correlation Coefficient: 0.6010\n",
            "Epoch 4\n",
            "-------------------------------\n",
            "loss: 0.618944\n",
            "loss: 0.586424\n"
          ]
        },
        {
          "output_type": "stream",
          "name": "stderr",
          "text": [
            "/usr/local/lib/python3.10/dist-packages/sklearn/metrics/_classification.py:1344: UndefinedMetricWarning: Precision is ill-defined and being set to 0.0 in labels with no predicted samples. Use `zero_division` parameter to control this behavior.\n",
            "  _warn_prf(average, modifier, msg_start, len(result))\n"
          ]
        },
        {
          "output_type": "stream",
          "name": "stdout",
          "text": [
            "Test Error: \n",
            " Accuracy: 73.8%\n",
            " Avg loss: 0.828641\n",
            " Precision: 0.3621\n",
            " Recall: 0.3963\n",
            " F1 Score: 0.3590\n",
            " Matthew's Correlation Coefficient: 0.6125\n",
            "Epoch 5\n",
            "-------------------------------\n",
            "loss: 0.282724\n",
            "loss: 0.134823\n"
          ]
        },
        {
          "output_type": "stream",
          "name": "stderr",
          "text": [
            "/usr/local/lib/python3.10/dist-packages/sklearn/metrics/_classification.py:1344: UndefinedMetricWarning: Precision is ill-defined and being set to 0.0 in labels with no predicted samples. Use `zero_division` parameter to control this behavior.\n",
            "  _warn_prf(average, modifier, msg_start, len(result))\n"
          ]
        },
        {
          "output_type": "stream",
          "name": "stdout",
          "text": [
            "Test Error: \n",
            " Accuracy: 72.9%\n",
            " Avg loss: 0.835844\n",
            " Precision: 0.3599\n",
            " Recall: 0.3947\n",
            " F1 Score: 0.3550\n",
            " Matthew's Correlation Coefficient: 0.6055\n",
            "EarlyStopping counter: 1 out of 10\n",
            "Epoch 6\n",
            "-------------------------------\n",
            "loss: 0.367315\n",
            "loss: 0.388336\n"
          ]
        },
        {
          "output_type": "stream",
          "name": "stderr",
          "text": [
            "/usr/local/lib/python3.10/dist-packages/sklearn/metrics/_classification.py:1344: UndefinedMetricWarning: Precision is ill-defined and being set to 0.0 in labels with no predicted samples. Use `zero_division` parameter to control this behavior.\n",
            "  _warn_prf(average, modifier, msg_start, len(result))\n"
          ]
        },
        {
          "output_type": "stream",
          "name": "stdout",
          "text": [
            "Test Error: \n",
            " Accuracy: 74.9%\n",
            " Avg loss: 0.792670\n",
            " Precision: 0.3634\n",
            " Recall: 0.4023\n",
            " F1 Score: 0.3658\n",
            " Matthew's Correlation Coefficient: 0.6279\n",
            "Epoch 7\n",
            "-------------------------------\n",
            "loss: 0.333875\n",
            "loss: 0.300258\n"
          ]
        },
        {
          "output_type": "stream",
          "name": "stderr",
          "text": [
            "/usr/local/lib/python3.10/dist-packages/sklearn/metrics/_classification.py:1344: UndefinedMetricWarning: Precision is ill-defined and being set to 0.0 in labels with no predicted samples. Use `zero_division` parameter to control this behavior.\n",
            "  _warn_prf(average, modifier, msg_start, len(result))\n"
          ]
        },
        {
          "output_type": "stream",
          "name": "stdout",
          "text": [
            "Test Error: \n",
            " Accuracy: 75.3%\n",
            " Avg loss: 0.781960\n",
            " Precision: 0.4128\n",
            " Recall: 0.4092\n",
            " F1 Score: 0.3769\n",
            " Matthew's Correlation Coefficient: 0.6330\n",
            "Epoch 8\n",
            "-------------------------------\n",
            "loss: 0.353492\n",
            "loss: 0.177110\n"
          ]
        },
        {
          "output_type": "stream",
          "name": "stderr",
          "text": [
            "/usr/local/lib/python3.10/dist-packages/sklearn/metrics/_classification.py:1344: UndefinedMetricWarning: Precision is ill-defined and being set to 0.0 in labels with no predicted samples. Use `zero_division` parameter to control this behavior.\n",
            "  _warn_prf(average, modifier, msg_start, len(result))\n"
          ]
        },
        {
          "output_type": "stream",
          "name": "stdout",
          "text": [
            "Test Error: \n",
            " Accuracy: 74.2%\n",
            " Avg loss: 0.826013\n",
            " Precision: 0.4067\n",
            " Recall: 0.4167\n",
            " F1 Score: 0.3869\n",
            " Matthew's Correlation Coefficient: 0.6246\n",
            "EarlyStopping counter: 1 out of 10\n",
            "Epoch 9\n",
            "-------------------------------\n",
            "loss: 0.409554\n",
            "loss: 0.138147\n"
          ]
        },
        {
          "output_type": "stream",
          "name": "stderr",
          "text": [
            "/usr/local/lib/python3.10/dist-packages/sklearn/metrics/_classification.py:1344: UndefinedMetricWarning: Precision is ill-defined and being set to 0.0 in labels with no predicted samples. Use `zero_division` parameter to control this behavior.\n",
            "  _warn_prf(average, modifier, msg_start, len(result))\n"
          ]
        },
        {
          "output_type": "stream",
          "name": "stdout",
          "text": [
            "Test Error: \n",
            " Accuracy: 72.1%\n",
            " Avg loss: 0.901577\n",
            " Precision: 0.3955\n",
            " Recall: 0.4172\n",
            " F1 Score: 0.3823\n",
            " Matthew's Correlation Coefficient: 0.6065\n",
            "EarlyStopping counter: 2 out of 10\n",
            "Epoch 10\n",
            "-------------------------------\n",
            "loss: 0.212634\n",
            "loss: 0.404585\n"
          ]
        },
        {
          "output_type": "stream",
          "name": "stderr",
          "text": [
            "/usr/local/lib/python3.10/dist-packages/sklearn/metrics/_classification.py:1344: UndefinedMetricWarning: Precision is ill-defined and being set to 0.0 in labels with no predicted samples. Use `zero_division` parameter to control this behavior.\n",
            "  _warn_prf(average, modifier, msg_start, len(result))\n"
          ]
        },
        {
          "output_type": "stream",
          "name": "stdout",
          "text": [
            "Test Error: \n",
            " Accuracy: 76.7%\n",
            " Avg loss: 0.792394\n",
            " Precision: 0.4163\n",
            " Recall: 0.4437\n",
            " F1 Score: 0.4156\n",
            " Matthew's Correlation Coefficient: 0.6531\n",
            "EarlyStopping counter: 3 out of 10\n",
            "Epoch 11\n",
            "-------------------------------\n",
            "loss: 0.282837\n",
            "loss: 0.144217\n"
          ]
        },
        {
          "output_type": "stream",
          "name": "stderr",
          "text": [
            "/usr/local/lib/python3.10/dist-packages/sklearn/metrics/_classification.py:1344: UndefinedMetricWarning: Precision is ill-defined and being set to 0.0 in labels with no predicted samples. Use `zero_division` parameter to control this behavior.\n",
            "  _warn_prf(average, modifier, msg_start, len(result))\n"
          ]
        },
        {
          "output_type": "stream",
          "name": "stdout",
          "text": [
            "Test Error: \n",
            " Accuracy: 74.6%\n",
            " Avg loss: 0.885473\n",
            " Precision: 0.3982\n",
            " Recall: 0.4294\n",
            " F1 Score: 0.3935\n",
            " Matthew's Correlation Coefficient: 0.6315\n",
            "EarlyStopping counter: 4 out of 10\n",
            "Epoch 12\n",
            "-------------------------------\n",
            "loss: 0.235876\n",
            "loss: 0.299859\n"
          ]
        },
        {
          "output_type": "stream",
          "name": "stderr",
          "text": [
            "/usr/local/lib/python3.10/dist-packages/sklearn/metrics/_classification.py:1344: UndefinedMetricWarning: Precision is ill-defined and being set to 0.0 in labels with no predicted samples. Use `zero_division` parameter to control this behavior.\n",
            "  _warn_prf(average, modifier, msg_start, len(result))\n"
          ]
        },
        {
          "output_type": "stream",
          "name": "stdout",
          "text": [
            "Test Error: \n",
            " Accuracy: 74.8%\n",
            " Avg loss: 0.862532\n",
            " Precision: 0.3994\n",
            " Recall: 0.4460\n",
            " F1 Score: 0.4027\n",
            " Matthew's Correlation Coefficient: 0.6329\n",
            "EarlyStopping counter: 5 out of 10\n",
            "Epoch 13\n",
            "-------------------------------\n",
            "loss: 0.335021\n",
            "loss: 0.110466\n"
          ]
        },
        {
          "output_type": "stream",
          "name": "stderr",
          "text": [
            "/usr/local/lib/python3.10/dist-packages/sklearn/metrics/_classification.py:1344: UndefinedMetricWarning: Precision is ill-defined and being set to 0.0 in labels with no predicted samples. Use `zero_division` parameter to control this behavior.\n",
            "  _warn_prf(average, modifier, msg_start, len(result))\n"
          ]
        },
        {
          "output_type": "stream",
          "name": "stdout",
          "text": [
            "Test Error: \n",
            " Accuracy: 75.1%\n",
            " Avg loss: 0.856710\n",
            " Precision: 0.4021\n",
            " Recall: 0.4580\n",
            " F1 Score: 0.4080\n",
            " Matthew's Correlation Coefficient: 0.6337\n",
            "EarlyStopping counter: 6 out of 10\n",
            "Epoch 14\n",
            "-------------------------------\n",
            "loss: 0.156570\n",
            "loss: 0.547906\n"
          ]
        },
        {
          "output_type": "stream",
          "name": "stderr",
          "text": [
            "/usr/local/lib/python3.10/dist-packages/sklearn/metrics/_classification.py:1344: UndefinedMetricWarning: Precision is ill-defined and being set to 0.0 in labels with no predicted samples. Use `zero_division` parameter to control this behavior.\n",
            "  _warn_prf(average, modifier, msg_start, len(result))\n"
          ]
        },
        {
          "output_type": "stream",
          "name": "stdout",
          "text": [
            "Test Error: \n",
            " Accuracy: 73.0%\n",
            " Avg loss: 0.932961\n",
            " Precision: 0.3944\n",
            " Recall: 0.4505\n",
            " F1 Score: 0.3955\n",
            " Matthew's Correlation Coefficient: 0.6113\n",
            "EarlyStopping counter: 7 out of 10\n",
            "Epoch 15\n",
            "-------------------------------\n",
            "loss: 0.057293\n",
            "loss: 0.150472\n"
          ]
        },
        {
          "output_type": "stream",
          "name": "stderr",
          "text": [
            "/usr/local/lib/python3.10/dist-packages/sklearn/metrics/_classification.py:1344: UndefinedMetricWarning: Precision is ill-defined and being set to 0.0 in labels with no predicted samples. Use `zero_division` parameter to control this behavior.\n",
            "  _warn_prf(average, modifier, msg_start, len(result))\n"
          ]
        },
        {
          "output_type": "stream",
          "name": "stdout",
          "text": [
            "Test Error: \n",
            " Accuracy: 74.2%\n",
            " Avg loss: 0.900651\n",
            " Precision: 0.3995\n",
            " Recall: 0.4611\n",
            " F1 Score: 0.4049\n",
            " Matthew's Correlation Coefficient: 0.6260\n",
            "EarlyStopping counter: 8 out of 10\n",
            "Epoch 16\n",
            "-------------------------------\n",
            "loss: 0.120204\n",
            "loss: 0.104190\n"
          ]
        },
        {
          "output_type": "stream",
          "name": "stderr",
          "text": [
            "/usr/local/lib/python3.10/dist-packages/sklearn/metrics/_classification.py:1344: UndefinedMetricWarning: Precision is ill-defined and being set to 0.0 in labels with no predicted samples. Use `zero_division` parameter to control this behavior.\n",
            "  _warn_prf(average, modifier, msg_start, len(result))\n"
          ]
        },
        {
          "output_type": "stream",
          "name": "stdout",
          "text": [
            "Test Error: \n",
            " Accuracy: 73.2%\n",
            " Avg loss: 0.958873\n",
            " Precision: 0.3979\n",
            " Recall: 0.4567\n",
            " F1 Score: 0.3978\n",
            " Matthew's Correlation Coefficient: 0.6128\n",
            "EarlyStopping counter: 9 out of 10\n",
            "Epoch 17\n",
            "-------------------------------\n",
            "loss: 0.453624\n",
            "loss: 0.142173\n",
            "Test Error: \n",
            " Accuracy: 72.9%\n",
            " Avg loss: 0.987175\n",
            " Precision: 0.3961\n",
            " Recall: 0.4525\n",
            " F1 Score: 0.3955\n",
            " Matthew's Correlation Coefficient: 0.6114\n",
            "EarlyStopping counter: 10 out of 10\n",
            "Early stopping\n",
            "Done!\n"
          ]
        },
        {
          "output_type": "stream",
          "name": "stderr",
          "text": [
            "/usr/local/lib/python3.10/dist-packages/sklearn/metrics/_classification.py:1344: UndefinedMetricWarning: Precision is ill-defined and being set to 0.0 in labels with no predicted samples. Use `zero_division` parameter to control this behavior.\n",
            "  _warn_prf(average, modifier, msg_start, len(result))\n"
          ]
        }
      ]
    },
    {
      "cell_type": "code",
      "source": [
        "model = NN1()\n",
        "model.load_state_dict(torch.load(\"/content/drive/MyDrive/checkpoint.pt\"))\n",
        "test_loop(te, nn1, loss_fn)"
      ],
      "metadata": {
        "colab": {
          "base_uri": "https://localhost:8080/"
        },
        "id": "3uRM7m95GzHt",
        "outputId": "0c77630c-33d4-41fa-f237-0d2733c67ebd"
      },
      "execution_count": 101,
      "outputs": [
        {
          "output_type": "stream",
          "name": "stdout",
          "text": [
            "Test Error: \n",
            " Accuracy: 98.4%\n",
            " Avg loss: 0.050504\n",
            " Precision: 0.9031\n",
            " Recall: 0.6789\n",
            " F1 Score: 0.6984\n",
            " Matthew's Correlation Coefficient: 0.9754\n"
          ]
        },
        {
          "output_type": "execute_result",
          "data": {
            "text/plain": [
              "0.05050356642813117"
            ]
          },
          "metadata": {},
          "execution_count": 101
        }
      ]
    }
  ]
}