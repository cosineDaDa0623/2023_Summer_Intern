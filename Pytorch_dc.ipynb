{
  "nbformat": 4,
  "nbformat_minor": 0,
  "metadata": {
    "colab": {
      "provenance": [],
      "toc_visible": true,
      "authorship_tag": "ABX9TyNI2wI2cg9TAp9YQ8eMCu06",
      "include_colab_link": true
    },
    "kernelspec": {
      "name": "python3",
      "display_name": "Python 3"
    },
    "language_info": {
      "name": "python"
    }
  },
  "cells": [
    {
      "cell_type": "markdown",
      "metadata": {
        "id": "view-in-github",
        "colab_type": "text"
      },
      "source": [
        "<a href=\"https://colab.research.google.com/github/cosineDaDa0623/2023_Summer_Intern/blob/master/Pytorch_dc.ipynb\" target=\"_parent\"><img src=\"https://colab.research.google.com/assets/colab-badge.svg\" alt=\"Open In Colab\"/></a>"
      ]
    },
    {
      "cell_type": "code",
      "source": [
        "!python --version\n",
        "!nvcc --version"
      ],
      "metadata": {
        "colab": {
          "base_uri": "https://localhost:8080/"
        },
        "id": "lN0xOb3g4_Oh",
        "outputId": "ff6eefe1-411a-48fe-84ee-8edc2796acad"
      },
      "execution_count": null,
      "outputs": [
        {
          "output_type": "stream",
          "name": "stdout",
          "text": [
            "Python 3.10.12\n",
            "nvcc: NVIDIA (R) Cuda compiler driver\n",
            "Copyright (c) 2005-2022 NVIDIA Corporation\n",
            "Built on Wed_Sep_21_10:33:58_PDT_2022\n",
            "Cuda compilation tools, release 11.8, V11.8.89\n",
            "Build cuda_11.8.r11.8/compiler.31833905_0\n"
          ]
        }
      ]
    },
    {
      "cell_type": "code",
      "source": [
        "#install the related packages\n",
        "!pip install rdkit\n",
        "!pip install deepchem[torch]\n",
        "!pip install torch_geometric\n"
      ],
      "metadata": {
        "colab": {
          "base_uri": "https://localhost:8080/"
        },
        "id": "J3HoRD7u3aDu",
        "outputId": "0c0ee0d5-11e7-4eab-a5cb-c0aeeb0757f4"
      },
      "execution_count": 2,
      "outputs": [
        {
          "output_type": "stream",
          "name": "stdout",
          "text": [
            "Collecting rdkit\n",
            "  Downloading rdkit-2023.3.3-cp310-cp310-manylinux_2_17_x86_64.manylinux2014_x86_64.whl (29.7 MB)\n",
            "\u001b[2K     \u001b[90m━━━━━━━━━━━━━━━━━━━━━━━━━━━━━━━━━━━━━━━━\u001b[0m \u001b[32m29.7/29.7 MB\u001b[0m \u001b[31m30.1 MB/s\u001b[0m eta \u001b[36m0:00:00\u001b[0m\n",
            "\u001b[?25hRequirement already satisfied: numpy in /usr/local/lib/python3.10/dist-packages (from rdkit) (1.23.5)\n",
            "Requirement already satisfied: Pillow in /usr/local/lib/python3.10/dist-packages (from rdkit) (9.4.0)\n",
            "Installing collected packages: rdkit\n",
            "Successfully installed rdkit-2023.3.3\n",
            "Collecting deepchem[torch]\n",
            "  Downloading deepchem-2.7.1-py3-none-any.whl (693 kB)\n",
            "\u001b[2K     \u001b[90m━━━━━━━━━━━━━━━━━━━━━━━━━━━━━━━━━━━━━━━\u001b[0m \u001b[32m693.2/693.2 kB\u001b[0m \u001b[31m9.0 MB/s\u001b[0m eta \u001b[36m0:00:00\u001b[0m\n",
            "\u001b[?25hRequirement already satisfied: joblib in /usr/local/lib/python3.10/dist-packages (from deepchem[torch]) (1.3.2)\n",
            "Requirement already satisfied: numpy>=1.21 in /usr/local/lib/python3.10/dist-packages (from deepchem[torch]) (1.23.5)\n",
            "Requirement already satisfied: pandas in /usr/local/lib/python3.10/dist-packages (from deepchem[torch]) (1.5.3)\n",
            "Requirement already satisfied: scikit-learn in /usr/local/lib/python3.10/dist-packages (from deepchem[torch]) (1.2.2)\n",
            "Collecting scipy<1.9 (from deepchem[torch])\n",
            "  Downloading scipy-1.8.1-cp310-cp310-manylinux_2_17_x86_64.manylinux2014_x86_64.whl (42.2 MB)\n",
            "\u001b[2K     \u001b[90m━━━━━━━━━━━━━━━━━━━━━━━━━━━━━━━━━━━━━━━━\u001b[0m \u001b[32m42.2/42.2 MB\u001b[0m \u001b[31m18.1 MB/s\u001b[0m eta \u001b[36m0:00:00\u001b[0m\n",
            "\u001b[?25hRequirement already satisfied: rdkit in /usr/local/lib/python3.10/dist-packages (from deepchem[torch]) (2023.3.3)\n",
            "Requirement already satisfied: torch in /usr/local/lib/python3.10/dist-packages (from deepchem[torch]) (2.0.1+cu118)\n",
            "Requirement already satisfied: torchvision in /usr/local/lib/python3.10/dist-packages (from deepchem[torch]) (0.15.2+cu118)\n",
            "Collecting pytorch-lightning (from deepchem[torch])\n",
            "  Downloading pytorch_lightning-2.0.7-py3-none-any.whl (724 kB)\n",
            "\u001b[2K     \u001b[90m━━━━━━━━━━━━━━━━━━━━━━━━━━━━━━━━━━━━━━\u001b[0m \u001b[32m725.0/725.0 kB\u001b[0m \u001b[31m53.4 MB/s\u001b[0m eta \u001b[36m0:00:00\u001b[0m\n",
            "\u001b[?25hCollecting dgl (from deepchem[torch])\n",
            "  Downloading dgl-1.1.2-cp310-cp310-manylinux1_x86_64.whl (6.0 MB)\n",
            "\u001b[2K     \u001b[90m━━━━━━━━━━━━━━━━━━━━━━━━━━━━━━━━━━━━━━━━\u001b[0m \u001b[32m6.0/6.0 MB\u001b[0m \u001b[31m104.6 MB/s\u001b[0m eta \u001b[36m0:00:00\u001b[0m\n",
            "\u001b[?25hCollecting dgllife (from deepchem[torch])\n",
            "  Downloading dgllife-0.3.2-py3-none-any.whl (226 kB)\n",
            "\u001b[2K     \u001b[90m━━━━━━━━━━━━━━━━━━━━━━━━━━━━━━━━━━━━━━\u001b[0m \u001b[32m226.1/226.1 kB\u001b[0m \u001b[31m20.5 MB/s\u001b[0m eta \u001b[36m0:00:00\u001b[0m\n",
            "\u001b[?25hRequirement already satisfied: networkx>=2.1 in /usr/local/lib/python3.10/dist-packages (from dgl->deepchem[torch]) (3.1)\n",
            "Requirement already satisfied: requests>=2.19.0 in /usr/local/lib/python3.10/dist-packages (from dgl->deepchem[torch]) (2.31.0)\n",
            "Requirement already satisfied: tqdm in /usr/local/lib/python3.10/dist-packages (from dgl->deepchem[torch]) (4.66.1)\n",
            "Requirement already satisfied: psutil>=5.8.0 in /usr/local/lib/python3.10/dist-packages (from dgl->deepchem[torch]) (5.9.5)\n",
            "Requirement already satisfied: hyperopt in /usr/local/lib/python3.10/dist-packages (from dgllife->deepchem[torch]) (0.2.7)\n",
            "Requirement already satisfied: threadpoolctl>=2.0.0 in /usr/local/lib/python3.10/dist-packages (from scikit-learn->deepchem[torch]) (3.2.0)\n",
            "Requirement already satisfied: python-dateutil>=2.8.1 in /usr/local/lib/python3.10/dist-packages (from pandas->deepchem[torch]) (2.8.2)\n",
            "Requirement already satisfied: pytz>=2020.1 in /usr/local/lib/python3.10/dist-packages (from pandas->deepchem[torch]) (2023.3)\n",
            "Requirement already satisfied: PyYAML>=5.4 in /usr/local/lib/python3.10/dist-packages (from pytorch-lightning->deepchem[torch]) (6.0.1)\n",
            "Requirement already satisfied: fsspec[http]>2021.06.0 in /usr/local/lib/python3.10/dist-packages (from pytorch-lightning->deepchem[torch]) (2023.6.0)\n",
            "Collecting torchmetrics>=0.7.0 (from pytorch-lightning->deepchem[torch])\n",
            "  Downloading torchmetrics-1.1.0-py3-none-any.whl (761 kB)\n",
            "\u001b[2K     \u001b[90m━━━━━━━━━━━━━━━━━━━━━━━━━━━━━━━━━━━━━━\u001b[0m \u001b[32m761.3/761.3 kB\u001b[0m \u001b[31m57.2 MB/s\u001b[0m eta \u001b[36m0:00:00\u001b[0m\n",
            "\u001b[?25hRequirement already satisfied: packaging>=17.1 in /usr/local/lib/python3.10/dist-packages (from pytorch-lightning->deepchem[torch]) (23.1)\n",
            "Requirement already satisfied: typing-extensions>=4.0.0 in /usr/local/lib/python3.10/dist-packages (from pytorch-lightning->deepchem[torch]) (4.7.1)\n",
            "Collecting lightning-utilities>=0.7.0 (from pytorch-lightning->deepchem[torch])\n",
            "  Downloading lightning_utilities-0.9.0-py3-none-any.whl (23 kB)\n",
            "Requirement already satisfied: filelock in /usr/local/lib/python3.10/dist-packages (from torch->deepchem[torch]) (3.12.2)\n",
            "Requirement already satisfied: sympy in /usr/local/lib/python3.10/dist-packages (from torch->deepchem[torch]) (1.12)\n",
            "Requirement already satisfied: jinja2 in /usr/local/lib/python3.10/dist-packages (from torch->deepchem[torch]) (3.1.2)\n",
            "Requirement already satisfied: triton==2.0.0 in /usr/local/lib/python3.10/dist-packages (from torch->deepchem[torch]) (2.0.0)\n",
            "Requirement already satisfied: cmake in /usr/local/lib/python3.10/dist-packages (from triton==2.0.0->torch->deepchem[torch]) (3.27.2)\n",
            "Requirement already satisfied: lit in /usr/local/lib/python3.10/dist-packages (from triton==2.0.0->torch->deepchem[torch]) (16.0.6)\n",
            "Requirement already satisfied: Pillow in /usr/local/lib/python3.10/dist-packages (from rdkit->deepchem[torch]) (9.4.0)\n",
            "Requirement already satisfied: aiohttp!=4.0.0a0,!=4.0.0a1 in /usr/local/lib/python3.10/dist-packages (from fsspec[http]>2021.06.0->pytorch-lightning->deepchem[torch]) (3.8.5)\n",
            "Requirement already satisfied: six>=1.5 in /usr/local/lib/python3.10/dist-packages (from python-dateutil>=2.8.1->pandas->deepchem[torch]) (1.16.0)\n",
            "Requirement already satisfied: charset-normalizer<4,>=2 in /usr/local/lib/python3.10/dist-packages (from requests>=2.19.0->dgl->deepchem[torch]) (3.2.0)\n",
            "Requirement already satisfied: idna<4,>=2.5 in /usr/local/lib/python3.10/dist-packages (from requests>=2.19.0->dgl->deepchem[torch]) (3.4)\n",
            "Requirement already satisfied: urllib3<3,>=1.21.1 in /usr/local/lib/python3.10/dist-packages (from requests>=2.19.0->dgl->deepchem[torch]) (2.0.4)\n",
            "Requirement already satisfied: certifi>=2017.4.17 in /usr/local/lib/python3.10/dist-packages (from requests>=2.19.0->dgl->deepchem[torch]) (2023.7.22)\n",
            "Requirement already satisfied: future in /usr/local/lib/python3.10/dist-packages (from hyperopt->dgllife->deepchem[torch]) (0.18.3)\n",
            "Requirement already satisfied: cloudpickle in /usr/local/lib/python3.10/dist-packages (from hyperopt->dgllife->deepchem[torch]) (2.2.1)\n",
            "Requirement already satisfied: py4j in /usr/local/lib/python3.10/dist-packages (from hyperopt->dgllife->deepchem[torch]) (0.10.9.7)\n",
            "Requirement already satisfied: MarkupSafe>=2.0 in /usr/local/lib/python3.10/dist-packages (from jinja2->torch->deepchem[torch]) (2.1.3)\n",
            "Requirement already satisfied: mpmath>=0.19 in /usr/local/lib/python3.10/dist-packages (from sympy->torch->deepchem[torch]) (1.3.0)\n",
            "Requirement already satisfied: attrs>=17.3.0 in /usr/local/lib/python3.10/dist-packages (from aiohttp!=4.0.0a0,!=4.0.0a1->fsspec[http]>2021.06.0->pytorch-lightning->deepchem[torch]) (23.1.0)\n",
            "Requirement already satisfied: multidict<7.0,>=4.5 in /usr/local/lib/python3.10/dist-packages (from aiohttp!=4.0.0a0,!=4.0.0a1->fsspec[http]>2021.06.0->pytorch-lightning->deepchem[torch]) (6.0.4)\n",
            "Requirement already satisfied: async-timeout<5.0,>=4.0.0a3 in /usr/local/lib/python3.10/dist-packages (from aiohttp!=4.0.0a0,!=4.0.0a1->fsspec[http]>2021.06.0->pytorch-lightning->deepchem[torch]) (4.0.3)\n",
            "Requirement already satisfied: yarl<2.0,>=1.0 in /usr/local/lib/python3.10/dist-packages (from aiohttp!=4.0.0a0,!=4.0.0a1->fsspec[http]>2021.06.0->pytorch-lightning->deepchem[torch]) (1.9.2)\n",
            "Requirement already satisfied: frozenlist>=1.1.1 in /usr/local/lib/python3.10/dist-packages (from aiohttp!=4.0.0a0,!=4.0.0a1->fsspec[http]>2021.06.0->pytorch-lightning->deepchem[torch]) (1.4.0)\n",
            "Requirement already satisfied: aiosignal>=1.1.2 in /usr/local/lib/python3.10/dist-packages (from aiohttp!=4.0.0a0,!=4.0.0a1->fsspec[http]>2021.06.0->pytorch-lightning->deepchem[torch]) (1.3.1)\n",
            "Installing collected packages: scipy, lightning-utilities, dgl, dgllife, deepchem, torchmetrics, pytorch-lightning\n",
            "  Attempting uninstall: scipy\n",
            "    Found existing installation: scipy 1.10.1\n",
            "    Uninstalling scipy-1.10.1:\n",
            "      Successfully uninstalled scipy-1.10.1\n",
            "Successfully installed deepchem-2.7.1 dgl-1.1.2 dgllife-0.3.2 lightning-utilities-0.9.0 pytorch-lightning-2.0.7 scipy-1.8.1 torchmetrics-1.1.0\n",
            "Collecting torch_geometric\n",
            "  Downloading torch_geometric-2.3.1.tar.gz (661 kB)\n",
            "\u001b[2K     \u001b[90m━━━━━━━━━━━━━━━━━━━━━━━━━━━━━━━━━━━━━━\u001b[0m \u001b[32m661.6/661.6 kB\u001b[0m \u001b[31m11.8 MB/s\u001b[0m eta \u001b[36m0:00:00\u001b[0m\n",
            "\u001b[?25h  Installing build dependencies ... \u001b[?25l\u001b[?25hdone\n",
            "  Getting requirements to build wheel ... \u001b[?25l\u001b[?25hdone\n",
            "  Preparing metadata (pyproject.toml) ... \u001b[?25l\u001b[?25hdone\n",
            "Requirement already satisfied: tqdm in /usr/local/lib/python3.10/dist-packages (from torch_geometric) (4.66.1)\n",
            "Requirement already satisfied: numpy in /usr/local/lib/python3.10/dist-packages (from torch_geometric) (1.23.5)\n",
            "Requirement already satisfied: scipy in /usr/local/lib/python3.10/dist-packages (from torch_geometric) (1.8.1)\n",
            "Requirement already satisfied: jinja2 in /usr/local/lib/python3.10/dist-packages (from torch_geometric) (3.1.2)\n",
            "Requirement already satisfied: requests in /usr/local/lib/python3.10/dist-packages (from torch_geometric) (2.31.0)\n",
            "Requirement already satisfied: pyparsing in /usr/local/lib/python3.10/dist-packages (from torch_geometric) (3.1.1)\n",
            "Requirement already satisfied: scikit-learn in /usr/local/lib/python3.10/dist-packages (from torch_geometric) (1.2.2)\n",
            "Requirement already satisfied: psutil>=5.8.0 in /usr/local/lib/python3.10/dist-packages (from torch_geometric) (5.9.5)\n",
            "Requirement already satisfied: MarkupSafe>=2.0 in /usr/local/lib/python3.10/dist-packages (from jinja2->torch_geometric) (2.1.3)\n",
            "Requirement already satisfied: charset-normalizer<4,>=2 in /usr/local/lib/python3.10/dist-packages (from requests->torch_geometric) (3.2.0)\n",
            "Requirement already satisfied: idna<4,>=2.5 in /usr/local/lib/python3.10/dist-packages (from requests->torch_geometric) (3.4)\n",
            "Requirement already satisfied: urllib3<3,>=1.21.1 in /usr/local/lib/python3.10/dist-packages (from requests->torch_geometric) (2.0.4)\n",
            "Requirement already satisfied: certifi>=2017.4.17 in /usr/local/lib/python3.10/dist-packages (from requests->torch_geometric) (2023.7.22)\n",
            "Requirement already satisfied: joblib>=1.1.1 in /usr/local/lib/python3.10/dist-packages (from scikit-learn->torch_geometric) (1.3.2)\n",
            "Requirement already satisfied: threadpoolctl>=2.0.0 in /usr/local/lib/python3.10/dist-packages (from scikit-learn->torch_geometric) (3.2.0)\n",
            "Building wheels for collected packages: torch_geometric\n",
            "  Building wheel for torch_geometric (pyproject.toml) ... \u001b[?25l\u001b[?25hdone\n",
            "  Created wheel for torch_geometric: filename=torch_geometric-2.3.1-py3-none-any.whl size=910454 sha256=bb0d06a3820782d86c1bbef74c202f8cf91cae36ebe73d68b6cd1a28517c07f8\n",
            "  Stored in directory: /root/.cache/pip/wheels/ac/dc/30/e2874821ff308ee67dcd7a66dbde912411e19e35a1addda028\n",
            "Successfully built torch_geometric\n",
            "Installing collected packages: torch_geometric\n",
            "Successfully installed torch_geometric-2.3.1\n"
          ]
        }
      ]
    },
    {
      "cell_type": "code",
      "source": [
        "!pip list"
      ],
      "metadata": {
        "colab": {
          "base_uri": "https://localhost:8080/"
        },
        "id": "8QfIIieX3SWc",
        "outputId": "c01396cb-a07e-44ce-b17b-492235fff633"
      },
      "execution_count": null,
      "outputs": [
        {
          "output_type": "stream",
          "name": "stdout",
          "text": [
            "Package                          Version\n",
            "-------------------------------- ---------------------\n",
            "absl-py                          1.4.0\n",
            "aiohttp                          3.8.5\n",
            "aiosignal                        1.3.1\n",
            "alabaster                        0.7.13\n",
            "albumentations                   1.3.1\n",
            "altair                           4.2.2\n",
            "annotated-types                  0.5.0\n",
            "anyio                            3.7.1\n",
            "appdirs                          1.4.4\n",
            "argon2-cffi                      23.1.0\n",
            "argon2-cffi-bindings             21.2.0\n",
            "array-record                     0.4.1\n",
            "arviz                            0.15.1\n",
            "astropy                          5.3.2\n",
            "astunparse                       1.6.3\n",
            "async-timeout                    4.0.3\n",
            "attrs                            23.1.0\n",
            "audioread                        3.0.0\n",
            "autograd                         1.6.2\n",
            "Babel                            2.12.1\n",
            "backcall                         0.2.0\n",
            "beautifulsoup4                   4.11.2\n",
            "bleach                           6.0.0\n",
            "blinker                          1.4\n",
            "blis                             0.7.10\n",
            "blosc2                           2.0.0\n",
            "bokeh                            3.2.2\n",
            "branca                           0.6.0\n",
            "build                            0.10.0\n",
            "CacheControl                     0.13.1\n",
            "cachetools                       5.3.1\n",
            "catalogue                        2.0.9\n",
            "certifi                          2023.7.22\n",
            "cffi                             1.15.1\n",
            "chardet                          5.2.0\n",
            "charset-normalizer               3.2.0\n",
            "chex                             0.1.7\n",
            "click                            8.1.7\n",
            "click-plugins                    1.1.1\n",
            "cligj                            0.7.2\n",
            "cloudpickle                      2.2.1\n",
            "cmake                            3.27.2\n",
            "cmdstanpy                        1.1.0\n",
            "colorcet                         3.0.1\n",
            "colorlover                       0.3.0\n",
            "community                        1.0.0b1\n",
            "confection                       0.1.1\n",
            "cons                             0.4.6\n",
            "contextlib2                      21.6.0\n",
            "contourpy                        1.1.0\n",
            "convertdate                      2.4.0\n",
            "cryptography                     41.0.3\n",
            "cufflinks                        0.17.3\n",
            "cvxopt                           1.3.2\n",
            "cvxpy                            1.3.2\n",
            "cycler                           0.11.0\n",
            "cymem                            2.0.7\n",
            "Cython                           0.29.36\n",
            "dask                             2023.8.0\n",
            "datascience                      0.17.6\n",
            "db-dtypes                        1.1.1\n",
            "dbus-python                      1.2.18\n",
            "debugpy                          1.6.6\n",
            "decorator                        4.4.2\n",
            "deepchem                         2.7.1\n",
            "defusedxml                       0.7.1\n",
            "dgl                              1.1.2\n",
            "dgllife                          0.3.2\n",
            "distributed                      2023.8.0\n",
            "distro                           1.7.0\n",
            "dlib                             19.24.2\n",
            "dm-tree                          0.1.8\n",
            "docutils                         0.18.1\n",
            "dopamine-rl                      4.0.6\n",
            "duckdb                           0.8.1\n",
            "earthengine-api                  0.1.364\n",
            "easydict                         1.10\n",
            "ecos                             2.0.12\n",
            "editdistance                     0.6.2\n",
            "en-core-web-sm                   3.6.0\n",
            "entrypoints                      0.4\n",
            "ephem                            4.1.4\n",
            "et-xmlfile                       1.1.0\n",
            "etils                            1.4.1\n",
            "etuples                          0.3.9\n",
            "exceptiongroup                   1.1.3\n",
            "fastai                           2.7.12\n",
            "fastcore                         1.5.29\n",
            "fastdownload                     0.0.7\n",
            "fastjsonschema                   2.18.0\n",
            "fastprogress                     1.0.3\n",
            "fastrlock                        0.8.1\n",
            "filelock                         3.12.2\n",
            "Fiona                            1.9.4.post1\n",
            "firebase-admin                   5.3.0\n",
            "Flask                            2.2.5\n",
            "flatbuffers                      23.5.26\n",
            "flax                             0.7.2\n",
            "folium                           0.14.0\n",
            "fonttools                        4.42.0\n",
            "frozendict                       2.3.8\n",
            "frozenlist                       1.4.0\n",
            "fsspec                           2023.6.0\n",
            "future                           0.18.3\n",
            "gast                             0.4.0\n",
            "gcsfs                            2023.6.0\n",
            "GDAL                             3.4.3\n",
            "gdown                            4.6.6\n",
            "gensim                           4.3.1\n",
            "geographiclib                    2.0\n",
            "geopandas                        0.13.2\n",
            "geopy                            2.3.0\n",
            "gin-config                       0.5.0\n",
            "glob2                            0.7\n",
            "google                           2.0.3\n",
            "google-api-core                  2.11.1\n",
            "google-api-python-client         2.84.0\n",
            "google-auth                      2.17.3\n",
            "google-auth-httplib2             0.1.0\n",
            "google-auth-oauthlib             1.0.0\n",
            "google-cloud-bigquery            3.10.0\n",
            "google-cloud-bigquery-connection 1.12.1\n",
            "google-cloud-bigquery-storage    2.22.0\n",
            "google-cloud-core                2.3.3\n",
            "google-cloud-datastore           2.15.2\n",
            "google-cloud-firestore           2.11.1\n",
            "google-cloud-functions           1.13.2\n",
            "google-cloud-language            2.9.1\n",
            "google-cloud-storage             2.8.0\n",
            "google-cloud-translate           3.11.3\n",
            "google-colab                     1.0.0\n",
            "google-crc32c                    1.5.0\n",
            "google-pasta                     0.2.0\n",
            "google-resumable-media           2.5.0\n",
            "googleapis-common-protos         1.60.0\n",
            "googledrivedownloader            0.4\n",
            "graphviz                         0.20.1\n",
            "greenlet                         2.0.2\n",
            "grpc-google-iam-v1               0.12.6\n",
            "grpcio                           1.57.0\n",
            "grpcio-status                    1.48.2\n",
            "gspread                          3.4.2\n",
            "gspread-dataframe                3.3.1\n",
            "gym                              0.25.2\n",
            "gym-notices                      0.0.8\n",
            "h5netcdf                         1.2.0\n",
            "h5py                             3.9.0\n",
            "holidays                         0.30\n",
            "holoviews                        1.17.1\n",
            "html5lib                         1.1\n",
            "httpimport                       1.3.1\n",
            "httplib2                         0.22.0\n",
            "humanize                         4.7.0\n",
            "hyperopt                         0.2.7\n",
            "idna                             3.4\n",
            "imageio                          2.31.1\n",
            "imageio-ffmpeg                   0.4.8\n",
            "imagesize                        1.4.1\n",
            "imbalanced-learn                 0.10.1\n",
            "imgaug                           0.4.0\n",
            "importlib-metadata               6.8.0\n",
            "importlib-resources              6.0.1\n",
            "imutils                          0.5.4\n",
            "inflect                          7.0.0\n",
            "iniconfig                        2.0.0\n",
            "intel-openmp                     2023.2.0\n",
            "ipykernel                        5.5.6\n",
            "ipython                          7.34.0\n",
            "ipython-genutils                 0.2.0\n",
            "ipython-sql                      0.5.0\n",
            "ipywidgets                       7.7.1\n",
            "itsdangerous                     2.1.2\n",
            "jax                              0.4.14\n",
            "jaxlib                           0.4.14+cuda11.cudnn86\n",
            "jeepney                          0.7.1\n",
            "jieba                            0.42.1\n",
            "Jinja2                           3.1.2\n",
            "joblib                           1.3.2\n",
            "jsonpickle                       3.0.2\n",
            "jsonschema                       4.19.0\n",
            "jsonschema-specifications        2023.7.1\n",
            "jupyter-client                   6.1.12\n",
            "jupyter-console                  6.1.0\n",
            "jupyter_core                     5.3.1\n",
            "jupyter-server                   1.24.0\n",
            "jupyterlab-pygments              0.2.2\n",
            "jupyterlab-widgets               3.0.8\n",
            "kaggle                           1.5.16\n",
            "keras                            2.12.0\n",
            "keyring                          23.5.0\n",
            "kiwisolver                       1.4.4\n",
            "langcodes                        3.3.0\n",
            "launchpadlib                     1.10.16\n",
            "lazr.restfulclient               0.14.4\n",
            "lazr.uri                         1.0.6\n",
            "lazy_loader                      0.3\n",
            "libclang                         16.0.6\n",
            "librosa                          0.10.1\n",
            "lightgbm                         4.0.0\n",
            "lightning-utilities              0.9.0\n",
            "linkify-it-py                    2.0.2\n",
            "lit                              16.0.6\n",
            "llvmlite                         0.39.1\n",
            "locket                           1.0.0\n",
            "logical-unification              0.4.6\n",
            "LunarCalendar                    0.0.9\n",
            "lxml                             4.9.3\n",
            "Markdown                         3.4.4\n",
            "markdown-it-py                   3.0.0\n",
            "MarkupSafe                       2.1.3\n",
            "matplotlib                       3.7.1\n",
            "matplotlib-inline                0.1.6\n",
            "matplotlib-venn                  0.11.9\n",
            "mdit-py-plugins                  0.4.0\n",
            "mdurl                            0.1.2\n",
            "miniKanren                       1.0.3\n",
            "missingno                        0.5.2\n",
            "mistune                          0.8.4\n",
            "mizani                           0.9.2\n",
            "mkl                              2023.2.0\n",
            "ml-dtypes                        0.2.0\n",
            "mlxtend                          0.22.0\n",
            "more-itertools                   10.1.0\n",
            "moviepy                          1.0.3\n",
            "mpmath                           1.3.0\n",
            "msgpack                          1.0.5\n",
            "multidict                        6.0.4\n",
            "multipledispatch                 1.0.0\n",
            "multitasking                     0.0.11\n",
            "murmurhash                       1.0.9\n",
            "music21                          9.1.0\n",
            "natsort                          8.4.0\n",
            "nbclassic                        1.0.0\n",
            "nbclient                         0.8.0\n",
            "nbconvert                        6.5.4\n",
            "nbformat                         5.9.2\n",
            "nest-asyncio                     1.5.7\n",
            "networkx                         3.1\n",
            "nibabel                          4.0.2\n",
            "nltk                             3.8.1\n",
            "notebook                         6.5.5\n",
            "notebook_shim                    0.2.3\n",
            "numba                            0.56.4\n",
            "numexpr                          2.8.5\n",
            "numpy                            1.23.5\n",
            "oauth2client                     4.1.3\n",
            "oauthlib                         3.2.2\n",
            "opencv-contrib-python            4.8.0.76\n",
            "opencv-python                    4.8.0.76\n",
            "opencv-python-headless           4.8.0.76\n",
            "openpyxl                         3.1.2\n",
            "opt-einsum                       3.3.0\n",
            "optax                            0.1.7\n",
            "orbax-checkpoint                 0.3.4\n",
            "osqp                             0.6.2.post8\n",
            "packaging                        23.1\n",
            "pandas                           1.5.3\n",
            "pandas-datareader                0.10.0\n",
            "pandas-gbq                       0.17.9\n",
            "pandocfilters                    1.5.0\n",
            "panel                            1.2.1\n",
            "param                            1.13.0\n",
            "parso                            0.8.3\n",
            "partd                            1.4.0\n",
            "pathlib                          1.0.1\n",
            "pathy                            0.10.2\n",
            "patsy                            0.5.3\n",
            "pexpect                          4.8.0\n",
            "pickleshare                      0.7.5\n",
            "Pillow                           9.4.0\n",
            "pip                              23.1.2\n",
            "pip-tools                        6.13.0\n",
            "platformdirs                     3.10.0\n",
            "plotly                           5.15.0\n",
            "plotnine                         0.12.2\n",
            "pluggy                           1.2.0\n",
            "polars                           0.17.3\n",
            "pooch                            1.7.0\n",
            "portpicker                       1.5.2\n",
            "prefetch-generator               1.0.3\n",
            "preshed                          3.0.8\n",
            "prettytable                      3.8.0\n",
            "proglog                          0.1.10\n",
            "progressbar2                     4.2.0\n",
            "prometheus-client                0.17.1\n",
            "promise                          2.3\n",
            "prompt-toolkit                   3.0.39\n",
            "prophet                          1.1.4\n",
            "proto-plus                       1.22.3\n",
            "protobuf                         3.20.3\n",
            "psutil                           5.9.5\n",
            "psycopg2                         2.9.7\n",
            "ptyprocess                       0.7.0\n",
            "py-cpuinfo                       9.0.0\n",
            "py4j                             0.10.9.7\n",
            "pyarrow                          9.0.0\n",
            "pyasn1                           0.5.0\n",
            "pyasn1-modules                   0.3.0\n",
            "pycocotools                      2.0.7\n",
            "pycparser                        2.21\n",
            "pyct                             0.5.0\n",
            "pydantic                         2.2.0\n",
            "pydantic_core                    2.6.0\n",
            "pydata-google-auth               1.8.2\n",
            "pydot                            1.4.2\n",
            "pydot-ng                         2.0.0\n",
            "pydotplus                        2.0.2\n",
            "PyDrive                          1.3.1\n",
            "PyDrive2                         1.6.3\n",
            "pyerfa                           2.0.0.3\n",
            "pygame                           2.5.1\n",
            "Pygments                         2.16.1\n",
            "PyGObject                        3.42.1\n",
            "PyJWT                            2.3.0\n",
            "pymc                             5.7.2\n",
            "PyMeeus                          0.5.12\n",
            "pymystem3                        0.2.0\n",
            "PyOpenGL                         3.1.7\n",
            "pyOpenSSL                        23.2.0\n",
            "pyparsing                        3.1.1\n",
            "pyproj                           3.6.0\n",
            "pyproject_hooks                  1.0.0\n",
            "PySocks                          1.7.1\n",
            "pytensor                         2.14.2\n",
            "pytest                           7.4.0\n",
            "python-apt                       0.0.0\n",
            "python-dateutil                  2.8.2\n",
            "python-louvain                   0.16\n",
            "python-slugify                   8.0.1\n",
            "python-utils                     3.7.0\n",
            "pytorch-lightning                2.0.7\n",
            "pytz                             2023.3\n",
            "pyviz_comms                      3.0.0\n",
            "PyWavelets                       1.4.1\n",
            "PyYAML                           6.0.1\n",
            "pyzmq                            23.2.1\n",
            "qdldl                            0.1.7.post0\n",
            "qudida                           0.0.4\n",
            "rdkit                            2023.3.3\n",
            "referencing                      0.30.2\n",
            "regex                            2023.6.3\n",
            "requests                         2.31.0\n",
            "requests-oauthlib                1.3.1\n",
            "requirements-parser              0.5.0\n",
            "rich                             13.5.2\n",
            "rpds-py                          0.9.2\n",
            "rpy2                             3.4.2\n",
            "rsa                              4.9\n",
            "scikit-image                     0.19.3\n",
            "scikit-learn                     1.2.2\n",
            "scipy                            1.8.1\n",
            "scs                              3.2.3\n",
            "seaborn                          0.12.2\n",
            "SecretStorage                    3.3.1\n",
            "Send2Trash                       1.8.2\n",
            "setuptools                       67.7.2\n",
            "shapely                          2.0.1\n",
            "six                              1.16.0\n",
            "sklearn-pandas                   2.2.0\n",
            "smart-open                       6.3.0\n",
            "sniffio                          1.3.0\n",
            "snowballstemmer                  2.2.0\n",
            "sortedcontainers                 2.4.0\n",
            "soundfile                        0.12.1\n",
            "soupsieve                        2.4.1\n",
            "soxr                             0.3.6\n",
            "spacy                            3.6.1\n",
            "spacy-legacy                     3.0.12\n",
            "spacy-loggers                    1.0.4\n",
            "Sphinx                           5.0.2\n",
            "sphinxcontrib-applehelp          1.0.7\n",
            "sphinxcontrib-devhelp            1.0.5\n",
            "sphinxcontrib-htmlhelp           2.0.4\n",
            "sphinxcontrib-jsmath             1.0.1\n",
            "sphinxcontrib-qthelp             1.0.6\n",
            "sphinxcontrib-serializinghtml    1.1.8\n",
            "SQLAlchemy                       2.0.20\n",
            "sqlparse                         0.4.4\n",
            "srsly                            2.4.7\n",
            "statsmodels                      0.14.0\n",
            "sympy                            1.12\n",
            "tables                           3.8.0\n",
            "tabulate                         0.9.0\n",
            "tbb                              2021.10.0\n",
            "tblib                            2.0.0\n",
            "tenacity                         8.2.3\n",
            "tensorboard                      2.12.3\n",
            "tensorboard-data-server          0.7.1\n",
            "tensorflow                       2.12.0\n",
            "tensorflow-datasets              4.9.2\n",
            "tensorflow-estimator             2.12.0\n",
            "tensorflow-gcs-config            2.12.0\n",
            "tensorflow-hub                   0.14.0\n",
            "tensorflow-io-gcs-filesystem     0.33.0\n",
            "tensorflow-metadata              1.14.0\n",
            "tensorflow-probability           0.20.1\n",
            "tensorstore                      0.1.41\n",
            "termcolor                        2.3.0\n",
            "terminado                        0.17.1\n",
            "text-unidecode                   1.3\n",
            "textblob                         0.17.1\n",
            "tf-slim                          1.1.0\n",
            "thinc                            8.1.12\n",
            "threadpoolctl                    3.2.0\n",
            "tifffile                         2023.8.12\n",
            "tinycss2                         1.2.1\n",
            "toml                             0.10.2\n",
            "tomli                            2.0.1\n",
            "toolz                            0.12.0\n",
            "torch                            2.0.1+cu118\n",
            "torch-geometric                  2.3.1\n",
            "torchaudio                       2.0.2+cu118\n",
            "torchdata                        0.6.1\n",
            "torchmetrics                     1.0.3\n",
            "torchsummary                     1.5.1\n",
            "torchtext                        0.15.2\n",
            "torchvision                      0.15.2+cu118\n",
            "tornado                          6.3.2\n",
            "tqdm                             4.66.1\n",
            "traitlets                        5.7.1\n",
            "triton                           2.0.0\n",
            "tweepy                           4.13.0\n",
            "typer                            0.9.0\n",
            "types-setuptools                 68.1.0.0\n",
            "typing_extensions                4.7.1\n",
            "tzlocal                          5.0.1\n",
            "uc-micro-py                      1.0.2\n",
            "uritemplate                      4.1.1\n",
            "urllib3                          2.0.4\n",
            "vega-datasets                    0.9.0\n",
            "wadllib                          1.3.6\n",
            "wasabi                           1.1.2\n",
            "wcwidth                          0.2.6\n",
            "webcolors                        1.13\n",
            "webencodings                     0.5.1\n",
            "websocket-client                 1.6.1\n",
            "Werkzeug                         2.3.7\n",
            "wheel                            0.41.1\n",
            "widgetsnbextension               3.6.5\n",
            "wordcloud                        1.9.2\n",
            "wrapt                            1.14.1\n",
            "xarray                           2023.7.0\n",
            "xarray-einstats                  0.6.0\n",
            "xgboost                          1.7.6\n",
            "xlrd                             2.0.1\n",
            "xyzservices                      2023.7.0\n",
            "yarl                             1.9.2\n",
            "yellowbrick                      1.5\n",
            "yfinance                         0.2.28\n",
            "zict                             3.0.0\n",
            "zipp                             3.16.2\n"
          ]
        }
      ]
    },
    {
      "cell_type": "markdown",
      "source": [
        "# Packages Import"
      ],
      "metadata": {
        "id": "rs9Zafaes6nc"
      }
    },
    {
      "cell_type": "code",
      "execution_count": 3,
      "metadata": {
        "colab": {
          "base_uri": "https://localhost:8080/"
        },
        "id": "RbG_28w93R8Z",
        "outputId": "aa8153ab-f2d2-4b90-bc8d-b4a317a76513"
      },
      "outputs": [
        {
          "output_type": "stream",
          "name": "stderr",
          "text": [
            "WARNING:deepchem.models:Skipped loading some Jax models, missing a dependency. No module named 'haiku'\n"
          ]
        },
        {
          "output_type": "stream",
          "name": "stdout",
          "text": [
            "Mounted at /content/drive\n"
          ]
        }
      ],
      "source": [
        "import deepchem as dc\n",
        "from rdkit import Chem\n",
        "from rdkit.Chem import AllChem\n",
        "from rdkit import DataStructs\n",
        "import pandas as pd #Pandas have Dataframe, so the manipulation of data is efficient and convenient\n",
        "import numpy as np #Linear math packages, which are important for the data\n",
        "from google.colab import drive #Just used to get file from the google drive\n",
        "import torch\n",
        "from torch.utils.data import Dataset\n",
        "from torch.utils.data import DataLoader\n",
        "from torch.utils import data\n",
        "from torch import nn\n",
        "drive.mount('/content/drive')\n",
        "# df = pd.read_excel('/content/drive/MyDrive/5HT2A models data.xlsx')\n",
        "from sklearn.metrics import precision_score, recall_score, f1_score, matthews_corrcoef"
      ]
    },
    {
      "cell_type": "code",
      "source": [
        "import matplotlib.pyplot as plt"
      ],
      "metadata": {
        "id": "J7bKwsYlut2B"
      },
      "execution_count": 14,
      "outputs": []
    },
    {
      "cell_type": "markdown",
      "source": [
        "# Data preprocessing\n",
        "The commented code is used to genereate label, so that the label can be used in the training and testing"
      ],
      "metadata": {
        "id": "q3vdeYMps9_T"
      }
    },
    {
      "cell_type": "code",
      "source": [
        "# def get_response(ligand_class):\n",
        "#   convert_dic = {\n",
        "#       'dude_active' : 0,\n",
        "#       'dude_inactive' : 1,\n",
        "#       'HTR2A_Antagonist_1.0' : 2,\n",
        "#       'HTR2A_Antagonist_0.0' : 3,\n",
        "#       'HTR2A_Agonist_1.0' : 4,\n",
        "#       'HTR2A_Agonist_0.0' : 5,\n",
        "#       'HTR2A_Inverse Agonist_1.0' : 6\n",
        "# }\n",
        "#   return convert_dic[ligand_class]\n",
        "\n",
        "# df['label'] = df['ligand_class'].apply(get_response)"
      ],
      "metadata": {
        "id": "Q8Z3dSOI7YHL"
      },
      "execution_count": null,
      "outputs": []
    },
    {
      "cell_type": "code",
      "source": [
        "# df['label'].unique()"
      ],
      "metadata": {
        "colab": {
          "base_uri": "https://localhost:8080/"
        },
        "id": "znAZtcxy7hL0",
        "outputId": "f603d2aa-73fe-466e-c8e1-7b84b7a3af20"
      },
      "execution_count": null,
      "outputs": [
        {
          "output_type": "execute_result",
          "data": {
            "text/plain": [
              "array([0, 1, 2, 4, 5, 3, 6])"
            ]
          },
          "metadata": {},
          "execution_count": 19
        }
      ]
    },
    {
      "cell_type": "code",
      "source": [
        "# df.to_csv('/content/drive/MyDrive/5HT2A models data.csv')"
      ],
      "metadata": {
        "id": "Bu4Ey9CM48Cc"
      },
      "execution_count": null,
      "outputs": []
    },
    {
      "cell_type": "code",
      "source": [
        "dataset_file = '/content/drive/MyDrive/5HT2A models data.csv' # load the data which has been preprocessed\n",
        "task_list = ['label']\n",
        "featurizer_func = dc.feat.CircularFingerprint(size = 2048, radius = 4) # here we use ECFP featurizer"
      ],
      "metadata": {
        "id": "S8upsWRf4umJ"
      },
      "execution_count": 4,
      "outputs": []
    },
    {
      "cell_type": "code",
      "source": [
        "loader = dc.data.CSVLoader(tasks=task_list, feature_field='smiles', featurizer=featurizer_func)\n",
        "dataset = loader.create_dataset(dataset_file) #create the dataset, type:diskdataset"
      ],
      "metadata": {
        "id": "7XA3QySo4zXU"
      },
      "execution_count": 5,
      "outputs": []
    },
    {
      "cell_type": "code",
      "source": [
        "scaffoldsplitter = dc.splits.ScaffoldSplitter() #split the dataset into train, validate, and test datasets by using the scffold\n",
        "test_dataset, vadid_dataset, test_dataset = scaffoldsplitter.train_valid_test_split(dataset, frac_train = 0.7, frac_valid = 0.15, frac_test = 0.15, seed = 23)"
      ],
      "metadata": {
        "id": "YsTolAI38Vcx"
      },
      "execution_count": 6,
      "outputs": []
    },
    {
      "cell_type": "code",
      "source": [
        "tt = test_dataset.make_pytorch_dataset(batch_size = 64)\n",
        "va = vadid_dataset.make_pytorch_dataset(batch_size = 64)\n",
        "te = test_dataset.make_pytorch_dataset(batch_size = 64)"
      ],
      "metadata": {
        "id": "UfMbJscI9w-p"
      },
      "execution_count": 7,
      "outputs": []
    },
    {
      "cell_type": "markdown",
      "source": [
        "This is a illustration of the input, we wiil use this for the model we build\n",
        "![Input.png](data:image/png;base64,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)"
      ],
      "metadata": {
        "id": "tBusq-F_t0re"
      }
    },
    {
      "cell_type": "markdown",
      "source": [
        "# Model defining"
      ],
      "metadata": {
        "id": "mvohrpF8yq4w"
      }
    },
    {
      "cell_type": "code",
      "source": [
        "#Import Pytorch which is a commonly-used deeplearning package\n",
        "\n",
        "class NN1(nn.Module):\n",
        "  def __init__(self):\n",
        "    super().__init__()\n",
        "    self.linear_layers = nn.Sequential(\n",
        "        nn.Linear(2048, 1024),\n",
        "        nn.BatchNorm1d(1024),\n",
        "        nn.ReLU(),\n",
        "        nn.Dropout(0.5),\n",
        "        nn.Linear(1024, 512),\n",
        "        nn.BatchNorm1d(512),\n",
        "        nn.ReLU(),\n",
        "        nn.Dropout(0.5),\n",
        "        nn.Linear(512, 256),\n",
        "        nn.BatchNorm1d(256),\n",
        "        nn.ReLU(),\n",
        "        nn.Dropout(0.5),\n",
        "        nn.Linear(256, 7)\n",
        "    )\n",
        "\n",
        "  def forward(self, x):\n",
        "    return self.linear_layers(x)\n",
        "\n"
      ],
      "metadata": {
        "id": "s7wSZlKW_HFJ"
      },
      "execution_count": null,
      "outputs": []
    },
    {
      "cell_type": "code",
      "source": [
        "# This one is a general NN for Hyperparameters searching, you can build different NN convenniently\n",
        "class HPO_NN(nn.Module):\n",
        "  def __init__(self, num_features, layer_sizes_list, dropout_list, num_of_class = 7):\n",
        "    super().__init__()\n",
        "    last_layer = num_features\n",
        "    layers_list = []\n",
        "    assert(len(layer_sizes_list) == len(dropout_list))\n",
        "    for layer_i, dropout_i in zip(layer_sizes_list, dropout_list):\n",
        "      layers_list.extend([\n",
        "        nn.Linear(last_layer, layer_i),\n",
        "        nn.BatchNorm1d(layer_i),\n",
        "        nn.ReLU(),\n",
        "        nn.Dropout(dropout_i)\n",
        "      ])\n",
        "      last_layer = layer_i\n",
        "    layers_list.append(nn.Linear(last_layer, num_of_class))\n",
        "    self.linear_layers = nn.Sequential(*layers_list)\n",
        "  def forward(self, x):\n",
        "    return self.linear_layers(x)"
      ],
      "metadata": {
        "id": "rO4FMRJqwagt"
      },
      "execution_count": 8,
      "outputs": []
    },
    {
      "cell_type": "markdown",
      "source": [
        "# Train and Test loop"
      ],
      "metadata": {
        "id": "6L1DhyTOyvOQ"
      }
    },
    {
      "cell_type": "code",
      "source": [
        "# Set the device to GPU if available, otherwise default to CPU\n",
        "device = torch.device(\"cuda\" if torch.cuda.is_available() else \"cpu\")\n",
        "\n",
        "def train_loop(dataloader, model, loss_fn, optimizer):\n",
        "    # Set model to training mode; this is crucial for certain layers like Dropout and BatchNorm\n",
        "    model.train()\n",
        "    # Transfer model to the computation device (either GPU or CPU)\n",
        "    model.to(device)\n",
        "\n",
        "    # Iterate through batches of data from the dataloader\n",
        "    for batch, (X, y, _, _) in enumerate(dataloader):\n",
        "        # Convert data to tensors and transfer them to the computation device\n",
        "        X = torch.tensor(X).float().to(device)\n",
        "        y = torch.tensor(y).long().to(device)\n",
        "        y = y.squeeze(1)  # Remove any unnecessary dimensions\n",
        "\n",
        "        # Pass data through model to get predictions\n",
        "        pred = model(X)\n",
        "        # Compute the loss between predictions and true labels\n",
        "        loss = loss_fn(pred, y)\n",
        "\n",
        "        # Backpropagation steps\n",
        "        optimizer.zero_grad()  # Clear out any accumulated gradients\n",
        "        loss.backward()  # Compute the gradients\n",
        "        optimizer.step()  # Update the model's weights\n",
        "\n",
        "        # Print the loss for every 100 batches to monitor training\n",
        "        if batch % 100 == 0:\n",
        "            print(f\"Train_loss: {loss.item():>7f}\")\n",
        "\n",
        "def test_loop(dataloader, model, loss_fn):\n",
        "    # Set model to evaluation mode; this affects layers like Dropout and BatchNorm\n",
        "    model.eval()\n",
        "    # Transfer model to the computation device\n",
        "    model.to(device)\n",
        "\n",
        "    size = len(dataloader.disk_dataset)\n",
        "    num_batches = 0\n",
        "    test_loss, correct = 0, 0\n",
        "    all_true_labels = []\n",
        "    all_predicted_labels = []\n",
        "\n",
        "    # Ensure no gradient computation for this block (saves memory and computations)\n",
        "    with torch.no_grad():\n",
        "        for (X, y, _, _) in dataloader:\n",
        "            # Convert data to tensors and transfer them to the computation device\n",
        "            X = torch.tensor(X).float().to(device)\n",
        "            y = torch.tensor(y).long().to(device)\n",
        "            y = y.squeeze(1)\n",
        "\n",
        "            # Get predictions from the model\n",
        "            pred = model(X)\n",
        "            # Accumulate the loss\n",
        "            test_loss += loss_fn(pred, y).item()\n",
        "            # Count the number of correct predictions\n",
        "            correct += (pred.argmax(1) == y).type(torch.float).sum().item()\n",
        "\n",
        "            # Store the true and predicted labels for metrics computation\n",
        "            all_true_labels.extend(y.cpu().tolist())\n",
        "            all_predicted_labels.extend(pred.argmax(1).cpu().tolist())\n",
        "            num_batches += 1\n",
        "\n",
        "    test_loss /= num_batches  # Average loss\n",
        "    correct /= size  # Accuracy\n",
        "\n",
        "    # Compute additional metrics\n",
        "    precision = precision_score(all_true_labels, all_predicted_labels, average='macro')\n",
        "    recall = recall_score(all_true_labels, all_predicted_labels, average='macro')\n",
        "    f1 = f1_score(all_true_labels, all_predicted_labels, average='macro')\n",
        "    mcc = matthews_corrcoef(all_true_labels, all_predicted_labels)\n",
        "\n",
        "    # Print evaluation results\n",
        "    print(f\"Test Error: \")\n",
        "    print(f\" Accuracy: {(100*correct):>0.1f}%\")\n",
        "    print(f\" Avg loss: {test_loss:>8f}\")\n",
        "    print(f\" Precision: {precision:>0.4f}\")\n",
        "    print(f\" Recall: {recall:>0.4f}\")\n",
        "    print(f\" F1 Score: {f1:>0.4f}\")\n",
        "    print(f\" Matthew's Correlation Coefficient: {mcc:>0.4f}\")\n",
        "\n",
        "    return 100*correct"
      ],
      "metadata": {
        "id": "BUnWFR7b_Z2t"
      },
      "execution_count": 9,
      "outputs": []
    },
    {
      "cell_type": "markdown",
      "source": [
        "# Add early-stopping"
      ],
      "metadata": {
        "id": "jtdYT8LXy1Vz"
      }
    },
    {
      "cell_type": "code",
      "source": [
        "import torch  # Adding import statement for torch\n",
        "\n",
        "class EarlyStopping:\n",
        "    \"\"\"\n",
        "    EarlyStopping can be used to stop the training when a monitored metric has stopped improving.\n",
        "    \"\"\"\n",
        "\n",
        "    def __init__(self, patience=10):\n",
        "        \"\"\"\n",
        "        Initializes the EarlyStopping object.\n",
        "\n",
        "        :param patience: Number of epochs with no improvement after which training will be stopped.\n",
        "        \"\"\"\n",
        "        self.patience = patience  # How long to wait after last time validation loss improved.\n",
        "        self.counter = 0         # Counter for epochs with no improvement.\n",
        "        self.best_score = None   # Best score observed so far.\n",
        "        self.early_stop = False  # A flag to indicate if stopping of training is required.\n",
        "\n",
        "    def __call__(self, test_loss, model):\n",
        "        \"\"\"\n",
        "        Call to check if early stopping should be executed or not.\n",
        "\n",
        "        :param test_loss: Current loss value to be checked.\n",
        "        :param model: The model instance which is currently being trained.\n",
        "        \"\"\"\n",
        "\n",
        "        # If best_score hasn't been set yet, set it as the current loss.\n",
        "        if self.best_score is None:\n",
        "            self.best_score = test_loss\n",
        "            self.save_checkpoint(model)\n",
        "        # If current test loss is more than the best score, then increase the counter.\n",
        "        elif test_loss <= self.best_score:\n",
        "            self.counter += 1\n",
        "            print(f'EarlyStopping counter: {self.counter} out of {self.patience}')\n",
        "            # If counter exceeds patience, then it's time to stop training.\n",
        "            if self.counter >= self.patience:\n",
        "                self.early_stop = True\n",
        "        # If current test loss is less than the best score, reset the counter and save this model.\n",
        "        else:\n",
        "            self.best_score = test_loss\n",
        "            self.save_checkpoint(model)\n",
        "            self.counter = 0\n",
        "\n",
        "    def save_checkpoint(self, model):\n",
        "        \"\"\"\n",
        "        Saves the model when called.\n",
        "\n",
        "        :param model: The model instance to be saved.\n",
        "        \"\"\"\n",
        "        # Save the model's state_dict. The path specified here can be customized as needed.\n",
        "        torch.save(model.state_dict(), '/content/drive/MyDrive/checkpoint.pt')\n"
      ],
      "metadata": {
        "id": "hPLCkNuAHkPG"
      },
      "execution_count": 10,
      "outputs": []
    },
    {
      "cell_type": "code",
      "source": [
        "nn2 = HPO_NN(2048, [1024, 512, 256], [0.5, 0.5, 0.5])\n",
        "loss_fn = nn.CrossEntropyLoss()\n",
        "optimizer = torch.optim.SGD(nn2.parameters(), lr=0.01)\n",
        "early_stopping = EarlyStopping(patience=10)\n",
        "epochs = 100\n",
        "for t in range(epochs):\n",
        "    print(f\"Epoch {t+1}\\n-------------------------------\")\n",
        "    train_loop(tt, nn2, loss_fn, optimizer)\n",
        "    test_loss = test_loop(va, nn2, loss_fn)\n",
        "    early_stopping(test_loss, nn2)\n",
        "    if early_stopping.early_stop:\n",
        "        print(\"Early stopping\")\n",
        "        break\n",
        "print(\"Done!\")"
      ],
      "metadata": {
        "colab": {
          "base_uri": "https://localhost:8080/"
        },
        "id": "ltQxtzhqz_WB",
        "outputId": "0baf63ed-90d0-4f93-e38d-67a521286ad2"
      },
      "execution_count": null,
      "outputs": [
        {
          "output_type": "stream",
          "name": "stdout",
          "text": [
            "Epoch 1\n",
            "-------------------------------\n",
            "Train_loss: 2.140125\n",
            "Train_loss: 1.139923\n"
          ]
        },
        {
          "output_type": "stream",
          "name": "stderr",
          "text": [
            "/usr/local/lib/python3.10/dist-packages/sklearn/metrics/_classification.py:1344: UndefinedMetricWarning: Precision is ill-defined and being set to 0.0 in labels with no predicted samples. Use `zero_division` parameter to control this behavior.\n",
            "  _warn_prf(average, modifier, msg_start, len(result))\n"
          ]
        },
        {
          "output_type": "stream",
          "name": "stdout",
          "text": [
            "Test Error: \n",
            " Accuracy: 72.7%\n",
            " Avg loss: 1.164545\n",
            " Precision: 0.3603\n",
            " Recall: 0.3626\n",
            " F1 Score: 0.3604\n",
            " Matthew's Correlation Coefficient: 0.5515\n",
            "Epoch 2\n",
            "-------------------------------\n",
            "Train_loss: 1.143839\n",
            "Train_loss: 0.566293\n"
          ]
        },
        {
          "output_type": "stream",
          "name": "stderr",
          "text": [
            "/usr/local/lib/python3.10/dist-packages/sklearn/metrics/_classification.py:1344: UndefinedMetricWarning: Precision is ill-defined and being set to 0.0 in labels with no predicted samples. Use `zero_division` parameter to control this behavior.\n",
            "  _warn_prf(average, modifier, msg_start, len(result))\n"
          ]
        },
        {
          "output_type": "stream",
          "name": "stdout",
          "text": [
            "Test Error: \n",
            " Accuracy: 74.6%\n",
            " Avg loss: 0.920281\n",
            " Precision: 0.3574\n",
            " Recall: 0.3926\n",
            " F1 Score: 0.3656\n",
            " Matthew's Correlation Coefficient: 0.6045\n",
            "Epoch 3\n",
            "-------------------------------\n",
            "Train_loss: 1.030624\n",
            "Train_loss: 0.610083\n"
          ]
        },
        {
          "output_type": "stream",
          "name": "stderr",
          "text": [
            "/usr/local/lib/python3.10/dist-packages/sklearn/metrics/_classification.py:1344: UndefinedMetricWarning: Precision is ill-defined and being set to 0.0 in labels with no predicted samples. Use `zero_division` parameter to control this behavior.\n",
            "  _warn_prf(average, modifier, msg_start, len(result))\n"
          ]
        },
        {
          "output_type": "stream",
          "name": "stdout",
          "text": [
            "Test Error: \n",
            " Accuracy: 75.7%\n",
            " Avg loss: 0.824004\n",
            " Precision: 0.3634\n",
            " Recall: 0.3999\n",
            " F1 Score: 0.3704\n",
            " Matthew's Correlation Coefficient: 0.6264\n",
            "Epoch 4\n",
            "-------------------------------\n",
            "Train_loss: 0.432009\n",
            "Train_loss: 0.599566\n"
          ]
        },
        {
          "output_type": "stream",
          "name": "stderr",
          "text": [
            "/usr/local/lib/python3.10/dist-packages/sklearn/metrics/_classification.py:1344: UndefinedMetricWarning: Precision is ill-defined and being set to 0.0 in labels with no predicted samples. Use `zero_division` parameter to control this behavior.\n",
            "  _warn_prf(average, modifier, msg_start, len(result))\n"
          ]
        },
        {
          "output_type": "stream",
          "name": "stdout",
          "text": [
            "Test Error: \n",
            " Accuracy: 74.6%\n",
            " Avg loss: 0.821514\n",
            " Precision: 0.3626\n",
            " Recall: 0.3995\n",
            " F1 Score: 0.3643\n",
            " Matthew's Correlation Coefficient: 0.6208\n",
            "EarlyStopping counter: 1 out of 10\n",
            "Epoch 5\n",
            "-------------------------------\n",
            "Train_loss: 0.383503\n",
            "Train_loss: 0.291129\n"
          ]
        },
        {
          "output_type": "stream",
          "name": "stderr",
          "text": [
            "/usr/local/lib/python3.10/dist-packages/sklearn/metrics/_classification.py:1344: UndefinedMetricWarning: Precision is ill-defined and being set to 0.0 in labels with no predicted samples. Use `zero_division` parameter to control this behavior.\n",
            "  _warn_prf(average, modifier, msg_start, len(result))\n"
          ]
        },
        {
          "output_type": "stream",
          "name": "stdout",
          "text": [
            "Test Error: \n",
            " Accuracy: 76.0%\n",
            " Avg loss: 0.766771\n",
            " Precision: 0.3670\n",
            " Recall: 0.4050\n",
            " F1 Score: 0.3720\n",
            " Matthew's Correlation Coefficient: 0.6374\n",
            "Epoch 6\n",
            "-------------------------------\n",
            "Train_loss: 0.420419\n",
            "Train_loss: 0.381318\n"
          ]
        },
        {
          "output_type": "stream",
          "name": "stderr",
          "text": [
            "/usr/local/lib/python3.10/dist-packages/sklearn/metrics/_classification.py:1344: UndefinedMetricWarning: Precision is ill-defined and being set to 0.0 in labels with no predicted samples. Use `zero_division` parameter to control this behavior.\n",
            "  _warn_prf(average, modifier, msg_start, len(result))\n"
          ]
        },
        {
          "output_type": "stream",
          "name": "stdout",
          "text": [
            "Test Error: \n",
            " Accuracy: 76.8%\n",
            " Avg loss: 0.757699\n",
            " Precision: 0.3715\n",
            " Recall: 0.4061\n",
            " F1 Score: 0.3743\n",
            " Matthew's Correlation Coefficient: 0.6476\n",
            "Epoch 7\n",
            "-------------------------------\n",
            "Train_loss: 0.388203\n",
            "Train_loss: 0.177727\n"
          ]
        },
        {
          "output_type": "stream",
          "name": "stderr",
          "text": [
            "/usr/local/lib/python3.10/dist-packages/sklearn/metrics/_classification.py:1344: UndefinedMetricWarning: Precision is ill-defined and being set to 0.0 in labels with no predicted samples. Use `zero_division` parameter to control this behavior.\n",
            "  _warn_prf(average, modifier, msg_start, len(result))\n"
          ]
        },
        {
          "output_type": "stream",
          "name": "stdout",
          "text": [
            "Test Error: \n",
            " Accuracy: 76.7%\n",
            " Avg loss: 0.761171\n",
            " Precision: 0.4026\n",
            " Recall: 0.4095\n",
            " F1 Score: 0.3795\n",
            " Matthew's Correlation Coefficient: 0.6479\n",
            "EarlyStopping counter: 1 out of 10\n",
            "Epoch 8\n",
            "-------------------------------\n",
            "Train_loss: 0.227445\n",
            "Train_loss: 0.105230\n"
          ]
        },
        {
          "output_type": "stream",
          "name": "stderr",
          "text": [
            "/usr/local/lib/python3.10/dist-packages/sklearn/metrics/_classification.py:1344: UndefinedMetricWarning: Precision is ill-defined and being set to 0.0 in labels with no predicted samples. Use `zero_division` parameter to control this behavior.\n",
            "  _warn_prf(average, modifier, msg_start, len(result))\n"
          ]
        },
        {
          "output_type": "stream",
          "name": "stdout",
          "text": [
            "Test Error: \n",
            " Accuracy: 75.8%\n",
            " Avg loss: 0.800042\n",
            " Precision: 0.4058\n",
            " Recall: 0.4151\n",
            " F1 Score: 0.3884\n",
            " Matthew's Correlation Coefficient: 0.6374\n",
            "EarlyStopping counter: 2 out of 10\n",
            "Epoch 9\n",
            "-------------------------------\n",
            "Train_loss: 0.533855\n",
            "Train_loss: 0.155220\n"
          ]
        },
        {
          "output_type": "stream",
          "name": "stderr",
          "text": [
            "/usr/local/lib/python3.10/dist-packages/sklearn/metrics/_classification.py:1344: UndefinedMetricWarning: Precision is ill-defined and being set to 0.0 in labels with no predicted samples. Use `zero_division` parameter to control this behavior.\n",
            "  _warn_prf(average, modifier, msg_start, len(result))\n"
          ]
        },
        {
          "output_type": "stream",
          "name": "stdout",
          "text": [
            "Test Error: \n",
            " Accuracy: 75.8%\n",
            " Avg loss: 0.809139\n",
            " Precision: 0.3939\n",
            " Recall: 0.4156\n",
            " F1 Score: 0.3873\n",
            " Matthew's Correlation Coefficient: 0.6388\n",
            "EarlyStopping counter: 3 out of 10\n",
            "Epoch 10\n",
            "-------------------------------\n",
            "Train_loss: 0.388769\n",
            "Train_loss: 0.190600\n"
          ]
        },
        {
          "output_type": "stream",
          "name": "stderr",
          "text": [
            "/usr/local/lib/python3.10/dist-packages/sklearn/metrics/_classification.py:1344: UndefinedMetricWarning: Precision is ill-defined and being set to 0.0 in labels with no predicted samples. Use `zero_division` parameter to control this behavior.\n",
            "  _warn_prf(average, modifier, msg_start, len(result))\n"
          ]
        },
        {
          "output_type": "stream",
          "name": "stdout",
          "text": [
            "Test Error: \n",
            " Accuracy: 74.0%\n",
            " Avg loss: 0.880439\n",
            " Precision: 0.3877\n",
            " Recall: 0.4138\n",
            " F1 Score: 0.3807\n",
            " Matthew's Correlation Coefficient: 0.6204\n",
            "EarlyStopping counter: 4 out of 10\n",
            "Epoch 11\n",
            "-------------------------------\n",
            "Train_loss: 0.208662\n",
            "Train_loss: 0.132433\n"
          ]
        },
        {
          "output_type": "stream",
          "name": "stderr",
          "text": [
            "/usr/local/lib/python3.10/dist-packages/sklearn/metrics/_classification.py:1344: UndefinedMetricWarning: Precision is ill-defined and being set to 0.0 in labels with no predicted samples. Use `zero_division` parameter to control this behavior.\n",
            "  _warn_prf(average, modifier, msg_start, len(result))\n"
          ]
        },
        {
          "output_type": "stream",
          "name": "stdout",
          "text": [
            "Test Error: \n",
            " Accuracy: 75.6%\n",
            " Avg loss: 0.835947\n",
            " Precision: 0.3967\n",
            " Recall: 0.4336\n",
            " F1 Score: 0.3995\n",
            " Matthew's Correlation Coefficient: 0.6399\n",
            "EarlyStopping counter: 5 out of 10\n",
            "Epoch 12\n",
            "-------------------------------\n",
            "Train_loss: 0.067162\n",
            "Train_loss: 0.139213\n"
          ]
        },
        {
          "output_type": "stream",
          "name": "stderr",
          "text": [
            "/usr/local/lib/python3.10/dist-packages/sklearn/metrics/_classification.py:1344: UndefinedMetricWarning: Precision is ill-defined and being set to 0.0 in labels with no predicted samples. Use `zero_division` parameter to control this behavior.\n",
            "  _warn_prf(average, modifier, msg_start, len(result))\n"
          ]
        },
        {
          "output_type": "stream",
          "name": "stdout",
          "text": [
            "Test Error: \n",
            " Accuracy: 75.6%\n",
            " Avg loss: 0.832394\n",
            " Precision: 0.3973\n",
            " Recall: 0.4391\n",
            " F1 Score: 0.4031\n",
            " Matthew's Correlation Coefficient: 0.6383\n",
            "EarlyStopping counter: 6 out of 10\n",
            "Epoch 13\n",
            "-------------------------------\n",
            "Train_loss: 0.250705\n",
            "Train_loss: 0.324608\n"
          ]
        },
        {
          "output_type": "stream",
          "name": "stderr",
          "text": [
            "/usr/local/lib/python3.10/dist-packages/sklearn/metrics/_classification.py:1344: UndefinedMetricWarning: Precision is ill-defined and being set to 0.0 in labels with no predicted samples. Use `zero_division` parameter to control this behavior.\n",
            "  _warn_prf(average, modifier, msg_start, len(result))\n"
          ]
        },
        {
          "output_type": "stream",
          "name": "stdout",
          "text": [
            "Test Error: \n",
            " Accuracy: 73.0%\n",
            " Avg loss: 0.923951\n",
            " Precision: 0.3837\n",
            " Recall: 0.4243\n",
            " F1 Score: 0.3838\n",
            " Matthew's Correlation Coefficient: 0.6118\n",
            "EarlyStopping counter: 7 out of 10\n",
            "Epoch 14\n",
            "-------------------------------\n",
            "Train_loss: 0.312746\n",
            "Train_loss: 0.099096\n"
          ]
        },
        {
          "output_type": "stream",
          "name": "stderr",
          "text": [
            "/usr/local/lib/python3.10/dist-packages/sklearn/metrics/_classification.py:1344: UndefinedMetricWarning: Precision is ill-defined and being set to 0.0 in labels with no predicted samples. Use `zero_division` parameter to control this behavior.\n",
            "  _warn_prf(average, modifier, msg_start, len(result))\n"
          ]
        },
        {
          "output_type": "stream",
          "name": "stdout",
          "text": [
            "Test Error: \n",
            " Accuracy: 74.8%\n",
            " Avg loss: 0.874845\n",
            " Precision: 0.3963\n",
            " Recall: 0.4457\n",
            " F1 Score: 0.4017\n",
            " Matthew's Correlation Coefficient: 0.6275\n",
            "EarlyStopping counter: 8 out of 10\n",
            "Epoch 15\n",
            "-------------------------------\n",
            "Train_loss: 0.120002\n",
            "Train_loss: 0.076895\n"
          ]
        },
        {
          "output_type": "stream",
          "name": "stderr",
          "text": [
            "/usr/local/lib/python3.10/dist-packages/sklearn/metrics/_classification.py:1344: UndefinedMetricWarning: Precision is ill-defined and being set to 0.0 in labels with no predicted samples. Use `zero_division` parameter to control this behavior.\n",
            "  _warn_prf(average, modifier, msg_start, len(result))\n"
          ]
        },
        {
          "output_type": "stream",
          "name": "stdout",
          "text": [
            "Test Error: \n",
            " Accuracy: 75.1%\n",
            " Avg loss: 0.876055\n",
            " Precision: 0.4005\n",
            " Recall: 0.4506\n",
            " F1 Score: 0.4053\n",
            " Matthew's Correlation Coefficient: 0.6309\n",
            "EarlyStopping counter: 9 out of 10\n",
            "Epoch 16\n",
            "-------------------------------\n",
            "Train_loss: 0.278223\n",
            "Train_loss: 0.131450\n",
            "Test Error: \n",
            " Accuracy: 72.6%\n",
            " Avg loss: 0.970808\n",
            " Precision: 0.3927\n",
            " Recall: 0.4481\n",
            " F1 Score: 0.3928\n",
            " Matthew's Correlation Coefficient: 0.6081\n",
            "EarlyStopping counter: 10 out of 10\n",
            "Early stopping\n",
            "Done!\n"
          ]
        },
        {
          "output_type": "stream",
          "name": "stderr",
          "text": [
            "/usr/local/lib/python3.10/dist-packages/sklearn/metrics/_classification.py:1344: UndefinedMetricWarning: Precision is ill-defined and being set to 0.0 in labels with no predicted samples. Use `zero_division` parameter to control this behavior.\n",
            "  _warn_prf(average, modifier, msg_start, len(result))\n"
          ]
        }
      ]
    },
    {
      "cell_type": "code",
      "source": [
        "model = NN1()\n",
        "model.load_state_dict(torch.load(\"/content/drive/MyDrive/checkpoint.pt\"))\n",
        "test_loop(te, nn2, loss_fn)"
      ],
      "metadata": {
        "colab": {
          "base_uri": "https://localhost:8080/"
        },
        "id": "3uRM7m95GzHt",
        "outputId": "9754e618-2891-4f49-b665-5657cf2f767c"
      },
      "execution_count": null,
      "outputs": [
        {
          "output_type": "stream",
          "name": "stdout",
          "text": [
            "Test Error: \n",
            " Accuracy: 98.2%\n",
            " Avg loss: 0.063230\n",
            " Precision: 0.6376\n",
            " Recall: 0.6022\n",
            " F1 Score: 0.5943\n",
            " Matthew's Correlation Coefficient: 0.9732\n"
          ]
        },
        {
          "output_type": "stream",
          "name": "stderr",
          "text": [
            "/usr/local/lib/python3.10/dist-packages/sklearn/metrics/_classification.py:1344: UndefinedMetricWarning: Precision is ill-defined and being set to 0.0 in labels with no predicted samples. Use `zero_division` parameter to control this behavior.\n",
            "  _warn_prf(average, modifier, msg_start, len(result))\n"
          ]
        },
        {
          "output_type": "execute_result",
          "data": {
            "text/plain": [
              "98.24715162138476"
            ]
          },
          "metadata": {},
          "execution_count": 123
        }
      ]
    },
    {
      "cell_type": "markdown",
      "source": [
        "# HPO"
      ],
      "metadata": {
        "id": "0hv0Cwxay7YS"
      }
    },
    {
      "cell_type": "code",
      "source": [
        "# Define different hyperparameters to try\n",
        "learning_rates = [1e-2, 1e-3, 1e-4]\n",
        "layer_sizes_list = [[128, 64, 32], [512, 256, 128], [1024, 512, 256]]\n",
        "dropout_lists = [[0.1, 0.1, 0.1], [0.5, 0.5, 0.5], [0.3, 0.3, 0.3]]\n",
        "\n",
        "# Initialize the best accuracy and its corresponding parameters\n",
        "best_accuracy = 0.0\n",
        "best_params = None\n",
        "\n",
        "# Loop over all combinations of hyperparameters\n",
        "for lr in learning_rates:\n",
        "    for layer_sizes in layer_sizes_list:\n",
        "        for dropouts in dropout_lists:\n",
        "\n",
        "            # Initialize the model with given hyperparameters\n",
        "            model = HPO_NN(2048, layer_sizes, dropouts).to(device)\n",
        "\n",
        "            # Set the loss function and the optimizer\n",
        "            loss_fn = nn.CrossEntropyLoss()\n",
        "            optimizer = torch.optim.Adam(model.parameters(), lr=lr)\n",
        "\n",
        "            # Initialize early stopping mechanism\n",
        "            early_stopping = EarlyStopping(patience=10)\n",
        "\n",
        "            # Train the model\n",
        "            for epoch in range(200):\n",
        "                train_loop(tt, model, loss_fn, optimizer)  # Training the model with training data\n",
        "                accuracy = test_loop(va, model, loss_fn)   # Evaluate the model on validation data\n",
        "\n",
        "                # Check if we should stop training early\n",
        "                early_stopping(accuracy, model)\n",
        "                if early_stopping.early_stop:\n",
        "                    # Check if this is the best model so far\n",
        "                    if accuracy > best_accuracy:\n",
        "                        best_accuracy = accuracy\n",
        "                        best_params = {\n",
        "                            \"lr\": lr,\n",
        "                            \"layer_sizes\": layer_sizes,\n",
        "                            \"dropouts\": dropouts\n",
        "                        }\n",
        "                        # Save the best model\n",
        "                        torch.save(model.state_dict(), '/content/drive/MyDrive/best_checkpoint.pt')\n",
        "                    print(\"Early stopping\")\n",
        "                    break\n",
        "\n",
        "            # Print the result for this set of hyperparameters\n",
        "            print(f\"Finished training for lr={lr}, layer_sizes={layer_sizes}, dropouts={dropouts}. Best val accuracy: {best_accuracy}\")\n",
        "\n",
        "# Print the overall best parameters and accuracy\n",
        "print(f\"Best parameters are: {best_params} with accuracy: {best_accuracy}\")\n",
        "\n",
        "# Evaluate the best model on the test set\n",
        "model.load_state_dict(torch.load('/content/drive/MyDrive/checkpoint.pt'))\n",
        "test_accuracy = test_loop(te, model, loss_fn)\n",
        "print(f\"Test accuracy with best model: {test_accuracy}\")\n"
      ],
      "metadata": {
        "colab": {
          "base_uri": "https://localhost:8080/"
        },
        "id": "F5UGzgs5Hv-Y",
        "outputId": "55b356ef-ad18-4ba3-b259-4e2c698e3b92"
      },
      "execution_count": 13,
      "outputs": [
        {
          "output_type": "stream",
          "name": "stdout",
          "text": [
            "Train_loss: 2.082727\n"
          ]
        },
        {
          "output_type": "stream",
          "name": "stderr",
          "text": [
            "/usr/local/lib/python3.10/dist-packages/sklearn/metrics/_classification.py:1344: UndefinedMetricWarning: Precision is ill-defined and being set to 0.0 in labels with no predicted samples. Use `zero_division` parameter to control this behavior.\n",
            "  _warn_prf(average, modifier, msg_start, len(result))\n"
          ]
        },
        {
          "output_type": "stream",
          "name": "stdout",
          "text": [
            "Test Error: \n",
            " Accuracy: 75.3%\n",
            " Avg loss: 0.722700\n",
            " Precision: 0.3690\n",
            " Recall: 0.3957\n",
            " F1 Score: 0.3664\n",
            " Matthew's Correlation Coefficient: 0.6224\n",
            "Train_loss: 0.227637\n"
          ]
        },
        {
          "output_type": "stream",
          "name": "stderr",
          "text": [
            "/usr/local/lib/python3.10/dist-packages/sklearn/metrics/_classification.py:1344: UndefinedMetricWarning: Precision is ill-defined and being set to 0.0 in labels with no predicted samples. Use `zero_division` parameter to control this behavior.\n",
            "  _warn_prf(average, modifier, msg_start, len(result))\n"
          ]
        },
        {
          "output_type": "stream",
          "name": "stdout",
          "text": [
            "Test Error: \n",
            " Accuracy: 76.3%\n",
            " Avg loss: 0.840122\n",
            " Precision: 0.4091\n",
            " Recall: 0.4387\n",
            " F1 Score: 0.4152\n",
            " Matthew's Correlation Coefficient: 0.6332\n",
            "Train_loss: 0.142959\n"
          ]
        },
        {
          "output_type": "stream",
          "name": "stderr",
          "text": [
            "/usr/local/lib/python3.10/dist-packages/sklearn/metrics/_classification.py:1344: UndefinedMetricWarning: Precision is ill-defined and being set to 0.0 in labels with no predicted samples. Use `zero_division` parameter to control this behavior.\n",
            "  _warn_prf(average, modifier, msg_start, len(result))\n"
          ]
        },
        {
          "output_type": "stream",
          "name": "stdout",
          "text": [
            "Test Error: \n",
            " Accuracy: 74.6%\n",
            " Avg loss: 1.067787\n",
            " Precision: 0.4016\n",
            " Recall: 0.4344\n",
            " F1 Score: 0.4010\n",
            " Matthew's Correlation Coefficient: 0.6163\n",
            "EarlyStopping counter: 1 out of 10\n",
            "Train_loss: 0.013850\n"
          ]
        },
        {
          "output_type": "stream",
          "name": "stderr",
          "text": [
            "/usr/local/lib/python3.10/dist-packages/sklearn/metrics/_classification.py:1344: UndefinedMetricWarning: Precision is ill-defined and being set to 0.0 in labels with no predicted samples. Use `zero_division` parameter to control this behavior.\n",
            "  _warn_prf(average, modifier, msg_start, len(result))\n"
          ]
        },
        {
          "output_type": "stream",
          "name": "stdout",
          "text": [
            "Test Error: \n",
            " Accuracy: 79.1%\n",
            " Avg loss: 0.891017\n",
            " Precision: 0.4619\n",
            " Recall: 0.4673\n",
            " F1 Score: 0.4520\n",
            " Matthew's Correlation Coefficient: 0.6691\n",
            "Train_loss: 0.032676\n"
          ]
        },
        {
          "output_type": "stream",
          "name": "stderr",
          "text": [
            "/usr/local/lib/python3.10/dist-packages/sklearn/metrics/_classification.py:1344: UndefinedMetricWarning: Precision is ill-defined and being set to 0.0 in labels with no predicted samples. Use `zero_division` parameter to control this behavior.\n",
            "  _warn_prf(average, modifier, msg_start, len(result))\n"
          ]
        },
        {
          "output_type": "stream",
          "name": "stdout",
          "text": [
            "Test Error: \n",
            " Accuracy: 76.5%\n",
            " Avg loss: 1.214954\n",
            " Precision: 0.4807\n",
            " Recall: 0.4548\n",
            " F1 Score: 0.4507\n",
            " Matthew's Correlation Coefficient: 0.6335\n",
            "EarlyStopping counter: 1 out of 10\n",
            "Train_loss: 0.033444\n"
          ]
        },
        {
          "output_type": "stream",
          "name": "stderr",
          "text": [
            "/usr/local/lib/python3.10/dist-packages/sklearn/metrics/_classification.py:1344: UndefinedMetricWarning: Precision is ill-defined and being set to 0.0 in labels with no predicted samples. Use `zero_division` parameter to control this behavior.\n",
            "  _warn_prf(average, modifier, msg_start, len(result))\n",
            "/usr/local/lib/python3.10/dist-packages/sklearn/metrics/_classification.py:1344: UndefinedMetricWarning: Recall is ill-defined and being set to 0.0 in labels with no true samples. Use `zero_division` parameter to control this behavior.\n",
            "  _warn_prf(average, modifier, msg_start, len(result))\n"
          ]
        },
        {
          "output_type": "stream",
          "name": "stdout",
          "text": [
            "Test Error: \n",
            " Accuracy: 78.6%\n",
            " Avg loss: 1.127145\n",
            " Precision: 0.3905\n",
            " Recall: 0.3888\n",
            " F1 Score: 0.3867\n",
            " Matthew's Correlation Coefficient: 0.6584\n",
            "EarlyStopping counter: 2 out of 10\n",
            "Train_loss: 0.040812\n"
          ]
        },
        {
          "output_type": "stream",
          "name": "stderr",
          "text": [
            "/usr/local/lib/python3.10/dist-packages/sklearn/metrics/_classification.py:1344: UndefinedMetricWarning: Precision is ill-defined and being set to 0.0 in labels with no predicted samples. Use `zero_division` parameter to control this behavior.\n",
            "  _warn_prf(average, modifier, msg_start, len(result))\n",
            "/usr/local/lib/python3.10/dist-packages/sklearn/metrics/_classification.py:1344: UndefinedMetricWarning: Recall is ill-defined and being set to 0.0 in labels with no true samples. Use `zero_division` parameter to control this behavior.\n",
            "  _warn_prf(average, modifier, msg_start, len(result))\n"
          ]
        },
        {
          "output_type": "stream",
          "name": "stdout",
          "text": [
            "Test Error: \n",
            " Accuracy: 76.4%\n",
            " Avg loss: 1.270084\n",
            " Precision: 0.4028\n",
            " Recall: 0.3767\n",
            " F1 Score: 0.3760\n",
            " Matthew's Correlation Coefficient: 0.6291\n",
            "EarlyStopping counter: 3 out of 10\n",
            "Train_loss: 0.139020\n"
          ]
        },
        {
          "output_type": "stream",
          "name": "stderr",
          "text": [
            "/usr/local/lib/python3.10/dist-packages/sklearn/metrics/_classification.py:1344: UndefinedMetricWarning: Recall is ill-defined and being set to 0.0 in labels with no true samples. Use `zero_division` parameter to control this behavior.\n",
            "  _warn_prf(average, modifier, msg_start, len(result))\n"
          ]
        },
        {
          "output_type": "stream",
          "name": "stdout",
          "text": [
            "Test Error: \n",
            " Accuracy: 77.6%\n",
            " Avg loss: 1.186544\n",
            " Precision: 0.4878\n",
            " Recall: 0.4196\n",
            " F1 Score: 0.4287\n",
            " Matthew's Correlation Coefficient: 0.6436\n",
            "EarlyStopping counter: 4 out of 10\n",
            "Train_loss: 0.006778\n"
          ]
        },
        {
          "output_type": "stream",
          "name": "stderr",
          "text": [
            "/usr/local/lib/python3.10/dist-packages/sklearn/metrics/_classification.py:1344: UndefinedMetricWarning: Recall is ill-defined and being set to 0.0 in labels with no true samples. Use `zero_division` parameter to control this behavior.\n",
            "  _warn_prf(average, modifier, msg_start, len(result))\n"
          ]
        },
        {
          "output_type": "stream",
          "name": "stdout",
          "text": [
            "Test Error: \n",
            " Accuracy: 77.4%\n",
            " Avg loss: 1.225838\n",
            " Precision: 0.4623\n",
            " Recall: 0.3853\n",
            " F1 Score: 0.3908\n",
            " Matthew's Correlation Coefficient: 0.6400\n",
            "EarlyStopping counter: 5 out of 10\n",
            "Train_loss: 0.095369\n"
          ]
        },
        {
          "output_type": "stream",
          "name": "stderr",
          "text": [
            "/usr/local/lib/python3.10/dist-packages/sklearn/metrics/_classification.py:1344: UndefinedMetricWarning: Recall is ill-defined and being set to 0.0 in labels with no true samples. Use `zero_division` parameter to control this behavior.\n",
            "  _warn_prf(average, modifier, msg_start, len(result))\n"
          ]
        },
        {
          "output_type": "stream",
          "name": "stdout",
          "text": [
            "Test Error: \n",
            " Accuracy: 76.4%\n",
            " Avg loss: 1.246600\n",
            " Precision: 0.3961\n",
            " Recall: 0.3850\n",
            " F1 Score: 0.3799\n",
            " Matthew's Correlation Coefficient: 0.6266\n",
            "EarlyStopping counter: 6 out of 10\n",
            "Train_loss: 0.064280\n"
          ]
        },
        {
          "output_type": "stream",
          "name": "stderr",
          "text": [
            "/usr/local/lib/python3.10/dist-packages/sklearn/metrics/_classification.py:1344: UndefinedMetricWarning: Recall is ill-defined and being set to 0.0 in labels with no true samples. Use `zero_division` parameter to control this behavior.\n",
            "  _warn_prf(average, modifier, msg_start, len(result))\n"
          ]
        },
        {
          "output_type": "stream",
          "name": "stdout",
          "text": [
            "Test Error: \n",
            " Accuracy: 75.5%\n",
            " Avg loss: 1.361377\n",
            " Precision: 0.4639\n",
            " Recall: 0.4214\n",
            " F1 Score: 0.4165\n",
            " Matthew's Correlation Coefficient: 0.6213\n",
            "EarlyStopping counter: 7 out of 10\n",
            "Train_loss: 0.016310\n"
          ]
        },
        {
          "output_type": "stream",
          "name": "stderr",
          "text": [
            "/usr/local/lib/python3.10/dist-packages/sklearn/metrics/_classification.py:1344: UndefinedMetricWarning: Recall is ill-defined and being set to 0.0 in labels with no true samples. Use `zero_division` parameter to control this behavior.\n",
            "  _warn_prf(average, modifier, msg_start, len(result))\n"
          ]
        },
        {
          "output_type": "stream",
          "name": "stdout",
          "text": [
            "Test Error: \n",
            " Accuracy: 77.6%\n",
            " Avg loss: 1.193059\n",
            " Precision: 0.5668\n",
            " Recall: 0.4314\n",
            " F1 Score: 0.4313\n",
            " Matthew's Correlation Coefficient: 0.6456\n",
            "EarlyStopping counter: 8 out of 10\n",
            "Train_loss: 0.042569\n"
          ]
        },
        {
          "output_type": "stream",
          "name": "stderr",
          "text": [
            "/usr/local/lib/python3.10/dist-packages/sklearn/metrics/_classification.py:1344: UndefinedMetricWarning: Recall is ill-defined and being set to 0.0 in labels with no true samples. Use `zero_division` parameter to control this behavior.\n",
            "  _warn_prf(average, modifier, msg_start, len(result))\n"
          ]
        },
        {
          "output_type": "stream",
          "name": "stdout",
          "text": [
            "Test Error: \n",
            " Accuracy: 77.2%\n",
            " Avg loss: 1.288627\n",
            " Precision: 0.4779\n",
            " Recall: 0.4140\n",
            " F1 Score: 0.4125\n",
            " Matthew's Correlation Coefficient: 0.6384\n",
            "EarlyStopping counter: 9 out of 10\n",
            "Train_loss: 0.110231\n"
          ]
        },
        {
          "output_type": "stream",
          "name": "stderr",
          "text": [
            "/usr/local/lib/python3.10/dist-packages/sklearn/metrics/_classification.py:1344: UndefinedMetricWarning: Recall is ill-defined and being set to 0.0 in labels with no true samples. Use `zero_division` parameter to control this behavior.\n",
            "  _warn_prf(average, modifier, msg_start, len(result))\n"
          ]
        },
        {
          "output_type": "stream",
          "name": "stdout",
          "text": [
            "Test Error: \n",
            " Accuracy: 76.0%\n",
            " Avg loss: 1.278745\n",
            " Precision: 0.4721\n",
            " Recall: 0.4163\n",
            " F1 Score: 0.4216\n",
            " Matthew's Correlation Coefficient: 0.6196\n",
            "EarlyStopping counter: 10 out of 10\n",
            "Early stopping\n",
            "Finished training for lr=0.01, layer_sizes=[128, 64, 32], dropouts=[0.1, 0.1, 0.1]. Best val accuracy: 75.9567630733275\n",
            "Train_loss: 2.238313\n"
          ]
        },
        {
          "output_type": "stream",
          "name": "stderr",
          "text": [
            "/usr/local/lib/python3.10/dist-packages/sklearn/metrics/_classification.py:1344: UndefinedMetricWarning: Precision is ill-defined and being set to 0.0 in labels with no predicted samples. Use `zero_division` parameter to control this behavior.\n",
            "  _warn_prf(average, modifier, msg_start, len(result))\n"
          ]
        },
        {
          "output_type": "stream",
          "name": "stdout",
          "text": [
            "Test Error: \n",
            " Accuracy: 75.8%\n",
            " Avg loss: 0.664446\n",
            " Precision: 0.3688\n",
            " Recall: 0.4016\n",
            " F1 Score: 0.3723\n",
            " Matthew's Correlation Coefficient: 0.6254\n",
            "Train_loss: 0.476909\n"
          ]
        },
        {
          "output_type": "stream",
          "name": "stderr",
          "text": [
            "/usr/local/lib/python3.10/dist-packages/sklearn/metrics/_classification.py:1344: UndefinedMetricWarning: Precision is ill-defined and being set to 0.0 in labels with no predicted samples. Use `zero_division` parameter to control this behavior.\n",
            "  _warn_prf(average, modifier, msg_start, len(result))\n"
          ]
        },
        {
          "output_type": "stream",
          "name": "stdout",
          "text": [
            "Test Error: \n",
            " Accuracy: 76.9%\n",
            " Avg loss: 0.685290\n",
            " Precision: 0.3818\n",
            " Recall: 0.4004\n",
            " F1 Score: 0.3790\n",
            " Matthew's Correlation Coefficient: 0.6403\n",
            "Train_loss: 0.437562\n"
          ]
        },
        {
          "output_type": "stream",
          "name": "stderr",
          "text": [
            "/usr/local/lib/python3.10/dist-packages/sklearn/metrics/_classification.py:1344: UndefinedMetricWarning: Precision is ill-defined and being set to 0.0 in labels with no predicted samples. Use `zero_division` parameter to control this behavior.\n",
            "  _warn_prf(average, modifier, msg_start, len(result))\n"
          ]
        },
        {
          "output_type": "stream",
          "name": "stdout",
          "text": [
            "Test Error: \n",
            " Accuracy: 76.4%\n",
            " Avg loss: 0.761618\n",
            " Precision: 0.3744\n",
            " Recall: 0.3992\n",
            " F1 Score: 0.3732\n",
            " Matthew's Correlation Coefficient: 0.6352\n",
            "EarlyStopping counter: 1 out of 10\n",
            "Train_loss: 0.191211\n"
          ]
        },
        {
          "output_type": "stream",
          "name": "stderr",
          "text": [
            "/usr/local/lib/python3.10/dist-packages/sklearn/metrics/_classification.py:1344: UndefinedMetricWarning: Precision is ill-defined and being set to 0.0 in labels with no predicted samples. Use `zero_division` parameter to control this behavior.\n",
            "  _warn_prf(average, modifier, msg_start, len(result))\n"
          ]
        },
        {
          "output_type": "stream",
          "name": "stdout",
          "text": [
            "Test Error: \n",
            " Accuracy: 77.7%\n",
            " Avg loss: 0.744378\n",
            " Precision: 0.3732\n",
            " Recall: 0.4077\n",
            " F1 Score: 0.3812\n",
            " Matthew's Correlation Coefficient: 0.6524\n",
            "Train_loss: 0.169684\n"
          ]
        },
        {
          "output_type": "stream",
          "name": "stderr",
          "text": [
            "/usr/local/lib/python3.10/dist-packages/sklearn/metrics/_classification.py:1344: UndefinedMetricWarning: Precision is ill-defined and being set to 0.0 in labels with no predicted samples. Use `zero_division` parameter to control this behavior.\n",
            "  _warn_prf(average, modifier, msg_start, len(result))\n"
          ]
        },
        {
          "output_type": "stream",
          "name": "stdout",
          "text": [
            "Test Error: \n",
            " Accuracy: 77.2%\n",
            " Avg loss: 0.801346\n",
            " Precision: 0.3725\n",
            " Recall: 0.4060\n",
            " F1 Score: 0.3785\n",
            " Matthew's Correlation Coefficient: 0.6471\n",
            "EarlyStopping counter: 1 out of 10\n",
            "Train_loss: 0.167779\n"
          ]
        },
        {
          "output_type": "stream",
          "name": "stderr",
          "text": [
            "/usr/local/lib/python3.10/dist-packages/sklearn/metrics/_classification.py:1344: UndefinedMetricWarning: Precision is ill-defined and being set to 0.0 in labels with no predicted samples. Use `zero_division` parameter to control this behavior.\n",
            "  _warn_prf(average, modifier, msg_start, len(result))\n"
          ]
        },
        {
          "output_type": "stream",
          "name": "stdout",
          "text": [
            "Test Error: \n",
            " Accuracy: 77.9%\n",
            " Avg loss: 0.808806\n",
            " Precision: 0.3761\n",
            " Recall: 0.4112\n",
            " F1 Score: 0.3827\n",
            " Matthew's Correlation Coefficient: 0.6582\n",
            "Train_loss: 0.155825\n"
          ]
        },
        {
          "output_type": "stream",
          "name": "stderr",
          "text": [
            "/usr/local/lib/python3.10/dist-packages/sklearn/metrics/_classification.py:1344: UndefinedMetricWarning: Precision is ill-defined and being set to 0.0 in labels with no predicted samples. Use `zero_division` parameter to control this behavior.\n",
            "  _warn_prf(average, modifier, msg_start, len(result))\n"
          ]
        },
        {
          "output_type": "stream",
          "name": "stdout",
          "text": [
            "Test Error: \n",
            " Accuracy: 80.4%\n",
            " Avg loss: 0.762727\n",
            " Precision: 0.3904\n",
            " Recall: 0.4178\n",
            " F1 Score: 0.4002\n",
            " Matthew's Correlation Coefficient: 0.6865\n",
            "Train_loss: 0.261854\n"
          ]
        },
        {
          "output_type": "stream",
          "name": "stderr",
          "text": [
            "/usr/local/lib/python3.10/dist-packages/sklearn/metrics/_classification.py:1344: UndefinedMetricWarning: Precision is ill-defined and being set to 0.0 in labels with no predicted samples. Use `zero_division` parameter to control this behavior.\n",
            "  _warn_prf(average, modifier, msg_start, len(result))\n"
          ]
        },
        {
          "output_type": "stream",
          "name": "stdout",
          "text": [
            "Test Error: \n",
            " Accuracy: 76.1%\n",
            " Avg loss: 0.904921\n",
            " Precision: 0.3723\n",
            " Recall: 0.4010\n",
            " F1 Score: 0.3725\n",
            " Matthew's Correlation Coefficient: 0.6325\n",
            "EarlyStopping counter: 1 out of 10\n",
            "Train_loss: 0.235860\n"
          ]
        },
        {
          "output_type": "stream",
          "name": "stderr",
          "text": [
            "/usr/local/lib/python3.10/dist-packages/sklearn/metrics/_classification.py:1344: UndefinedMetricWarning: Precision is ill-defined and being set to 0.0 in labels with no predicted samples. Use `zero_division` parameter to control this behavior.\n",
            "  _warn_prf(average, modifier, msg_start, len(result))\n"
          ]
        },
        {
          "output_type": "stream",
          "name": "stdout",
          "text": [
            "Test Error: \n",
            " Accuracy: 76.3%\n",
            " Avg loss: 0.970063\n",
            " Precision: 0.3718\n",
            " Recall: 0.4046\n",
            " F1 Score: 0.3740\n",
            " Matthew's Correlation Coefficient: 0.6374\n",
            "EarlyStopping counter: 2 out of 10\n",
            "Train_loss: 0.142951\n"
          ]
        },
        {
          "output_type": "stream",
          "name": "stderr",
          "text": [
            "/usr/local/lib/python3.10/dist-packages/sklearn/metrics/_classification.py:1344: UndefinedMetricWarning: Precision is ill-defined and being set to 0.0 in labels with no predicted samples. Use `zero_division` parameter to control this behavior.\n",
            "  _warn_prf(average, modifier, msg_start, len(result))\n"
          ]
        },
        {
          "output_type": "stream",
          "name": "stdout",
          "text": [
            "Test Error: \n",
            " Accuracy: 77.4%\n",
            " Avg loss: 0.974688\n",
            " Precision: 0.3922\n",
            " Recall: 0.4094\n",
            " F1 Score: 0.3902\n",
            " Matthew's Correlation Coefficient: 0.6493\n",
            "EarlyStopping counter: 3 out of 10\n",
            "Train_loss: 0.296102\n"
          ]
        },
        {
          "output_type": "stream",
          "name": "stderr",
          "text": [
            "/usr/local/lib/python3.10/dist-packages/sklearn/metrics/_classification.py:1344: UndefinedMetricWarning: Precision is ill-defined and being set to 0.0 in labels with no predicted samples. Use `zero_division` parameter to control this behavior.\n",
            "  _warn_prf(average, modifier, msg_start, len(result))\n"
          ]
        },
        {
          "output_type": "stream",
          "name": "stdout",
          "text": [
            "Test Error: \n",
            " Accuracy: 78.6%\n",
            " Avg loss: 0.917182\n",
            " Precision: 0.4315\n",
            " Recall: 0.4397\n",
            " F1 Score: 0.4260\n",
            " Matthew's Correlation Coefficient: 0.6671\n",
            "EarlyStopping counter: 4 out of 10\n",
            "Train_loss: 0.156356\n"
          ]
        },
        {
          "output_type": "stream",
          "name": "stderr",
          "text": [
            "/usr/local/lib/python3.10/dist-packages/sklearn/metrics/_classification.py:1344: UndefinedMetricWarning: Precision is ill-defined and being set to 0.0 in labels with no predicted samples. Use `zero_division` parameter to control this behavior.\n",
            "  _warn_prf(average, modifier, msg_start, len(result))\n"
          ]
        },
        {
          "output_type": "stream",
          "name": "stdout",
          "text": [
            "Test Error: \n",
            " Accuracy: 77.6%\n",
            " Avg loss: 1.063399\n",
            " Precision: 0.4233\n",
            " Recall: 0.4360\n",
            " F1 Score: 0.4182\n",
            " Matthew's Correlation Coefficient: 0.6544\n",
            "EarlyStopping counter: 5 out of 10\n",
            "Train_loss: 0.492948\n"
          ]
        },
        {
          "output_type": "stream",
          "name": "stderr",
          "text": [
            "/usr/local/lib/python3.10/dist-packages/sklearn/metrics/_classification.py:1344: UndefinedMetricWarning: Precision is ill-defined and being set to 0.0 in labels with no predicted samples. Use `zero_division` parameter to control this behavior.\n",
            "  _warn_prf(average, modifier, msg_start, len(result))\n"
          ]
        },
        {
          "output_type": "stream",
          "name": "stdout",
          "text": [
            "Test Error: \n",
            " Accuracy: 77.6%\n",
            " Avg loss: 1.077352\n",
            " Precision: 0.4254\n",
            " Recall: 0.4400\n",
            " F1 Score: 0.4226\n",
            " Matthew's Correlation Coefficient: 0.6523\n",
            "EarlyStopping counter: 6 out of 10\n",
            "Train_loss: 0.227461\n"
          ]
        },
        {
          "output_type": "stream",
          "name": "stderr",
          "text": [
            "/usr/local/lib/python3.10/dist-packages/sklearn/metrics/_classification.py:1344: UndefinedMetricWarning: Precision is ill-defined and being set to 0.0 in labels with no predicted samples. Use `zero_division` parameter to control this behavior.\n",
            "  _warn_prf(average, modifier, msg_start, len(result))\n"
          ]
        },
        {
          "output_type": "stream",
          "name": "stdout",
          "text": [
            "Test Error: \n",
            " Accuracy: 77.8%\n",
            " Avg loss: 0.997907\n",
            " Precision: 0.4213\n",
            " Recall: 0.4632\n",
            " F1 Score: 0.4318\n",
            " Matthew's Correlation Coefficient: 0.6557\n",
            "EarlyStopping counter: 7 out of 10\n",
            "Train_loss: 0.144099\n"
          ]
        },
        {
          "output_type": "stream",
          "name": "stderr",
          "text": [
            "/usr/local/lib/python3.10/dist-packages/sklearn/metrics/_classification.py:1344: UndefinedMetricWarning: Precision is ill-defined and being set to 0.0 in labels with no predicted samples. Use `zero_division` parameter to control this behavior.\n",
            "  _warn_prf(average, modifier, msg_start, len(result))\n"
          ]
        },
        {
          "output_type": "stream",
          "name": "stdout",
          "text": [
            "Test Error: \n",
            " Accuracy: 79.6%\n",
            " Avg loss: 0.942477\n",
            " Precision: 0.4401\n",
            " Recall: 0.4663\n",
            " F1 Score: 0.4479\n",
            " Matthew's Correlation Coefficient: 0.6770\n",
            "EarlyStopping counter: 8 out of 10\n",
            "Train_loss: 0.175670\n"
          ]
        },
        {
          "output_type": "stream",
          "name": "stderr",
          "text": [
            "/usr/local/lib/python3.10/dist-packages/sklearn/metrics/_classification.py:1344: UndefinedMetricWarning: Precision is ill-defined and being set to 0.0 in labels with no predicted samples. Use `zero_division` parameter to control this behavior.\n",
            "  _warn_prf(average, modifier, msg_start, len(result))\n"
          ]
        },
        {
          "output_type": "stream",
          "name": "stdout",
          "text": [
            "Test Error: \n",
            " Accuracy: 78.3%\n",
            " Avg loss: 1.165394\n",
            " Precision: 0.4309\n",
            " Recall: 0.4497\n",
            " F1 Score: 0.4318\n",
            " Matthew's Correlation Coefficient: 0.6609\n",
            "EarlyStopping counter: 9 out of 10\n",
            "Train_loss: 0.160466\n"
          ]
        },
        {
          "output_type": "stream",
          "name": "stderr",
          "text": [
            "/usr/local/lib/python3.10/dist-packages/sklearn/metrics/_classification.py:1344: UndefinedMetricWarning: Precision is ill-defined and being set to 0.0 in labels with no predicted samples. Use `zero_division` parameter to control this behavior.\n",
            "  _warn_prf(average, modifier, msg_start, len(result))\n"
          ]
        },
        {
          "output_type": "stream",
          "name": "stdout",
          "text": [
            "Test Error: \n",
            " Accuracy: 77.8%\n",
            " Avg loss: 1.102588\n",
            " Precision: 0.4250\n",
            " Recall: 0.4600\n",
            " F1 Score: 0.4302\n",
            " Matthew's Correlation Coefficient: 0.6574\n",
            "EarlyStopping counter: 10 out of 10\n",
            "Early stopping\n",
            "Finished training for lr=0.01, layer_sizes=[128, 64, 32], dropouts=[0.5, 0.5, 0.5]. Best val accuracy: 77.82646801051709\n",
            "Train_loss: 1.973567\n"
          ]
        },
        {
          "output_type": "stream",
          "name": "stderr",
          "text": [
            "/usr/local/lib/python3.10/dist-packages/sklearn/metrics/_classification.py:1344: UndefinedMetricWarning: Precision is ill-defined and being set to 0.0 in labels with no predicted samples. Use `zero_division` parameter to control this behavior.\n",
            "  _warn_prf(average, modifier, msg_start, len(result))\n"
          ]
        },
        {
          "output_type": "stream",
          "name": "stdout",
          "text": [
            "Test Error: \n",
            " Accuracy: 77.8%\n",
            " Avg loss: 0.629508\n",
            " Precision: 0.3746\n",
            " Recall: 0.4105\n",
            " F1 Score: 0.3836\n",
            " Matthew's Correlation Coefficient: 0.6543\n",
            "Train_loss: 0.429769\n"
          ]
        },
        {
          "output_type": "stream",
          "name": "stderr",
          "text": [
            "/usr/local/lib/python3.10/dist-packages/sklearn/metrics/_classification.py:1344: UndefinedMetricWarning: Precision is ill-defined and being set to 0.0 in labels with no predicted samples. Use `zero_division` parameter to control this behavior.\n",
            "  _warn_prf(average, modifier, msg_start, len(result))\n"
          ]
        },
        {
          "output_type": "stream",
          "name": "stdout",
          "text": [
            "Test Error: \n",
            " Accuracy: 73.2%\n",
            " Avg loss: 0.822766\n",
            " Precision: 0.3584\n",
            " Recall: 0.3900\n",
            " F1 Score: 0.3542\n",
            " Matthew's Correlation Coefficient: 0.6011\n",
            "EarlyStopping counter: 1 out of 10\n",
            "Train_loss: 0.157170\n"
          ]
        },
        {
          "output_type": "stream",
          "name": "stderr",
          "text": [
            "/usr/local/lib/python3.10/dist-packages/sklearn/metrics/_classification.py:1344: UndefinedMetricWarning: Precision is ill-defined and being set to 0.0 in labels with no predicted samples. Use `zero_division` parameter to control this behavior.\n",
            "  _warn_prf(average, modifier, msg_start, len(result))\n"
          ]
        },
        {
          "output_type": "stream",
          "name": "stdout",
          "text": [
            "Test Error: \n",
            " Accuracy: 79.1%\n",
            " Avg loss: 0.743509\n",
            " Precision: 0.3855\n",
            " Recall: 0.4067\n",
            " F1 Score: 0.3908\n",
            " Matthew's Correlation Coefficient: 0.6667\n",
            "Train_loss: 0.099025\n"
          ]
        },
        {
          "output_type": "stream",
          "name": "stderr",
          "text": [
            "/usr/local/lib/python3.10/dist-packages/sklearn/metrics/_classification.py:1344: UndefinedMetricWarning: Precision is ill-defined and being set to 0.0 in labels with no predicted samples. Use `zero_division` parameter to control this behavior.\n",
            "  _warn_prf(average, modifier, msg_start, len(result))\n"
          ]
        },
        {
          "output_type": "stream",
          "name": "stdout",
          "text": [
            "Test Error: \n",
            " Accuracy: 77.7%\n",
            " Avg loss: 0.844214\n",
            " Precision: 0.3899\n",
            " Recall: 0.4044\n",
            " F1 Score: 0.3874\n",
            " Matthew's Correlation Coefficient: 0.6478\n",
            "EarlyStopping counter: 1 out of 10\n",
            "Train_loss: 0.132576\n"
          ]
        },
        {
          "output_type": "stream",
          "name": "stderr",
          "text": [
            "/usr/local/lib/python3.10/dist-packages/sklearn/metrics/_classification.py:1344: UndefinedMetricWarning: Precision is ill-defined and being set to 0.0 in labels with no predicted samples. Use `zero_division` parameter to control this behavior.\n",
            "  _warn_prf(average, modifier, msg_start, len(result))\n"
          ]
        },
        {
          "output_type": "stream",
          "name": "stdout",
          "text": [
            "Test Error: \n",
            " Accuracy: 78.4%\n",
            " Avg loss: 0.842630\n",
            " Precision: 0.4192\n",
            " Recall: 0.4535\n",
            " F1 Score: 0.4315\n",
            " Matthew's Correlation Coefficient: 0.6607\n",
            "EarlyStopping counter: 2 out of 10\n",
            "Train_loss: 0.234321\n"
          ]
        },
        {
          "output_type": "stream",
          "name": "stderr",
          "text": [
            "/usr/local/lib/python3.10/dist-packages/sklearn/metrics/_classification.py:1344: UndefinedMetricWarning: Precision is ill-defined and being set to 0.0 in labels with no predicted samples. Use `zero_division` parameter to control this behavior.\n",
            "  _warn_prf(average, modifier, msg_start, len(result))\n"
          ]
        },
        {
          "output_type": "stream",
          "name": "stdout",
          "text": [
            "Test Error: \n",
            " Accuracy: 78.8%\n",
            " Avg loss: 0.955318\n",
            " Precision: 0.4463\n",
            " Recall: 0.4630\n",
            " F1 Score: 0.4504\n",
            " Matthew's Correlation Coefficient: 0.6647\n",
            "EarlyStopping counter: 3 out of 10\n",
            "Train_loss: 0.098868\n"
          ]
        },
        {
          "output_type": "stream",
          "name": "stderr",
          "text": [
            "/usr/local/lib/python3.10/dist-packages/sklearn/metrics/_classification.py:1344: UndefinedMetricWarning: Precision is ill-defined and being set to 0.0 in labels with no predicted samples. Use `zero_division` parameter to control this behavior.\n",
            "  _warn_prf(average, modifier, msg_start, len(result))\n"
          ]
        },
        {
          "output_type": "stream",
          "name": "stdout",
          "text": [
            "Test Error: \n",
            " Accuracy: 75.8%\n",
            " Avg loss: 1.063397\n",
            " Precision: 0.4093\n",
            " Recall: 0.4583\n",
            " F1 Score: 0.4214\n",
            " Matthew's Correlation Coefficient: 0.6306\n",
            "EarlyStopping counter: 4 out of 10\n",
            "Train_loss: 0.138397\n"
          ]
        },
        {
          "output_type": "stream",
          "name": "stderr",
          "text": [
            "/usr/local/lib/python3.10/dist-packages/sklearn/metrics/_classification.py:1344: UndefinedMetricWarning: Precision is ill-defined and being set to 0.0 in labels with no predicted samples. Use `zero_division` parameter to control this behavior.\n",
            "  _warn_prf(average, modifier, msg_start, len(result))\n"
          ]
        },
        {
          "output_type": "stream",
          "name": "stdout",
          "text": [
            "Test Error: \n",
            " Accuracy: 74.5%\n",
            " Avg loss: 1.175170\n",
            " Precision: 0.3968\n",
            " Recall: 0.4415\n",
            " F1 Score: 0.4054\n",
            " Matthew's Correlation Coefficient: 0.6140\n",
            "EarlyStopping counter: 5 out of 10\n",
            "Train_loss: 0.098591\n"
          ]
        },
        {
          "output_type": "stream",
          "name": "stderr",
          "text": [
            "/usr/local/lib/python3.10/dist-packages/sklearn/metrics/_classification.py:1344: UndefinedMetricWarning: Precision is ill-defined and being set to 0.0 in labels with no predicted samples. Use `zero_division` parameter to control this behavior.\n",
            "  _warn_prf(average, modifier, msg_start, len(result))\n"
          ]
        },
        {
          "output_type": "stream",
          "name": "stdout",
          "text": [
            "Test Error: \n",
            " Accuracy: 77.4%\n",
            " Avg loss: 1.050402\n",
            " Precision: 0.4202\n",
            " Recall: 0.4597\n",
            " F1 Score: 0.4306\n",
            " Matthew's Correlation Coefficient: 0.6467\n",
            "EarlyStopping counter: 6 out of 10\n",
            "Train_loss: 0.077642\n"
          ]
        },
        {
          "output_type": "stream",
          "name": "stderr",
          "text": [
            "/usr/local/lib/python3.10/dist-packages/sklearn/metrics/_classification.py:1344: UndefinedMetricWarning: Precision is ill-defined and being set to 0.0 in labels with no predicted samples. Use `zero_division` parameter to control this behavior.\n",
            "  _warn_prf(average, modifier, msg_start, len(result))\n"
          ]
        },
        {
          "output_type": "stream",
          "name": "stdout",
          "text": [
            "Test Error: \n",
            " Accuracy: 78.6%\n",
            " Avg loss: 1.035626\n",
            " Precision: 0.5988\n",
            " Recall: 0.4637\n",
            " F1 Score: 0.4529\n",
            " Matthew's Correlation Coefficient: 0.6618\n",
            "EarlyStopping counter: 7 out of 10\n",
            "Train_loss: 0.090252\n"
          ]
        },
        {
          "output_type": "stream",
          "name": "stderr",
          "text": [
            "/usr/local/lib/python3.10/dist-packages/sklearn/metrics/_classification.py:1344: UndefinedMetricWarning: Precision is ill-defined and being set to 0.0 in labels with no predicted samples. Use `zero_division` parameter to control this behavior.\n",
            "  _warn_prf(average, modifier, msg_start, len(result))\n"
          ]
        },
        {
          "output_type": "stream",
          "name": "stdout",
          "text": [
            "Test Error: \n",
            " Accuracy: 73.6%\n",
            " Avg loss: 1.234164\n",
            " Precision: 0.4370\n",
            " Recall: 0.4639\n",
            " F1 Score: 0.4175\n",
            " Matthew's Correlation Coefficient: 0.6005\n",
            "EarlyStopping counter: 8 out of 10\n",
            "Train_loss: 0.026879\n"
          ]
        },
        {
          "output_type": "stream",
          "name": "stderr",
          "text": [
            "/usr/local/lib/python3.10/dist-packages/sklearn/metrics/_classification.py:1344: UndefinedMetricWarning: Precision is ill-defined and being set to 0.0 in labels with no predicted samples. Use `zero_division` parameter to control this behavior.\n",
            "  _warn_prf(average, modifier, msg_start, len(result))\n"
          ]
        },
        {
          "output_type": "stream",
          "name": "stdout",
          "text": [
            "Test Error: \n",
            " Accuracy: 75.2%\n",
            " Avg loss: 1.339132\n",
            " Precision: 0.4903\n",
            " Recall: 0.4330\n",
            " F1 Score: 0.4174\n",
            " Matthew's Correlation Coefficient: 0.6198\n",
            "EarlyStopping counter: 9 out of 10\n",
            "Train_loss: 0.104014\n"
          ]
        },
        {
          "output_type": "stream",
          "name": "stderr",
          "text": [
            "/usr/local/lib/python3.10/dist-packages/sklearn/metrics/_classification.py:1344: UndefinedMetricWarning: Precision is ill-defined and being set to 0.0 in labels with no predicted samples. Use `zero_division` parameter to control this behavior.\n",
            "  _warn_prf(average, modifier, msg_start, len(result))\n"
          ]
        },
        {
          "output_type": "stream",
          "name": "stdout",
          "text": [
            "Test Error: \n",
            " Accuracy: 76.0%\n",
            " Avg loss: 1.212655\n",
            " Precision: 0.4479\n",
            " Recall: 0.4504\n",
            " F1 Score: 0.4346\n",
            " Matthew's Correlation Coefficient: 0.6265\n",
            "EarlyStopping counter: 10 out of 10\n",
            "Early stopping\n",
            "Finished training for lr=0.01, layer_sizes=[128, 64, 32], dropouts=[0.3, 0.3, 0.3]. Best val accuracy: 77.82646801051709\n",
            "Train_loss: 2.085095\n"
          ]
        },
        {
          "output_type": "stream",
          "name": "stderr",
          "text": [
            "/usr/local/lib/python3.10/dist-packages/sklearn/metrics/_classification.py:1344: UndefinedMetricWarning: Precision is ill-defined and being set to 0.0 in labels with no predicted samples. Use `zero_division` parameter to control this behavior.\n",
            "  _warn_prf(average, modifier, msg_start, len(result))\n"
          ]
        },
        {
          "output_type": "stream",
          "name": "stdout",
          "text": [
            "Test Error: \n",
            " Accuracy: 74.0%\n",
            " Avg loss: 0.756317\n",
            " Precision: 0.3976\n",
            " Recall: 0.4383\n",
            " F1 Score: 0.4011\n",
            " Matthew's Correlation Coefficient: 0.6085\n",
            "Train_loss: 0.326959\n"
          ]
        },
        {
          "output_type": "stream",
          "name": "stderr",
          "text": [
            "/usr/local/lib/python3.10/dist-packages/sklearn/metrics/_classification.py:1344: UndefinedMetricWarning: Precision is ill-defined and being set to 0.0 in labels with no predicted samples. Use `zero_division` parameter to control this behavior.\n",
            "  _warn_prf(average, modifier, msg_start, len(result))\n"
          ]
        },
        {
          "output_type": "stream",
          "name": "stdout",
          "text": [
            "Test Error: \n",
            " Accuracy: 77.1%\n",
            " Avg loss: 0.892268\n",
            " Precision: 0.4198\n",
            " Recall: 0.4518\n",
            " F1 Score: 0.4275\n",
            " Matthew's Correlation Coefficient: 0.6444\n",
            "Train_loss: 0.138861\n"
          ]
        },
        {
          "output_type": "stream",
          "name": "stderr",
          "text": [
            "/usr/local/lib/python3.10/dist-packages/sklearn/metrics/_classification.py:1344: UndefinedMetricWarning: Precision is ill-defined and being set to 0.0 in labels with no predicted samples. Use `zero_division` parameter to control this behavior.\n",
            "  _warn_prf(average, modifier, msg_start, len(result))\n"
          ]
        },
        {
          "output_type": "stream",
          "name": "stdout",
          "text": [
            "Test Error: \n",
            " Accuracy: 72.0%\n",
            " Avg loss: 1.255163\n",
            " Precision: 0.4254\n",
            " Recall: 0.4458\n",
            " F1 Score: 0.4127\n",
            " Matthew's Correlation Coefficient: 0.5744\n",
            "EarlyStopping counter: 1 out of 10\n",
            "Train_loss: 0.120730\n"
          ]
        },
        {
          "output_type": "stream",
          "name": "stderr",
          "text": [
            "/usr/local/lib/python3.10/dist-packages/sklearn/metrics/_classification.py:1344: UndefinedMetricWarning: Precision is ill-defined and being set to 0.0 in labels with no predicted samples. Use `zero_division` parameter to control this behavior.\n",
            "  _warn_prf(average, modifier, msg_start, len(result))\n"
          ]
        },
        {
          "output_type": "stream",
          "name": "stdout",
          "text": [
            "Test Error: \n",
            " Accuracy: 76.2%\n",
            " Avg loss: 1.127482\n",
            " Precision: 0.4784\n",
            " Recall: 0.4658\n",
            " F1 Score: 0.4499\n",
            " Matthew's Correlation Coefficient: 0.6276\n",
            "EarlyStopping counter: 2 out of 10\n",
            "Train_loss: 0.022729\n"
          ]
        },
        {
          "output_type": "stream",
          "name": "stderr",
          "text": [
            "/usr/local/lib/python3.10/dist-packages/sklearn/metrics/_classification.py:1344: UndefinedMetricWarning: Precision is ill-defined and being set to 0.0 in labels with no predicted samples. Use `zero_division` parameter to control this behavior.\n",
            "  _warn_prf(average, modifier, msg_start, len(result))\n"
          ]
        },
        {
          "output_type": "stream",
          "name": "stdout",
          "text": [
            "Test Error: \n",
            " Accuracy: 76.6%\n",
            " Avg loss: 1.064674\n",
            " Precision: 0.4947\n",
            " Recall: 0.4533\n",
            " F1 Score: 0.4562\n",
            " Matthew's Correlation Coefficient: 0.6318\n",
            "EarlyStopping counter: 3 out of 10\n",
            "Train_loss: 0.040814\n"
          ]
        },
        {
          "output_type": "stream",
          "name": "stderr",
          "text": [
            "/usr/local/lib/python3.10/dist-packages/sklearn/metrics/_classification.py:1344: UndefinedMetricWarning: Precision is ill-defined and being set to 0.0 in labels with no predicted samples. Use `zero_division` parameter to control this behavior.\n",
            "  _warn_prf(average, modifier, msg_start, len(result))\n",
            "/usr/local/lib/python3.10/dist-packages/sklearn/metrics/_classification.py:1344: UndefinedMetricWarning: Recall is ill-defined and being set to 0.0 in labels with no true samples. Use `zero_division` parameter to control this behavior.\n",
            "  _warn_prf(average, modifier, msg_start, len(result))\n"
          ]
        },
        {
          "output_type": "stream",
          "name": "stdout",
          "text": [
            "Test Error: \n",
            " Accuracy: 76.5%\n",
            " Avg loss: 1.198213\n",
            " Precision: 0.5144\n",
            " Recall: 0.3763\n",
            " F1 Score: 0.3781\n",
            " Matthew's Correlation Coefficient: 0.6260\n",
            "EarlyStopping counter: 4 out of 10\n",
            "Train_loss: 0.004810\n"
          ]
        },
        {
          "output_type": "stream",
          "name": "stderr",
          "text": [
            "/usr/local/lib/python3.10/dist-packages/sklearn/metrics/_classification.py:1344: UndefinedMetricWarning: Recall is ill-defined and being set to 0.0 in labels with no true samples. Use `zero_division` parameter to control this behavior.\n",
            "  _warn_prf(average, modifier, msg_start, len(result))\n"
          ]
        },
        {
          "output_type": "stream",
          "name": "stdout",
          "text": [
            "Test Error: \n",
            " Accuracy: 76.5%\n",
            " Avg loss: 1.294367\n",
            " Precision: 0.4415\n",
            " Recall: 0.3899\n",
            " F1 Score: 0.3933\n",
            " Matthew's Correlation Coefficient: 0.6292\n",
            "EarlyStopping counter: 5 out of 10\n",
            "Train_loss: 0.007559\n"
          ]
        },
        {
          "output_type": "stream",
          "name": "stderr",
          "text": [
            "/usr/local/lib/python3.10/dist-packages/sklearn/metrics/_classification.py:1344: UndefinedMetricWarning: Recall is ill-defined and being set to 0.0 in labels with no true samples. Use `zero_division` parameter to control this behavior.\n",
            "  _warn_prf(average, modifier, msg_start, len(result))\n"
          ]
        },
        {
          "output_type": "stream",
          "name": "stdout",
          "text": [
            "Test Error: \n",
            " Accuracy: 77.0%\n",
            " Avg loss: 1.135587\n",
            " Precision: 0.5736\n",
            " Recall: 0.4154\n",
            " F1 Score: 0.4414\n",
            " Matthew's Correlation Coefficient: 0.6314\n",
            "EarlyStopping counter: 6 out of 10\n",
            "Train_loss: 0.018237\n"
          ]
        },
        {
          "output_type": "stream",
          "name": "stderr",
          "text": [
            "/usr/local/lib/python3.10/dist-packages/sklearn/metrics/_classification.py:1344: UndefinedMetricWarning: Recall is ill-defined and being set to 0.0 in labels with no true samples. Use `zero_division` parameter to control this behavior.\n",
            "  _warn_prf(average, modifier, msg_start, len(result))\n"
          ]
        },
        {
          "output_type": "stream",
          "name": "stdout",
          "text": [
            "Test Error: \n",
            " Accuracy: 75.7%\n",
            " Avg loss: 1.091174\n",
            " Precision: 0.4117\n",
            " Recall: 0.4288\n",
            " F1 Score: 0.4102\n",
            " Matthew's Correlation Coefficient: 0.6199\n",
            "EarlyStopping counter: 7 out of 10\n",
            "Train_loss: 0.018225\n"
          ]
        },
        {
          "output_type": "stream",
          "name": "stderr",
          "text": [
            "/usr/local/lib/python3.10/dist-packages/sklearn/metrics/_classification.py:1344: UndefinedMetricWarning: Recall is ill-defined and being set to 0.0 in labels with no true samples. Use `zero_division` parameter to control this behavior.\n",
            "  _warn_prf(average, modifier, msg_start, len(result))\n"
          ]
        },
        {
          "output_type": "stream",
          "name": "stdout",
          "text": [
            "Test Error: \n",
            " Accuracy: 77.4%\n",
            " Avg loss: 1.085011\n",
            " Precision: 0.4679\n",
            " Recall: 0.4214\n",
            " F1 Score: 0.4249\n",
            " Matthew's Correlation Coefficient: 0.6430\n",
            "Train_loss: 0.022638\n"
          ]
        },
        {
          "output_type": "stream",
          "name": "stderr",
          "text": [
            "/usr/local/lib/python3.10/dist-packages/sklearn/metrics/_classification.py:1344: UndefinedMetricWarning: Recall is ill-defined and being set to 0.0 in labels with no true samples. Use `zero_division` parameter to control this behavior.\n",
            "  _warn_prf(average, modifier, msg_start, len(result))\n"
          ]
        },
        {
          "output_type": "stream",
          "name": "stdout",
          "text": [
            "Test Error: \n",
            " Accuracy: 78.1%\n",
            " Avg loss: 1.197007\n",
            " Precision: 0.4800\n",
            " Recall: 0.4222\n",
            " F1 Score: 0.4318\n",
            " Matthew's Correlation Coefficient: 0.6504\n",
            "Train_loss: 0.003984\n"
          ]
        },
        {
          "output_type": "stream",
          "name": "stderr",
          "text": [
            "/usr/local/lib/python3.10/dist-packages/sklearn/metrics/_classification.py:1344: UndefinedMetricWarning: Recall is ill-defined and being set to 0.0 in labels with no true samples. Use `zero_division` parameter to control this behavior.\n",
            "  _warn_prf(average, modifier, msg_start, len(result))\n"
          ]
        },
        {
          "output_type": "stream",
          "name": "stdout",
          "text": [
            "Test Error: \n",
            " Accuracy: 75.9%\n",
            " Avg loss: 1.499644\n",
            " Precision: 0.6522\n",
            " Recall: 0.4193\n",
            " F1 Score: 0.4335\n",
            " Matthew's Correlation Coefficient: 0.6226\n",
            "EarlyStopping counter: 1 out of 10\n",
            "Train_loss: 0.001475\n"
          ]
        },
        {
          "output_type": "stream",
          "name": "stderr",
          "text": [
            "/usr/local/lib/python3.10/dist-packages/sklearn/metrics/_classification.py:1344: UndefinedMetricWarning: Recall is ill-defined and being set to 0.0 in labels with no true samples. Use `zero_division` parameter to control this behavior.\n",
            "  _warn_prf(average, modifier, msg_start, len(result))\n"
          ]
        },
        {
          "output_type": "stream",
          "name": "stdout",
          "text": [
            "Test Error: \n",
            " Accuracy: 77.1%\n",
            " Avg loss: 1.341396\n",
            " Precision: 0.4959\n",
            " Recall: 0.4274\n",
            " F1 Score: 0.4240\n",
            " Matthew's Correlation Coefficient: 0.6375\n",
            "EarlyStopping counter: 2 out of 10\n",
            "Train_loss: 0.029954\n"
          ]
        },
        {
          "output_type": "stream",
          "name": "stderr",
          "text": [
            "/usr/local/lib/python3.10/dist-packages/sklearn/metrics/_classification.py:1344: UndefinedMetricWarning: Recall is ill-defined and being set to 0.0 in labels with no true samples. Use `zero_division` parameter to control this behavior.\n",
            "  _warn_prf(average, modifier, msg_start, len(result))\n"
          ]
        },
        {
          "output_type": "stream",
          "name": "stdout",
          "text": [
            "Test Error: \n",
            " Accuracy: 77.7%\n",
            " Avg loss: 1.360964\n",
            " Precision: 0.5089\n",
            " Recall: 0.4344\n",
            " F1 Score: 0.4360\n",
            " Matthew's Correlation Coefficient: 0.6428\n",
            "EarlyStopping counter: 3 out of 10\n",
            "Train_loss: 0.013994\n"
          ]
        },
        {
          "output_type": "stream",
          "name": "stderr",
          "text": [
            "/usr/local/lib/python3.10/dist-packages/sklearn/metrics/_classification.py:1344: UndefinedMetricWarning: Recall is ill-defined and being set to 0.0 in labels with no true samples. Use `zero_division` parameter to control this behavior.\n",
            "  _warn_prf(average, modifier, msg_start, len(result))\n"
          ]
        },
        {
          "output_type": "stream",
          "name": "stdout",
          "text": [
            "Test Error: \n",
            " Accuracy: 78.6%\n",
            " Avg loss: 1.263794\n",
            " Precision: 0.4775\n",
            " Recall: 0.4445\n",
            " F1 Score: 0.4465\n",
            " Matthew's Correlation Coefficient: 0.6594\n",
            "Train_loss: 0.001957\n"
          ]
        },
        {
          "output_type": "stream",
          "name": "stderr",
          "text": [
            "/usr/local/lib/python3.10/dist-packages/sklearn/metrics/_classification.py:1344: UndefinedMetricWarning: Recall is ill-defined and being set to 0.0 in labels with no true samples. Use `zero_division` parameter to control this behavior.\n",
            "  _warn_prf(average, modifier, msg_start, len(result))\n"
          ]
        },
        {
          "output_type": "stream",
          "name": "stdout",
          "text": [
            "Test Error: \n",
            " Accuracy: 76.6%\n",
            " Avg loss: 1.455443\n",
            " Precision: 0.4106\n",
            " Recall: 0.3831\n",
            " F1 Score: 0.3750\n",
            " Matthew's Correlation Coefficient: 0.6330\n",
            "EarlyStopping counter: 1 out of 10\n",
            "Train_loss: 0.174405\n"
          ]
        },
        {
          "output_type": "stream",
          "name": "stderr",
          "text": [
            "/usr/local/lib/python3.10/dist-packages/sklearn/metrics/_classification.py:1344: UndefinedMetricWarning: Precision is ill-defined and being set to 0.0 in labels with no predicted samples. Use `zero_division` parameter to control this behavior.\n",
            "  _warn_prf(average, modifier, msg_start, len(result))\n",
            "/usr/local/lib/python3.10/dist-packages/sklearn/metrics/_classification.py:1344: UndefinedMetricWarning: Recall is ill-defined and being set to 0.0 in labels with no true samples. Use `zero_division` parameter to control this behavior.\n",
            "  _warn_prf(average, modifier, msg_start, len(result))\n"
          ]
        },
        {
          "output_type": "stream",
          "name": "stdout",
          "text": [
            "Test Error: \n",
            " Accuracy: 76.5%\n",
            " Avg loss: 1.413360\n",
            " Precision: 0.5071\n",
            " Recall: 0.3857\n",
            " F1 Score: 0.3838\n",
            " Matthew's Correlation Coefficient: 0.6334\n",
            "EarlyStopping counter: 2 out of 10\n",
            "Train_loss: 0.036994\n"
          ]
        },
        {
          "output_type": "stream",
          "name": "stderr",
          "text": [
            "/usr/local/lib/python3.10/dist-packages/sklearn/metrics/_classification.py:1344: UndefinedMetricWarning: Precision is ill-defined and being set to 0.0 in labels with no predicted samples. Use `zero_division` parameter to control this behavior.\n",
            "  _warn_prf(average, modifier, msg_start, len(result))\n",
            "/usr/local/lib/python3.10/dist-packages/sklearn/metrics/_classification.py:1344: UndefinedMetricWarning: Recall is ill-defined and being set to 0.0 in labels with no true samples. Use `zero_division` parameter to control this behavior.\n",
            "  _warn_prf(average, modifier, msg_start, len(result))\n"
          ]
        },
        {
          "output_type": "stream",
          "name": "stdout",
          "text": [
            "Test Error: \n",
            " Accuracy: 77.0%\n",
            " Avg loss: 1.337134\n",
            " Precision: 0.4081\n",
            " Recall: 0.3936\n",
            " F1 Score: 0.3866\n",
            " Matthew's Correlation Coefficient: 0.6422\n",
            "EarlyStopping counter: 3 out of 10\n",
            "Train_loss: 0.001101\n"
          ]
        },
        {
          "output_type": "stream",
          "name": "stderr",
          "text": [
            "/usr/local/lib/python3.10/dist-packages/sklearn/metrics/_classification.py:1344: UndefinedMetricWarning: Recall is ill-defined and being set to 0.0 in labels with no true samples. Use `zero_division` parameter to control this behavior.\n",
            "  _warn_prf(average, modifier, msg_start, len(result))\n"
          ]
        },
        {
          "output_type": "stream",
          "name": "stdout",
          "text": [
            "Test Error: \n",
            " Accuracy: 78.2%\n",
            " Avg loss: 1.424477\n",
            " Precision: 0.5712\n",
            " Recall: 0.4213\n",
            " F1 Score: 0.4447\n",
            " Matthew's Correlation Coefficient: 0.6527\n",
            "EarlyStopping counter: 4 out of 10\n",
            "Train_loss: 0.000187\n"
          ]
        },
        {
          "output_type": "stream",
          "name": "stderr",
          "text": [
            "/usr/local/lib/python3.10/dist-packages/sklearn/metrics/_classification.py:1344: UndefinedMetricWarning: Recall is ill-defined and being set to 0.0 in labels with no true samples. Use `zero_division` parameter to control this behavior.\n",
            "  _warn_prf(average, modifier, msg_start, len(result))\n"
          ]
        },
        {
          "output_type": "stream",
          "name": "stdout",
          "text": [
            "Test Error: \n",
            " Accuracy: 76.8%\n",
            " Avg loss: 1.412803\n",
            " Precision: 0.3995\n",
            " Recall: 0.3794\n",
            " F1 Score: 0.3812\n",
            " Matthew's Correlation Coefficient: 0.6316\n",
            "EarlyStopping counter: 5 out of 10\n",
            "Train_loss: 0.001954\n"
          ]
        },
        {
          "output_type": "stream",
          "name": "stderr",
          "text": [
            "/usr/local/lib/python3.10/dist-packages/sklearn/metrics/_classification.py:1344: UndefinedMetricWarning: Recall is ill-defined and being set to 0.0 in labels with no true samples. Use `zero_division` parameter to control this behavior.\n",
            "  _warn_prf(average, modifier, msg_start, len(result))\n"
          ]
        },
        {
          "output_type": "stream",
          "name": "stdout",
          "text": [
            "Test Error: \n",
            " Accuracy: 77.2%\n",
            " Avg loss: 1.401812\n",
            " Precision: 0.5631\n",
            " Recall: 0.4240\n",
            " F1 Score: 0.4424\n",
            " Matthew's Correlation Coefficient: 0.6378\n",
            "EarlyStopping counter: 6 out of 10\n",
            "Train_loss: 0.000619\n"
          ]
        },
        {
          "output_type": "stream",
          "name": "stderr",
          "text": [
            "/usr/local/lib/python3.10/dist-packages/sklearn/metrics/_classification.py:1344: UndefinedMetricWarning: Precision is ill-defined and being set to 0.0 in labels with no predicted samples. Use `zero_division` parameter to control this behavior.\n",
            "  _warn_prf(average, modifier, msg_start, len(result))\n",
            "/usr/local/lib/python3.10/dist-packages/sklearn/metrics/_classification.py:1344: UndefinedMetricWarning: Recall is ill-defined and being set to 0.0 in labels with no true samples. Use `zero_division` parameter to control this behavior.\n",
            "  _warn_prf(average, modifier, msg_start, len(result))\n"
          ]
        },
        {
          "output_type": "stream",
          "name": "stdout",
          "text": [
            "Test Error: \n",
            " Accuracy: 76.0%\n",
            " Avg loss: 1.636179\n",
            " Precision: 0.4019\n",
            " Recall: 0.3911\n",
            " F1 Score: 0.3798\n",
            " Matthew's Correlation Coefficient: 0.6237\n",
            "EarlyStopping counter: 7 out of 10\n",
            "Train_loss: 0.000701\n"
          ]
        },
        {
          "output_type": "stream",
          "name": "stderr",
          "text": [
            "/usr/local/lib/python3.10/dist-packages/sklearn/metrics/_classification.py:1344: UndefinedMetricWarning: Recall is ill-defined and being set to 0.0 in labels with no true samples. Use `zero_division` parameter to control this behavior.\n",
            "  _warn_prf(average, modifier, msg_start, len(result))\n"
          ]
        },
        {
          "output_type": "stream",
          "name": "stdout",
          "text": [
            "Test Error: \n",
            " Accuracy: 77.2%\n",
            " Avg loss: 1.504916\n",
            " Precision: 0.5724\n",
            " Recall: 0.4247\n",
            " F1 Score: 0.4532\n",
            " Matthew's Correlation Coefficient: 0.6371\n",
            "EarlyStopping counter: 8 out of 10\n",
            "Train_loss: 0.028931\n"
          ]
        },
        {
          "output_type": "stream",
          "name": "stderr",
          "text": [
            "/usr/local/lib/python3.10/dist-packages/sklearn/metrics/_classification.py:1344: UndefinedMetricWarning: Recall is ill-defined and being set to 0.0 in labels with no true samples. Use `zero_division` parameter to control this behavior.\n",
            "  _warn_prf(average, modifier, msg_start, len(result))\n"
          ]
        },
        {
          "output_type": "stream",
          "name": "stdout",
          "text": [
            "Test Error: \n",
            " Accuracy: 76.7%\n",
            " Avg loss: 1.311968\n",
            " Precision: 0.5389\n",
            " Recall: 0.4331\n",
            " F1 Score: 0.4513\n",
            " Matthew's Correlation Coefficient: 0.6301\n",
            "EarlyStopping counter: 9 out of 10\n",
            "Train_loss: 0.001762\n"
          ]
        },
        {
          "output_type": "stream",
          "name": "stderr",
          "text": [
            "/usr/local/lib/python3.10/dist-packages/sklearn/metrics/_classification.py:1344: UndefinedMetricWarning: Recall is ill-defined and being set to 0.0 in labels with no true samples. Use `zero_division` parameter to control this behavior.\n",
            "  _warn_prf(average, modifier, msg_start, len(result))\n"
          ]
        },
        {
          "output_type": "stream",
          "name": "stdout",
          "text": [
            "Test Error: \n",
            " Accuracy: 75.6%\n",
            " Avg loss: 1.567737\n",
            " Precision: 0.5401\n",
            " Recall: 0.4104\n",
            " F1 Score: 0.4347\n",
            " Matthew's Correlation Coefficient: 0.6139\n",
            "EarlyStopping counter: 10 out of 10\n",
            "Early stopping\n",
            "Finished training for lr=0.01, layer_sizes=[512, 256, 128], dropouts=[0.1, 0.1, 0.1]. Best val accuracy: 77.82646801051709\n",
            "Train_loss: 1.896760\n"
          ]
        },
        {
          "output_type": "stream",
          "name": "stderr",
          "text": [
            "/usr/local/lib/python3.10/dist-packages/sklearn/metrics/_classification.py:1344: UndefinedMetricWarning: Precision is ill-defined and being set to 0.0 in labels with no predicted samples. Use `zero_division` parameter to control this behavior.\n",
            "  _warn_prf(average, modifier, msg_start, len(result))\n"
          ]
        },
        {
          "output_type": "stream",
          "name": "stdout",
          "text": [
            "Test Error: \n",
            " Accuracy: 78.4%\n",
            " Avg loss: 0.635818\n",
            " Precision: 0.3821\n",
            " Recall: 0.4112\n",
            " F1 Score: 0.3859\n",
            " Matthew's Correlation Coefficient: 0.6637\n",
            "Train_loss: 0.301553\n"
          ]
        },
        {
          "output_type": "stream",
          "name": "stderr",
          "text": [
            "/usr/local/lib/python3.10/dist-packages/sklearn/metrics/_classification.py:1344: UndefinedMetricWarning: Precision is ill-defined and being set to 0.0 in labels with no predicted samples. Use `zero_division` parameter to control this behavior.\n",
            "  _warn_prf(average, modifier, msg_start, len(result))\n"
          ]
        },
        {
          "output_type": "stream",
          "name": "stdout",
          "text": [
            "Test Error: \n",
            " Accuracy: 79.1%\n",
            " Avg loss: 0.745896\n",
            " Precision: 0.4374\n",
            " Recall: 0.4402\n",
            " F1 Score: 0.4316\n",
            " Matthew's Correlation Coefficient: 0.6709\n",
            "Train_loss: 0.157220\n"
          ]
        },
        {
          "output_type": "stream",
          "name": "stderr",
          "text": [
            "/usr/local/lib/python3.10/dist-packages/sklearn/metrics/_classification.py:1344: UndefinedMetricWarning: Precision is ill-defined and being set to 0.0 in labels with no predicted samples. Use `zero_division` parameter to control this behavior.\n",
            "  _warn_prf(average, modifier, msg_start, len(result))\n"
          ]
        },
        {
          "output_type": "stream",
          "name": "stdout",
          "text": [
            "Test Error: \n",
            " Accuracy: 76.5%\n",
            " Avg loss: 0.905154\n",
            " Precision: 0.4136\n",
            " Recall: 0.4536\n",
            " F1 Score: 0.4234\n",
            " Matthew's Correlation Coefficient: 0.6411\n",
            "EarlyStopping counter: 1 out of 10\n",
            "Train_loss: 0.252413\n"
          ]
        },
        {
          "output_type": "stream",
          "name": "stderr",
          "text": [
            "/usr/local/lib/python3.10/dist-packages/sklearn/metrics/_classification.py:1344: UndefinedMetricWarning: Precision is ill-defined and being set to 0.0 in labels with no predicted samples. Use `zero_division` parameter to control this behavior.\n",
            "  _warn_prf(average, modifier, msg_start, len(result))\n"
          ]
        },
        {
          "output_type": "stream",
          "name": "stdout",
          "text": [
            "Test Error: \n",
            " Accuracy: 77.0%\n",
            " Avg loss: 0.919951\n",
            " Precision: 0.4549\n",
            " Recall: 0.4675\n",
            " F1 Score: 0.4477\n",
            " Matthew's Correlation Coefficient: 0.6413\n",
            "EarlyStopping counter: 2 out of 10\n",
            "Train_loss: 0.103076\n"
          ]
        },
        {
          "output_type": "stream",
          "name": "stderr",
          "text": [
            "/usr/local/lib/python3.10/dist-packages/sklearn/metrics/_classification.py:1344: UndefinedMetricWarning: Precision is ill-defined and being set to 0.0 in labels with no predicted samples. Use `zero_division` parameter to control this behavior.\n",
            "  _warn_prf(average, modifier, msg_start, len(result))\n"
          ]
        },
        {
          "output_type": "stream",
          "name": "stdout",
          "text": [
            "Test Error: \n",
            " Accuracy: 77.0%\n",
            " Avg loss: 1.066642\n",
            " Precision: 0.5057\n",
            " Recall: 0.4577\n",
            " F1 Score: 0.4411\n",
            " Matthew's Correlation Coefficient: 0.6402\n",
            "EarlyStopping counter: 3 out of 10\n",
            "Train_loss: 0.041834\n"
          ]
        },
        {
          "output_type": "stream",
          "name": "stderr",
          "text": [
            "/usr/local/lib/python3.10/dist-packages/sklearn/metrics/_classification.py:1344: UndefinedMetricWarning: Precision is ill-defined and being set to 0.0 in labels with no predicted samples. Use `zero_division` parameter to control this behavior.\n",
            "  _warn_prf(average, modifier, msg_start, len(result))\n"
          ]
        },
        {
          "output_type": "stream",
          "name": "stdout",
          "text": [
            "Test Error: \n",
            " Accuracy: 77.2%\n",
            " Avg loss: 1.105081\n",
            " Precision: 0.4727\n",
            " Recall: 0.4601\n",
            " F1 Score: 0.4529\n",
            " Matthew's Correlation Coefficient: 0.6424\n",
            "EarlyStopping counter: 4 out of 10\n",
            "Train_loss: 0.090743\n"
          ]
        },
        {
          "output_type": "stream",
          "name": "stderr",
          "text": [
            "/usr/local/lib/python3.10/dist-packages/sklearn/metrics/_classification.py:1344: UndefinedMetricWarning: Precision is ill-defined and being set to 0.0 in labels with no predicted samples. Use `zero_division` parameter to control this behavior.\n",
            "  _warn_prf(average, modifier, msg_start, len(result))\n"
          ]
        },
        {
          "output_type": "stream",
          "name": "stdout",
          "text": [
            "Test Error: \n",
            " Accuracy: 77.2%\n",
            " Avg loss: 1.075099\n",
            " Precision: 0.4589\n",
            " Recall: 0.4742\n",
            " F1 Score: 0.4545\n",
            " Matthew's Correlation Coefficient: 0.6461\n",
            "EarlyStopping counter: 5 out of 10\n",
            "Train_loss: 0.028980\n"
          ]
        },
        {
          "output_type": "stream",
          "name": "stderr",
          "text": [
            "/usr/local/lib/python3.10/dist-packages/sklearn/metrics/_classification.py:1344: UndefinedMetricWarning: Recall is ill-defined and being set to 0.0 in labels with no true samples. Use `zero_division` parameter to control this behavior.\n",
            "  _warn_prf(average, modifier, msg_start, len(result))\n"
          ]
        },
        {
          "output_type": "stream",
          "name": "stdout",
          "text": [
            "Test Error: \n",
            " Accuracy: 76.8%\n",
            " Avg loss: 1.027724\n",
            " Precision: 0.4063\n",
            " Recall: 0.3836\n",
            " F1 Score: 0.3762\n",
            " Matthew's Correlation Coefficient: 0.6404\n",
            "EarlyStopping counter: 6 out of 10\n",
            "Train_loss: 0.039516\n"
          ]
        },
        {
          "output_type": "stream",
          "name": "stderr",
          "text": [
            "/usr/local/lib/python3.10/dist-packages/sklearn/metrics/_classification.py:1344: UndefinedMetricWarning: Recall is ill-defined and being set to 0.0 in labels with no true samples. Use `zero_division` parameter to control this behavior.\n",
            "  _warn_prf(average, modifier, msg_start, len(result))\n"
          ]
        },
        {
          "output_type": "stream",
          "name": "stdout",
          "text": [
            "Test Error: \n",
            " Accuracy: 76.1%\n",
            " Avg loss: 1.308543\n",
            " Precision: 0.4314\n",
            " Recall: 0.3801\n",
            " F1 Score: 0.3817\n",
            " Matthew's Correlation Coefficient: 0.6317\n",
            "EarlyStopping counter: 7 out of 10\n",
            "Train_loss: 0.012945\n"
          ]
        },
        {
          "output_type": "stream",
          "name": "stderr",
          "text": [
            "/usr/local/lib/python3.10/dist-packages/sklearn/metrics/_classification.py:1344: UndefinedMetricWarning: Recall is ill-defined and being set to 0.0 in labels with no true samples. Use `zero_division` parameter to control this behavior.\n",
            "  _warn_prf(average, modifier, msg_start, len(result))\n"
          ]
        },
        {
          "output_type": "stream",
          "name": "stdout",
          "text": [
            "Test Error: \n",
            " Accuracy: 77.6%\n",
            " Avg loss: 1.264211\n",
            " Precision: 0.5032\n",
            " Recall: 0.4204\n",
            " F1 Score: 0.4358\n",
            " Matthew's Correlation Coefficient: 0.6488\n",
            "EarlyStopping counter: 8 out of 10\n",
            "Train_loss: 0.038306\n"
          ]
        },
        {
          "output_type": "stream",
          "name": "stderr",
          "text": [
            "/usr/local/lib/python3.10/dist-packages/sklearn/metrics/_classification.py:1344: UndefinedMetricWarning: Precision is ill-defined and being set to 0.0 in labels with no predicted samples. Use `zero_division` parameter to control this behavior.\n",
            "  _warn_prf(average, modifier, msg_start, len(result))\n",
            "/usr/local/lib/python3.10/dist-packages/sklearn/metrics/_classification.py:1344: UndefinedMetricWarning: Recall is ill-defined and being set to 0.0 in labels with no true samples. Use `zero_division` parameter to control this behavior.\n",
            "  _warn_prf(average, modifier, msg_start, len(result))\n"
          ]
        },
        {
          "output_type": "stream",
          "name": "stdout",
          "text": [
            "Test Error: \n",
            " Accuracy: 78.9%\n",
            " Avg loss: 1.024866\n",
            " Precision: 0.4296\n",
            " Recall: 0.4030\n",
            " F1 Score: 0.4064\n",
            " Matthew's Correlation Coefficient: 0.6661\n",
            "EarlyStopping counter: 9 out of 10\n",
            "Train_loss: 0.037887\n"
          ]
        },
        {
          "output_type": "stream",
          "name": "stderr",
          "text": [
            "/usr/local/lib/python3.10/dist-packages/sklearn/metrics/_classification.py:1344: UndefinedMetricWarning: Recall is ill-defined and being set to 0.0 in labels with no true samples. Use `zero_division` parameter to control this behavior.\n",
            "  _warn_prf(average, modifier, msg_start, len(result))\n"
          ]
        },
        {
          "output_type": "stream",
          "name": "stdout",
          "text": [
            "Test Error: \n",
            " Accuracy: 78.9%\n",
            " Avg loss: 1.035683\n",
            " Precision: 0.4387\n",
            " Recall: 0.4218\n",
            " F1 Score: 0.4238\n",
            " Matthew's Correlation Coefficient: 0.6663\n",
            "EarlyStopping counter: 10 out of 10\n",
            "Early stopping\n",
            "Finished training for lr=0.01, layer_sizes=[512, 256, 128], dropouts=[0.5, 0.5, 0.5]. Best val accuracy: 78.90739117732983\n",
            "Train_loss: 2.280385\n"
          ]
        },
        {
          "output_type": "stream",
          "name": "stderr",
          "text": [
            "/usr/local/lib/python3.10/dist-packages/sklearn/metrics/_classification.py:1344: UndefinedMetricWarning: Precision is ill-defined and being set to 0.0 in labels with no predicted samples. Use `zero_division` parameter to control this behavior.\n",
            "  _warn_prf(average, modifier, msg_start, len(result))\n"
          ]
        },
        {
          "output_type": "stream",
          "name": "stdout",
          "text": [
            "Test Error: \n",
            " Accuracy: 76.5%\n",
            " Avg loss: 0.718845\n",
            " Precision: 0.3712\n",
            " Recall: 0.4046\n",
            " F1 Score: 0.3743\n",
            " Matthew's Correlation Coefficient: 0.6402\n",
            "Train_loss: 0.323359\n"
          ]
        },
        {
          "output_type": "stream",
          "name": "stderr",
          "text": [
            "/usr/local/lib/python3.10/dist-packages/sklearn/metrics/_classification.py:1344: UndefinedMetricWarning: Precision is ill-defined and being set to 0.0 in labels with no predicted samples. Use `zero_division` parameter to control this behavior.\n",
            "  _warn_prf(average, modifier, msg_start, len(result))\n"
          ]
        },
        {
          "output_type": "stream",
          "name": "stdout",
          "text": [
            "Test Error: \n",
            " Accuracy: 75.2%\n",
            " Avg loss: 0.936665\n",
            " Precision: 0.4153\n",
            " Recall: 0.4331\n",
            " F1 Score: 0.4110\n",
            " Matthew's Correlation Coefficient: 0.6186\n",
            "EarlyStopping counter: 1 out of 10\n",
            "Train_loss: 0.120191\n"
          ]
        },
        {
          "output_type": "stream",
          "name": "stderr",
          "text": [
            "/usr/local/lib/python3.10/dist-packages/sklearn/metrics/_classification.py:1344: UndefinedMetricWarning: Precision is ill-defined and being set to 0.0 in labels with no predicted samples. Use `zero_division` parameter to control this behavior.\n",
            "  _warn_prf(average, modifier, msg_start, len(result))\n"
          ]
        },
        {
          "output_type": "stream",
          "name": "stdout",
          "text": [
            "Test Error: \n",
            " Accuracy: 74.6%\n",
            " Avg loss: 0.977525\n",
            " Precision: 0.3947\n",
            " Recall: 0.4401\n",
            " F1 Score: 0.4076\n",
            " Matthew's Correlation Coefficient: 0.6092\n",
            "EarlyStopping counter: 2 out of 10\n",
            "Train_loss: 0.179538\n"
          ]
        },
        {
          "output_type": "stream",
          "name": "stderr",
          "text": [
            "/usr/local/lib/python3.10/dist-packages/sklearn/metrics/_classification.py:1344: UndefinedMetricWarning: Precision is ill-defined and being set to 0.0 in labels with no predicted samples. Use `zero_division` parameter to control this behavior.\n",
            "  _warn_prf(average, modifier, msg_start, len(result))\n"
          ]
        },
        {
          "output_type": "stream",
          "name": "stdout",
          "text": [
            "Test Error: \n",
            " Accuracy: 75.7%\n",
            " Avg loss: 1.083219\n",
            " Precision: 0.5698\n",
            " Recall: 0.4518\n",
            " F1 Score: 0.4262\n",
            " Matthew's Correlation Coefficient: 0.6262\n",
            "EarlyStopping counter: 3 out of 10\n",
            "Train_loss: 0.067353\n",
            "Test Error: \n",
            " Accuracy: 74.0%\n",
            " Avg loss: 1.216380\n",
            " Precision: 0.4524\n",
            " Recall: 0.4523\n",
            " F1 Score: 0.4338\n",
            " Matthew's Correlation Coefficient: 0.6071\n",
            "EarlyStopping counter: 4 out of 10\n",
            "Train_loss: 0.035989\n"
          ]
        },
        {
          "output_type": "stream",
          "name": "stderr",
          "text": [
            "/usr/local/lib/python3.10/dist-packages/sklearn/metrics/_classification.py:1344: UndefinedMetricWarning: Recall is ill-defined and being set to 0.0 in labels with no true samples. Use `zero_division` parameter to control this behavior.\n",
            "  _warn_prf(average, modifier, msg_start, len(result))\n"
          ]
        },
        {
          "output_type": "stream",
          "name": "stdout",
          "text": [
            "Test Error: \n",
            " Accuracy: 77.1%\n",
            " Avg loss: 1.229402\n",
            " Precision: 0.6073\n",
            " Recall: 0.4276\n",
            " F1 Score: 0.4474\n",
            " Matthew's Correlation Coefficient: 0.6430\n",
            "Train_loss: 0.011239\n"
          ]
        },
        {
          "output_type": "stream",
          "name": "stderr",
          "text": [
            "/usr/local/lib/python3.10/dist-packages/sklearn/metrics/_classification.py:1344: UndefinedMetricWarning: Recall is ill-defined and being set to 0.0 in labels with no true samples. Use `zero_division` parameter to control this behavior.\n",
            "  _warn_prf(average, modifier, msg_start, len(result))\n"
          ]
        },
        {
          "output_type": "stream",
          "name": "stdout",
          "text": [
            "Test Error: \n",
            " Accuracy: 78.5%\n",
            " Avg loss: 1.088588\n",
            " Precision: 0.4651\n",
            " Recall: 0.4319\n",
            " F1 Score: 0.4279\n",
            " Matthew's Correlation Coefficient: 0.6586\n",
            "Train_loss: 0.063154\n"
          ]
        },
        {
          "output_type": "stream",
          "name": "stderr",
          "text": [
            "/usr/local/lib/python3.10/dist-packages/sklearn/metrics/_classification.py:1344: UndefinedMetricWarning: Recall is ill-defined and being set to 0.0 in labels with no true samples. Use `zero_division` parameter to control this behavior.\n",
            "  _warn_prf(average, modifier, msg_start, len(result))\n"
          ]
        },
        {
          "output_type": "stream",
          "name": "stdout",
          "text": [
            "Test Error: \n",
            " Accuracy: 77.8%\n",
            " Avg loss: 1.242558\n",
            " Precision: 0.4264\n",
            " Recall: 0.3858\n",
            " F1 Score: 0.3835\n",
            " Matthew's Correlation Coefficient: 0.6517\n",
            "EarlyStopping counter: 1 out of 10\n",
            "Train_loss: 0.040641\n"
          ]
        },
        {
          "output_type": "stream",
          "name": "stderr",
          "text": [
            "/usr/local/lib/python3.10/dist-packages/sklearn/metrics/_classification.py:1344: UndefinedMetricWarning: Recall is ill-defined and being set to 0.0 in labels with no true samples. Use `zero_division` parameter to control this behavior.\n",
            "  _warn_prf(average, modifier, msg_start, len(result))\n"
          ]
        },
        {
          "output_type": "stream",
          "name": "stdout",
          "text": [
            "Test Error: \n",
            " Accuracy: 75.9%\n",
            " Avg loss: 1.440455\n",
            " Precision: 0.4526\n",
            " Recall: 0.3752\n",
            " F1 Score: 0.3699\n",
            " Matthew's Correlation Coefficient: 0.6300\n",
            "EarlyStopping counter: 2 out of 10\n",
            "Train_loss: 0.000894\n"
          ]
        },
        {
          "output_type": "stream",
          "name": "stderr",
          "text": [
            "/usr/local/lib/python3.10/dist-packages/sklearn/metrics/_classification.py:1344: UndefinedMetricWarning: Recall is ill-defined and being set to 0.0 in labels with no true samples. Use `zero_division` parameter to control this behavior.\n",
            "  _warn_prf(average, modifier, msg_start, len(result))\n"
          ]
        },
        {
          "output_type": "stream",
          "name": "stdout",
          "text": [
            "Test Error: \n",
            " Accuracy: 76.9%\n",
            " Avg loss: 1.265971\n",
            " Precision: 0.5175\n",
            " Recall: 0.4140\n",
            " F1 Score: 0.4267\n",
            " Matthew's Correlation Coefficient: 0.6340\n",
            "EarlyStopping counter: 3 out of 10\n",
            "Train_loss: 0.017018\n"
          ]
        },
        {
          "output_type": "stream",
          "name": "stderr",
          "text": [
            "/usr/local/lib/python3.10/dist-packages/sklearn/metrics/_classification.py:1344: UndefinedMetricWarning: Recall is ill-defined and being set to 0.0 in labels with no true samples. Use `zero_division` parameter to control this behavior.\n",
            "  _warn_prf(average, modifier, msg_start, len(result))\n"
          ]
        },
        {
          "output_type": "stream",
          "name": "stdout",
          "text": [
            "Test Error: \n",
            " Accuracy: 77.0%\n",
            " Avg loss: 1.271022\n",
            " Precision: 0.4540\n",
            " Recall: 0.3824\n",
            " F1 Score: 0.3796\n",
            " Matthew's Correlation Coefficient: 0.6404\n",
            "EarlyStopping counter: 4 out of 10\n",
            "Train_loss: 0.015839\n"
          ]
        },
        {
          "output_type": "stream",
          "name": "stderr",
          "text": [
            "/usr/local/lib/python3.10/dist-packages/sklearn/metrics/_classification.py:1344: UndefinedMetricWarning: Recall is ill-defined and being set to 0.0 in labels with no true samples. Use `zero_division` parameter to control this behavior.\n",
            "  _warn_prf(average, modifier, msg_start, len(result))\n"
          ]
        },
        {
          "output_type": "stream",
          "name": "stdout",
          "text": [
            "Test Error: \n",
            " Accuracy: 77.0%\n",
            " Avg loss: 1.283959\n",
            " Precision: 0.4912\n",
            " Recall: 0.4010\n",
            " F1 Score: 0.4101\n",
            " Matthew's Correlation Coefficient: 0.6341\n",
            "EarlyStopping counter: 5 out of 10\n",
            "Train_loss: 0.006926\n"
          ]
        },
        {
          "output_type": "stream",
          "name": "stderr",
          "text": [
            "/usr/local/lib/python3.10/dist-packages/sklearn/metrics/_classification.py:1344: UndefinedMetricWarning: Precision is ill-defined and being set to 0.0 in labels with no predicted samples. Use `zero_division` parameter to control this behavior.\n",
            "  _warn_prf(average, modifier, msg_start, len(result))\n"
          ]
        },
        {
          "output_type": "stream",
          "name": "stdout",
          "text": [
            "Test Error: \n",
            " Accuracy: 73.8%\n",
            " Avg loss: 1.493638\n",
            " Precision: 0.4484\n",
            " Recall: 0.4218\n",
            " F1 Score: 0.4072\n",
            " Matthew's Correlation Coefficient: 0.5991\n",
            "EarlyStopping counter: 6 out of 10\n",
            "Train_loss: 0.016532\n"
          ]
        },
        {
          "output_type": "stream",
          "name": "stderr",
          "text": [
            "/usr/local/lib/python3.10/dist-packages/sklearn/metrics/_classification.py:1344: UndefinedMetricWarning: Recall is ill-defined and being set to 0.0 in labels with no true samples. Use `zero_division` parameter to control this behavior.\n",
            "  _warn_prf(average, modifier, msg_start, len(result))\n"
          ]
        },
        {
          "output_type": "stream",
          "name": "stdout",
          "text": [
            "Test Error: \n",
            " Accuracy: 75.2%\n",
            " Avg loss: 1.314823\n",
            " Precision: 0.5046\n",
            " Recall: 0.3855\n",
            " F1 Score: 0.3730\n",
            " Matthew's Correlation Coefficient: 0.6173\n",
            "EarlyStopping counter: 7 out of 10\n",
            "Train_loss: 0.047735\n"
          ]
        },
        {
          "output_type": "stream",
          "name": "stderr",
          "text": [
            "/usr/local/lib/python3.10/dist-packages/sklearn/metrics/_classification.py:1344: UndefinedMetricWarning: Recall is ill-defined and being set to 0.0 in labels with no true samples. Use `zero_division` parameter to control this behavior.\n",
            "  _warn_prf(average, modifier, msg_start, len(result))\n"
          ]
        },
        {
          "output_type": "stream",
          "name": "stdout",
          "text": [
            "Test Error: \n",
            " Accuracy: 76.0%\n",
            " Avg loss: 1.315658\n",
            " Precision: 0.5055\n",
            " Recall: 0.3717\n",
            " F1 Score: 0.3670\n",
            " Matthew's Correlation Coefficient: 0.6255\n",
            "EarlyStopping counter: 8 out of 10\n",
            "Train_loss: 0.046342\n"
          ]
        },
        {
          "output_type": "stream",
          "name": "stderr",
          "text": [
            "/usr/local/lib/python3.10/dist-packages/sklearn/metrics/_classification.py:1344: UndefinedMetricWarning: Recall is ill-defined and being set to 0.0 in labels with no true samples. Use `zero_division` parameter to control this behavior.\n",
            "  _warn_prf(average, modifier, msg_start, len(result))\n"
          ]
        },
        {
          "output_type": "stream",
          "name": "stdout",
          "text": [
            "Test Error: \n",
            " Accuracy: 74.8%\n",
            " Avg loss: 1.352941\n",
            " Precision: 0.5565\n",
            " Recall: 0.4027\n",
            " F1 Score: 0.4051\n",
            " Matthew's Correlation Coefficient: 0.6083\n",
            "EarlyStopping counter: 9 out of 10\n",
            "Train_loss: 0.011576\n",
            "Test Error: \n",
            " Accuracy: 76.2%\n",
            " Avg loss: 1.371331\n",
            " Precision: 0.5567\n",
            " Recall: 0.4830\n",
            " F1 Score: 0.4862\n",
            " Matthew's Correlation Coefficient: 0.6267\n",
            "EarlyStopping counter: 10 out of 10\n",
            "Early stopping\n",
            "Finished training for lr=0.01, layer_sizes=[512, 256, 128], dropouts=[0.3, 0.3, 0.3]. Best val accuracy: 78.90739117732983\n",
            "Train_loss: 1.948274\n"
          ]
        },
        {
          "output_type": "stream",
          "name": "stderr",
          "text": [
            "/usr/local/lib/python3.10/dist-packages/sklearn/metrics/_classification.py:1344: UndefinedMetricWarning: Precision is ill-defined and being set to 0.0 in labels with no predicted samples. Use `zero_division` parameter to control this behavior.\n",
            "  _warn_prf(average, modifier, msg_start, len(result))\n"
          ]
        },
        {
          "output_type": "stream",
          "name": "stdout",
          "text": [
            "Test Error: \n",
            " Accuracy: 75.6%\n",
            " Avg loss: 0.738359\n",
            " Precision: 0.4229\n",
            " Recall: 0.4039\n",
            " F1 Score: 0.3802\n",
            " Matthew's Correlation Coefficient: 0.6226\n",
            "Train_loss: 0.237253\n"
          ]
        },
        {
          "output_type": "stream",
          "name": "stderr",
          "text": [
            "/usr/local/lib/python3.10/dist-packages/sklearn/metrics/_classification.py:1344: UndefinedMetricWarning: Precision is ill-defined and being set to 0.0 in labels with no predicted samples. Use `zero_division` parameter to control this behavior.\n",
            "  _warn_prf(average, modifier, msg_start, len(result))\n"
          ]
        },
        {
          "output_type": "stream",
          "name": "stdout",
          "text": [
            "Test Error: \n",
            " Accuracy: 76.8%\n",
            " Avg loss: 0.769562\n",
            " Precision: 0.4239\n",
            " Recall: 0.4642\n",
            " F1 Score: 0.4356\n",
            " Matthew's Correlation Coefficient: 0.6351\n",
            "Train_loss: 0.050472\n"
          ]
        },
        {
          "output_type": "stream",
          "name": "stderr",
          "text": [
            "/usr/local/lib/python3.10/dist-packages/sklearn/metrics/_classification.py:1344: UndefinedMetricWarning: Recall is ill-defined and being set to 0.0 in labels with no true samples. Use `zero_division` parameter to control this behavior.\n",
            "  _warn_prf(average, modifier, msg_start, len(result))\n"
          ]
        },
        {
          "output_type": "stream",
          "name": "stdout",
          "text": [
            "Test Error: \n",
            " Accuracy: 73.6%\n",
            " Avg loss: 1.177643\n",
            " Precision: 0.3852\n",
            " Recall: 0.4221\n",
            " F1 Score: 0.3808\n",
            " Matthew's Correlation Coefficient: 0.5965\n",
            "EarlyStopping counter: 1 out of 10\n",
            "Train_loss: 0.048857\n"
          ]
        },
        {
          "output_type": "stream",
          "name": "stderr",
          "text": [
            "/usr/local/lib/python3.10/dist-packages/sklearn/metrics/_classification.py:1344: UndefinedMetricWarning: Recall is ill-defined and being set to 0.0 in labels with no true samples. Use `zero_division` parameter to control this behavior.\n",
            "  _warn_prf(average, modifier, msg_start, len(result))\n"
          ]
        },
        {
          "output_type": "stream",
          "name": "stdout",
          "text": [
            "Test Error: \n",
            " Accuracy: 75.4%\n",
            " Avg loss: 1.134832\n",
            " Precision: 0.3967\n",
            " Recall: 0.4309\n",
            " F1 Score: 0.4035\n",
            " Matthew's Correlation Coefficient: 0.6164\n",
            "EarlyStopping counter: 2 out of 10\n",
            "Train_loss: 0.080257\n"
          ]
        },
        {
          "output_type": "stream",
          "name": "stderr",
          "text": [
            "/usr/local/lib/python3.10/dist-packages/sklearn/metrics/_classification.py:1344: UndefinedMetricWarning: Recall is ill-defined and being set to 0.0 in labels with no true samples. Use `zero_division` parameter to control this behavior.\n",
            "  _warn_prf(average, modifier, msg_start, len(result))\n"
          ]
        },
        {
          "output_type": "stream",
          "name": "stdout",
          "text": [
            "Test Error: \n",
            " Accuracy: 72.9%\n",
            " Avg loss: 1.602772\n",
            " Precision: 0.4792\n",
            " Recall: 0.3678\n",
            " F1 Score: 0.3491\n",
            " Matthew's Correlation Coefficient: 0.5870\n",
            "EarlyStopping counter: 3 out of 10\n",
            "Train_loss: 0.067909\n"
          ]
        },
        {
          "output_type": "stream",
          "name": "stderr",
          "text": [
            "/usr/local/lib/python3.10/dist-packages/sklearn/metrics/_classification.py:1344: UndefinedMetricWarning: Recall is ill-defined and being set to 0.0 in labels with no true samples. Use `zero_division` parameter to control this behavior.\n",
            "  _warn_prf(average, modifier, msg_start, len(result))\n"
          ]
        },
        {
          "output_type": "stream",
          "name": "stdout",
          "text": [
            "Test Error: \n",
            " Accuracy: 76.1%\n",
            " Avg loss: 1.108119\n",
            " Precision: 0.4021\n",
            " Recall: 0.3876\n",
            " F1 Score: 0.3831\n",
            " Matthew's Correlation Coefficient: 0.6291\n",
            "EarlyStopping counter: 4 out of 10\n",
            "Train_loss: 0.075370\n"
          ]
        },
        {
          "output_type": "stream",
          "name": "stderr",
          "text": [
            "/usr/local/lib/python3.10/dist-packages/sklearn/metrics/_classification.py:1344: UndefinedMetricWarning: Recall is ill-defined and being set to 0.0 in labels with no true samples. Use `zero_division` parameter to control this behavior.\n",
            "  _warn_prf(average, modifier, msg_start, len(result))\n"
          ]
        },
        {
          "output_type": "stream",
          "name": "stdout",
          "text": [
            "Test Error: \n",
            " Accuracy: 74.3%\n",
            " Avg loss: 1.375910\n",
            " Precision: 0.3838\n",
            " Recall: 0.3971\n",
            " F1 Score: 0.3739\n",
            " Matthew's Correlation Coefficient: 0.6104\n",
            "EarlyStopping counter: 5 out of 10\n",
            "Train_loss: 0.017655\n"
          ]
        },
        {
          "output_type": "stream",
          "name": "stderr",
          "text": [
            "/usr/local/lib/python3.10/dist-packages/sklearn/metrics/_classification.py:1344: UndefinedMetricWarning: Precision is ill-defined and being set to 0.0 in labels with no predicted samples. Use `zero_division` parameter to control this behavior.\n",
            "  _warn_prf(average, modifier, msg_start, len(result))\n",
            "/usr/local/lib/python3.10/dist-packages/sklearn/metrics/_classification.py:1344: UndefinedMetricWarning: Recall is ill-defined and being set to 0.0 in labels with no true samples. Use `zero_division` parameter to control this behavior.\n",
            "  _warn_prf(average, modifier, msg_start, len(result))\n"
          ]
        },
        {
          "output_type": "stream",
          "name": "stdout",
          "text": [
            "Test Error: \n",
            " Accuracy: 72.5%\n",
            " Avg loss: 1.348754\n",
            " Precision: 0.3522\n",
            " Recall: 0.3935\n",
            " F1 Score: 0.3502\n",
            " Matthew's Correlation Coefficient: 0.5955\n",
            "EarlyStopping counter: 6 out of 10\n",
            "Train_loss: 0.006323\n"
          ]
        },
        {
          "output_type": "stream",
          "name": "stderr",
          "text": [
            "/usr/local/lib/python3.10/dist-packages/sklearn/metrics/_classification.py:1344: UndefinedMetricWarning: Recall is ill-defined and being set to 0.0 in labels with no true samples. Use `zero_division` parameter to control this behavior.\n",
            "  _warn_prf(average, modifier, msg_start, len(result))\n"
          ]
        },
        {
          "output_type": "stream",
          "name": "stdout",
          "text": [
            "Test Error: \n",
            " Accuracy: 79.1%\n",
            " Avg loss: 1.075469\n",
            " Precision: 0.4275\n",
            " Recall: 0.3949\n",
            " F1 Score: 0.3919\n",
            " Matthew's Correlation Coefficient: 0.6680\n",
            "Train_loss: 0.000356\n"
          ]
        },
        {
          "output_type": "stream",
          "name": "stderr",
          "text": [
            "/usr/local/lib/python3.10/dist-packages/sklearn/metrics/_classification.py:1344: UndefinedMetricWarning: Recall is ill-defined and being set to 0.0 in labels with no true samples. Use `zero_division` parameter to control this behavior.\n",
            "  _warn_prf(average, modifier, msg_start, len(result))\n"
          ]
        },
        {
          "output_type": "stream",
          "name": "stdout",
          "text": [
            "Test Error: \n",
            " Accuracy: 78.4%\n",
            " Avg loss: 1.118534\n",
            " Precision: 0.4894\n",
            " Recall: 0.4072\n",
            " F1 Score: 0.4104\n",
            " Matthew's Correlation Coefficient: 0.6613\n",
            "EarlyStopping counter: 1 out of 10\n",
            "Train_loss: 0.003250\n"
          ]
        },
        {
          "output_type": "stream",
          "name": "stderr",
          "text": [
            "/usr/local/lib/python3.10/dist-packages/sklearn/metrics/_classification.py:1344: UndefinedMetricWarning: Precision is ill-defined and being set to 0.0 in labels with no predicted samples. Use `zero_division` parameter to control this behavior.\n",
            "  _warn_prf(average, modifier, msg_start, len(result))\n",
            "/usr/local/lib/python3.10/dist-packages/sklearn/metrics/_classification.py:1344: UndefinedMetricWarning: Recall is ill-defined and being set to 0.0 in labels with no true samples. Use `zero_division` parameter to control this behavior.\n",
            "  _warn_prf(average, modifier, msg_start, len(result))\n"
          ]
        },
        {
          "output_type": "stream",
          "name": "stdout",
          "text": [
            "Test Error: \n",
            " Accuracy: 80.0%\n",
            " Avg loss: 1.104509\n",
            " Precision: 0.4595\n",
            " Recall: 0.4011\n",
            " F1 Score: 0.4115\n",
            " Matthew's Correlation Coefficient: 0.6804\n",
            "Train_loss: 0.002040\n"
          ]
        },
        {
          "output_type": "stream",
          "name": "stderr",
          "text": [
            "/usr/local/lib/python3.10/dist-packages/sklearn/metrics/_classification.py:1344: UndefinedMetricWarning: Precision is ill-defined and being set to 0.0 in labels with no predicted samples. Use `zero_division` parameter to control this behavior.\n",
            "  _warn_prf(average, modifier, msg_start, len(result))\n",
            "/usr/local/lib/python3.10/dist-packages/sklearn/metrics/_classification.py:1344: UndefinedMetricWarning: Recall is ill-defined and being set to 0.0 in labels with no true samples. Use `zero_division` parameter to control this behavior.\n",
            "  _warn_prf(average, modifier, msg_start, len(result))\n"
          ]
        },
        {
          "output_type": "stream",
          "name": "stdout",
          "text": [
            "Test Error: \n",
            " Accuracy: 78.7%\n",
            " Avg loss: 1.311546\n",
            " Precision: 0.5139\n",
            " Recall: 0.3977\n",
            " F1 Score: 0.4019\n",
            " Matthew's Correlation Coefficient: 0.6650\n",
            "EarlyStopping counter: 1 out of 10\n",
            "Train_loss: 0.015274\n"
          ]
        },
        {
          "output_type": "stream",
          "name": "stderr",
          "text": [
            "/usr/local/lib/python3.10/dist-packages/sklearn/metrics/_classification.py:1344: UndefinedMetricWarning: Recall is ill-defined and being set to 0.0 in labels with no true samples. Use `zero_division` parameter to control this behavior.\n",
            "  _warn_prf(average, modifier, msg_start, len(result))\n"
          ]
        },
        {
          "output_type": "stream",
          "name": "stdout",
          "text": [
            "Test Error: \n",
            " Accuracy: 77.3%\n",
            " Avg loss: 1.351598\n",
            " Precision: 0.5619\n",
            " Recall: 0.4077\n",
            " F1 Score: 0.4283\n",
            " Matthew's Correlation Coefficient: 0.6414\n",
            "EarlyStopping counter: 2 out of 10\n",
            "Train_loss: 0.011698\n"
          ]
        },
        {
          "output_type": "stream",
          "name": "stderr",
          "text": [
            "/usr/local/lib/python3.10/dist-packages/sklearn/metrics/_classification.py:1344: UndefinedMetricWarning: Precision is ill-defined and being set to 0.0 in labels with no predicted samples. Use `zero_division` parameter to control this behavior.\n",
            "  _warn_prf(average, modifier, msg_start, len(result))\n",
            "/usr/local/lib/python3.10/dist-packages/sklearn/metrics/_classification.py:1344: UndefinedMetricWarning: Recall is ill-defined and being set to 0.0 in labels with no true samples. Use `zero_division` parameter to control this behavior.\n",
            "  _warn_prf(average, modifier, msg_start, len(result))\n"
          ]
        },
        {
          "output_type": "stream",
          "name": "stdout",
          "text": [
            "Test Error: \n",
            " Accuracy: 79.0%\n",
            " Avg loss: 1.327053\n",
            " Precision: 0.4560\n",
            " Recall: 0.3962\n",
            " F1 Score: 0.4116\n",
            " Matthew's Correlation Coefficient: 0.6597\n",
            "EarlyStopping counter: 3 out of 10\n",
            "Train_loss: 0.003970\n"
          ]
        },
        {
          "output_type": "stream",
          "name": "stderr",
          "text": [
            "/usr/local/lib/python3.10/dist-packages/sklearn/metrics/_classification.py:1344: UndefinedMetricWarning: Precision is ill-defined and being set to 0.0 in labels with no predicted samples. Use `zero_division` parameter to control this behavior.\n",
            "  _warn_prf(average, modifier, msg_start, len(result))\n",
            "/usr/local/lib/python3.10/dist-packages/sklearn/metrics/_classification.py:1344: UndefinedMetricWarning: Recall is ill-defined and being set to 0.0 in labels with no true samples. Use `zero_division` parameter to control this behavior.\n",
            "  _warn_prf(average, modifier, msg_start, len(result))\n"
          ]
        },
        {
          "output_type": "stream",
          "name": "stdout",
          "text": [
            "Test Error: \n",
            " Accuracy: 77.9%\n",
            " Avg loss: 1.444376\n",
            " Precision: 0.4464\n",
            " Recall: 0.3945\n",
            " F1 Score: 0.3869\n",
            " Matthew's Correlation Coefficient: 0.6533\n",
            "EarlyStopping counter: 4 out of 10\n",
            "Train_loss: 0.002177\n"
          ]
        },
        {
          "output_type": "stream",
          "name": "stderr",
          "text": [
            "/usr/local/lib/python3.10/dist-packages/sklearn/metrics/_classification.py:1344: UndefinedMetricWarning: Recall is ill-defined and being set to 0.0 in labels with no true samples. Use `zero_division` parameter to control this behavior.\n",
            "  _warn_prf(average, modifier, msg_start, len(result))\n"
          ]
        },
        {
          "output_type": "stream",
          "name": "stdout",
          "text": [
            "Test Error: \n",
            " Accuracy: 77.1%\n",
            " Avg loss: 1.338319\n",
            " Precision: 0.4372\n",
            " Recall: 0.4432\n",
            " F1 Score: 0.4315\n",
            " Matthew's Correlation Coefficient: 0.6436\n",
            "EarlyStopping counter: 5 out of 10\n",
            "Train_loss: 0.000760\n"
          ]
        },
        {
          "output_type": "stream",
          "name": "stderr",
          "text": [
            "/usr/local/lib/python3.10/dist-packages/sklearn/metrics/_classification.py:1344: UndefinedMetricWarning: Recall is ill-defined and being set to 0.0 in labels with no true samples. Use `zero_division` parameter to control this behavior.\n",
            "  _warn_prf(average, modifier, msg_start, len(result))\n"
          ]
        },
        {
          "output_type": "stream",
          "name": "stdout",
          "text": [
            "Test Error: \n",
            " Accuracy: 77.3%\n",
            " Avg loss: 1.496931\n",
            " Precision: 0.5108\n",
            " Recall: 0.4323\n",
            " F1 Score: 0.4423\n",
            " Matthew's Correlation Coefficient: 0.6434\n",
            "EarlyStopping counter: 6 out of 10\n",
            "Train_loss: 0.001177\n"
          ]
        },
        {
          "output_type": "stream",
          "name": "stderr",
          "text": [
            "/usr/local/lib/python3.10/dist-packages/sklearn/metrics/_classification.py:1344: UndefinedMetricWarning: Precision is ill-defined and being set to 0.0 in labels with no predicted samples. Use `zero_division` parameter to control this behavior.\n",
            "  _warn_prf(average, modifier, msg_start, len(result))\n",
            "/usr/local/lib/python3.10/dist-packages/sklearn/metrics/_classification.py:1344: UndefinedMetricWarning: Recall is ill-defined and being set to 0.0 in labels with no true samples. Use `zero_division` parameter to control this behavior.\n",
            "  _warn_prf(average, modifier, msg_start, len(result))\n"
          ]
        },
        {
          "output_type": "stream",
          "name": "stdout",
          "text": [
            "Test Error: \n",
            " Accuracy: 77.0%\n",
            " Avg loss: 1.349770\n",
            " Precision: 0.4212\n",
            " Recall: 0.3910\n",
            " F1 Score: 0.3848\n",
            " Matthew's Correlation Coefficient: 0.6425\n",
            "EarlyStopping counter: 7 out of 10\n",
            "Train_loss: 0.031359\n"
          ]
        },
        {
          "output_type": "stream",
          "name": "stderr",
          "text": [
            "/usr/local/lib/python3.10/dist-packages/sklearn/metrics/_classification.py:1344: UndefinedMetricWarning: Precision is ill-defined and being set to 0.0 in labels with no predicted samples. Use `zero_division` parameter to control this behavior.\n",
            "  _warn_prf(average, modifier, msg_start, len(result))\n",
            "/usr/local/lib/python3.10/dist-packages/sklearn/metrics/_classification.py:1344: UndefinedMetricWarning: Recall is ill-defined and being set to 0.0 in labels with no true samples. Use `zero_division` parameter to control this behavior.\n",
            "  _warn_prf(average, modifier, msg_start, len(result))\n"
          ]
        },
        {
          "output_type": "stream",
          "name": "stdout",
          "text": [
            "Test Error: \n",
            " Accuracy: 77.8%\n",
            " Avg loss: 1.403519\n",
            " Precision: 0.4645\n",
            " Recall: 0.3937\n",
            " F1 Score: 0.3906\n",
            " Matthew's Correlation Coefficient: 0.6540\n",
            "EarlyStopping counter: 8 out of 10\n",
            "Train_loss: 0.041129\n"
          ]
        },
        {
          "output_type": "stream",
          "name": "stderr",
          "text": [
            "/usr/local/lib/python3.10/dist-packages/sklearn/metrics/_classification.py:1344: UndefinedMetricWarning: Precision is ill-defined and being set to 0.0 in labels with no predicted samples. Use `zero_division` parameter to control this behavior.\n",
            "  _warn_prf(average, modifier, msg_start, len(result))\n",
            "/usr/local/lib/python3.10/dist-packages/sklearn/metrics/_classification.py:1344: UndefinedMetricWarning: Recall is ill-defined and being set to 0.0 in labels with no true samples. Use `zero_division` parameter to control this behavior.\n",
            "  _warn_prf(average, modifier, msg_start, len(result))\n"
          ]
        },
        {
          "output_type": "stream",
          "name": "stdout",
          "text": [
            "Test Error: \n",
            " Accuracy: 78.6%\n",
            " Avg loss: 1.469997\n",
            " Precision: 0.5235\n",
            " Recall: 0.3962\n",
            " F1 Score: 0.3922\n",
            " Matthew's Correlation Coefficient: 0.6622\n",
            "EarlyStopping counter: 9 out of 10\n",
            "Train_loss: 0.005207\n"
          ]
        },
        {
          "output_type": "stream",
          "name": "stderr",
          "text": [
            "/usr/local/lib/python3.10/dist-packages/sklearn/metrics/_classification.py:1344: UndefinedMetricWarning: Precision is ill-defined and being set to 0.0 in labels with no predicted samples. Use `zero_division` parameter to control this behavior.\n",
            "  _warn_prf(average, modifier, msg_start, len(result))\n",
            "/usr/local/lib/python3.10/dist-packages/sklearn/metrics/_classification.py:1344: UndefinedMetricWarning: Recall is ill-defined and being set to 0.0 in labels with no true samples. Use `zero_division` parameter to control this behavior.\n",
            "  _warn_prf(average, modifier, msg_start, len(result))\n"
          ]
        },
        {
          "output_type": "stream",
          "name": "stdout",
          "text": [
            "Test Error: \n",
            " Accuracy: 78.9%\n",
            " Avg loss: 1.459068\n",
            " Precision: 0.5357\n",
            " Recall: 0.3943\n",
            " F1 Score: 0.4019\n",
            " Matthew's Correlation Coefficient: 0.6660\n",
            "EarlyStopping counter: 10 out of 10\n",
            "Early stopping\n",
            "Finished training for lr=0.01, layer_sizes=[1024, 512, 256], dropouts=[0.1, 0.1, 0.1]. Best val accuracy: 78.90739117732983\n",
            "Train_loss: 1.993177\n"
          ]
        },
        {
          "output_type": "stream",
          "name": "stderr",
          "text": [
            "/usr/local/lib/python3.10/dist-packages/sklearn/metrics/_classification.py:1344: UndefinedMetricWarning: Precision is ill-defined and being set to 0.0 in labels with no predicted samples. Use `zero_division` parameter to control this behavior.\n",
            "  _warn_prf(average, modifier, msg_start, len(result))\n"
          ]
        },
        {
          "output_type": "stream",
          "name": "stdout",
          "text": [
            "Test Error: \n",
            " Accuracy: 78.8%\n",
            " Avg loss: 0.625754\n",
            " Precision: 0.4838\n",
            " Recall: 0.4420\n",
            " F1 Score: 0.4387\n",
            " Matthew's Correlation Coefficient: 0.6685\n",
            "Train_loss: 0.336834\n"
          ]
        },
        {
          "output_type": "stream",
          "name": "stderr",
          "text": [
            "/usr/local/lib/python3.10/dist-packages/sklearn/metrics/_classification.py:1344: UndefinedMetricWarning: Precision is ill-defined and being set to 0.0 in labels with no predicted samples. Use `zero_division` parameter to control this behavior.\n",
            "  _warn_prf(average, modifier, msg_start, len(result))\n"
          ]
        },
        {
          "output_type": "stream",
          "name": "stdout",
          "text": [
            "Test Error: \n",
            " Accuracy: 74.8%\n",
            " Avg loss: 0.787286\n",
            " Precision: 0.4107\n",
            " Recall: 0.4571\n",
            " F1 Score: 0.4235\n",
            " Matthew's Correlation Coefficient: 0.6159\n",
            "EarlyStopping counter: 1 out of 10\n",
            "Train_loss: 0.107840\n"
          ]
        },
        {
          "output_type": "stream",
          "name": "stderr",
          "text": [
            "/usr/local/lib/python3.10/dist-packages/sklearn/metrics/_classification.py:1344: UndefinedMetricWarning: Precision is ill-defined and being set to 0.0 in labels with no predicted samples. Use `zero_division` parameter to control this behavior.\n",
            "  _warn_prf(average, modifier, msg_start, len(result))\n"
          ]
        },
        {
          "output_type": "stream",
          "name": "stdout",
          "text": [
            "Test Error: \n",
            " Accuracy: 76.1%\n",
            " Avg loss: 0.954318\n",
            " Precision: 0.4412\n",
            " Recall: 0.4608\n",
            " F1 Score: 0.4364\n",
            " Matthew's Correlation Coefficient: 0.6307\n",
            "EarlyStopping counter: 2 out of 10\n",
            "Train_loss: 0.084013\n"
          ]
        },
        {
          "output_type": "stream",
          "name": "stderr",
          "text": [
            "/usr/local/lib/python3.10/dist-packages/sklearn/metrics/_classification.py:1344: UndefinedMetricWarning: Precision is ill-defined and being set to 0.0 in labels with no predicted samples. Use `zero_division` parameter to control this behavior.\n",
            "  _warn_prf(average, modifier, msg_start, len(result))\n",
            "/usr/local/lib/python3.10/dist-packages/sklearn/metrics/_classification.py:1344: UndefinedMetricWarning: Recall is ill-defined and being set to 0.0 in labels with no true samples. Use `zero_division` parameter to control this behavior.\n",
            "  _warn_prf(average, modifier, msg_start, len(result))\n"
          ]
        },
        {
          "output_type": "stream",
          "name": "stdout",
          "text": [
            "Test Error: \n",
            " Accuracy: 76.3%\n",
            " Avg loss: 1.026900\n",
            " Precision: 0.4386\n",
            " Recall: 0.3903\n",
            " F1 Score: 0.3773\n",
            " Matthew's Correlation Coefficient: 0.6322\n",
            "EarlyStopping counter: 3 out of 10\n",
            "Train_loss: 0.084778\n"
          ]
        },
        {
          "output_type": "stream",
          "name": "stderr",
          "text": [
            "/usr/local/lib/python3.10/dist-packages/sklearn/metrics/_classification.py:1344: UndefinedMetricWarning: Precision is ill-defined and being set to 0.0 in labels with no predicted samples. Use `zero_division` parameter to control this behavior.\n",
            "  _warn_prf(average, modifier, msg_start, len(result))\n"
          ]
        },
        {
          "output_type": "stream",
          "name": "stdout",
          "text": [
            "Test Error: \n",
            " Accuracy: 77.2%\n",
            " Avg loss: 1.027228\n",
            " Precision: 0.5150\n",
            " Recall: 0.4616\n",
            " F1 Score: 0.4503\n",
            " Matthew's Correlation Coefficient: 0.6418\n",
            "EarlyStopping counter: 4 out of 10\n",
            "Train_loss: 0.049590\n",
            "Test Error: \n",
            " Accuracy: 80.0%\n",
            " Avg loss: 0.953222\n",
            " Precision: 0.4929\n",
            " Recall: 0.4669\n",
            " F1 Score: 0.4628\n",
            " Matthew's Correlation Coefficient: 0.6833\n",
            "Train_loss: 0.095751\n",
            "Test Error: \n",
            " Accuracy: 79.6%\n",
            " Avg loss: 0.984932\n",
            " Precision: 0.6201\n",
            " Recall: 0.4653\n",
            " F1 Score: 0.4620\n",
            " Matthew's Correlation Coefficient: 0.6791\n",
            "EarlyStopping counter: 1 out of 10\n",
            "Train_loss: 0.020809\n",
            "Test Error: \n",
            " Accuracy: 78.6%\n",
            " Avg loss: 1.122236\n",
            " Precision: 0.5022\n",
            " Recall: 0.4600\n",
            " F1 Score: 0.4554\n",
            " Matthew's Correlation Coefficient: 0.6636\n",
            "EarlyStopping counter: 2 out of 10\n",
            "Train_loss: 0.013046\n"
          ]
        },
        {
          "output_type": "stream",
          "name": "stderr",
          "text": [
            "/usr/local/lib/python3.10/dist-packages/sklearn/metrics/_classification.py:1344: UndefinedMetricWarning: Recall is ill-defined and being set to 0.0 in labels with no true samples. Use `zero_division` parameter to control this behavior.\n",
            "  _warn_prf(average, modifier, msg_start, len(result))\n"
          ]
        },
        {
          "output_type": "stream",
          "name": "stdout",
          "text": [
            "Test Error: \n",
            " Accuracy: 78.8%\n",
            " Avg loss: 1.213726\n",
            " Precision: 0.4108\n",
            " Recall: 0.3921\n",
            " F1 Score: 0.3947\n",
            " Matthew's Correlation Coefficient: 0.6644\n",
            "EarlyStopping counter: 3 out of 10\n",
            "Train_loss: 0.018555\n"
          ]
        },
        {
          "output_type": "stream",
          "name": "stderr",
          "text": [
            "/usr/local/lib/python3.10/dist-packages/sklearn/metrics/_classification.py:1344: UndefinedMetricWarning: Recall is ill-defined and being set to 0.0 in labels with no true samples. Use `zero_division` parameter to control this behavior.\n",
            "  _warn_prf(average, modifier, msg_start, len(result))\n"
          ]
        },
        {
          "output_type": "stream",
          "name": "stdout",
          "text": [
            "Test Error: \n",
            " Accuracy: 78.3%\n",
            " Avg loss: 1.325536\n",
            " Precision: 0.5457\n",
            " Recall: 0.4179\n",
            " F1 Score: 0.4415\n",
            " Matthew's Correlation Coefficient: 0.6567\n",
            "EarlyStopping counter: 4 out of 10\n",
            "Train_loss: 0.021984\n"
          ]
        },
        {
          "output_type": "stream",
          "name": "stderr",
          "text": [
            "/usr/local/lib/python3.10/dist-packages/sklearn/metrics/_classification.py:1344: UndefinedMetricWarning: Recall is ill-defined and being set to 0.0 in labels with no true samples. Use `zero_division` parameter to control this behavior.\n",
            "  _warn_prf(average, modifier, msg_start, len(result))\n"
          ]
        },
        {
          "output_type": "stream",
          "name": "stdout",
          "text": [
            "Test Error: \n",
            " Accuracy: 79.2%\n",
            " Avg loss: 1.196329\n",
            " Precision: 0.4186\n",
            " Recall: 0.3942\n",
            " F1 Score: 0.3916\n",
            " Matthew's Correlation Coefficient: 0.6718\n",
            "EarlyStopping counter: 5 out of 10\n",
            "Train_loss: 0.000388\n"
          ]
        },
        {
          "output_type": "stream",
          "name": "stderr",
          "text": [
            "/usr/local/lib/python3.10/dist-packages/sklearn/metrics/_classification.py:1344: UndefinedMetricWarning: Recall is ill-defined and being set to 0.0 in labels with no true samples. Use `zero_division` parameter to control this behavior.\n",
            "  _warn_prf(average, modifier, msg_start, len(result))\n"
          ]
        },
        {
          "output_type": "stream",
          "name": "stdout",
          "text": [
            "Test Error: \n",
            " Accuracy: 77.9%\n",
            " Avg loss: 1.327307\n",
            " Precision: 0.5357\n",
            " Recall: 0.3807\n",
            " F1 Score: 0.3863\n",
            " Matthew's Correlation Coefficient: 0.6528\n",
            "EarlyStopping counter: 6 out of 10\n",
            "Train_loss: 0.122412\n"
          ]
        },
        {
          "output_type": "stream",
          "name": "stderr",
          "text": [
            "/usr/local/lib/python3.10/dist-packages/sklearn/metrics/_classification.py:1344: UndefinedMetricWarning: Recall is ill-defined and being set to 0.0 in labels with no true samples. Use `zero_division` parameter to control this behavior.\n",
            "  _warn_prf(average, modifier, msg_start, len(result))\n"
          ]
        },
        {
          "output_type": "stream",
          "name": "stdout",
          "text": [
            "Test Error: \n",
            " Accuracy: 77.7%\n",
            " Avg loss: 1.449319\n",
            " Precision: 0.5204\n",
            " Recall: 0.3876\n",
            " F1 Score: 0.3836\n",
            " Matthew's Correlation Coefficient: 0.6522\n",
            "EarlyStopping counter: 7 out of 10\n",
            "Train_loss: 0.040643\n"
          ]
        },
        {
          "output_type": "stream",
          "name": "stderr",
          "text": [
            "/usr/local/lib/python3.10/dist-packages/sklearn/metrics/_classification.py:1344: UndefinedMetricWarning: Recall is ill-defined and being set to 0.0 in labels with no true samples. Use `zero_division` parameter to control this behavior.\n",
            "  _warn_prf(average, modifier, msg_start, len(result))\n"
          ]
        },
        {
          "output_type": "stream",
          "name": "stdout",
          "text": [
            "Test Error: \n",
            " Accuracy: 80.6%\n",
            " Avg loss: 1.108986\n",
            " Precision: 0.4852\n",
            " Recall: 0.4433\n",
            " F1 Score: 0.4485\n",
            " Matthew's Correlation Coefficient: 0.6933\n",
            "Train_loss: 0.045216\n"
          ]
        },
        {
          "output_type": "stream",
          "name": "stderr",
          "text": [
            "/usr/local/lib/python3.10/dist-packages/sklearn/metrics/_classification.py:1344: UndefinedMetricWarning: Recall is ill-defined and being set to 0.0 in labels with no true samples. Use `zero_division` parameter to control this behavior.\n",
            "  _warn_prf(average, modifier, msg_start, len(result))\n"
          ]
        },
        {
          "output_type": "stream",
          "name": "stdout",
          "text": [
            "Test Error: \n",
            " Accuracy: 78.7%\n",
            " Avg loss: 1.292055\n",
            " Precision: 0.5037\n",
            " Recall: 0.4350\n",
            " F1 Score: 0.4330\n",
            " Matthew's Correlation Coefficient: 0.6696\n",
            "EarlyStopping counter: 1 out of 10\n",
            "Train_loss: 0.016401\n"
          ]
        },
        {
          "output_type": "stream",
          "name": "stderr",
          "text": [
            "/usr/local/lib/python3.10/dist-packages/sklearn/metrics/_classification.py:1344: UndefinedMetricWarning: Recall is ill-defined and being set to 0.0 in labels with no true samples. Use `zero_division` parameter to control this behavior.\n",
            "  _warn_prf(average, modifier, msg_start, len(result))\n"
          ]
        },
        {
          "output_type": "stream",
          "name": "stdout",
          "text": [
            "Test Error: \n",
            " Accuracy: 77.2%\n",
            " Avg loss: 1.362363\n",
            " Precision: 0.5563\n",
            " Recall: 0.4240\n",
            " F1 Score: 0.4152\n",
            " Matthew's Correlation Coefficient: 0.6465\n",
            "EarlyStopping counter: 2 out of 10\n",
            "Train_loss: 0.029712\n"
          ]
        },
        {
          "output_type": "stream",
          "name": "stderr",
          "text": [
            "/usr/local/lib/python3.10/dist-packages/sklearn/metrics/_classification.py:1344: UndefinedMetricWarning: Recall is ill-defined and being set to 0.0 in labels with no true samples. Use `zero_division` parameter to control this behavior.\n",
            "  _warn_prf(average, modifier, msg_start, len(result))\n"
          ]
        },
        {
          "output_type": "stream",
          "name": "stdout",
          "text": [
            "Test Error: \n",
            " Accuracy: 76.8%\n",
            " Avg loss: 1.365020\n",
            " Precision: 0.5039\n",
            " Recall: 0.4234\n",
            " F1 Score: 0.4234\n",
            " Matthew's Correlation Coefficient: 0.6402\n",
            "EarlyStopping counter: 3 out of 10\n",
            "Train_loss: 0.004727\n"
          ]
        },
        {
          "output_type": "stream",
          "name": "stderr",
          "text": [
            "/usr/local/lib/python3.10/dist-packages/sklearn/metrics/_classification.py:1344: UndefinedMetricWarning: Recall is ill-defined and being set to 0.0 in labels with no true samples. Use `zero_division` parameter to control this behavior.\n",
            "  _warn_prf(average, modifier, msg_start, len(result))\n"
          ]
        },
        {
          "output_type": "stream",
          "name": "stdout",
          "text": [
            "Test Error: \n",
            " Accuracy: 78.6%\n",
            " Avg loss: 1.336006\n",
            " Precision: 0.4982\n",
            " Recall: 0.4288\n",
            " F1 Score: 0.4442\n",
            " Matthew's Correlation Coefficient: 0.6641\n",
            "EarlyStopping counter: 4 out of 10\n",
            "Train_loss: 0.073259\n"
          ]
        },
        {
          "output_type": "stream",
          "name": "stderr",
          "text": [
            "/usr/local/lib/python3.10/dist-packages/sklearn/metrics/_classification.py:1344: UndefinedMetricWarning: Recall is ill-defined and being set to 0.0 in labels with no true samples. Use `zero_division` parameter to control this behavior.\n",
            "  _warn_prf(average, modifier, msg_start, len(result))\n"
          ]
        },
        {
          "output_type": "stream",
          "name": "stdout",
          "text": [
            "Test Error: \n",
            " Accuracy: 79.3%\n",
            " Avg loss: 1.150070\n",
            " Precision: 0.5968\n",
            " Recall: 0.4375\n",
            " F1 Score: 0.4601\n",
            " Matthew's Correlation Coefficient: 0.6729\n",
            "EarlyStopping counter: 5 out of 10\n",
            "Train_loss: 0.065050\n"
          ]
        },
        {
          "output_type": "stream",
          "name": "stderr",
          "text": [
            "/usr/local/lib/python3.10/dist-packages/sklearn/metrics/_classification.py:1344: UndefinedMetricWarning: Recall is ill-defined and being set to 0.0 in labels with no true samples. Use `zero_division` parameter to control this behavior.\n",
            "  _warn_prf(average, modifier, msg_start, len(result))\n"
          ]
        },
        {
          "output_type": "stream",
          "name": "stdout",
          "text": [
            "Test Error: \n",
            " Accuracy: 78.4%\n",
            " Avg loss: 1.391818\n",
            " Precision: 0.5308\n",
            " Recall: 0.4245\n",
            " F1 Score: 0.4362\n",
            " Matthew's Correlation Coefficient: 0.6611\n",
            "EarlyStopping counter: 6 out of 10\n",
            "Train_loss: 0.000351\n"
          ]
        },
        {
          "output_type": "stream",
          "name": "stderr",
          "text": [
            "/usr/local/lib/python3.10/dist-packages/sklearn/metrics/_classification.py:1344: UndefinedMetricWarning: Recall is ill-defined and being set to 0.0 in labels with no true samples. Use `zero_division` parameter to control this behavior.\n",
            "  _warn_prf(average, modifier, msg_start, len(result))\n"
          ]
        },
        {
          "output_type": "stream",
          "name": "stdout",
          "text": [
            "Test Error: \n",
            " Accuracy: 79.3%\n",
            " Avg loss: 1.349077\n",
            " Precision: 0.6892\n",
            " Recall: 0.4197\n",
            " F1 Score: 0.4497\n",
            " Matthew's Correlation Coefficient: 0.6713\n",
            "EarlyStopping counter: 7 out of 10\n",
            "Train_loss: 0.001255\n"
          ]
        },
        {
          "output_type": "stream",
          "name": "stderr",
          "text": [
            "/usr/local/lib/python3.10/dist-packages/sklearn/metrics/_classification.py:1344: UndefinedMetricWarning: Recall is ill-defined and being set to 0.0 in labels with no true samples. Use `zero_division` parameter to control this behavior.\n",
            "  _warn_prf(average, modifier, msg_start, len(result))\n"
          ]
        },
        {
          "output_type": "stream",
          "name": "stdout",
          "text": [
            "Test Error: \n",
            " Accuracy: 79.2%\n",
            " Avg loss: 1.353153\n",
            " Precision: 0.6813\n",
            " Recall: 0.4330\n",
            " F1 Score: 0.4550\n",
            " Matthew's Correlation Coefficient: 0.6725\n",
            "EarlyStopping counter: 8 out of 10\n",
            "Train_loss: 0.004807\n"
          ]
        },
        {
          "output_type": "stream",
          "name": "stderr",
          "text": [
            "/usr/local/lib/python3.10/dist-packages/sklearn/metrics/_classification.py:1344: UndefinedMetricWarning: Recall is ill-defined and being set to 0.0 in labels with no true samples. Use `zero_division` parameter to control this behavior.\n",
            "  _warn_prf(average, modifier, msg_start, len(result))\n"
          ]
        },
        {
          "output_type": "stream",
          "name": "stdout",
          "text": [
            "Test Error: \n",
            " Accuracy: 79.8%\n",
            " Avg loss: 1.416078\n",
            " Precision: 0.5953\n",
            " Recall: 0.4327\n",
            " F1 Score: 0.4642\n",
            " Matthew's Correlation Coefficient: 0.6797\n",
            "EarlyStopping counter: 9 out of 10\n",
            "Train_loss: 0.000739\n"
          ]
        },
        {
          "output_type": "stream",
          "name": "stderr",
          "text": [
            "/usr/local/lib/python3.10/dist-packages/sklearn/metrics/_classification.py:1344: UndefinedMetricWarning: Recall is ill-defined and being set to 0.0 in labels with no true samples. Use `zero_division` parameter to control this behavior.\n",
            "  _warn_prf(average, modifier, msg_start, len(result))\n"
          ]
        },
        {
          "output_type": "stream",
          "name": "stdout",
          "text": [
            "Test Error: \n",
            " Accuracy: 78.6%\n",
            " Avg loss: 1.490502\n",
            " Precision: 0.6156\n",
            " Recall: 0.4261\n",
            " F1 Score: 0.4419\n",
            " Matthew's Correlation Coefficient: 0.6641\n",
            "EarlyStopping counter: 10 out of 10\n",
            "Early stopping\n",
            "Finished training for lr=0.01, layer_sizes=[1024, 512, 256], dropouts=[0.5, 0.5, 0.5]. Best val accuracy: 78.90739117732983\n",
            "Train_loss: 2.078317\n"
          ]
        },
        {
          "output_type": "stream",
          "name": "stderr",
          "text": [
            "/usr/local/lib/python3.10/dist-packages/sklearn/metrics/_classification.py:1344: UndefinedMetricWarning: Precision is ill-defined and being set to 0.0 in labels with no predicted samples. Use `zero_division` parameter to control this behavior.\n",
            "  _warn_prf(average, modifier, msg_start, len(result))\n"
          ]
        },
        {
          "output_type": "stream",
          "name": "stdout",
          "text": [
            "Test Error: \n",
            " Accuracy: 78.1%\n",
            " Avg loss: 0.653046\n",
            " Precision: 0.3786\n",
            " Recall: 0.4106\n",
            " F1 Score: 0.3839\n",
            " Matthew's Correlation Coefficient: 0.6595\n",
            "Train_loss: 0.347109\n"
          ]
        },
        {
          "output_type": "stream",
          "name": "stderr",
          "text": [
            "/usr/local/lib/python3.10/dist-packages/sklearn/metrics/_classification.py:1344: UndefinedMetricWarning: Precision is ill-defined and being set to 0.0 in labels with no predicted samples. Use `zero_division` parameter to control this behavior.\n",
            "  _warn_prf(average, modifier, msg_start, len(result))\n"
          ]
        },
        {
          "output_type": "stream",
          "name": "stdout",
          "text": [
            "Test Error: \n",
            " Accuracy: 78.2%\n",
            " Avg loss: 0.734812\n",
            " Precision: 0.4236\n",
            " Recall: 0.4605\n",
            " F1 Score: 0.4339\n",
            " Matthew's Correlation Coefficient: 0.6610\n",
            "Train_loss: 0.175002\n"
          ]
        },
        {
          "output_type": "stream",
          "name": "stderr",
          "text": [
            "/usr/local/lib/python3.10/dist-packages/sklearn/metrics/_classification.py:1344: UndefinedMetricWarning: Precision is ill-defined and being set to 0.0 in labels with no predicted samples. Use `zero_division` parameter to control this behavior.\n",
            "  _warn_prf(average, modifier, msg_start, len(result))\n"
          ]
        },
        {
          "output_type": "stream",
          "name": "stdout",
          "text": [
            "Test Error: \n",
            " Accuracy: 74.1%\n",
            " Avg loss: 1.247492\n",
            " Precision: 0.4575\n",
            " Recall: 0.4326\n",
            " F1 Score: 0.4265\n",
            " Matthew's Correlation Coefficient: 0.5994\n",
            "EarlyStopping counter: 1 out of 10\n",
            "Train_loss: 0.113459\n"
          ]
        },
        {
          "output_type": "stream",
          "name": "stderr",
          "text": [
            "/usr/local/lib/python3.10/dist-packages/sklearn/metrics/_classification.py:1344: UndefinedMetricWarning: Precision is ill-defined and being set to 0.0 in labels with no predicted samples. Use `zero_division` parameter to control this behavior.\n",
            "  _warn_prf(average, modifier, msg_start, len(result))\n",
            "/usr/local/lib/python3.10/dist-packages/sklearn/metrics/_classification.py:1344: UndefinedMetricWarning: Recall is ill-defined and being set to 0.0 in labels with no true samples. Use `zero_division` parameter to control this behavior.\n",
            "  _warn_prf(average, modifier, msg_start, len(result))\n"
          ]
        },
        {
          "output_type": "stream",
          "name": "stdout",
          "text": [
            "Test Error: \n",
            " Accuracy: 75.5%\n",
            " Avg loss: 1.230177\n",
            " Precision: 0.3736\n",
            " Recall: 0.3883\n",
            " F1 Score: 0.3699\n",
            " Matthew's Correlation Coefficient: 0.6212\n",
            "EarlyStopping counter: 2 out of 10\n",
            "Train_loss: 0.115447\n"
          ]
        },
        {
          "output_type": "stream",
          "name": "stderr",
          "text": [
            "/usr/local/lib/python3.10/dist-packages/sklearn/metrics/_classification.py:1344: UndefinedMetricWarning: Precision is ill-defined and being set to 0.0 in labels with no predicted samples. Use `zero_division` parameter to control this behavior.\n",
            "  _warn_prf(average, modifier, msg_start, len(result))\n",
            "/usr/local/lib/python3.10/dist-packages/sklearn/metrics/_classification.py:1344: UndefinedMetricWarning: Recall is ill-defined and being set to 0.0 in labels with no true samples. Use `zero_division` parameter to control this behavior.\n",
            "  _warn_prf(average, modifier, msg_start, len(result))\n"
          ]
        },
        {
          "output_type": "stream",
          "name": "stdout",
          "text": [
            "Test Error: \n",
            " Accuracy: 75.3%\n",
            " Avg loss: 1.142447\n",
            " Precision: 0.4968\n",
            " Recall: 0.3721\n",
            " F1 Score: 0.3642\n",
            " Matthew's Correlation Coefficient: 0.6143\n",
            "EarlyStopping counter: 3 out of 10\n",
            "Train_loss: 0.035157\n"
          ]
        },
        {
          "output_type": "stream",
          "name": "stderr",
          "text": [
            "/usr/local/lib/python3.10/dist-packages/sklearn/metrics/_classification.py:1344: UndefinedMetricWarning: Precision is ill-defined and being set to 0.0 in labels with no predicted samples. Use `zero_division` parameter to control this behavior.\n",
            "  _warn_prf(average, modifier, msg_start, len(result))\n",
            "/usr/local/lib/python3.10/dist-packages/sklearn/metrics/_classification.py:1344: UndefinedMetricWarning: Recall is ill-defined and being set to 0.0 in labels with no true samples. Use `zero_division` parameter to control this behavior.\n",
            "  _warn_prf(average, modifier, msg_start, len(result))\n"
          ]
        },
        {
          "output_type": "stream",
          "name": "stdout",
          "text": [
            "Test Error: \n",
            " Accuracy: 75.8%\n",
            " Avg loss: 1.199836\n",
            " Precision: 0.5271\n",
            " Recall: 0.3817\n",
            " F1 Score: 0.3802\n",
            " Matthew's Correlation Coefficient: 0.6248\n",
            "EarlyStopping counter: 4 out of 10\n",
            "Train_loss: 0.023960\n"
          ]
        },
        {
          "output_type": "stream",
          "name": "stderr",
          "text": [
            "/usr/local/lib/python3.10/dist-packages/sklearn/metrics/_classification.py:1344: UndefinedMetricWarning: Recall is ill-defined and being set to 0.0 in labels with no true samples. Use `zero_division` parameter to control this behavior.\n",
            "  _warn_prf(average, modifier, msg_start, len(result))\n"
          ]
        },
        {
          "output_type": "stream",
          "name": "stdout",
          "text": [
            "Test Error: \n",
            " Accuracy: 76.0%\n",
            " Avg loss: 1.155435\n",
            " Precision: 0.5448\n",
            " Recall: 0.4294\n",
            " F1 Score: 0.4421\n",
            " Matthew's Correlation Coefficient: 0.6286\n",
            "EarlyStopping counter: 5 out of 10\n",
            "Train_loss: 0.013032\n"
          ]
        },
        {
          "output_type": "stream",
          "name": "stderr",
          "text": [
            "/usr/local/lib/python3.10/dist-packages/sklearn/metrics/_classification.py:1344: UndefinedMetricWarning: Recall is ill-defined and being set to 0.0 in labels with no true samples. Use `zero_division` parameter to control this behavior.\n",
            "  _warn_prf(average, modifier, msg_start, len(result))\n"
          ]
        },
        {
          "output_type": "stream",
          "name": "stdout",
          "text": [
            "Test Error: \n",
            " Accuracy: 75.3%\n",
            " Avg loss: 1.331050\n",
            " Precision: 0.6499\n",
            " Recall: 0.4253\n",
            " F1 Score: 0.4340\n",
            " Matthew's Correlation Coefficient: 0.6163\n",
            "EarlyStopping counter: 6 out of 10\n",
            "Train_loss: 0.122462\n"
          ]
        },
        {
          "output_type": "stream",
          "name": "stderr",
          "text": [
            "/usr/local/lib/python3.10/dist-packages/sklearn/metrics/_classification.py:1344: UndefinedMetricWarning: Recall is ill-defined and being set to 0.0 in labels with no true samples. Use `zero_division` parameter to control this behavior.\n",
            "  _warn_prf(average, modifier, msg_start, len(result))\n"
          ]
        },
        {
          "output_type": "stream",
          "name": "stdout",
          "text": [
            "Test Error: \n",
            " Accuracy: 77.1%\n",
            " Avg loss: 1.285219\n",
            " Precision: 0.4315\n",
            " Recall: 0.4020\n",
            " F1 Score: 0.3979\n",
            " Matthew's Correlation Coefficient: 0.6423\n",
            "EarlyStopping counter: 7 out of 10\n",
            "Train_loss: 0.040191\n"
          ]
        },
        {
          "output_type": "stream",
          "name": "stderr",
          "text": [
            "/usr/local/lib/python3.10/dist-packages/sklearn/metrics/_classification.py:1344: UndefinedMetricWarning: Recall is ill-defined and being set to 0.0 in labels with no true samples. Use `zero_division` parameter to control this behavior.\n",
            "  _warn_prf(average, modifier, msg_start, len(result))\n"
          ]
        },
        {
          "output_type": "stream",
          "name": "stdout",
          "text": [
            "Test Error: \n",
            " Accuracy: 76.9%\n",
            " Avg loss: 1.184090\n",
            " Precision: 0.4136\n",
            " Recall: 0.4275\n",
            " F1 Score: 0.4074\n",
            " Matthew's Correlation Coefficient: 0.6435\n",
            "EarlyStopping counter: 8 out of 10\n",
            "Train_loss: 0.012378\n"
          ]
        },
        {
          "output_type": "stream",
          "name": "stderr",
          "text": [
            "/usr/local/lib/python3.10/dist-packages/sklearn/metrics/_classification.py:1344: UndefinedMetricWarning: Recall is ill-defined and being set to 0.0 in labels with no true samples. Use `zero_division` parameter to control this behavior.\n",
            "  _warn_prf(average, modifier, msg_start, len(result))\n"
          ]
        },
        {
          "output_type": "stream",
          "name": "stdout",
          "text": [
            "Test Error: \n",
            " Accuracy: 77.2%\n",
            " Avg loss: 1.213081\n",
            " Precision: 0.5657\n",
            " Recall: 0.4459\n",
            " F1 Score: 0.4598\n",
            " Matthew's Correlation Coefficient: 0.6425\n",
            "EarlyStopping counter: 9 out of 10\n",
            "Train_loss: 0.001838\n"
          ]
        },
        {
          "output_type": "stream",
          "name": "stderr",
          "text": [
            "/usr/local/lib/python3.10/dist-packages/sklearn/metrics/_classification.py:1344: UndefinedMetricWarning: Recall is ill-defined and being set to 0.0 in labels with no true samples. Use `zero_division` parameter to control this behavior.\n",
            "  _warn_prf(average, modifier, msg_start, len(result))\n"
          ]
        },
        {
          "output_type": "stream",
          "name": "stdout",
          "text": [
            "Test Error: \n",
            " Accuracy: 77.3%\n",
            " Avg loss: 1.385492\n",
            " Precision: 0.5148\n",
            " Recall: 0.4227\n",
            " F1 Score: 0.4451\n",
            " Matthew's Correlation Coefficient: 0.6396\n",
            "EarlyStopping counter: 10 out of 10\n",
            "Early stopping\n",
            "Finished training for lr=0.01, layer_sizes=[1024, 512, 256], dropouts=[0.3, 0.3, 0.3]. Best val accuracy: 78.90739117732983\n",
            "Train_loss: 1.968472\n"
          ]
        },
        {
          "output_type": "stream",
          "name": "stderr",
          "text": [
            "/usr/local/lib/python3.10/dist-packages/sklearn/metrics/_classification.py:1344: UndefinedMetricWarning: Precision is ill-defined and being set to 0.0 in labels with no predicted samples. Use `zero_division` parameter to control this behavior.\n",
            "  _warn_prf(average, modifier, msg_start, len(result))\n"
          ]
        },
        {
          "output_type": "stream",
          "name": "stdout",
          "text": [
            "Test Error: \n",
            " Accuracy: 74.2%\n",
            " Avg loss: 1.047085\n",
            " Precision: 0.4138\n",
            " Recall: 0.4058\n",
            " F1 Score: 0.3697\n",
            " Matthew's Correlation Coefficient: 0.6201\n",
            "Train_loss: 0.615901\n"
          ]
        },
        {
          "output_type": "stream",
          "name": "stderr",
          "text": [
            "/usr/local/lib/python3.10/dist-packages/sklearn/metrics/_classification.py:1344: UndefinedMetricWarning: Precision is ill-defined and being set to 0.0 in labels with no predicted samples. Use `zero_division` parameter to control this behavior.\n",
            "  _warn_prf(average, modifier, msg_start, len(result))\n"
          ]
        },
        {
          "output_type": "stream",
          "name": "stdout",
          "text": [
            "Test Error: \n",
            " Accuracy: 79.1%\n",
            " Avg loss: 0.726663\n",
            " Precision: 0.5047\n",
            " Recall: 0.4300\n",
            " F1 Score: 0.4142\n",
            " Matthew's Correlation Coefficient: 0.6755\n",
            "Train_loss: 0.263437\n"
          ]
        },
        {
          "output_type": "stream",
          "name": "stderr",
          "text": [
            "/usr/local/lib/python3.10/dist-packages/sklearn/metrics/_classification.py:1344: UndefinedMetricWarning: Precision is ill-defined and being set to 0.0 in labels with no predicted samples. Use `zero_division` parameter to control this behavior.\n",
            "  _warn_prf(average, modifier, msg_start, len(result))\n"
          ]
        },
        {
          "output_type": "stream",
          "name": "stdout",
          "text": [
            "Test Error: \n",
            " Accuracy: 79.6%\n",
            " Avg loss: 0.656849\n",
            " Precision: 0.5045\n",
            " Recall: 0.4458\n",
            " F1 Score: 0.4464\n",
            " Matthew's Correlation Coefficient: 0.6790\n",
            "Train_loss: 0.159937\n"
          ]
        },
        {
          "output_type": "stream",
          "name": "stderr",
          "text": [
            "/usr/local/lib/python3.10/dist-packages/sklearn/metrics/_classification.py:1344: UndefinedMetricWarning: Precision is ill-defined and being set to 0.0 in labels with no predicted samples. Use `zero_division` parameter to control this behavior.\n",
            "  _warn_prf(average, modifier, msg_start, len(result))\n"
          ]
        },
        {
          "output_type": "stream",
          "name": "stdout",
          "text": [
            "Test Error: \n",
            " Accuracy: 78.1%\n",
            " Avg loss: 0.696042\n",
            " Precision: 0.4395\n",
            " Recall: 0.4439\n",
            " F1 Score: 0.4330\n",
            " Matthew's Correlation Coefficient: 0.6584\n",
            "EarlyStopping counter: 1 out of 10\n",
            "Train_loss: 0.092721\n"
          ]
        },
        {
          "output_type": "stream",
          "name": "stderr",
          "text": [
            "/usr/local/lib/python3.10/dist-packages/sklearn/metrics/_classification.py:1344: UndefinedMetricWarning: Precision is ill-defined and being set to 0.0 in labels with no predicted samples. Use `zero_division` parameter to control this behavior.\n",
            "  _warn_prf(average, modifier, msg_start, len(result))\n"
          ]
        },
        {
          "output_type": "stream",
          "name": "stdout",
          "text": [
            "Test Error: \n",
            " Accuracy: 74.8%\n",
            " Avg loss: 0.807473\n",
            " Precision: 0.4048\n",
            " Recall: 0.4384\n",
            " F1 Score: 0.4055\n",
            " Matthew's Correlation Coefficient: 0.6201\n",
            "EarlyStopping counter: 2 out of 10\n",
            "Train_loss: 0.109689\n"
          ]
        },
        {
          "output_type": "stream",
          "name": "stderr",
          "text": [
            "/usr/local/lib/python3.10/dist-packages/sklearn/metrics/_classification.py:1344: UndefinedMetricWarning: Precision is ill-defined and being set to 0.0 in labels with no predicted samples. Use `zero_division` parameter to control this behavior.\n",
            "  _warn_prf(average, modifier, msg_start, len(result))\n"
          ]
        },
        {
          "output_type": "stream",
          "name": "stdout",
          "text": [
            "Test Error: \n",
            " Accuracy: 76.8%\n",
            " Avg loss: 0.788704\n",
            " Precision: 0.4346\n",
            " Recall: 0.4376\n",
            " F1 Score: 0.4243\n",
            " Matthew's Correlation Coefficient: 0.6404\n",
            "EarlyStopping counter: 3 out of 10\n",
            "Train_loss: 0.069314\n"
          ]
        },
        {
          "output_type": "stream",
          "name": "stderr",
          "text": [
            "/usr/local/lib/python3.10/dist-packages/sklearn/metrics/_classification.py:1344: UndefinedMetricWarning: Precision is ill-defined and being set to 0.0 in labels with no predicted samples. Use `zero_division` parameter to control this behavior.\n",
            "  _warn_prf(average, modifier, msg_start, len(result))\n"
          ]
        },
        {
          "output_type": "stream",
          "name": "stdout",
          "text": [
            "Test Error: \n",
            " Accuracy: 76.3%\n",
            " Avg loss: 0.801700\n",
            " Precision: 0.5850\n",
            " Recall: 0.4420\n",
            " F1 Score: 0.4299\n",
            " Matthew's Correlation Coefficient: 0.6319\n",
            "EarlyStopping counter: 4 out of 10\n",
            "Train_loss: 0.037198\n"
          ]
        },
        {
          "output_type": "stream",
          "name": "stderr",
          "text": [
            "/usr/local/lib/python3.10/dist-packages/sklearn/metrics/_classification.py:1344: UndefinedMetricWarning: Precision is ill-defined and being set to 0.0 in labels with no predicted samples. Use `zero_division` parameter to control this behavior.\n",
            "  _warn_prf(average, modifier, msg_start, len(result))\n"
          ]
        },
        {
          "output_type": "stream",
          "name": "stdout",
          "text": [
            "Test Error: \n",
            " Accuracy: 77.5%\n",
            " Avg loss: 0.794298\n",
            " Precision: 0.5916\n",
            " Recall: 0.4526\n",
            " F1 Score: 0.4403\n",
            " Matthew's Correlation Coefficient: 0.6504\n",
            "EarlyStopping counter: 5 out of 10\n",
            "Train_loss: 0.013731\n"
          ]
        },
        {
          "output_type": "stream",
          "name": "stderr",
          "text": [
            "/usr/local/lib/python3.10/dist-packages/sklearn/metrics/_classification.py:1344: UndefinedMetricWarning: Precision is ill-defined and being set to 0.0 in labels with no predicted samples. Use `zero_division` parameter to control this behavior.\n",
            "  _warn_prf(average, modifier, msg_start, len(result))\n"
          ]
        },
        {
          "output_type": "stream",
          "name": "stdout",
          "text": [
            "Test Error: \n",
            " Accuracy: 77.8%\n",
            " Avg loss: 0.782081\n",
            " Precision: 0.5038\n",
            " Recall: 0.4599\n",
            " F1 Score: 0.4420\n",
            " Matthew's Correlation Coefficient: 0.6533\n",
            "EarlyStopping counter: 6 out of 10\n",
            "Train_loss: 0.056819\n"
          ]
        },
        {
          "output_type": "stream",
          "name": "stderr",
          "text": [
            "/usr/local/lib/python3.10/dist-packages/sklearn/metrics/_classification.py:1344: UndefinedMetricWarning: Precision is ill-defined and being set to 0.0 in labels with no predicted samples. Use `zero_division` parameter to control this behavior.\n",
            "  _warn_prf(average, modifier, msg_start, len(result))\n"
          ]
        },
        {
          "output_type": "stream",
          "name": "stdout",
          "text": [
            "Test Error: \n",
            " Accuracy: 77.7%\n",
            " Avg loss: 0.808379\n",
            " Precision: 0.5049\n",
            " Recall: 0.4527\n",
            " F1 Score: 0.4401\n",
            " Matthew's Correlation Coefficient: 0.6505\n",
            "EarlyStopping counter: 7 out of 10\n",
            "Train_loss: 0.010488\n"
          ]
        },
        {
          "output_type": "stream",
          "name": "stderr",
          "text": [
            "/usr/local/lib/python3.10/dist-packages/sklearn/metrics/_classification.py:1344: UndefinedMetricWarning: Precision is ill-defined and being set to 0.0 in labels with no predicted samples. Use `zero_division` parameter to control this behavior.\n",
            "  _warn_prf(average, modifier, msg_start, len(result))\n"
          ]
        },
        {
          "output_type": "stream",
          "name": "stdout",
          "text": [
            "Test Error: \n",
            " Accuracy: 76.3%\n",
            " Avg loss: 0.910449\n",
            " Precision: 0.5076\n",
            " Recall: 0.4534\n",
            " F1 Score: 0.4455\n",
            " Matthew's Correlation Coefficient: 0.6328\n",
            "EarlyStopping counter: 8 out of 10\n",
            "Train_loss: 0.024076\n"
          ]
        },
        {
          "output_type": "stream",
          "name": "stderr",
          "text": [
            "/usr/local/lib/python3.10/dist-packages/sklearn/metrics/_classification.py:1344: UndefinedMetricWarning: Precision is ill-defined and being set to 0.0 in labels with no predicted samples. Use `zero_division` parameter to control this behavior.\n",
            "  _warn_prf(average, modifier, msg_start, len(result))\n",
            "/usr/local/lib/python3.10/dist-packages/sklearn/metrics/_classification.py:1344: UndefinedMetricWarning: Recall is ill-defined and being set to 0.0 in labels with no true samples. Use `zero_division` parameter to control this behavior.\n",
            "  _warn_prf(average, modifier, msg_start, len(result))\n"
          ]
        },
        {
          "output_type": "stream",
          "name": "stdout",
          "text": [
            "Test Error: \n",
            " Accuracy: 78.1%\n",
            " Avg loss: 0.830189\n",
            " Precision: 0.3877\n",
            " Recall: 0.3940\n",
            " F1 Score: 0.3808\n",
            " Matthew's Correlation Coefficient: 0.6584\n",
            "EarlyStopping counter: 9 out of 10\n",
            "Train_loss: 0.011408\n"
          ]
        },
        {
          "output_type": "stream",
          "name": "stderr",
          "text": [
            "/usr/local/lib/python3.10/dist-packages/sklearn/metrics/_classification.py:1344: UndefinedMetricWarning: Precision is ill-defined and being set to 0.0 in labels with no predicted samples. Use `zero_division` parameter to control this behavior.\n",
            "  _warn_prf(average, modifier, msg_start, len(result))\n",
            "/usr/local/lib/python3.10/dist-packages/sklearn/metrics/_classification.py:1344: UndefinedMetricWarning: Recall is ill-defined and being set to 0.0 in labels with no true samples. Use `zero_division` parameter to control this behavior.\n",
            "  _warn_prf(average, modifier, msg_start, len(result))\n"
          ]
        },
        {
          "output_type": "stream",
          "name": "stdout",
          "text": [
            "Test Error: \n",
            " Accuracy: 75.0%\n",
            " Avg loss: 0.997577\n",
            " Precision: 0.3911\n",
            " Recall: 0.3794\n",
            " F1 Score: 0.3651\n",
            " Matthew's Correlation Coefficient: 0.6150\n",
            "EarlyStopping counter: 10 out of 10\n",
            "Early stopping\n",
            "Finished training for lr=0.001, layer_sizes=[128, 64, 32], dropouts=[0.1, 0.1, 0.1]. Best val accuracy: 78.90739117732983\n",
            "Train_loss: 2.181044\n"
          ]
        },
        {
          "output_type": "stream",
          "name": "stderr",
          "text": [
            "/usr/local/lib/python3.10/dist-packages/sklearn/metrics/_classification.py:1344: UndefinedMetricWarning: Precision is ill-defined and being set to 0.0 in labels with no predicted samples. Use `zero_division` parameter to control this behavior.\n",
            "  _warn_prf(average, modifier, msg_start, len(result))\n"
          ]
        },
        {
          "output_type": "stream",
          "name": "stdout",
          "text": [
            "Test Error: \n",
            " Accuracy: 69.4%\n",
            " Avg loss: 1.454163\n",
            " Precision: 0.3447\n",
            " Recall: 0.3729\n",
            " F1 Score: 0.3372\n",
            " Matthew's Correlation Coefficient: 0.5395\n",
            "Train_loss: 1.276992\n"
          ]
        },
        {
          "output_type": "stream",
          "name": "stderr",
          "text": [
            "/usr/local/lib/python3.10/dist-packages/sklearn/metrics/_classification.py:1344: UndefinedMetricWarning: Precision is ill-defined and being set to 0.0 in labels with no predicted samples. Use `zero_division` parameter to control this behavior.\n",
            "  _warn_prf(average, modifier, msg_start, len(result))\n"
          ]
        },
        {
          "output_type": "stream",
          "name": "stdout",
          "text": [
            "Test Error: \n",
            " Accuracy: 76.0%\n",
            " Avg loss: 1.013580\n",
            " Precision: 0.3745\n",
            " Recall: 0.4008\n",
            " F1 Score: 0.3732\n",
            " Matthew's Correlation Coefficient: 0.6304\n",
            "Train_loss: 0.838857\n"
          ]
        },
        {
          "output_type": "stream",
          "name": "stderr",
          "text": [
            "/usr/local/lib/python3.10/dist-packages/sklearn/metrics/_classification.py:1344: UndefinedMetricWarning: Precision is ill-defined and being set to 0.0 in labels with no predicted samples. Use `zero_division` parameter to control this behavior.\n",
            "  _warn_prf(average, modifier, msg_start, len(result))\n"
          ]
        },
        {
          "output_type": "stream",
          "name": "stdout",
          "text": [
            "Test Error: \n",
            " Accuracy: 77.7%\n",
            " Avg loss: 0.762351\n",
            " Precision: 0.3762\n",
            " Recall: 0.4076\n",
            " F1 Score: 0.3810\n",
            " Matthew's Correlation Coefficient: 0.6534\n",
            "Train_loss: 0.643001\n"
          ]
        },
        {
          "output_type": "stream",
          "name": "stderr",
          "text": [
            "/usr/local/lib/python3.10/dist-packages/sklearn/metrics/_classification.py:1344: UndefinedMetricWarning: Precision is ill-defined and being set to 0.0 in labels with no predicted samples. Use `zero_division` parameter to control this behavior.\n",
            "  _warn_prf(average, modifier, msg_start, len(result))\n"
          ]
        },
        {
          "output_type": "stream",
          "name": "stdout",
          "text": [
            "Test Error: \n",
            " Accuracy: 79.4%\n",
            " Avg loss: 0.657686\n",
            " Precision: 0.3855\n",
            " Recall: 0.4148\n",
            " F1 Score: 0.3921\n",
            " Matthew's Correlation Coefficient: 0.6765\n",
            "Train_loss: 0.594899\n"
          ]
        },
        {
          "output_type": "stream",
          "name": "stderr",
          "text": [
            "/usr/local/lib/python3.10/dist-packages/sklearn/metrics/_classification.py:1344: UndefinedMetricWarning: Precision is ill-defined and being set to 0.0 in labels with no predicted samples. Use `zero_division` parameter to control this behavior.\n",
            "  _warn_prf(average, modifier, msg_start, len(result))\n"
          ]
        },
        {
          "output_type": "stream",
          "name": "stdout",
          "text": [
            "Test Error: \n",
            " Accuracy: 77.5%\n",
            " Avg loss: 0.674309\n",
            " Precision: 0.3726\n",
            " Recall: 0.4106\n",
            " F1 Score: 0.3793\n",
            " Matthew's Correlation Coefficient: 0.6566\n",
            "EarlyStopping counter: 1 out of 10\n",
            "Train_loss: 0.406352\n"
          ]
        },
        {
          "output_type": "stream",
          "name": "stderr",
          "text": [
            "/usr/local/lib/python3.10/dist-packages/sklearn/metrics/_classification.py:1344: UndefinedMetricWarning: Precision is ill-defined and being set to 0.0 in labels with no predicted samples. Use `zero_division` parameter to control this behavior.\n",
            "  _warn_prf(average, modifier, msg_start, len(result))\n"
          ]
        },
        {
          "output_type": "stream",
          "name": "stdout",
          "text": [
            "Test Error: \n",
            " Accuracy: 79.0%\n",
            " Avg loss: 0.645632\n",
            " Precision: 0.3833\n",
            " Recall: 0.4122\n",
            " F1 Score: 0.3900\n",
            " Matthew's Correlation Coefficient: 0.6695\n",
            "EarlyStopping counter: 2 out of 10\n",
            "Train_loss: 0.285595\n"
          ]
        },
        {
          "output_type": "stream",
          "name": "stderr",
          "text": [
            "/usr/local/lib/python3.10/dist-packages/sklearn/metrics/_classification.py:1344: UndefinedMetricWarning: Precision is ill-defined and being set to 0.0 in labels with no predicted samples. Use `zero_division` parameter to control this behavior.\n",
            "  _warn_prf(average, modifier, msg_start, len(result))\n"
          ]
        },
        {
          "output_type": "stream",
          "name": "stdout",
          "text": [
            "Test Error: \n",
            " Accuracy: 78.6%\n",
            " Avg loss: 0.647253\n",
            " Precision: 0.3764\n",
            " Recall: 0.4140\n",
            " F1 Score: 0.3872\n",
            " Matthew's Correlation Coefficient: 0.6668\n",
            "EarlyStopping counter: 3 out of 10\n",
            "Train_loss: 0.228430\n"
          ]
        },
        {
          "output_type": "stream",
          "name": "stderr",
          "text": [
            "/usr/local/lib/python3.10/dist-packages/sklearn/metrics/_classification.py:1344: UndefinedMetricWarning: Precision is ill-defined and being set to 0.0 in labels with no predicted samples. Use `zero_division` parameter to control this behavior.\n",
            "  _warn_prf(average, modifier, msg_start, len(result))\n"
          ]
        },
        {
          "output_type": "stream",
          "name": "stdout",
          "text": [
            "Test Error: \n",
            " Accuracy: 77.0%\n",
            " Avg loss: 0.719336\n",
            " Precision: 0.3724\n",
            " Recall: 0.4062\n",
            " F1 Score: 0.3761\n",
            " Matthew's Correlation Coefficient: 0.6477\n",
            "EarlyStopping counter: 4 out of 10\n",
            "Train_loss: 0.110972\n"
          ]
        },
        {
          "output_type": "stream",
          "name": "stderr",
          "text": [
            "/usr/local/lib/python3.10/dist-packages/sklearn/metrics/_classification.py:1344: UndefinedMetricWarning: Precision is ill-defined and being set to 0.0 in labels with no predicted samples. Use `zero_division` parameter to control this behavior.\n",
            "  _warn_prf(average, modifier, msg_start, len(result))\n"
          ]
        },
        {
          "output_type": "stream",
          "name": "stdout",
          "text": [
            "Test Error: \n",
            " Accuracy: 77.1%\n",
            " Avg loss: 0.733098\n",
            " Precision: 0.3726\n",
            " Recall: 0.4092\n",
            " F1 Score: 0.3770\n",
            " Matthew's Correlation Coefficient: 0.6524\n",
            "EarlyStopping counter: 5 out of 10\n",
            "Train_loss: 0.198247\n"
          ]
        },
        {
          "output_type": "stream",
          "name": "stderr",
          "text": [
            "/usr/local/lib/python3.10/dist-packages/sklearn/metrics/_classification.py:1344: UndefinedMetricWarning: Precision is ill-defined and being set to 0.0 in labels with no predicted samples. Use `zero_division` parameter to control this behavior.\n",
            "  _warn_prf(average, modifier, msg_start, len(result))\n"
          ]
        },
        {
          "output_type": "stream",
          "name": "stdout",
          "text": [
            "Test Error: \n",
            " Accuracy: 77.8%\n",
            " Avg loss: 0.702086\n",
            " Precision: 0.3717\n",
            " Recall: 0.4091\n",
            " F1 Score: 0.3837\n",
            " Matthew's Correlation Coefficient: 0.6515\n",
            "EarlyStopping counter: 6 out of 10\n",
            "Train_loss: 0.189585\n"
          ]
        },
        {
          "output_type": "stream",
          "name": "stderr",
          "text": [
            "/usr/local/lib/python3.10/dist-packages/sklearn/metrics/_classification.py:1344: UndefinedMetricWarning: Precision is ill-defined and being set to 0.0 in labels with no predicted samples. Use `zero_division` parameter to control this behavior.\n",
            "  _warn_prf(average, modifier, msg_start, len(result))\n"
          ]
        },
        {
          "output_type": "stream",
          "name": "stdout",
          "text": [
            "Test Error: \n",
            " Accuracy: 77.1%\n",
            " Avg loss: 0.798096\n",
            " Precision: 0.4562\n",
            " Recall: 0.4077\n",
            " F1 Score: 0.3878\n",
            " Matthew's Correlation Coefficient: 0.6414\n",
            "EarlyStopping counter: 7 out of 10\n",
            "Train_loss: 0.158921\n"
          ]
        },
        {
          "output_type": "stream",
          "name": "stderr",
          "text": [
            "/usr/local/lib/python3.10/dist-packages/sklearn/metrics/_classification.py:1344: UndefinedMetricWarning: Precision is ill-defined and being set to 0.0 in labels with no predicted samples. Use `zero_division` parameter to control this behavior.\n",
            "  _warn_prf(average, modifier, msg_start, len(result))\n"
          ]
        },
        {
          "output_type": "stream",
          "name": "stdout",
          "text": [
            "Test Error: \n",
            " Accuracy: 74.1%\n",
            " Avg loss: 0.874647\n",
            " Precision: 0.4000\n",
            " Recall: 0.3995\n",
            " F1 Score: 0.3669\n",
            " Matthew's Correlation Coefficient: 0.6107\n",
            "EarlyStopping counter: 8 out of 10\n",
            "Train_loss: 0.245429\n"
          ]
        },
        {
          "output_type": "stream",
          "name": "stderr",
          "text": [
            "/usr/local/lib/python3.10/dist-packages/sklearn/metrics/_classification.py:1344: UndefinedMetricWarning: Precision is ill-defined and being set to 0.0 in labels with no predicted samples. Use `zero_division` parameter to control this behavior.\n",
            "  _warn_prf(average, modifier, msg_start, len(result))\n"
          ]
        },
        {
          "output_type": "stream",
          "name": "stdout",
          "text": [
            "Test Error: \n",
            " Accuracy: 76.3%\n",
            " Avg loss: 0.830968\n",
            " Precision: 0.4229\n",
            " Recall: 0.4146\n",
            " F1 Score: 0.3909\n",
            " Matthew's Correlation Coefficient: 0.6379\n",
            "EarlyStopping counter: 9 out of 10\n",
            "Train_loss: 0.133218\n"
          ]
        },
        {
          "output_type": "stream",
          "name": "stderr",
          "text": [
            "/usr/local/lib/python3.10/dist-packages/sklearn/metrics/_classification.py:1344: UndefinedMetricWarning: Precision is ill-defined and being set to 0.0 in labels with no predicted samples. Use `zero_division` parameter to control this behavior.\n",
            "  _warn_prf(average, modifier, msg_start, len(result))\n"
          ]
        },
        {
          "output_type": "stream",
          "name": "stdout",
          "text": [
            "Test Error: \n",
            " Accuracy: 77.0%\n",
            " Avg loss: 0.826565\n",
            " Precision: 0.4340\n",
            " Recall: 0.4248\n",
            " F1 Score: 0.4076\n",
            " Matthew's Correlation Coefficient: 0.6448\n",
            "EarlyStopping counter: 10 out of 10\n",
            "Early stopping\n",
            "Finished training for lr=0.001, layer_sizes=[128, 64, 32], dropouts=[0.5, 0.5, 0.5]. Best val accuracy: 78.90739117732983\n",
            "Train_loss: 2.028999\n"
          ]
        },
        {
          "output_type": "stream",
          "name": "stderr",
          "text": [
            "/usr/local/lib/python3.10/dist-packages/sklearn/metrics/_classification.py:1344: UndefinedMetricWarning: Precision is ill-defined and being set to 0.0 in labels with no predicted samples. Use `zero_division` parameter to control this behavior.\n",
            "  _warn_prf(average, modifier, msg_start, len(result))\n"
          ]
        },
        {
          "output_type": "stream",
          "name": "stdout",
          "text": [
            "Test Error: \n",
            " Accuracy: 75.4%\n",
            " Avg loss: 1.130417\n",
            " Precision: 0.3696\n",
            " Recall: 0.3989\n",
            " F1 Score: 0.3715\n",
            " Matthew's Correlation Coefficient: 0.6195\n",
            "Train_loss: 0.873690\n"
          ]
        },
        {
          "output_type": "stream",
          "name": "stderr",
          "text": [
            "/usr/local/lib/python3.10/dist-packages/sklearn/metrics/_classification.py:1344: UndefinedMetricWarning: Precision is ill-defined and being set to 0.0 in labels with no predicted samples. Use `zero_division` parameter to control this behavior.\n",
            "  _warn_prf(average, modifier, msg_start, len(result))\n"
          ]
        },
        {
          "output_type": "stream",
          "name": "stdout",
          "text": [
            "Test Error: \n",
            " Accuracy: 78.3%\n",
            " Avg loss: 0.795019\n",
            " Precision: 0.3823\n",
            " Recall: 0.4117\n",
            " F1 Score: 0.3871\n",
            " Matthew's Correlation Coefficient: 0.6605\n",
            "Train_loss: 0.436656\n"
          ]
        },
        {
          "output_type": "stream",
          "name": "stderr",
          "text": [
            "/usr/local/lib/python3.10/dist-packages/sklearn/metrics/_classification.py:1344: UndefinedMetricWarning: Precision is ill-defined and being set to 0.0 in labels with no predicted samples. Use `zero_division` parameter to control this behavior.\n",
            "  _warn_prf(average, modifier, msg_start, len(result))\n"
          ]
        },
        {
          "output_type": "stream",
          "name": "stdout",
          "text": [
            "Test Error: \n",
            " Accuracy: 79.7%\n",
            " Avg loss: 0.668390\n",
            " Precision: 0.3858\n",
            " Recall: 0.4166\n",
            " F1 Score: 0.3937\n",
            " Matthew's Correlation Coefficient: 0.6813\n",
            "Train_loss: 0.247691\n"
          ]
        },
        {
          "output_type": "stream",
          "name": "stderr",
          "text": [
            "/usr/local/lib/python3.10/dist-packages/sklearn/metrics/_classification.py:1344: UndefinedMetricWarning: Precision is ill-defined and being set to 0.0 in labels with no predicted samples. Use `zero_division` parameter to control this behavior.\n",
            "  _warn_prf(average, modifier, msg_start, len(result))\n"
          ]
        },
        {
          "output_type": "stream",
          "name": "stdout",
          "text": [
            "Test Error: \n",
            " Accuracy: 79.0%\n",
            " Avg loss: 0.677180\n",
            " Precision: 0.3855\n",
            " Recall: 0.4094\n",
            " F1 Score: 0.3903\n",
            " Matthew's Correlation Coefficient: 0.6680\n",
            "EarlyStopping counter: 1 out of 10\n",
            "Train_loss: 0.249351\n"
          ]
        },
        {
          "output_type": "stream",
          "name": "stderr",
          "text": [
            "/usr/local/lib/python3.10/dist-packages/sklearn/metrics/_classification.py:1344: UndefinedMetricWarning: Precision is ill-defined and being set to 0.0 in labels with no predicted samples. Use `zero_division` parameter to control this behavior.\n",
            "  _warn_prf(average, modifier, msg_start, len(result))\n"
          ]
        },
        {
          "output_type": "stream",
          "name": "stdout",
          "text": [
            "Test Error: \n",
            " Accuracy: 79.3%\n",
            " Avg loss: 0.677559\n",
            " Precision: 0.5047\n",
            " Recall: 0.4294\n",
            " F1 Score: 0.4245\n",
            " Matthew's Correlation Coefficient: 0.6720\n",
            "EarlyStopping counter: 2 out of 10\n",
            "Train_loss: 0.113732\n"
          ]
        },
        {
          "output_type": "stream",
          "name": "stderr",
          "text": [
            "/usr/local/lib/python3.10/dist-packages/sklearn/metrics/_classification.py:1344: UndefinedMetricWarning: Precision is ill-defined and being set to 0.0 in labels with no predicted samples. Use `zero_division` parameter to control this behavior.\n",
            "  _warn_prf(average, modifier, msg_start, len(result))\n"
          ]
        },
        {
          "output_type": "stream",
          "name": "stdout",
          "text": [
            "Test Error: \n",
            " Accuracy: 79.6%\n",
            " Avg loss: 0.673337\n",
            " Precision: 0.4543\n",
            " Recall: 0.4429\n",
            " F1 Score: 0.4421\n",
            " Matthew's Correlation Coefficient: 0.6741\n",
            "EarlyStopping counter: 3 out of 10\n",
            "Train_loss: 0.189972\n"
          ]
        },
        {
          "output_type": "stream",
          "name": "stderr",
          "text": [
            "/usr/local/lib/python3.10/dist-packages/sklearn/metrics/_classification.py:1344: UndefinedMetricWarning: Precision is ill-defined and being set to 0.0 in labels with no predicted samples. Use `zero_division` parameter to control this behavior.\n",
            "  _warn_prf(average, modifier, msg_start, len(result))\n"
          ]
        },
        {
          "output_type": "stream",
          "name": "stdout",
          "text": [
            "Test Error: \n",
            " Accuracy: 78.4%\n",
            " Avg loss: 0.721556\n",
            " Precision: 0.4361\n",
            " Recall: 0.4650\n",
            " F1 Score: 0.4442\n",
            " Matthew's Correlation Coefficient: 0.6634\n",
            "EarlyStopping counter: 4 out of 10\n",
            "Train_loss: 0.122758\n"
          ]
        },
        {
          "output_type": "stream",
          "name": "stderr",
          "text": [
            "/usr/local/lib/python3.10/dist-packages/sklearn/metrics/_classification.py:1344: UndefinedMetricWarning: Precision is ill-defined and being set to 0.0 in labels with no predicted samples. Use `zero_division` parameter to control this behavior.\n",
            "  _warn_prf(average, modifier, msg_start, len(result))\n"
          ]
        },
        {
          "output_type": "stream",
          "name": "stdout",
          "text": [
            "Test Error: \n",
            " Accuracy: 78.9%\n",
            " Avg loss: 0.718503\n",
            " Precision: 0.4379\n",
            " Recall: 0.4671\n",
            " F1 Score: 0.4477\n",
            " Matthew's Correlation Coefficient: 0.6669\n",
            "EarlyStopping counter: 5 out of 10\n",
            "Train_loss: 0.066088\n"
          ]
        },
        {
          "output_type": "stream",
          "name": "stderr",
          "text": [
            "/usr/local/lib/python3.10/dist-packages/sklearn/metrics/_classification.py:1344: UndefinedMetricWarning: Precision is ill-defined and being set to 0.0 in labels with no predicted samples. Use `zero_division` parameter to control this behavior.\n",
            "  _warn_prf(average, modifier, msg_start, len(result))\n"
          ]
        },
        {
          "output_type": "stream",
          "name": "stdout",
          "text": [
            "Test Error: \n",
            " Accuracy: 77.9%\n",
            " Avg loss: 0.793357\n",
            " Precision: 0.4361\n",
            " Recall: 0.4602\n",
            " F1 Score: 0.4405\n",
            " Matthew's Correlation Coefficient: 0.6536\n",
            "EarlyStopping counter: 6 out of 10\n",
            "Train_loss: 0.054727\n"
          ]
        },
        {
          "output_type": "stream",
          "name": "stderr",
          "text": [
            "/usr/local/lib/python3.10/dist-packages/sklearn/metrics/_classification.py:1344: UndefinedMetricWarning: Precision is ill-defined and being set to 0.0 in labels with no predicted samples. Use `zero_division` parameter to control this behavior.\n",
            "  _warn_prf(average, modifier, msg_start, len(result))\n"
          ]
        },
        {
          "output_type": "stream",
          "name": "stdout",
          "text": [
            "Test Error: \n",
            " Accuracy: 78.8%\n",
            " Avg loss: 0.789617\n",
            " Precision: 0.4382\n",
            " Recall: 0.4591\n",
            " F1 Score: 0.4436\n",
            " Matthew's Correlation Coefficient: 0.6652\n",
            "EarlyStopping counter: 7 out of 10\n",
            "Train_loss: 0.106019\n"
          ]
        },
        {
          "output_type": "stream",
          "name": "stderr",
          "text": [
            "/usr/local/lib/python3.10/dist-packages/sklearn/metrics/_classification.py:1344: UndefinedMetricWarning: Precision is ill-defined and being set to 0.0 in labels with no predicted samples. Use `zero_division` parameter to control this behavior.\n",
            "  _warn_prf(average, modifier, msg_start, len(result))\n"
          ]
        },
        {
          "output_type": "stream",
          "name": "stdout",
          "text": [
            "Test Error: \n",
            " Accuracy: 77.0%\n",
            " Avg loss: 0.861756\n",
            " Precision: 0.4134\n",
            " Recall: 0.4504\n",
            " F1 Score: 0.4240\n",
            " Matthew's Correlation Coefficient: 0.6442\n",
            "EarlyStopping counter: 8 out of 10\n",
            "Train_loss: 0.116513\n"
          ]
        },
        {
          "output_type": "stream",
          "name": "stderr",
          "text": [
            "/usr/local/lib/python3.10/dist-packages/sklearn/metrics/_classification.py:1344: UndefinedMetricWarning: Precision is ill-defined and being set to 0.0 in labels with no predicted samples. Use `zero_division` parameter to control this behavior.\n",
            "  _warn_prf(average, modifier, msg_start, len(result))\n"
          ]
        },
        {
          "output_type": "stream",
          "name": "stdout",
          "text": [
            "Test Error: \n",
            " Accuracy: 76.6%\n",
            " Avg loss: 0.875418\n",
            " Precision: 0.4142\n",
            " Recall: 0.4557\n",
            " F1 Score: 0.4278\n",
            " Matthew's Correlation Coefficient: 0.6382\n",
            "EarlyStopping counter: 9 out of 10\n",
            "Train_loss: 0.087555\n"
          ]
        },
        {
          "output_type": "stream",
          "name": "stderr",
          "text": [
            "/usr/local/lib/python3.10/dist-packages/sklearn/metrics/_classification.py:1344: UndefinedMetricWarning: Precision is ill-defined and being set to 0.0 in labels with no predicted samples. Use `zero_division` parameter to control this behavior.\n",
            "  _warn_prf(average, modifier, msg_start, len(result))\n"
          ]
        },
        {
          "output_type": "stream",
          "name": "stdout",
          "text": [
            "Test Error: \n",
            " Accuracy: 78.2%\n",
            " Avg loss: 0.889100\n",
            " Precision: 0.5249\n",
            " Recall: 0.4540\n",
            " F1 Score: 0.4523\n",
            " Matthew's Correlation Coefficient: 0.6552\n",
            "EarlyStopping counter: 10 out of 10\n",
            "Early stopping\n",
            "Finished training for lr=0.001, layer_sizes=[128, 64, 32], dropouts=[0.3, 0.3, 0.3]. Best val accuracy: 78.90739117732983\n",
            "Train_loss: 1.986208\n"
          ]
        },
        {
          "output_type": "stream",
          "name": "stderr",
          "text": [
            "/usr/local/lib/python3.10/dist-packages/sklearn/metrics/_classification.py:1344: UndefinedMetricWarning: Precision is ill-defined and being set to 0.0 in labels with no predicted samples. Use `zero_division` parameter to control this behavior.\n",
            "  _warn_prf(average, modifier, msg_start, len(result))\n"
          ]
        },
        {
          "output_type": "stream",
          "name": "stdout",
          "text": [
            "Test Error: \n",
            " Accuracy: 77.2%\n",
            " Avg loss: 0.687560\n",
            " Precision: 0.5370\n",
            " Recall: 0.4134\n",
            " F1 Score: 0.3918\n",
            " Matthew's Correlation Coefficient: 0.6465\n",
            "Train_loss: 0.194995\n"
          ]
        },
        {
          "output_type": "stream",
          "name": "stderr",
          "text": [
            "/usr/local/lib/python3.10/dist-packages/sklearn/metrics/_classification.py:1344: UndefinedMetricWarning: Precision is ill-defined and being set to 0.0 in labels with no predicted samples. Use `zero_division` parameter to control this behavior.\n",
            "  _warn_prf(average, modifier, msg_start, len(result))\n"
          ]
        },
        {
          "output_type": "stream",
          "name": "stdout",
          "text": [
            "Test Error: \n",
            " Accuracy: 77.9%\n",
            " Avg loss: 0.706300\n",
            " Precision: 0.4324\n",
            " Recall: 0.4541\n",
            " F1 Score: 0.4339\n",
            " Matthew's Correlation Coefficient: 0.6579\n",
            "Train_loss: 0.052290\n"
          ]
        },
        {
          "output_type": "stream",
          "name": "stderr",
          "text": [
            "/usr/local/lib/python3.10/dist-packages/sklearn/metrics/_classification.py:1344: UndefinedMetricWarning: Precision is ill-defined and being set to 0.0 in labels with no predicted samples. Use `zero_division` parameter to control this behavior.\n",
            "  _warn_prf(average, modifier, msg_start, len(result))\n"
          ]
        },
        {
          "output_type": "stream",
          "name": "stdout",
          "text": [
            "Test Error: \n",
            " Accuracy: 78.0%\n",
            " Avg loss: 0.743198\n",
            " Precision: 0.5025\n",
            " Recall: 0.4699\n",
            " F1 Score: 0.4614\n",
            " Matthew's Correlation Coefficient: 0.6566\n",
            "Train_loss: 0.014157\n"
          ]
        },
        {
          "output_type": "stream",
          "name": "stderr",
          "text": [
            "/usr/local/lib/python3.10/dist-packages/sklearn/metrics/_classification.py:1344: UndefinedMetricWarning: Precision is ill-defined and being set to 0.0 in labels with no predicted samples. Use `zero_division` parameter to control this behavior.\n",
            "  _warn_prf(average, modifier, msg_start, len(result))\n",
            "/usr/local/lib/python3.10/dist-packages/sklearn/metrics/_classification.py:1344: UndefinedMetricWarning: Recall is ill-defined and being set to 0.0 in labels with no true samples. Use `zero_division` parameter to control this behavior.\n",
            "  _warn_prf(average, modifier, msg_start, len(result))\n"
          ]
        },
        {
          "output_type": "stream",
          "name": "stdout",
          "text": [
            "Test Error: \n",
            " Accuracy: 78.1%\n",
            " Avg loss: 0.753536\n",
            " Precision: 0.4094\n",
            " Recall: 0.4233\n",
            " F1 Score: 0.4032\n",
            " Matthew's Correlation Coefficient: 0.6607\n",
            "Train_loss: 0.029661\n"
          ]
        },
        {
          "output_type": "stream",
          "name": "stderr",
          "text": [
            "/usr/local/lib/python3.10/dist-packages/sklearn/metrics/_classification.py:1344: UndefinedMetricWarning: Precision is ill-defined and being set to 0.0 in labels with no predicted samples. Use `zero_division` parameter to control this behavior.\n",
            "  _warn_prf(average, modifier, msg_start, len(result))\n"
          ]
        },
        {
          "output_type": "stream",
          "name": "stdout",
          "text": [
            "Test Error: \n",
            " Accuracy: 79.2%\n",
            " Avg loss: 0.756098\n",
            " Precision: 0.5264\n",
            " Recall: 0.4791\n",
            " F1 Score: 0.4725\n",
            " Matthew's Correlation Coefficient: 0.6740\n",
            "Train_loss: 0.009531\n"
          ]
        },
        {
          "output_type": "stream",
          "name": "stderr",
          "text": [
            "/usr/local/lib/python3.10/dist-packages/sklearn/metrics/_classification.py:1344: UndefinedMetricWarning: Recall is ill-defined and being set to 0.0 in labels with no true samples. Use `zero_division` parameter to control this behavior.\n",
            "  _warn_prf(average, modifier, msg_start, len(result))\n"
          ]
        },
        {
          "output_type": "stream",
          "name": "stdout",
          "text": [
            "Test Error: \n",
            " Accuracy: 78.0%\n",
            " Avg loss: 0.821386\n",
            " Precision: 0.4731\n",
            " Recall: 0.4381\n",
            " F1 Score: 0.4320\n",
            " Matthew's Correlation Coefficient: 0.6596\n",
            "EarlyStopping counter: 1 out of 10\n",
            "Train_loss: 0.076665\n"
          ]
        },
        {
          "output_type": "stream",
          "name": "stderr",
          "text": [
            "/usr/local/lib/python3.10/dist-packages/sklearn/metrics/_classification.py:1344: UndefinedMetricWarning: Recall is ill-defined and being set to 0.0 in labels with no true samples. Use `zero_division` parameter to control this behavior.\n",
            "  _warn_prf(average, modifier, msg_start, len(result))\n"
          ]
        },
        {
          "output_type": "stream",
          "name": "stdout",
          "text": [
            "Test Error: \n",
            " Accuracy: 78.1%\n",
            " Avg loss: 0.894812\n",
            " Precision: 0.4209\n",
            " Recall: 0.4016\n",
            " F1 Score: 0.3953\n",
            " Matthew's Correlation Coefficient: 0.6613\n",
            "EarlyStopping counter: 2 out of 10\n",
            "Train_loss: 0.003901\n"
          ]
        },
        {
          "output_type": "stream",
          "name": "stderr",
          "text": [
            "/usr/local/lib/python3.10/dist-packages/sklearn/metrics/_classification.py:1344: UndefinedMetricWarning: Recall is ill-defined and being set to 0.0 in labels with no true samples. Use `zero_division` parameter to control this behavior.\n",
            "  _warn_prf(average, modifier, msg_start, len(result))\n"
          ]
        },
        {
          "output_type": "stream",
          "name": "stdout",
          "text": [
            "Test Error: \n",
            " Accuracy: 79.2%\n",
            " Avg loss: 0.819722\n",
            " Precision: 0.4963\n",
            " Recall: 0.4448\n",
            " F1 Score: 0.4497\n",
            " Matthew's Correlation Coefficient: 0.6738\n",
            "Train_loss: 0.001939\n"
          ]
        },
        {
          "output_type": "stream",
          "name": "stderr",
          "text": [
            "/usr/local/lib/python3.10/dist-packages/sklearn/metrics/_classification.py:1344: UndefinedMetricWarning: Recall is ill-defined and being set to 0.0 in labels with no true samples. Use `zero_division` parameter to control this behavior.\n",
            "  _warn_prf(average, modifier, msg_start, len(result))\n"
          ]
        },
        {
          "output_type": "stream",
          "name": "stdout",
          "text": [
            "Test Error: \n",
            " Accuracy: 78.9%\n",
            " Avg loss: 0.869886\n",
            " Precision: 0.4804\n",
            " Recall: 0.4402\n",
            " F1 Score: 0.4394\n",
            " Matthew's Correlation Coefficient: 0.6702\n",
            "EarlyStopping counter: 1 out of 10\n",
            "Train_loss: 0.001434\n"
          ]
        },
        {
          "output_type": "stream",
          "name": "stderr",
          "text": [
            "/usr/local/lib/python3.10/dist-packages/sklearn/metrics/_classification.py:1344: UndefinedMetricWarning: Recall is ill-defined and being set to 0.0 in labels with no true samples. Use `zero_division` parameter to control this behavior.\n",
            "  _warn_prf(average, modifier, msg_start, len(result))\n"
          ]
        },
        {
          "output_type": "stream",
          "name": "stdout",
          "text": [
            "Test Error: \n",
            " Accuracy: 77.8%\n",
            " Avg loss: 0.940842\n",
            " Precision: 0.4630\n",
            " Recall: 0.4012\n",
            " F1 Score: 0.3923\n",
            " Matthew's Correlation Coefficient: 0.6574\n",
            "EarlyStopping counter: 2 out of 10\n",
            "Train_loss: 0.000877\n"
          ]
        },
        {
          "output_type": "stream",
          "name": "stderr",
          "text": [
            "/usr/local/lib/python3.10/dist-packages/sklearn/metrics/_classification.py:1344: UndefinedMetricWarning: Recall is ill-defined and being set to 0.0 in labels with no true samples. Use `zero_division` parameter to control this behavior.\n",
            "  _warn_prf(average, modifier, msg_start, len(result))\n"
          ]
        },
        {
          "output_type": "stream",
          "name": "stdout",
          "text": [
            "Test Error: \n",
            " Accuracy: 78.7%\n",
            " Avg loss: 0.896736\n",
            " Precision: 0.4699\n",
            " Recall: 0.4093\n",
            " F1 Score: 0.4016\n",
            " Matthew's Correlation Coefficient: 0.6687\n",
            "EarlyStopping counter: 3 out of 10\n",
            "Train_loss: 0.000931\n"
          ]
        },
        {
          "output_type": "stream",
          "name": "stderr",
          "text": [
            "/usr/local/lib/python3.10/dist-packages/sklearn/metrics/_classification.py:1344: UndefinedMetricWarning: Recall is ill-defined and being set to 0.0 in labels with no true samples. Use `zero_division` parameter to control this behavior.\n",
            "  _warn_prf(average, modifier, msg_start, len(result))\n"
          ]
        },
        {
          "output_type": "stream",
          "name": "stdout",
          "text": [
            "Test Error: \n",
            " Accuracy: 79.6%\n",
            " Avg loss: 0.869994\n",
            " Precision: 0.6001\n",
            " Recall: 0.4421\n",
            " F1 Score: 0.4559\n",
            " Matthew's Correlation Coefficient: 0.6784\n",
            "Train_loss: 0.001144\n"
          ]
        },
        {
          "output_type": "stream",
          "name": "stderr",
          "text": [
            "/usr/local/lib/python3.10/dist-packages/sklearn/metrics/_classification.py:1344: UndefinedMetricWarning: Recall is ill-defined and being set to 0.0 in labels with no true samples. Use `zero_division` parameter to control this behavior.\n",
            "  _warn_prf(average, modifier, msg_start, len(result))\n"
          ]
        },
        {
          "output_type": "stream",
          "name": "stdout",
          "text": [
            "Test Error: \n",
            " Accuracy: 79.3%\n",
            " Avg loss: 0.907249\n",
            " Precision: 0.5124\n",
            " Recall: 0.4460\n",
            " F1 Score: 0.4542\n",
            " Matthew's Correlation Coefficient: 0.6745\n",
            "EarlyStopping counter: 1 out of 10\n",
            "Train_loss: 0.001963\n"
          ]
        },
        {
          "output_type": "stream",
          "name": "stderr",
          "text": [
            "/usr/local/lib/python3.10/dist-packages/sklearn/metrics/_classification.py:1344: UndefinedMetricWarning: Recall is ill-defined and being set to 0.0 in labels with no true samples. Use `zero_division` parameter to control this behavior.\n",
            "  _warn_prf(average, modifier, msg_start, len(result))\n"
          ]
        },
        {
          "output_type": "stream",
          "name": "stdout",
          "text": [
            "Test Error: \n",
            " Accuracy: 79.9%\n",
            " Avg loss: 0.910442\n",
            " Precision: 0.5499\n",
            " Recall: 0.4528\n",
            " F1 Score: 0.4695\n",
            " Matthew's Correlation Coefficient: 0.6816\n",
            "Train_loss: 0.000852\n"
          ]
        },
        {
          "output_type": "stream",
          "name": "stderr",
          "text": [
            "/usr/local/lib/python3.10/dist-packages/sklearn/metrics/_classification.py:1344: UndefinedMetricWarning: Recall is ill-defined and being set to 0.0 in labels with no true samples. Use `zero_division` parameter to control this behavior.\n",
            "  _warn_prf(average, modifier, msg_start, len(result))\n"
          ]
        },
        {
          "output_type": "stream",
          "name": "stdout",
          "text": [
            "Test Error: \n",
            " Accuracy: 78.1%\n",
            " Avg loss: 1.079224\n",
            " Precision: 0.5976\n",
            " Recall: 0.4269\n",
            " F1 Score: 0.4594\n",
            " Matthew's Correlation Coefficient: 0.6521\n",
            "EarlyStopping counter: 1 out of 10\n",
            "Train_loss: 0.001323\n",
            "Test Error: \n",
            " Accuracy: 71.5%\n",
            " Avg loss: 1.314987\n",
            " Precision: 0.4485\n",
            " Recall: 0.4512\n",
            " F1 Score: 0.4363\n",
            " Matthew's Correlation Coefficient: 0.5630\n",
            "EarlyStopping counter: 2 out of 10\n",
            "Train_loss: 0.105570\n"
          ]
        },
        {
          "output_type": "stream",
          "name": "stderr",
          "text": [
            "/usr/local/lib/python3.10/dist-packages/sklearn/metrics/_classification.py:1344: UndefinedMetricWarning: Precision is ill-defined and being set to 0.0 in labels with no predicted samples. Use `zero_division` parameter to control this behavior.\n",
            "  _warn_prf(average, modifier, msg_start, len(result))\n",
            "/usr/local/lib/python3.10/dist-packages/sklearn/metrics/_classification.py:1344: UndefinedMetricWarning: Recall is ill-defined and being set to 0.0 in labels with no true samples. Use `zero_division` parameter to control this behavior.\n",
            "  _warn_prf(average, modifier, msg_start, len(result))\n"
          ]
        },
        {
          "output_type": "stream",
          "name": "stdout",
          "text": [
            "Test Error: \n",
            " Accuracy: 76.1%\n",
            " Avg loss: 0.912774\n",
            " Precision: 0.3850\n",
            " Recall: 0.3733\n",
            " F1 Score: 0.3680\n",
            " Matthew's Correlation Coefficient: 0.6208\n",
            "EarlyStopping counter: 3 out of 10\n",
            "Train_loss: 0.089911\n"
          ]
        },
        {
          "output_type": "stream",
          "name": "stderr",
          "text": [
            "/usr/local/lib/python3.10/dist-packages/sklearn/metrics/_classification.py:1344: UndefinedMetricWarning: Recall is ill-defined and being set to 0.0 in labels with no true samples. Use `zero_division` parameter to control this behavior.\n",
            "  _warn_prf(average, modifier, msg_start, len(result))\n"
          ]
        },
        {
          "output_type": "stream",
          "name": "stdout",
          "text": [
            "Test Error: \n",
            " Accuracy: 77.0%\n",
            " Avg loss: 0.890352\n",
            " Precision: 0.5733\n",
            " Recall: 0.4296\n",
            " F1 Score: 0.4450\n",
            " Matthew's Correlation Coefficient: 0.6408\n",
            "EarlyStopping counter: 4 out of 10\n",
            "Train_loss: 0.038477\n"
          ]
        },
        {
          "output_type": "stream",
          "name": "stderr",
          "text": [
            "/usr/local/lib/python3.10/dist-packages/sklearn/metrics/_classification.py:1344: UndefinedMetricWarning: Recall is ill-defined and being set to 0.0 in labels with no true samples. Use `zero_division` parameter to control this behavior.\n",
            "  _warn_prf(average, modifier, msg_start, len(result))\n"
          ]
        },
        {
          "output_type": "stream",
          "name": "stdout",
          "text": [
            "Test Error: \n",
            " Accuracy: 76.5%\n",
            " Avg loss: 0.975776\n",
            " Precision: 0.4613\n",
            " Recall: 0.4244\n",
            " F1 Score: 0.4302\n",
            " Matthew's Correlation Coefficient: 0.6322\n",
            "EarlyStopping counter: 5 out of 10\n",
            "Train_loss: 0.001521\n"
          ]
        },
        {
          "output_type": "stream",
          "name": "stderr",
          "text": [
            "/usr/local/lib/python3.10/dist-packages/sklearn/metrics/_classification.py:1344: UndefinedMetricWarning: Recall is ill-defined and being set to 0.0 in labels with no true samples. Use `zero_division` parameter to control this behavior.\n",
            "  _warn_prf(average, modifier, msg_start, len(result))\n"
          ]
        },
        {
          "output_type": "stream",
          "name": "stdout",
          "text": [
            "Test Error: \n",
            " Accuracy: 76.1%\n",
            " Avg loss: 1.026509\n",
            " Precision: 0.4239\n",
            " Recall: 0.4262\n",
            " F1 Score: 0.4156\n",
            " Matthew's Correlation Coefficient: 0.6261\n",
            "EarlyStopping counter: 6 out of 10\n",
            "Train_loss: 0.003357\n"
          ]
        },
        {
          "output_type": "stream",
          "name": "stderr",
          "text": [
            "/usr/local/lib/python3.10/dist-packages/sklearn/metrics/_classification.py:1344: UndefinedMetricWarning: Recall is ill-defined and being set to 0.0 in labels with no true samples. Use `zero_division` parameter to control this behavior.\n",
            "  _warn_prf(average, modifier, msg_start, len(result))\n"
          ]
        },
        {
          "output_type": "stream",
          "name": "stdout",
          "text": [
            "Test Error: \n",
            " Accuracy: 76.1%\n",
            " Avg loss: 1.151087\n",
            " Precision: 0.5899\n",
            " Recall: 0.4121\n",
            " F1 Score: 0.4325\n",
            " Matthew's Correlation Coefficient: 0.6244\n",
            "EarlyStopping counter: 7 out of 10\n",
            "Train_loss: 0.001109\n"
          ]
        },
        {
          "output_type": "stream",
          "name": "stderr",
          "text": [
            "/usr/local/lib/python3.10/dist-packages/sklearn/metrics/_classification.py:1344: UndefinedMetricWarning: Recall is ill-defined and being set to 0.0 in labels with no true samples. Use `zero_division` parameter to control this behavior.\n",
            "  _warn_prf(average, modifier, msg_start, len(result))\n"
          ]
        },
        {
          "output_type": "stream",
          "name": "stdout",
          "text": [
            "Test Error: \n",
            " Accuracy: 76.4%\n",
            " Avg loss: 1.153234\n",
            " Precision: 0.5927\n",
            " Recall: 0.4301\n",
            " F1 Score: 0.4568\n",
            " Matthew's Correlation Coefficient: 0.6280\n",
            "EarlyStopping counter: 8 out of 10\n",
            "Train_loss: 0.001719\n"
          ]
        },
        {
          "output_type": "stream",
          "name": "stderr",
          "text": [
            "/usr/local/lib/python3.10/dist-packages/sklearn/metrics/_classification.py:1344: UndefinedMetricWarning: Recall is ill-defined and being set to 0.0 in labels with no true samples. Use `zero_division` parameter to control this behavior.\n",
            "  _warn_prf(average, modifier, msg_start, len(result))\n"
          ]
        },
        {
          "output_type": "stream",
          "name": "stdout",
          "text": [
            "Test Error: \n",
            " Accuracy: 76.0%\n",
            " Avg loss: 1.166015\n",
            " Precision: 0.5016\n",
            " Recall: 0.4292\n",
            " F1 Score: 0.4424\n",
            " Matthew's Correlation Coefficient: 0.6239\n",
            "EarlyStopping counter: 9 out of 10\n",
            "Train_loss: 0.000674\n"
          ]
        },
        {
          "output_type": "stream",
          "name": "stderr",
          "text": [
            "/usr/local/lib/python3.10/dist-packages/sklearn/metrics/_classification.py:1344: UndefinedMetricWarning: Recall is ill-defined and being set to 0.0 in labels with no true samples. Use `zero_division` parameter to control this behavior.\n",
            "  _warn_prf(average, modifier, msg_start, len(result))\n"
          ]
        },
        {
          "output_type": "stream",
          "name": "stdout",
          "text": [
            "Test Error: \n",
            " Accuracy: 76.9%\n",
            " Avg loss: 1.141195\n",
            " Precision: 0.6170\n",
            " Recall: 0.4236\n",
            " F1 Score: 0.4515\n",
            " Matthew's Correlation Coefficient: 0.6319\n",
            "EarlyStopping counter: 10 out of 10\n",
            "Early stopping\n",
            "Finished training for lr=0.001, layer_sizes=[512, 256, 128], dropouts=[0.1, 0.1, 0.1]. Best val accuracy: 78.90739117732983\n",
            "Train_loss: 1.992839\n"
          ]
        },
        {
          "output_type": "stream",
          "name": "stderr",
          "text": [
            "/usr/local/lib/python3.10/dist-packages/sklearn/metrics/_classification.py:1344: UndefinedMetricWarning: Precision is ill-defined and being set to 0.0 in labels with no predicted samples. Use `zero_division` parameter to control this behavior.\n",
            "  _warn_prf(average, modifier, msg_start, len(result))\n"
          ]
        },
        {
          "output_type": "stream",
          "name": "stdout",
          "text": [
            "Test Error: \n",
            " Accuracy: 76.4%\n",
            " Avg loss: 0.771214\n",
            " Precision: 0.3728\n",
            " Recall: 0.4035\n",
            " F1 Score: 0.3736\n",
            " Matthew's Correlation Coefficient: 0.6391\n",
            "Train_loss: 0.442616\n"
          ]
        },
        {
          "output_type": "stream",
          "name": "stderr",
          "text": [
            "/usr/local/lib/python3.10/dist-packages/sklearn/metrics/_classification.py:1344: UndefinedMetricWarning: Precision is ill-defined and being set to 0.0 in labels with no predicted samples. Use `zero_division` parameter to control this behavior.\n",
            "  _warn_prf(average, modifier, msg_start, len(result))\n"
          ]
        },
        {
          "output_type": "stream",
          "name": "stdout",
          "text": [
            "Test Error: \n",
            " Accuracy: 77.7%\n",
            " Avg loss: 0.657061\n",
            " Precision: 0.3781\n",
            " Recall: 0.4071\n",
            " F1 Score: 0.3827\n",
            " Matthew's Correlation Coefficient: 0.6514\n",
            "Train_loss: 0.330647\n"
          ]
        },
        {
          "output_type": "stream",
          "name": "stderr",
          "text": [
            "/usr/local/lib/python3.10/dist-packages/sklearn/metrics/_classification.py:1344: UndefinedMetricWarning: Precision is ill-defined and being set to 0.0 in labels with no predicted samples. Use `zero_division` parameter to control this behavior.\n",
            "  _warn_prf(average, modifier, msg_start, len(result))\n"
          ]
        },
        {
          "output_type": "stream",
          "name": "stdout",
          "text": [
            "Test Error: \n",
            " Accuracy: 75.9%\n",
            " Avg loss: 0.756934\n",
            " Precision: 0.4262\n",
            " Recall: 0.4184\n",
            " F1 Score: 0.3962\n",
            " Matthew's Correlation Coefficient: 0.6361\n",
            "EarlyStopping counter: 1 out of 10\n",
            "Train_loss: 0.313129\n"
          ]
        },
        {
          "output_type": "stream",
          "name": "stderr",
          "text": [
            "/usr/local/lib/python3.10/dist-packages/sklearn/metrics/_classification.py:1344: UndefinedMetricWarning: Precision is ill-defined and being set to 0.0 in labels with no predicted samples. Use `zero_division` parameter to control this behavior.\n",
            "  _warn_prf(average, modifier, msg_start, len(result))\n"
          ]
        },
        {
          "output_type": "stream",
          "name": "stdout",
          "text": [
            "Test Error: \n",
            " Accuracy: 76.6%\n",
            " Avg loss: 0.771260\n",
            " Precision: 0.4093\n",
            " Recall: 0.4454\n",
            " F1 Score: 0.4159\n",
            " Matthew's Correlation Coefficient: 0.6413\n",
            "EarlyStopping counter: 2 out of 10\n",
            "Train_loss: 0.079805\n"
          ]
        },
        {
          "output_type": "stream",
          "name": "stderr",
          "text": [
            "/usr/local/lib/python3.10/dist-packages/sklearn/metrics/_classification.py:1344: UndefinedMetricWarning: Precision is ill-defined and being set to 0.0 in labels with no predicted samples. Use `zero_division` parameter to control this behavior.\n",
            "  _warn_prf(average, modifier, msg_start, len(result))\n"
          ]
        },
        {
          "output_type": "stream",
          "name": "stdout",
          "text": [
            "Test Error: \n",
            " Accuracy: 76.2%\n",
            " Avg loss: 0.799754\n",
            " Precision: 0.4064\n",
            " Recall: 0.4542\n",
            " F1 Score: 0.4159\n",
            " Matthew's Correlation Coefficient: 0.6377\n",
            "EarlyStopping counter: 3 out of 10\n",
            "Train_loss: 0.148796\n"
          ]
        },
        {
          "output_type": "stream",
          "name": "stderr",
          "text": [
            "/usr/local/lib/python3.10/dist-packages/sklearn/metrics/_classification.py:1344: UndefinedMetricWarning: Precision is ill-defined and being set to 0.0 in labels with no predicted samples. Use `zero_division` parameter to control this behavior.\n",
            "  _warn_prf(average, modifier, msg_start, len(result))\n"
          ]
        },
        {
          "output_type": "stream",
          "name": "stdout",
          "text": [
            "Test Error: \n",
            " Accuracy: 76.3%\n",
            " Avg loss: 0.830554\n",
            " Precision: 0.4046\n",
            " Recall: 0.4502\n",
            " F1 Score: 0.4143\n",
            " Matthew's Correlation Coefficient: 0.6389\n",
            "EarlyStopping counter: 4 out of 10\n",
            "Train_loss: 0.238748\n"
          ]
        },
        {
          "output_type": "stream",
          "name": "stderr",
          "text": [
            "/usr/local/lib/python3.10/dist-packages/sklearn/metrics/_classification.py:1344: UndefinedMetricWarning: Precision is ill-defined and being set to 0.0 in labels with no predicted samples. Use `zero_division` parameter to control this behavior.\n",
            "  _warn_prf(average, modifier, msg_start, len(result))\n",
            "/usr/local/lib/python3.10/dist-packages/sklearn/metrics/_classification.py:1344: UndefinedMetricWarning: Recall is ill-defined and being set to 0.0 in labels with no true samples. Use `zero_division` parameter to control this behavior.\n",
            "  _warn_prf(average, modifier, msg_start, len(result))\n"
          ]
        },
        {
          "output_type": "stream",
          "name": "stdout",
          "text": [
            "Test Error: \n",
            " Accuracy: 76.0%\n",
            " Avg loss: 0.858144\n",
            " Precision: 0.4291\n",
            " Recall: 0.4087\n",
            " F1 Score: 0.3713\n",
            " Matthew's Correlation Coefficient: 0.6379\n",
            "EarlyStopping counter: 5 out of 10\n",
            "Train_loss: 0.033477\n"
          ]
        },
        {
          "output_type": "stream",
          "name": "stderr",
          "text": [
            "/usr/local/lib/python3.10/dist-packages/sklearn/metrics/_classification.py:1344: UndefinedMetricWarning: Precision is ill-defined and being set to 0.0 in labels with no predicted samples. Use `zero_division` parameter to control this behavior.\n",
            "  _warn_prf(average, modifier, msg_start, len(result))\n",
            "/usr/local/lib/python3.10/dist-packages/sklearn/metrics/_classification.py:1344: UndefinedMetricWarning: Recall is ill-defined and being set to 0.0 in labels with no true samples. Use `zero_division` parameter to control this behavior.\n",
            "  _warn_prf(average, modifier, msg_start, len(result))\n"
          ]
        },
        {
          "output_type": "stream",
          "name": "stdout",
          "text": [
            "Test Error: \n",
            " Accuracy: 75.9%\n",
            " Avg loss: 0.910958\n",
            " Precision: 0.4172\n",
            " Recall: 0.3975\n",
            " F1 Score: 0.3663\n",
            " Matthew's Correlation Coefficient: 0.6368\n",
            "EarlyStopping counter: 6 out of 10\n",
            "Train_loss: 0.068652\n"
          ]
        },
        {
          "output_type": "stream",
          "name": "stderr",
          "text": [
            "/usr/local/lib/python3.10/dist-packages/sklearn/metrics/_classification.py:1344: UndefinedMetricWarning: Precision is ill-defined and being set to 0.0 in labels with no predicted samples. Use `zero_division` parameter to control this behavior.\n",
            "  _warn_prf(average, modifier, msg_start, len(result))\n",
            "/usr/local/lib/python3.10/dist-packages/sklearn/metrics/_classification.py:1344: UndefinedMetricWarning: Recall is ill-defined and being set to 0.0 in labels with no true samples. Use `zero_division` parameter to control this behavior.\n",
            "  _warn_prf(average, modifier, msg_start, len(result))\n"
          ]
        },
        {
          "output_type": "stream",
          "name": "stdout",
          "text": [
            "Test Error: \n",
            " Accuracy: 78.9%\n",
            " Avg loss: 0.933251\n",
            " Precision: 0.4515\n",
            " Recall: 0.4108\n",
            " F1 Score: 0.3963\n",
            " Matthew's Correlation Coefficient: 0.6677\n",
            "Train_loss: 0.019294\n"
          ]
        },
        {
          "output_type": "stream",
          "name": "stderr",
          "text": [
            "/usr/local/lib/python3.10/dist-packages/sklearn/metrics/_classification.py:1344: UndefinedMetricWarning: Precision is ill-defined and being set to 0.0 in labels with no predicted samples. Use `zero_division` parameter to control this behavior.\n",
            "  _warn_prf(average, modifier, msg_start, len(result))\n",
            "/usr/local/lib/python3.10/dist-packages/sklearn/metrics/_classification.py:1344: UndefinedMetricWarning: Recall is ill-defined and being set to 0.0 in labels with no true samples. Use `zero_division` parameter to control this behavior.\n",
            "  _warn_prf(average, modifier, msg_start, len(result))\n"
          ]
        },
        {
          "output_type": "stream",
          "name": "stdout",
          "text": [
            "Test Error: \n",
            " Accuracy: 75.9%\n",
            " Avg loss: 1.007500\n",
            " Precision: 0.3828\n",
            " Recall: 0.3870\n",
            " F1 Score: 0.3638\n",
            " Matthew's Correlation Coefficient: 0.6293\n",
            "EarlyStopping counter: 1 out of 10\n",
            "Train_loss: 0.056553\n"
          ]
        },
        {
          "output_type": "stream",
          "name": "stderr",
          "text": [
            "/usr/local/lib/python3.10/dist-packages/sklearn/metrics/_classification.py:1344: UndefinedMetricWarning: Precision is ill-defined and being set to 0.0 in labels with no predicted samples. Use `zero_division` parameter to control this behavior.\n",
            "  _warn_prf(average, modifier, msg_start, len(result))\n"
          ]
        },
        {
          "output_type": "stream",
          "name": "stdout",
          "text": [
            "Test Error: \n",
            " Accuracy: 74.7%\n",
            " Avg loss: 1.228829\n",
            " Precision: 0.4851\n",
            " Recall: 0.4277\n",
            " F1 Score: 0.4099\n",
            " Matthew's Correlation Coefficient: 0.6128\n",
            "EarlyStopping counter: 2 out of 10\n",
            "Train_loss: 0.008830\n"
          ]
        },
        {
          "output_type": "stream",
          "name": "stderr",
          "text": [
            "/usr/local/lib/python3.10/dist-packages/sklearn/metrics/_classification.py:1344: UndefinedMetricWarning: Precision is ill-defined and being set to 0.0 in labels with no predicted samples. Use `zero_division` parameter to control this behavior.\n",
            "  _warn_prf(average, modifier, msg_start, len(result))\n"
          ]
        },
        {
          "output_type": "stream",
          "name": "stdout",
          "text": [
            "Test Error: \n",
            " Accuracy: 76.2%\n",
            " Avg loss: 1.098334\n",
            " Precision: 0.5192\n",
            " Recall: 0.4533\n",
            " F1 Score: 0.4385\n",
            " Matthew's Correlation Coefficient: 0.6318\n",
            "EarlyStopping counter: 3 out of 10\n",
            "Train_loss: 0.018425\n"
          ]
        },
        {
          "output_type": "stream",
          "name": "stderr",
          "text": [
            "/usr/local/lib/python3.10/dist-packages/sklearn/metrics/_classification.py:1344: UndefinedMetricWarning: Precision is ill-defined and being set to 0.0 in labels with no predicted samples. Use `zero_division` parameter to control this behavior.\n",
            "  _warn_prf(average, modifier, msg_start, len(result))\n",
            "/usr/local/lib/python3.10/dist-packages/sklearn/metrics/_classification.py:1344: UndefinedMetricWarning: Recall is ill-defined and being set to 0.0 in labels with no true samples. Use `zero_division` parameter to control this behavior.\n",
            "  _warn_prf(average, modifier, msg_start, len(result))\n"
          ]
        },
        {
          "output_type": "stream",
          "name": "stdout",
          "text": [
            "Test Error: \n",
            " Accuracy: 77.3%\n",
            " Avg loss: 1.072820\n",
            " Precision: 0.4035\n",
            " Recall: 0.3869\n",
            " F1 Score: 0.3730\n",
            " Matthew's Correlation Coefficient: 0.6435\n",
            "EarlyStopping counter: 4 out of 10\n",
            "Train_loss: 0.015624\n"
          ]
        },
        {
          "output_type": "stream",
          "name": "stderr",
          "text": [
            "/usr/local/lib/python3.10/dist-packages/sklearn/metrics/_classification.py:1344: UndefinedMetricWarning: Precision is ill-defined and being set to 0.0 in labels with no predicted samples. Use `zero_division` parameter to control this behavior.\n",
            "  _warn_prf(average, modifier, msg_start, len(result))\n"
          ]
        },
        {
          "output_type": "stream",
          "name": "stdout",
          "text": [
            "Test Error: \n",
            " Accuracy: 77.0%\n",
            " Avg loss: 1.091968\n",
            " Precision: 0.5778\n",
            " Recall: 0.4505\n",
            " F1 Score: 0.4345\n",
            " Matthew's Correlation Coefficient: 0.6393\n",
            "EarlyStopping counter: 5 out of 10\n",
            "Train_loss: 0.049345\n",
            "Test Error: \n",
            " Accuracy: 77.0%\n",
            " Avg loss: 1.104264\n",
            " Precision: 0.5089\n",
            " Recall: 0.4522\n",
            " F1 Score: 0.4490\n",
            " Matthew's Correlation Coefficient: 0.6381\n",
            "EarlyStopping counter: 6 out of 10\n",
            "Train_loss: 0.100995\n"
          ]
        },
        {
          "output_type": "stream",
          "name": "stderr",
          "text": [
            "/usr/local/lib/python3.10/dist-packages/sklearn/metrics/_classification.py:1344: UndefinedMetricWarning: Recall is ill-defined and being set to 0.0 in labels with no true samples. Use `zero_division` parameter to control this behavior.\n",
            "  _warn_prf(average, modifier, msg_start, len(result))\n"
          ]
        },
        {
          "output_type": "stream",
          "name": "stdout",
          "text": [
            "Test Error: \n",
            " Accuracy: 77.2%\n",
            " Avg loss: 1.114948\n",
            " Precision: 0.5045\n",
            " Recall: 0.3909\n",
            " F1 Score: 0.3776\n",
            " Matthew's Correlation Coefficient: 0.6447\n",
            "EarlyStopping counter: 7 out of 10\n",
            "Train_loss: 0.039659\n"
          ]
        },
        {
          "output_type": "stream",
          "name": "stderr",
          "text": [
            "/usr/local/lib/python3.10/dist-packages/sklearn/metrics/_classification.py:1344: UndefinedMetricWarning: Recall is ill-defined and being set to 0.0 in labels with no true samples. Use `zero_division` parameter to control this behavior.\n",
            "  _warn_prf(average, modifier, msg_start, len(result))\n"
          ]
        },
        {
          "output_type": "stream",
          "name": "stdout",
          "text": [
            "Test Error: \n",
            " Accuracy: 78.1%\n",
            " Avg loss: 1.140431\n",
            " Precision: 0.4725\n",
            " Recall: 0.4249\n",
            " F1 Score: 0.4305\n",
            " Matthew's Correlation Coefficient: 0.6545\n",
            "EarlyStopping counter: 8 out of 10\n",
            "Train_loss: 0.077519\n"
          ]
        },
        {
          "output_type": "stream",
          "name": "stderr",
          "text": [
            "/usr/local/lib/python3.10/dist-packages/sklearn/metrics/_classification.py:1344: UndefinedMetricWarning: Precision is ill-defined and being set to 0.0 in labels with no predicted samples. Use `zero_division` parameter to control this behavior.\n",
            "  _warn_prf(average, modifier, msg_start, len(result))\n",
            "/usr/local/lib/python3.10/dist-packages/sklearn/metrics/_classification.py:1344: UndefinedMetricWarning: Recall is ill-defined and being set to 0.0 in labels with no true samples. Use `zero_division` parameter to control this behavior.\n",
            "  _warn_prf(average, modifier, msg_start, len(result))\n"
          ]
        },
        {
          "output_type": "stream",
          "name": "stdout",
          "text": [
            "Test Error: \n",
            " Accuracy: 75.6%\n",
            " Avg loss: 1.228762\n",
            " Precision: 0.3879\n",
            " Recall: 0.3863\n",
            " F1 Score: 0.3698\n",
            " Matthew's Correlation Coefficient: 0.6224\n",
            "EarlyStopping counter: 9 out of 10\n",
            "Train_loss: 0.016251\n"
          ]
        },
        {
          "output_type": "stream",
          "name": "stderr",
          "text": [
            "/usr/local/lib/python3.10/dist-packages/sklearn/metrics/_classification.py:1344: UndefinedMetricWarning: Recall is ill-defined and being set to 0.0 in labels with no true samples. Use `zero_division` parameter to control this behavior.\n",
            "  _warn_prf(average, modifier, msg_start, len(result))\n"
          ]
        },
        {
          "output_type": "stream",
          "name": "stdout",
          "text": [
            "Test Error: \n",
            " Accuracy: 73.2%\n",
            " Avg loss: 1.349737\n",
            " Precision: 0.3722\n",
            " Recall: 0.3829\n",
            " F1 Score: 0.3624\n",
            " Matthew's Correlation Coefficient: 0.5952\n",
            "EarlyStopping counter: 10 out of 10\n",
            "Early stopping\n",
            "Finished training for lr=0.001, layer_sizes=[512, 256, 128], dropouts=[0.5, 0.5, 0.5]. Best val accuracy: 78.90739117732983\n",
            "Train_loss: 2.447014\n"
          ]
        },
        {
          "output_type": "stream",
          "name": "stderr",
          "text": [
            "/usr/local/lib/python3.10/dist-packages/sklearn/metrics/_classification.py:1344: UndefinedMetricWarning: Precision is ill-defined and being set to 0.0 in labels with no predicted samples. Use `zero_division` parameter to control this behavior.\n",
            "  _warn_prf(average, modifier, msg_start, len(result))\n"
          ]
        },
        {
          "output_type": "stream",
          "name": "stdout",
          "text": [
            "Test Error: \n",
            " Accuracy: 78.9%\n",
            " Avg loss: 0.662594\n",
            " Precision: 0.3857\n",
            " Recall: 0.4119\n",
            " F1 Score: 0.3892\n",
            " Matthew's Correlation Coefficient: 0.6704\n",
            "Train_loss: 0.172674\n"
          ]
        },
        {
          "output_type": "stream",
          "name": "stderr",
          "text": [
            "/usr/local/lib/python3.10/dist-packages/sklearn/metrics/_classification.py:1344: UndefinedMetricWarning: Precision is ill-defined and being set to 0.0 in labels with no predicted samples. Use `zero_division` parameter to control this behavior.\n",
            "  _warn_prf(average, modifier, msg_start, len(result))\n"
          ]
        },
        {
          "output_type": "stream",
          "name": "stdout",
          "text": [
            "Test Error: \n",
            " Accuracy: 78.1%\n",
            " Avg loss: 0.656680\n",
            " Precision: 0.4449\n",
            " Recall: 0.4276\n",
            " F1 Score: 0.4181\n",
            " Matthew's Correlation Coefficient: 0.6571\n",
            "EarlyStopping counter: 1 out of 10\n",
            "Train_loss: 0.112306\n"
          ]
        },
        {
          "output_type": "stream",
          "name": "stderr",
          "text": [
            "/usr/local/lib/python3.10/dist-packages/sklearn/metrics/_classification.py:1344: UndefinedMetricWarning: Precision is ill-defined and being set to 0.0 in labels with no predicted samples. Use `zero_division` parameter to control this behavior.\n",
            "  _warn_prf(average, modifier, msg_start, len(result))\n"
          ]
        },
        {
          "output_type": "stream",
          "name": "stdout",
          "text": [
            "Test Error: \n",
            " Accuracy: 78.4%\n",
            " Avg loss: 0.703724\n",
            " Precision: 0.4321\n",
            " Recall: 0.4639\n",
            " F1 Score: 0.4413\n",
            " Matthew's Correlation Coefficient: 0.6620\n",
            "EarlyStopping counter: 2 out of 10\n",
            "Train_loss: 0.113231\n"
          ]
        },
        {
          "output_type": "stream",
          "name": "stderr",
          "text": [
            "/usr/local/lib/python3.10/dist-packages/sklearn/metrics/_classification.py:1344: UndefinedMetricWarning: Precision is ill-defined and being set to 0.0 in labels with no predicted samples. Use `zero_division` parameter to control this behavior.\n",
            "  _warn_prf(average, modifier, msg_start, len(result))\n"
          ]
        },
        {
          "output_type": "stream",
          "name": "stdout",
          "text": [
            "Test Error: \n",
            " Accuracy: 76.2%\n",
            " Avg loss: 0.821384\n",
            " Precision: 0.5041\n",
            " Recall: 0.4623\n",
            " F1 Score: 0.4397\n",
            " Matthew's Correlation Coefficient: 0.6329\n",
            "EarlyStopping counter: 3 out of 10\n",
            "Train_loss: 0.055599\n"
          ]
        },
        {
          "output_type": "stream",
          "name": "stderr",
          "text": [
            "/usr/local/lib/python3.10/dist-packages/sklearn/metrics/_classification.py:1344: UndefinedMetricWarning: Precision is ill-defined and being set to 0.0 in labels with no predicted samples. Use `zero_division` parameter to control this behavior.\n",
            "  _warn_prf(average, modifier, msg_start, len(result))\n"
          ]
        },
        {
          "output_type": "stream",
          "name": "stdout",
          "text": [
            "Test Error: \n",
            " Accuracy: 79.0%\n",
            " Avg loss: 0.758062\n",
            " Precision: 0.5171\n",
            " Recall: 0.4623\n",
            " F1 Score: 0.4676\n",
            " Matthew's Correlation Coefficient: 0.6686\n",
            "Train_loss: 0.013799\n"
          ]
        },
        {
          "output_type": "stream",
          "name": "stderr",
          "text": [
            "/usr/local/lib/python3.10/dist-packages/sklearn/metrics/_classification.py:1344: UndefinedMetricWarning: Precision is ill-defined and being set to 0.0 in labels with no predicted samples. Use `zero_division` parameter to control this behavior.\n",
            "  _warn_prf(average, modifier, msg_start, len(result))\n"
          ]
        },
        {
          "output_type": "stream",
          "name": "stdout",
          "text": [
            "Test Error: \n",
            " Accuracy: 78.0%\n",
            " Avg loss: 0.846767\n",
            " Precision: 0.4659\n",
            " Recall: 0.4579\n",
            " F1 Score: 0.4455\n",
            " Matthew's Correlation Coefficient: 0.6578\n",
            "EarlyStopping counter: 1 out of 10\n",
            "Train_loss: 0.009761\n"
          ]
        },
        {
          "output_type": "stream",
          "name": "stderr",
          "text": [
            "/usr/local/lib/python3.10/dist-packages/sklearn/metrics/_classification.py:1344: UndefinedMetricWarning: Recall is ill-defined and being set to 0.0 in labels with no true samples. Use `zero_division` parameter to control this behavior.\n",
            "  _warn_prf(average, modifier, msg_start, len(result))\n"
          ]
        },
        {
          "output_type": "stream",
          "name": "stdout",
          "text": [
            "Test Error: \n",
            " Accuracy: 77.2%\n",
            " Avg loss: 0.922441\n",
            " Precision: 0.5877\n",
            " Recall: 0.4264\n",
            " F1 Score: 0.4525\n",
            " Matthew's Correlation Coefficient: 0.6420\n",
            "EarlyStopping counter: 2 out of 10\n",
            "Train_loss: 0.010205\n"
          ]
        },
        {
          "output_type": "stream",
          "name": "stderr",
          "text": [
            "/usr/local/lib/python3.10/dist-packages/sklearn/metrics/_classification.py:1344: UndefinedMetricWarning: Recall is ill-defined and being set to 0.0 in labels with no true samples. Use `zero_division` parameter to control this behavior.\n",
            "  _warn_prf(average, modifier, msg_start, len(result))\n"
          ]
        },
        {
          "output_type": "stream",
          "name": "stdout",
          "text": [
            "Test Error: \n",
            " Accuracy: 77.6%\n",
            " Avg loss: 0.919370\n",
            " Precision: 0.6135\n",
            " Recall: 0.4416\n",
            " F1 Score: 0.4573\n",
            " Matthew's Correlation Coefficient: 0.6503\n",
            "EarlyStopping counter: 3 out of 10\n",
            "Train_loss: 0.007294\n"
          ]
        },
        {
          "output_type": "stream",
          "name": "stderr",
          "text": [
            "/usr/local/lib/python3.10/dist-packages/sklearn/metrics/_classification.py:1344: UndefinedMetricWarning: Recall is ill-defined and being set to 0.0 in labels with no true samples. Use `zero_division` parameter to control this behavior.\n",
            "  _warn_prf(average, modifier, msg_start, len(result))\n"
          ]
        },
        {
          "output_type": "stream",
          "name": "stdout",
          "text": [
            "Test Error: \n",
            " Accuracy: 78.1%\n",
            " Avg loss: 0.929195\n",
            " Precision: 0.5902\n",
            " Recall: 0.4400\n",
            " F1 Score: 0.4607\n",
            " Matthew's Correlation Coefficient: 0.6580\n",
            "EarlyStopping counter: 4 out of 10\n",
            "Train_loss: 0.011926\n"
          ]
        },
        {
          "output_type": "stream",
          "name": "stderr",
          "text": [
            "/usr/local/lib/python3.10/dist-packages/sklearn/metrics/_classification.py:1344: UndefinedMetricWarning: Recall is ill-defined and being set to 0.0 in labels with no true samples. Use `zero_division` parameter to control this behavior.\n",
            "  _warn_prf(average, modifier, msg_start, len(result))\n"
          ]
        },
        {
          "output_type": "stream",
          "name": "stdout",
          "text": [
            "Test Error: \n",
            " Accuracy: 78.5%\n",
            " Avg loss: 0.945714\n",
            " Precision: 0.5914\n",
            " Recall: 0.4340\n",
            " F1 Score: 0.4633\n",
            " Matthew's Correlation Coefficient: 0.6587\n",
            "EarlyStopping counter: 5 out of 10\n",
            "Train_loss: 0.025989\n"
          ]
        },
        {
          "output_type": "stream",
          "name": "stderr",
          "text": [
            "/usr/local/lib/python3.10/dist-packages/sklearn/metrics/_classification.py:1344: UndefinedMetricWarning: Recall is ill-defined and being set to 0.0 in labels with no true samples. Use `zero_division` parameter to control this behavior.\n",
            "  _warn_prf(average, modifier, msg_start, len(result))\n"
          ]
        },
        {
          "output_type": "stream",
          "name": "stdout",
          "text": [
            "Test Error: \n",
            " Accuracy: 76.6%\n",
            " Avg loss: 1.075479\n",
            " Precision: 0.6551\n",
            " Recall: 0.4203\n",
            " F1 Score: 0.4410\n",
            " Matthew's Correlation Coefficient: 0.6362\n",
            "EarlyStopping counter: 6 out of 10\n",
            "Train_loss: 0.001604\n"
          ]
        },
        {
          "output_type": "stream",
          "name": "stderr",
          "text": [
            "/usr/local/lib/python3.10/dist-packages/sklearn/metrics/_classification.py:1344: UndefinedMetricWarning: Recall is ill-defined and being set to 0.0 in labels with no true samples. Use `zero_division` parameter to control this behavior.\n",
            "  _warn_prf(average, modifier, msg_start, len(result))\n"
          ]
        },
        {
          "output_type": "stream",
          "name": "stdout",
          "text": [
            "Test Error: \n",
            " Accuracy: 77.7%\n",
            " Avg loss: 1.057334\n",
            " Precision: 0.6082\n",
            " Recall: 0.4288\n",
            " F1 Score: 0.4492\n",
            " Matthew's Correlation Coefficient: 0.6479\n",
            "EarlyStopping counter: 7 out of 10\n",
            "Train_loss: 0.025757\n"
          ]
        },
        {
          "output_type": "stream",
          "name": "stderr",
          "text": [
            "/usr/local/lib/python3.10/dist-packages/sklearn/metrics/_classification.py:1344: UndefinedMetricWarning: Recall is ill-defined and being set to 0.0 in labels with no true samples. Use `zero_division` parameter to control this behavior.\n",
            "  _warn_prf(average, modifier, msg_start, len(result))\n"
          ]
        },
        {
          "output_type": "stream",
          "name": "stdout",
          "text": [
            "Test Error: \n",
            " Accuracy: 76.4%\n",
            " Avg loss: 1.049313\n",
            " Precision: 0.5002\n",
            " Recall: 0.4182\n",
            " F1 Score: 0.4232\n",
            " Matthew's Correlation Coefficient: 0.6297\n",
            "EarlyStopping counter: 8 out of 10\n",
            "Train_loss: 0.035576\n"
          ]
        },
        {
          "output_type": "stream",
          "name": "stderr",
          "text": [
            "/usr/local/lib/python3.10/dist-packages/sklearn/metrics/_classification.py:1344: UndefinedMetricWarning: Recall is ill-defined and being set to 0.0 in labels with no true samples. Use `zero_division` parameter to control this behavior.\n",
            "  _warn_prf(average, modifier, msg_start, len(result))\n"
          ]
        },
        {
          "output_type": "stream",
          "name": "stdout",
          "text": [
            "Test Error: \n",
            " Accuracy: 73.9%\n",
            " Avg loss: 1.094668\n",
            " Precision: 0.4305\n",
            " Recall: 0.4417\n",
            " F1 Score: 0.4192\n",
            " Matthew's Correlation Coefficient: 0.6041\n",
            "EarlyStopping counter: 9 out of 10\n",
            "Train_loss: 0.008181\n"
          ]
        },
        {
          "output_type": "stream",
          "name": "stderr",
          "text": [
            "/usr/local/lib/python3.10/dist-packages/sklearn/metrics/_classification.py:1344: UndefinedMetricWarning: Precision is ill-defined and being set to 0.0 in labels with no predicted samples. Use `zero_division` parameter to control this behavior.\n",
            "  _warn_prf(average, modifier, msg_start, len(result))\n",
            "/usr/local/lib/python3.10/dist-packages/sklearn/metrics/_classification.py:1344: UndefinedMetricWarning: Recall is ill-defined and being set to 0.0 in labels with no true samples. Use `zero_division` parameter to control this behavior.\n",
            "  _warn_prf(average, modifier, msg_start, len(result))\n"
          ]
        },
        {
          "output_type": "stream",
          "name": "stdout",
          "text": [
            "Test Error: \n",
            " Accuracy: 76.6%\n",
            " Avg loss: 1.051847\n",
            " Precision: 0.4519\n",
            " Recall: 0.3966\n",
            " F1 Score: 0.4016\n",
            " Matthew's Correlation Coefficient: 0.6316\n",
            "EarlyStopping counter: 10 out of 10\n",
            "Early stopping\n",
            "Finished training for lr=0.001, layer_sizes=[512, 256, 128], dropouts=[0.3, 0.3, 0.3]. Best val accuracy: 78.90739117732983\n",
            "Train_loss: 1.900124\n"
          ]
        },
        {
          "output_type": "stream",
          "name": "stderr",
          "text": [
            "/usr/local/lib/python3.10/dist-packages/sklearn/metrics/_classification.py:1344: UndefinedMetricWarning: Precision is ill-defined and being set to 0.0 in labels with no predicted samples. Use `zero_division` parameter to control this behavior.\n",
            "  _warn_prf(average, modifier, msg_start, len(result))\n"
          ]
        },
        {
          "output_type": "stream",
          "name": "stdout",
          "text": [
            "Test Error: \n",
            " Accuracy: 76.5%\n",
            " Avg loss: 0.712647\n",
            " Precision: 0.4133\n",
            " Recall: 0.4509\n",
            " F1 Score: 0.4214\n",
            " Matthew's Correlation Coefficient: 0.6422\n",
            "Train_loss: 0.186924\n"
          ]
        },
        {
          "output_type": "stream",
          "name": "stderr",
          "text": [
            "/usr/local/lib/python3.10/dist-packages/sklearn/metrics/_classification.py:1344: UndefinedMetricWarning: Precision is ill-defined and being set to 0.0 in labels with no predicted samples. Use `zero_division` parameter to control this behavior.\n",
            "  _warn_prf(average, modifier, msg_start, len(result))\n"
          ]
        },
        {
          "output_type": "stream",
          "name": "stdout",
          "text": [
            "Test Error: \n",
            " Accuracy: 77.9%\n",
            " Avg loss: 0.700927\n",
            " Precision: 0.4494\n",
            " Recall: 0.4768\n",
            " F1 Score: 0.4488\n",
            " Matthew's Correlation Coefficient: 0.6555\n",
            "Train_loss: 0.055524\n"
          ]
        },
        {
          "output_type": "stream",
          "name": "stderr",
          "text": [
            "/usr/local/lib/python3.10/dist-packages/sklearn/metrics/_classification.py:1344: UndefinedMetricWarning: Precision is ill-defined and being set to 0.0 in labels with no predicted samples. Use `zero_division` parameter to control this behavior.\n",
            "  _warn_prf(average, modifier, msg_start, len(result))\n",
            "/usr/local/lib/python3.10/dist-packages/sklearn/metrics/_classification.py:1344: UndefinedMetricWarning: Recall is ill-defined and being set to 0.0 in labels with no true samples. Use `zero_division` parameter to control this behavior.\n",
            "  _warn_prf(average, modifier, msg_start, len(result))\n"
          ]
        },
        {
          "output_type": "stream",
          "name": "stdout",
          "text": [
            "Test Error: \n",
            " Accuracy: 78.7%\n",
            " Avg loss: 0.754736\n",
            " Precision: 0.3897\n",
            " Recall: 0.3985\n",
            " F1 Score: 0.3876\n",
            " Matthew's Correlation Coefficient: 0.6652\n",
            "Train_loss: 0.006891\n"
          ]
        },
        {
          "output_type": "stream",
          "name": "stderr",
          "text": [
            "/usr/local/lib/python3.10/dist-packages/sklearn/metrics/_classification.py:1344: UndefinedMetricWarning: Recall is ill-defined and being set to 0.0 in labels with no true samples. Use `zero_division` parameter to control this behavior.\n",
            "  _warn_prf(average, modifier, msg_start, len(result))\n"
          ]
        },
        {
          "output_type": "stream",
          "name": "stdout",
          "text": [
            "Test Error: \n",
            " Accuracy: 77.3%\n",
            " Avg loss: 0.868137\n",
            " Precision: 0.5419\n",
            " Recall: 0.4348\n",
            " F1 Score: 0.4371\n",
            " Matthew's Correlation Coefficient: 0.6485\n",
            "EarlyStopping counter: 1 out of 10\n",
            "Train_loss: 0.004913\n"
          ]
        },
        {
          "output_type": "stream",
          "name": "stderr",
          "text": [
            "/usr/local/lib/python3.10/dist-packages/sklearn/metrics/_classification.py:1344: UndefinedMetricWarning: Recall is ill-defined and being set to 0.0 in labels with no true samples. Use `zero_division` parameter to control this behavior.\n",
            "  _warn_prf(average, modifier, msg_start, len(result))\n"
          ]
        },
        {
          "output_type": "stream",
          "name": "stdout",
          "text": [
            "Test Error: \n",
            " Accuracy: 76.6%\n",
            " Avg loss: 0.947164\n",
            " Precision: 0.5325\n",
            " Recall: 0.4308\n",
            " F1 Score: 0.4362\n",
            " Matthew's Correlation Coefficient: 0.6387\n",
            "EarlyStopping counter: 2 out of 10\n",
            "Train_loss: 0.002250\n"
          ]
        },
        {
          "output_type": "stream",
          "name": "stderr",
          "text": [
            "/usr/local/lib/python3.10/dist-packages/sklearn/metrics/_classification.py:1344: UndefinedMetricWarning: Recall is ill-defined and being set to 0.0 in labels with no true samples. Use `zero_division` parameter to control this behavior.\n",
            "  _warn_prf(average, modifier, msg_start, len(result))\n"
          ]
        },
        {
          "output_type": "stream",
          "name": "stdout",
          "text": [
            "Test Error: \n",
            " Accuracy: 78.5%\n",
            " Avg loss: 0.881984\n",
            " Precision: 0.5615\n",
            " Recall: 0.4262\n",
            " F1 Score: 0.4427\n",
            " Matthew's Correlation Coefficient: 0.6589\n",
            "EarlyStopping counter: 3 out of 10\n",
            "Train_loss: 0.002384\n"
          ]
        },
        {
          "output_type": "stream",
          "name": "stderr",
          "text": [
            "/usr/local/lib/python3.10/dist-packages/sklearn/metrics/_classification.py:1344: UndefinedMetricWarning: Recall is ill-defined and being set to 0.0 in labels with no true samples. Use `zero_division` parameter to control this behavior.\n",
            "  _warn_prf(average, modifier, msg_start, len(result))\n"
          ]
        },
        {
          "output_type": "stream",
          "name": "stdout",
          "text": [
            "Test Error: \n",
            " Accuracy: 77.4%\n",
            " Avg loss: 0.979973\n",
            " Precision: 0.5620\n",
            " Recall: 0.4280\n",
            " F1 Score: 0.4406\n",
            " Matthew's Correlation Coefficient: 0.6470\n",
            "EarlyStopping counter: 4 out of 10\n",
            "Train_loss: 0.001679\n"
          ]
        },
        {
          "output_type": "stream",
          "name": "stderr",
          "text": [
            "/usr/local/lib/python3.10/dist-packages/sklearn/metrics/_classification.py:1344: UndefinedMetricWarning: Recall is ill-defined and being set to 0.0 in labels with no true samples. Use `zero_division` parameter to control this behavior.\n",
            "  _warn_prf(average, modifier, msg_start, len(result))\n"
          ]
        },
        {
          "output_type": "stream",
          "name": "stdout",
          "text": [
            "Test Error: \n",
            " Accuracy: 77.8%\n",
            " Avg loss: 0.985219\n",
            " Precision: 0.4721\n",
            " Recall: 0.4272\n",
            " F1 Score: 0.4285\n",
            " Matthew's Correlation Coefficient: 0.6523\n",
            "EarlyStopping counter: 5 out of 10\n",
            "Train_loss: 0.001491\n"
          ]
        },
        {
          "output_type": "stream",
          "name": "stderr",
          "text": [
            "/usr/local/lib/python3.10/dist-packages/sklearn/metrics/_classification.py:1344: UndefinedMetricWarning: Recall is ill-defined and being set to 0.0 in labels with no true samples. Use `zero_division` parameter to control this behavior.\n",
            "  _warn_prf(average, modifier, msg_start, len(result))\n"
          ]
        },
        {
          "output_type": "stream",
          "name": "stdout",
          "text": [
            "Test Error: \n",
            " Accuracy: 77.8%\n",
            " Avg loss: 0.960653\n",
            " Precision: 0.4842\n",
            " Recall: 0.4411\n",
            " F1 Score: 0.4412\n",
            " Matthew's Correlation Coefficient: 0.6539\n",
            "EarlyStopping counter: 6 out of 10\n",
            "Train_loss: 0.002958\n"
          ]
        },
        {
          "output_type": "stream",
          "name": "stderr",
          "text": [
            "/usr/local/lib/python3.10/dist-packages/sklearn/metrics/_classification.py:1344: UndefinedMetricWarning: Recall is ill-defined and being set to 0.0 in labels with no true samples. Use `zero_division` parameter to control this behavior.\n",
            "  _warn_prf(average, modifier, msg_start, len(result))\n"
          ]
        },
        {
          "output_type": "stream",
          "name": "stdout",
          "text": [
            "Test Error: \n",
            " Accuracy: 74.5%\n",
            " Avg loss: 1.295980\n",
            " Precision: 0.5710\n",
            " Recall: 0.4243\n",
            " F1 Score: 0.4429\n",
            " Matthew's Correlation Coefficient: 0.6060\n",
            "EarlyStopping counter: 7 out of 10\n",
            "Train_loss: 0.012111\n"
          ]
        },
        {
          "output_type": "stream",
          "name": "stderr",
          "text": [
            "/usr/local/lib/python3.10/dist-packages/sklearn/metrics/_classification.py:1344: UndefinedMetricWarning: Recall is ill-defined and being set to 0.0 in labels with no true samples. Use `zero_division` parameter to control this behavior.\n",
            "  _warn_prf(average, modifier, msg_start, len(result))\n"
          ]
        },
        {
          "output_type": "stream",
          "name": "stdout",
          "text": [
            "Test Error: \n",
            " Accuracy: 73.9%\n",
            " Avg loss: 1.271101\n",
            " Precision: 0.5321\n",
            " Recall: 0.4050\n",
            " F1 Score: 0.4200\n",
            " Matthew's Correlation Coefficient: 0.5924\n",
            "EarlyStopping counter: 8 out of 10\n",
            "Train_loss: 0.046672\n"
          ]
        },
        {
          "output_type": "stream",
          "name": "stderr",
          "text": [
            "/usr/local/lib/python3.10/dist-packages/sklearn/metrics/_classification.py:1344: UndefinedMetricWarning: Recall is ill-defined and being set to 0.0 in labels with no true samples. Use `zero_division` parameter to control this behavior.\n",
            "  _warn_prf(average, modifier, msg_start, len(result))\n"
          ]
        },
        {
          "output_type": "stream",
          "name": "stdout",
          "text": [
            "Test Error: \n",
            " Accuracy: 72.6%\n",
            " Avg loss: 1.255054\n",
            " Precision: 0.4254\n",
            " Recall: 0.3736\n",
            " F1 Score: 0.3619\n",
            " Matthew's Correlation Coefficient: 0.5881\n",
            "EarlyStopping counter: 9 out of 10\n",
            "Train_loss: 0.014927\n"
          ]
        },
        {
          "output_type": "stream",
          "name": "stderr",
          "text": [
            "/usr/local/lib/python3.10/dist-packages/sklearn/metrics/_classification.py:1344: UndefinedMetricWarning: Recall is ill-defined and being set to 0.0 in labels with no true samples. Use `zero_division` parameter to control this behavior.\n",
            "  _warn_prf(average, modifier, msg_start, len(result))\n"
          ]
        },
        {
          "output_type": "stream",
          "name": "stdout",
          "text": [
            "Test Error: \n",
            " Accuracy: 74.8%\n",
            " Avg loss: 1.027818\n",
            " Precision: 0.3869\n",
            " Recall: 0.4325\n",
            " F1 Score: 0.3873\n",
            " Matthew's Correlation Coefficient: 0.6141\n",
            "EarlyStopping counter: 10 out of 10\n",
            "Early stopping\n",
            "Finished training for lr=0.001, layer_sizes=[1024, 512, 256], dropouts=[0.1, 0.1, 0.1]. Best val accuracy: 78.90739117732983\n",
            "Train_loss: 2.039143\n"
          ]
        },
        {
          "output_type": "stream",
          "name": "stderr",
          "text": [
            "/usr/local/lib/python3.10/dist-packages/sklearn/metrics/_classification.py:1344: UndefinedMetricWarning: Precision is ill-defined and being set to 0.0 in labels with no predicted samples. Use `zero_division` parameter to control this behavior.\n",
            "  _warn_prf(average, modifier, msg_start, len(result))\n"
          ]
        },
        {
          "output_type": "stream",
          "name": "stdout",
          "text": [
            "Test Error: \n",
            " Accuracy: 78.5%\n",
            " Avg loss: 0.672403\n",
            " Precision: 0.3834\n",
            " Recall: 0.4111\n",
            " F1 Score: 0.3855\n",
            " Matthew's Correlation Coefficient: 0.6677\n",
            "Train_loss: 0.433585\n"
          ]
        },
        {
          "output_type": "stream",
          "name": "stderr",
          "text": [
            "/usr/local/lib/python3.10/dist-packages/sklearn/metrics/_classification.py:1344: UndefinedMetricWarning: Precision is ill-defined and being set to 0.0 in labels with no predicted samples. Use `zero_division` parameter to control this behavior.\n",
            "  _warn_prf(average, modifier, msg_start, len(result))\n"
          ]
        },
        {
          "output_type": "stream",
          "name": "stdout",
          "text": [
            "Test Error: \n",
            " Accuracy: 78.2%\n",
            " Avg loss: 0.691616\n",
            " Precision: 0.4315\n",
            " Recall: 0.4411\n",
            " F1 Score: 0.4249\n",
            " Matthew's Correlation Coefficient: 0.6626\n",
            "EarlyStopping counter: 1 out of 10\n",
            "Train_loss: 0.094341\n"
          ]
        },
        {
          "output_type": "stream",
          "name": "stderr",
          "text": [
            "/usr/local/lib/python3.10/dist-packages/sklearn/metrics/_classification.py:1344: UndefinedMetricWarning: Precision is ill-defined and being set to 0.0 in labels with no predicted samples. Use `zero_division` parameter to control this behavior.\n",
            "  _warn_prf(average, modifier, msg_start, len(result))\n"
          ]
        },
        {
          "output_type": "stream",
          "name": "stdout",
          "text": [
            "Test Error: \n",
            " Accuracy: 76.3%\n",
            " Avg loss: 0.793650\n",
            " Precision: 0.4155\n",
            " Recall: 0.4619\n",
            " F1 Score: 0.4227\n",
            " Matthew's Correlation Coefficient: 0.6392\n",
            "EarlyStopping counter: 2 out of 10\n",
            "Train_loss: 0.101313\n"
          ]
        },
        {
          "output_type": "stream",
          "name": "stderr",
          "text": [
            "/usr/local/lib/python3.10/dist-packages/sklearn/metrics/_classification.py:1344: UndefinedMetricWarning: Precision is ill-defined and being set to 0.0 in labels with no predicted samples. Use `zero_division` parameter to control this behavior.\n",
            "  _warn_prf(average, modifier, msg_start, len(result))\n"
          ]
        },
        {
          "output_type": "stream",
          "name": "stdout",
          "text": [
            "Test Error: \n",
            " Accuracy: 76.9%\n",
            " Avg loss: 0.859957\n",
            " Precision: 0.4243\n",
            " Recall: 0.4647\n",
            " F1 Score: 0.4300\n",
            " Matthew's Correlation Coefficient: 0.6450\n",
            "EarlyStopping counter: 3 out of 10\n",
            "Train_loss: 0.103907\n"
          ]
        },
        {
          "output_type": "stream",
          "name": "stderr",
          "text": [
            "/usr/local/lib/python3.10/dist-packages/sklearn/metrics/_classification.py:1344: UndefinedMetricWarning: Precision is ill-defined and being set to 0.0 in labels with no predicted samples. Use `zero_division` parameter to control this behavior.\n",
            "  _warn_prf(average, modifier, msg_start, len(result))\n",
            "/usr/local/lib/python3.10/dist-packages/sklearn/metrics/_classification.py:1344: UndefinedMetricWarning: Recall is ill-defined and being set to 0.0 in labels with no true samples. Use `zero_division` parameter to control this behavior.\n",
            "  _warn_prf(average, modifier, msg_start, len(result))\n"
          ]
        },
        {
          "output_type": "stream",
          "name": "stdout",
          "text": [
            "Test Error: \n",
            " Accuracy: 77.9%\n",
            " Avg loss: 0.949658\n",
            " Precision: 0.4596\n",
            " Recall: 0.3928\n",
            " F1 Score: 0.3908\n",
            " Matthew's Correlation Coefficient: 0.6545\n",
            "EarlyStopping counter: 4 out of 10\n",
            "Train_loss: 0.060706\n",
            "Test Error: \n",
            " Accuracy: 77.7%\n",
            " Avg loss: 0.932225\n",
            " Precision: 0.4875\n",
            " Recall: 0.4650\n",
            " F1 Score: 0.4503\n",
            " Matthew's Correlation Coefficient: 0.6566\n",
            "EarlyStopping counter: 5 out of 10\n",
            "Train_loss: 0.118618\n",
            "Test Error: \n",
            " Accuracy: 78.8%\n",
            " Avg loss: 0.965413\n",
            " Precision: 0.4550\n",
            " Recall: 0.4684\n",
            " F1 Score: 0.4530\n",
            " Matthew's Correlation Coefficient: 0.6675\n",
            "Train_loss: 0.017874\n"
          ]
        },
        {
          "output_type": "stream",
          "name": "stderr",
          "text": [
            "/usr/local/lib/python3.10/dist-packages/sklearn/metrics/_classification.py:1344: UndefinedMetricWarning: Precision is ill-defined and being set to 0.0 in labels with no predicted samples. Use `zero_division` parameter to control this behavior.\n",
            "  _warn_prf(average, modifier, msg_start, len(result))\n",
            "/usr/local/lib/python3.10/dist-packages/sklearn/metrics/_classification.py:1344: UndefinedMetricWarning: Recall is ill-defined and being set to 0.0 in labels with no true samples. Use `zero_division` parameter to control this behavior.\n",
            "  _warn_prf(average, modifier, msg_start, len(result))\n"
          ]
        },
        {
          "output_type": "stream",
          "name": "stdout",
          "text": [
            "Test Error: \n",
            " Accuracy: 76.0%\n",
            " Avg loss: 1.197417\n",
            " Precision: 0.5220\n",
            " Recall: 0.3878\n",
            " F1 Score: 0.3896\n",
            " Matthew's Correlation Coefficient: 0.6274\n",
            "EarlyStopping counter: 1 out of 10\n",
            "Train_loss: 0.008885\n"
          ]
        },
        {
          "output_type": "stream",
          "name": "stderr",
          "text": [
            "/usr/local/lib/python3.10/dist-packages/sklearn/metrics/_classification.py:1344: UndefinedMetricWarning: Recall is ill-defined and being set to 0.0 in labels with no true samples. Use `zero_division` parameter to control this behavior.\n",
            "  _warn_prf(average, modifier, msg_start, len(result))\n"
          ]
        },
        {
          "output_type": "stream",
          "name": "stdout",
          "text": [
            "Test Error: \n",
            " Accuracy: 76.8%\n",
            " Avg loss: 1.063960\n",
            " Precision: 0.5740\n",
            " Recall: 0.4291\n",
            " F1 Score: 0.4349\n",
            " Matthew's Correlation Coefficient: 0.6411\n",
            "EarlyStopping counter: 2 out of 10\n",
            "Train_loss: 0.060706\n"
          ]
        },
        {
          "output_type": "stream",
          "name": "stderr",
          "text": [
            "/usr/local/lib/python3.10/dist-packages/sklearn/metrics/_classification.py:1344: UndefinedMetricWarning: Precision is ill-defined and being set to 0.0 in labels with no predicted samples. Use `zero_division` parameter to control this behavior.\n",
            "  _warn_prf(average, modifier, msg_start, len(result))\n",
            "/usr/local/lib/python3.10/dist-packages/sklearn/metrics/_classification.py:1344: UndefinedMetricWarning: Recall is ill-defined and being set to 0.0 in labels with no true samples. Use `zero_division` parameter to control this behavior.\n",
            "  _warn_prf(average, modifier, msg_start, len(result))\n"
          ]
        },
        {
          "output_type": "stream",
          "name": "stdout",
          "text": [
            "Test Error: \n",
            " Accuracy: 76.5%\n",
            " Avg loss: 1.133324\n",
            " Precision: 0.4542\n",
            " Recall: 0.3859\n",
            " F1 Score: 0.3811\n",
            " Matthew's Correlation Coefficient: 0.6347\n",
            "EarlyStopping counter: 3 out of 10\n",
            "Train_loss: 0.007369\n"
          ]
        },
        {
          "output_type": "stream",
          "name": "stderr",
          "text": [
            "/usr/local/lib/python3.10/dist-packages/sklearn/metrics/_classification.py:1344: UndefinedMetricWarning: Recall is ill-defined and being set to 0.0 in labels with no true samples. Use `zero_division` parameter to control this behavior.\n",
            "  _warn_prf(average, modifier, msg_start, len(result))\n"
          ]
        },
        {
          "output_type": "stream",
          "name": "stdout",
          "text": [
            "Test Error: \n",
            " Accuracy: 78.1%\n",
            " Avg loss: 1.088594\n",
            " Precision: 0.5925\n",
            " Recall: 0.4435\n",
            " F1 Score: 0.4451\n",
            " Matthew's Correlation Coefficient: 0.6543\n",
            "EarlyStopping counter: 4 out of 10\n",
            "Train_loss: 0.093265\n"
          ]
        },
        {
          "output_type": "stream",
          "name": "stderr",
          "text": [
            "/usr/local/lib/python3.10/dist-packages/sklearn/metrics/_classification.py:1344: UndefinedMetricWarning: Recall is ill-defined and being set to 0.0 in labels with no true samples. Use `zero_division` parameter to control this behavior.\n",
            "  _warn_prf(average, modifier, msg_start, len(result))\n"
          ]
        },
        {
          "output_type": "stream",
          "name": "stdout",
          "text": [
            "Test Error: \n",
            " Accuracy: 78.4%\n",
            " Avg loss: 1.046074\n",
            " Precision: 0.5641\n",
            " Recall: 0.4429\n",
            " F1 Score: 0.4556\n",
            " Matthew's Correlation Coefficient: 0.6561\n",
            "EarlyStopping counter: 5 out of 10\n",
            "Train_loss: 0.078035\n"
          ]
        },
        {
          "output_type": "stream",
          "name": "stderr",
          "text": [
            "/usr/local/lib/python3.10/dist-packages/sklearn/metrics/_classification.py:1344: UndefinedMetricWarning: Recall is ill-defined and being set to 0.0 in labels with no true samples. Use `zero_division` parameter to control this behavior.\n",
            "  _warn_prf(average, modifier, msg_start, len(result))\n"
          ]
        },
        {
          "output_type": "stream",
          "name": "stdout",
          "text": [
            "Test Error: \n",
            " Accuracy: 76.5%\n",
            " Avg loss: 1.214324\n",
            " Precision: 0.5841\n",
            " Recall: 0.4239\n",
            " F1 Score: 0.4436\n",
            " Matthew's Correlation Coefficient: 0.6325\n",
            "EarlyStopping counter: 6 out of 10\n",
            "Train_loss: 0.010396\n"
          ]
        },
        {
          "output_type": "stream",
          "name": "stderr",
          "text": [
            "/usr/local/lib/python3.10/dist-packages/sklearn/metrics/_classification.py:1344: UndefinedMetricWarning: Recall is ill-defined and being set to 0.0 in labels with no true samples. Use `zero_division` parameter to control this behavior.\n",
            "  _warn_prf(average, modifier, msg_start, len(result))\n"
          ]
        },
        {
          "output_type": "stream",
          "name": "stdout",
          "text": [
            "Test Error: \n",
            " Accuracy: 77.1%\n",
            " Avg loss: 1.189806\n",
            " Precision: 0.5929\n",
            " Recall: 0.4267\n",
            " F1 Score: 0.4422\n",
            " Matthew's Correlation Coefficient: 0.6436\n",
            "EarlyStopping counter: 7 out of 10\n",
            "Train_loss: 0.047186\n"
          ]
        },
        {
          "output_type": "stream",
          "name": "stderr",
          "text": [
            "/usr/local/lib/python3.10/dist-packages/sklearn/metrics/_classification.py:1344: UndefinedMetricWarning: Recall is ill-defined and being set to 0.0 in labels with no true samples. Use `zero_division` parameter to control this behavior.\n",
            "  _warn_prf(average, modifier, msg_start, len(result))\n"
          ]
        },
        {
          "output_type": "stream",
          "name": "stdout",
          "text": [
            "Test Error: \n",
            " Accuracy: 77.7%\n",
            " Avg loss: 1.116022\n",
            " Precision: 0.5851\n",
            " Recall: 0.4440\n",
            " F1 Score: 0.4565\n",
            " Matthew's Correlation Coefficient: 0.6517\n",
            "EarlyStopping counter: 8 out of 10\n",
            "Train_loss: 0.041671\n"
          ]
        },
        {
          "output_type": "stream",
          "name": "stderr",
          "text": [
            "/usr/local/lib/python3.10/dist-packages/sklearn/metrics/_classification.py:1344: UndefinedMetricWarning: Recall is ill-defined and being set to 0.0 in labels with no true samples. Use `zero_division` parameter to control this behavior.\n",
            "  _warn_prf(average, modifier, msg_start, len(result))\n"
          ]
        },
        {
          "output_type": "stream",
          "name": "stdout",
          "text": [
            "Test Error: \n",
            " Accuracy: 78.6%\n",
            " Avg loss: 1.054133\n",
            " Precision: 0.5903\n",
            " Recall: 0.4363\n",
            " F1 Score: 0.4572\n",
            " Matthew's Correlation Coefficient: 0.6621\n",
            "EarlyStopping counter: 9 out of 10\n",
            "Train_loss: 0.035127\n"
          ]
        },
        {
          "output_type": "stream",
          "name": "stderr",
          "text": [
            "/usr/local/lib/python3.10/dist-packages/sklearn/metrics/_classification.py:1344: UndefinedMetricWarning: Recall is ill-defined and being set to 0.0 in labels with no true samples. Use `zero_division` parameter to control this behavior.\n",
            "  _warn_prf(average, modifier, msg_start, len(result))\n"
          ]
        },
        {
          "output_type": "stream",
          "name": "stdout",
          "text": [
            "Test Error: \n",
            " Accuracy: 78.1%\n",
            " Avg loss: 1.162265\n",
            " Precision: 0.4946\n",
            " Recall: 0.4309\n",
            " F1 Score: 0.4401\n",
            " Matthew's Correlation Coefficient: 0.6572\n",
            "EarlyStopping counter: 10 out of 10\n",
            "Early stopping\n",
            "Finished training for lr=0.001, layer_sizes=[1024, 512, 256], dropouts=[0.5, 0.5, 0.5]. Best val accuracy: 78.90739117732983\n",
            "Train_loss: 2.119154\n"
          ]
        },
        {
          "output_type": "stream",
          "name": "stderr",
          "text": [
            "/usr/local/lib/python3.10/dist-packages/sklearn/metrics/_classification.py:1344: UndefinedMetricWarning: Precision is ill-defined and being set to 0.0 in labels with no predicted samples. Use `zero_division` parameter to control this behavior.\n",
            "  _warn_prf(average, modifier, msg_start, len(result))\n"
          ]
        },
        {
          "output_type": "stream",
          "name": "stdout",
          "text": [
            "Test Error: \n",
            " Accuracy: 76.3%\n",
            " Avg loss: 0.699509\n",
            " Precision: 0.4715\n",
            " Recall: 0.4385\n",
            " F1 Score: 0.4263\n",
            " Matthew's Correlation Coefficient: 0.6378\n",
            "Train_loss: 0.242558\n"
          ]
        },
        {
          "output_type": "stream",
          "name": "stderr",
          "text": [
            "/usr/local/lib/python3.10/dist-packages/sklearn/metrics/_classification.py:1344: UndefinedMetricWarning: Precision is ill-defined and being set to 0.0 in labels with no predicted samples. Use `zero_division` parameter to control this behavior.\n",
            "  _warn_prf(average, modifier, msg_start, len(result))\n"
          ]
        },
        {
          "output_type": "stream",
          "name": "stdout",
          "text": [
            "Test Error: \n",
            " Accuracy: 77.5%\n",
            " Avg loss: 0.705439\n",
            " Precision: 0.5970\n",
            " Recall: 0.4595\n",
            " F1 Score: 0.4464\n",
            " Matthew's Correlation Coefficient: 0.6480\n",
            "Train_loss: 0.034663\n"
          ]
        },
        {
          "output_type": "stream",
          "name": "stderr",
          "text": [
            "/usr/local/lib/python3.10/dist-packages/sklearn/metrics/_classification.py:1344: UndefinedMetricWarning: Precision is ill-defined and being set to 0.0 in labels with no predicted samples. Use `zero_division` parameter to control this behavior.\n",
            "  _warn_prf(average, modifier, msg_start, len(result))\n",
            "/usr/local/lib/python3.10/dist-packages/sklearn/metrics/_classification.py:1344: UndefinedMetricWarning: Recall is ill-defined and being set to 0.0 in labels with no true samples. Use `zero_division` parameter to control this behavior.\n",
            "  _warn_prf(average, modifier, msg_start, len(result))\n"
          ]
        },
        {
          "output_type": "stream",
          "name": "stdout",
          "text": [
            "Test Error: \n",
            " Accuracy: 77.2%\n",
            " Avg loss: 0.780251\n",
            " Precision: 0.3988\n",
            " Recall: 0.4077\n",
            " F1 Score: 0.3979\n",
            " Matthew's Correlation Coefficient: 0.6422\n",
            "EarlyStopping counter: 1 out of 10\n",
            "Train_loss: 0.023400\n"
          ]
        },
        {
          "output_type": "stream",
          "name": "stderr",
          "text": [
            "/usr/local/lib/python3.10/dist-packages/sklearn/metrics/_classification.py:1344: UndefinedMetricWarning: Precision is ill-defined and being set to 0.0 in labels with no predicted samples. Use `zero_division` parameter to control this behavior.\n",
            "  _warn_prf(average, modifier, msg_start, len(result))\n",
            "/usr/local/lib/python3.10/dist-packages/sklearn/metrics/_classification.py:1344: UndefinedMetricWarning: Recall is ill-defined and being set to 0.0 in labels with no true samples. Use `zero_division` parameter to control this behavior.\n",
            "  _warn_prf(average, modifier, msg_start, len(result))\n"
          ]
        },
        {
          "output_type": "stream",
          "name": "stdout",
          "text": [
            "Test Error: \n",
            " Accuracy: 76.3%\n",
            " Avg loss: 0.875385\n",
            " Precision: 0.4419\n",
            " Recall: 0.4098\n",
            " F1 Score: 0.3927\n",
            " Matthew's Correlation Coefficient: 0.6333\n",
            "EarlyStopping counter: 2 out of 10\n",
            "Train_loss: 0.011179\n"
          ]
        },
        {
          "output_type": "stream",
          "name": "stderr",
          "text": [
            "/usr/local/lib/python3.10/dist-packages/sklearn/metrics/_classification.py:1344: UndefinedMetricWarning: Precision is ill-defined and being set to 0.0 in labels with no predicted samples. Use `zero_division` parameter to control this behavior.\n",
            "  _warn_prf(average, modifier, msg_start, len(result))\n",
            "/usr/local/lib/python3.10/dist-packages/sklearn/metrics/_classification.py:1344: UndefinedMetricWarning: Recall is ill-defined and being set to 0.0 in labels with no true samples. Use `zero_division` parameter to control this behavior.\n",
            "  _warn_prf(average, modifier, msg_start, len(result))\n"
          ]
        },
        {
          "output_type": "stream",
          "name": "stdout",
          "text": [
            "Test Error: \n",
            " Accuracy: 76.2%\n",
            " Avg loss: 0.920006\n",
            " Precision: 0.4268\n",
            " Recall: 0.4041\n",
            " F1 Score: 0.3782\n",
            " Matthew's Correlation Coefficient: 0.6334\n",
            "EarlyStopping counter: 3 out of 10\n",
            "Train_loss: 0.009398\n"
          ]
        },
        {
          "output_type": "stream",
          "name": "stderr",
          "text": [
            "/usr/local/lib/python3.10/dist-packages/sklearn/metrics/_classification.py:1344: UndefinedMetricWarning: Recall is ill-defined and being set to 0.0 in labels with no true samples. Use `zero_division` parameter to control this behavior.\n",
            "  _warn_prf(average, modifier, msg_start, len(result))\n"
          ]
        },
        {
          "output_type": "stream",
          "name": "stdout",
          "text": [
            "Test Error: \n",
            " Accuracy: 76.7%\n",
            " Avg loss: 0.979787\n",
            " Precision: 0.4051\n",
            " Recall: 0.3915\n",
            " F1 Score: 0.3806\n",
            " Matthew's Correlation Coefficient: 0.6381\n",
            "EarlyStopping counter: 4 out of 10\n",
            "Train_loss: 0.015430\n"
          ]
        },
        {
          "output_type": "stream",
          "name": "stderr",
          "text": [
            "/usr/local/lib/python3.10/dist-packages/sklearn/metrics/_classification.py:1344: UndefinedMetricWarning: Precision is ill-defined and being set to 0.0 in labels with no predicted samples. Use `zero_division` parameter to control this behavior.\n",
            "  _warn_prf(average, modifier, msg_start, len(result))\n",
            "/usr/local/lib/python3.10/dist-packages/sklearn/metrics/_classification.py:1344: UndefinedMetricWarning: Recall is ill-defined and being set to 0.0 in labels with no true samples. Use `zero_division` parameter to control this behavior.\n",
            "  _warn_prf(average, modifier, msg_start, len(result))\n"
          ]
        },
        {
          "output_type": "stream",
          "name": "stdout",
          "text": [
            "Test Error: \n",
            " Accuracy: 76.9%\n",
            " Avg loss: 0.984200\n",
            " Precision: 0.4229\n",
            " Recall: 0.4082\n",
            " F1 Score: 0.3959\n",
            " Matthew's Correlation Coefficient: 0.6417\n",
            "EarlyStopping counter: 5 out of 10\n",
            "Train_loss: 0.005963\n"
          ]
        },
        {
          "output_type": "stream",
          "name": "stderr",
          "text": [
            "/usr/local/lib/python3.10/dist-packages/sklearn/metrics/_classification.py:1344: UndefinedMetricWarning: Precision is ill-defined and being set to 0.0 in labels with no predicted samples. Use `zero_division` parameter to control this behavior.\n",
            "  _warn_prf(average, modifier, msg_start, len(result))\n",
            "/usr/local/lib/python3.10/dist-packages/sklearn/metrics/_classification.py:1344: UndefinedMetricWarning: Recall is ill-defined and being set to 0.0 in labels with no true samples. Use `zero_division` parameter to control this behavior.\n",
            "  _warn_prf(average, modifier, msg_start, len(result))\n"
          ]
        },
        {
          "output_type": "stream",
          "name": "stdout",
          "text": [
            "Test Error: \n",
            " Accuracy: 75.3%\n",
            " Avg loss: 1.178007\n",
            " Precision: 0.4305\n",
            " Recall: 0.3865\n",
            " F1 Score: 0.3766\n",
            " Matthew's Correlation Coefficient: 0.6194\n",
            "EarlyStopping counter: 6 out of 10\n",
            "Train_loss: 0.003899\n"
          ]
        },
        {
          "output_type": "stream",
          "name": "stderr",
          "text": [
            "/usr/local/lib/python3.10/dist-packages/sklearn/metrics/_classification.py:1344: UndefinedMetricWarning: Precision is ill-defined and being set to 0.0 in labels with no predicted samples. Use `zero_division` parameter to control this behavior.\n",
            "  _warn_prf(average, modifier, msg_start, len(result))\n",
            "/usr/local/lib/python3.10/dist-packages/sklearn/metrics/_classification.py:1344: UndefinedMetricWarning: Recall is ill-defined and being set to 0.0 in labels with no true samples. Use `zero_division` parameter to control this behavior.\n",
            "  _warn_prf(average, modifier, msg_start, len(result))\n"
          ]
        },
        {
          "output_type": "stream",
          "name": "stdout",
          "text": [
            "Test Error: \n",
            " Accuracy: 77.4%\n",
            " Avg loss: 1.085345\n",
            " Precision: 0.4601\n",
            " Recall: 0.3930\n",
            " F1 Score: 0.3898\n",
            " Matthew's Correlation Coefficient: 0.6450\n",
            "EarlyStopping counter: 7 out of 10\n",
            "Train_loss: 0.030757\n"
          ]
        },
        {
          "output_type": "stream",
          "name": "stderr",
          "text": [
            "/usr/local/lib/python3.10/dist-packages/sklearn/metrics/_classification.py:1344: UndefinedMetricWarning: Recall is ill-defined and being set to 0.0 in labels with no true samples. Use `zero_division` parameter to control this behavior.\n",
            "  _warn_prf(average, modifier, msg_start, len(result))\n"
          ]
        },
        {
          "output_type": "stream",
          "name": "stdout",
          "text": [
            "Test Error: \n",
            " Accuracy: 75.8%\n",
            " Avg loss: 1.154605\n",
            " Precision: 0.5307\n",
            " Recall: 0.4342\n",
            " F1 Score: 0.4392\n",
            " Matthew's Correlation Coefficient: 0.6267\n",
            "EarlyStopping counter: 8 out of 10\n",
            "Train_loss: 0.023220\n"
          ]
        },
        {
          "output_type": "stream",
          "name": "stderr",
          "text": [
            "/usr/local/lib/python3.10/dist-packages/sklearn/metrics/_classification.py:1344: UndefinedMetricWarning: Recall is ill-defined and being set to 0.0 in labels with no true samples. Use `zero_division` parameter to control this behavior.\n",
            "  _warn_prf(average, modifier, msg_start, len(result))\n"
          ]
        },
        {
          "output_type": "stream",
          "name": "stdout",
          "text": [
            "Test Error: \n",
            " Accuracy: 75.9%\n",
            " Avg loss: 1.145250\n",
            " Precision: 0.5971\n",
            " Recall: 0.4230\n",
            " F1 Score: 0.4423\n",
            " Matthew's Correlation Coefficient: 0.6207\n",
            "EarlyStopping counter: 9 out of 10\n",
            "Train_loss: 0.011304\n"
          ]
        },
        {
          "output_type": "stream",
          "name": "stderr",
          "text": [
            "/usr/local/lib/python3.10/dist-packages/sklearn/metrics/_classification.py:1344: UndefinedMetricWarning: Recall is ill-defined and being set to 0.0 in labels with no true samples. Use `zero_division` parameter to control this behavior.\n",
            "  _warn_prf(average, modifier, msg_start, len(result))\n"
          ]
        },
        {
          "output_type": "stream",
          "name": "stdout",
          "text": [
            "Test Error: \n",
            " Accuracy: 76.7%\n",
            " Avg loss: 1.084925\n",
            " Precision: 0.6611\n",
            " Recall: 0.4180\n",
            " F1 Score: 0.4387\n",
            " Matthew's Correlation Coefficient: 0.6317\n",
            "EarlyStopping counter: 10 out of 10\n",
            "Early stopping\n",
            "Finished training for lr=0.001, layer_sizes=[1024, 512, 256], dropouts=[0.3, 0.3, 0.3]. Best val accuracy: 78.90739117732983\n",
            "Train_loss: 2.156464\n"
          ]
        },
        {
          "output_type": "stream",
          "name": "stderr",
          "text": [
            "/usr/local/lib/python3.10/dist-packages/sklearn/metrics/_classification.py:1344: UndefinedMetricWarning: Recall is ill-defined and being set to 0.0 in labels with no true samples. Use `zero_division` parameter to control this behavior.\n",
            "  _warn_prf(average, modifier, msg_start, len(result))\n"
          ]
        },
        {
          "output_type": "stream",
          "name": "stdout",
          "text": [
            "Test Error: \n",
            " Accuracy: 33.1%\n",
            " Avg loss: 1.863591\n",
            " Precision: 0.2997\n",
            " Recall: 0.2130\n",
            " F1 Score: 0.1614\n",
            " Matthew's Correlation Coefficient: 0.1616\n",
            "Train_loss: 1.835462\n"
          ]
        },
        {
          "output_type": "stream",
          "name": "stderr",
          "text": [
            "/usr/local/lib/python3.10/dist-packages/sklearn/metrics/_classification.py:1344: UndefinedMetricWarning: Recall is ill-defined and being set to 0.0 in labels with no true samples. Use `zero_division` parameter to control this behavior.\n",
            "  _warn_prf(average, modifier, msg_start, len(result))\n"
          ]
        },
        {
          "output_type": "stream",
          "name": "stdout",
          "text": [
            "Test Error: \n",
            " Accuracy: 48.7%\n",
            " Avg loss: 1.687822\n",
            " Precision: 0.3207\n",
            " Recall: 0.2510\n",
            " F1 Score: 0.2289\n",
            " Matthew's Correlation Coefficient: 0.3274\n",
            "Train_loss: 1.478969\n"
          ]
        },
        {
          "output_type": "stream",
          "name": "stderr",
          "text": [
            "/usr/local/lib/python3.10/dist-packages/sklearn/metrics/_classification.py:1344: UndefinedMetricWarning: Recall is ill-defined and being set to 0.0 in labels with no true samples. Use `zero_division` parameter to control this behavior.\n",
            "  _warn_prf(average, modifier, msg_start, len(result))\n"
          ]
        },
        {
          "output_type": "stream",
          "name": "stdout",
          "text": [
            "Test Error: \n",
            " Accuracy: 58.0%\n",
            " Avg loss: 1.562765\n",
            " Precision: 0.3184\n",
            " Recall: 0.2855\n",
            " F1 Score: 0.2578\n",
            " Matthew's Correlation Coefficient: 0.4209\n",
            "Train_loss: 1.288516\n"
          ]
        },
        {
          "output_type": "stream",
          "name": "stderr",
          "text": [
            "/usr/local/lib/python3.10/dist-packages/sklearn/metrics/_classification.py:1344: UndefinedMetricWarning: Recall is ill-defined and being set to 0.0 in labels with no true samples. Use `zero_division` parameter to control this behavior.\n",
            "  _warn_prf(average, modifier, msg_start, len(result))\n"
          ]
        },
        {
          "output_type": "stream",
          "name": "stdout",
          "text": [
            "Test Error: \n",
            " Accuracy: 66.1%\n",
            " Avg loss: 1.448146\n",
            " Precision: 0.3229\n",
            " Recall: 0.3184\n",
            " F1 Score: 0.2909\n",
            " Matthew's Correlation Coefficient: 0.5109\n",
            "Train_loss: 1.143116\n"
          ]
        },
        {
          "output_type": "stream",
          "name": "stderr",
          "text": [
            "/usr/local/lib/python3.10/dist-packages/sklearn/metrics/_classification.py:1344: UndefinedMetricWarning: Recall is ill-defined and being set to 0.0 in labels with no true samples. Use `zero_division` parameter to control this behavior.\n",
            "  _warn_prf(average, modifier, msg_start, len(result))\n"
          ]
        },
        {
          "output_type": "stream",
          "name": "stdout",
          "text": [
            "Test Error: \n",
            " Accuracy: 70.2%\n",
            " Avg loss: 1.369249\n",
            " Precision: 0.3319\n",
            " Recall: 0.3418\n",
            " F1 Score: 0.3149\n",
            " Matthew's Correlation Coefficient: 0.5630\n",
            "Train_loss: 1.045124\n"
          ]
        },
        {
          "output_type": "stream",
          "name": "stderr",
          "text": [
            "/usr/local/lib/python3.10/dist-packages/sklearn/metrics/_classification.py:1344: UndefinedMetricWarning: Recall is ill-defined and being set to 0.0 in labels with no true samples. Use `zero_division` parameter to control this behavior.\n",
            "  _warn_prf(average, modifier, msg_start, len(result))\n"
          ]
        },
        {
          "output_type": "stream",
          "name": "stdout",
          "text": [
            "Test Error: \n",
            " Accuracy: 73.2%\n",
            " Avg loss: 1.288570\n",
            " Precision: 0.3284\n",
            " Recall: 0.3408\n",
            " F1 Score: 0.3186\n",
            " Matthew's Correlation Coefficient: 0.5964\n",
            "Train_loss: 0.836497\n"
          ]
        },
        {
          "output_type": "stream",
          "name": "stderr",
          "text": [
            "/usr/local/lib/python3.10/dist-packages/sklearn/metrics/_classification.py:1344: UndefinedMetricWarning: Recall is ill-defined and being set to 0.0 in labels with no true samples. Use `zero_division` parameter to control this behavior.\n",
            "  _warn_prf(average, modifier, msg_start, len(result))\n"
          ]
        },
        {
          "output_type": "stream",
          "name": "stdout",
          "text": [
            "Test Error: \n",
            " Accuracy: 73.7%\n",
            " Avg loss: 1.233696\n",
            " Precision: 0.3337\n",
            " Recall: 0.3460\n",
            " F1 Score: 0.3223\n",
            " Matthew's Correlation Coefficient: 0.6057\n",
            "Train_loss: 0.763712\n"
          ]
        },
        {
          "output_type": "stream",
          "name": "stderr",
          "text": [
            "/usr/local/lib/python3.10/dist-packages/sklearn/metrics/_classification.py:1344: UndefinedMetricWarning: Recall is ill-defined and being set to 0.0 in labels with no true samples. Use `zero_division` parameter to control this behavior.\n",
            "  _warn_prf(average, modifier, msg_start, len(result))\n"
          ]
        },
        {
          "output_type": "stream",
          "name": "stdout",
          "text": [
            "Test Error: \n",
            " Accuracy: 74.9%\n",
            " Avg loss: 1.182361\n",
            " Precision: 0.3303\n",
            " Recall: 0.3485\n",
            " F1 Score: 0.3249\n",
            " Matthew's Correlation Coefficient: 0.6225\n",
            "Train_loss: 0.679093\n"
          ]
        },
        {
          "output_type": "stream",
          "name": "stderr",
          "text": [
            "/usr/local/lib/python3.10/dist-packages/sklearn/metrics/_classification.py:1344: UndefinedMetricWarning: Precision is ill-defined and being set to 0.0 in labels with no predicted samples. Use `zero_division` parameter to control this behavior.\n",
            "  _warn_prf(average, modifier, msg_start, len(result))\n",
            "/usr/local/lib/python3.10/dist-packages/sklearn/metrics/_classification.py:1344: UndefinedMetricWarning: Recall is ill-defined and being set to 0.0 in labels with no true samples. Use `zero_division` parameter to control this behavior.\n",
            "  _warn_prf(average, modifier, msg_start, len(result))\n"
          ]
        },
        {
          "output_type": "stream",
          "name": "stdout",
          "text": [
            "Test Error: \n",
            " Accuracy: 76.5%\n",
            " Avg loss: 1.108422\n",
            " Precision: 0.3445\n",
            " Recall: 0.3501\n",
            " F1 Score: 0.3336\n",
            " Matthew's Correlation Coefficient: 0.6386\n",
            "Train_loss: 0.555495\n"
          ]
        },
        {
          "output_type": "stream",
          "name": "stderr",
          "text": [
            "/usr/local/lib/python3.10/dist-packages/sklearn/metrics/_classification.py:1344: UndefinedMetricWarning: Precision is ill-defined and being set to 0.0 in labels with no predicted samples. Use `zero_division` parameter to control this behavior.\n",
            "  _warn_prf(average, modifier, msg_start, len(result))\n",
            "/usr/local/lib/python3.10/dist-packages/sklearn/metrics/_classification.py:1344: UndefinedMetricWarning: Recall is ill-defined and being set to 0.0 in labels with no true samples. Use `zero_division` parameter to control this behavior.\n",
            "  _warn_prf(average, modifier, msg_start, len(result))\n"
          ]
        },
        {
          "output_type": "stream",
          "name": "stdout",
          "text": [
            "Test Error: \n",
            " Accuracy: 75.9%\n",
            " Avg loss: 1.097725\n",
            " Precision: 0.3461\n",
            " Recall: 0.3540\n",
            " F1 Score: 0.3334\n",
            " Matthew's Correlation Coefficient: 0.6334\n",
            "EarlyStopping counter: 1 out of 10\n",
            "Train_loss: 0.556796\n"
          ]
        },
        {
          "output_type": "stream",
          "name": "stderr",
          "text": [
            "/usr/local/lib/python3.10/dist-packages/sklearn/metrics/_classification.py:1344: UndefinedMetricWarning: Precision is ill-defined and being set to 0.0 in labels with no predicted samples. Use `zero_division` parameter to control this behavior.\n",
            "  _warn_prf(average, modifier, msg_start, len(result))\n",
            "/usr/local/lib/python3.10/dist-packages/sklearn/metrics/_classification.py:1344: UndefinedMetricWarning: Recall is ill-defined and being set to 0.0 in labels with no true samples. Use `zero_division` parameter to control this behavior.\n",
            "  _warn_prf(average, modifier, msg_start, len(result))\n"
          ]
        },
        {
          "output_type": "stream",
          "name": "stdout",
          "text": [
            "Test Error: \n",
            " Accuracy: 77.9%\n",
            " Avg loss: 1.026713\n",
            " Precision: 0.3374\n",
            " Recall: 0.3498\n",
            " F1 Score: 0.3319\n",
            " Matthew's Correlation Coefficient: 0.6549\n",
            "Train_loss: 0.567426\n"
          ]
        },
        {
          "output_type": "stream",
          "name": "stderr",
          "text": [
            "/usr/local/lib/python3.10/dist-packages/sklearn/metrics/_classification.py:1344: UndefinedMetricWarning: Precision is ill-defined and being set to 0.0 in labels with no predicted samples. Use `zero_division` parameter to control this behavior.\n",
            "  _warn_prf(average, modifier, msg_start, len(result))\n"
          ]
        },
        {
          "output_type": "stream",
          "name": "stdout",
          "text": [
            "Test Error: \n",
            " Accuracy: 77.3%\n",
            " Avg loss: 0.997376\n",
            " Precision: 0.4223\n",
            " Recall: 0.4104\n",
            " F1 Score: 0.3914\n",
            " Matthew's Correlation Coefficient: 0.6476\n",
            "EarlyStopping counter: 1 out of 10\n",
            "Train_loss: 0.465326\n"
          ]
        },
        {
          "output_type": "stream",
          "name": "stderr",
          "text": [
            "/usr/local/lib/python3.10/dist-packages/sklearn/metrics/_classification.py:1344: UndefinedMetricWarning: Precision is ill-defined and being set to 0.0 in labels with no predicted samples. Use `zero_division` parameter to control this behavior.\n",
            "  _warn_prf(average, modifier, msg_start, len(result))\n"
          ]
        },
        {
          "output_type": "stream",
          "name": "stdout",
          "text": [
            "Test Error: \n",
            " Accuracy: 76.9%\n",
            " Avg loss: 0.983606\n",
            " Precision: 0.4112\n",
            " Recall: 0.4086\n",
            " F1 Score: 0.3892\n",
            " Matthew's Correlation Coefficient: 0.6419\n",
            "EarlyStopping counter: 2 out of 10\n",
            "Train_loss: 0.450769\n"
          ]
        },
        {
          "output_type": "stream",
          "name": "stderr",
          "text": [
            "/usr/local/lib/python3.10/dist-packages/sklearn/metrics/_classification.py:1344: UndefinedMetricWarning: Precision is ill-defined and being set to 0.0 in labels with no predicted samples. Use `zero_division` parameter to control this behavior.\n",
            "  _warn_prf(average, modifier, msg_start, len(result))\n"
          ]
        },
        {
          "output_type": "stream",
          "name": "stdout",
          "text": [
            "Test Error: \n",
            " Accuracy: 76.6%\n",
            " Avg loss: 0.972845\n",
            " Precision: 0.4000\n",
            " Recall: 0.4084\n",
            " F1 Score: 0.3865\n",
            " Matthew's Correlation Coefficient: 0.6385\n",
            "EarlyStopping counter: 3 out of 10\n",
            "Train_loss: 0.331830\n"
          ]
        },
        {
          "output_type": "stream",
          "name": "stderr",
          "text": [
            "/usr/local/lib/python3.10/dist-packages/sklearn/metrics/_classification.py:1344: UndefinedMetricWarning: Precision is ill-defined and being set to 0.0 in labels with no predicted samples. Use `zero_division` parameter to control this behavior.\n",
            "  _warn_prf(average, modifier, msg_start, len(result))\n"
          ]
        },
        {
          "output_type": "stream",
          "name": "stdout",
          "text": [
            "Test Error: \n",
            " Accuracy: 77.5%\n",
            " Avg loss: 0.937500\n",
            " Precision: 0.4211\n",
            " Recall: 0.4081\n",
            " F1 Score: 0.3926\n",
            " Matthew's Correlation Coefficient: 0.6459\n",
            "EarlyStopping counter: 4 out of 10\n",
            "Train_loss: 0.398852\n"
          ]
        },
        {
          "output_type": "stream",
          "name": "stderr",
          "text": [
            "/usr/local/lib/python3.10/dist-packages/sklearn/metrics/_classification.py:1344: UndefinedMetricWarning: Precision is ill-defined and being set to 0.0 in labels with no predicted samples. Use `zero_division` parameter to control this behavior.\n",
            "  _warn_prf(average, modifier, msg_start, len(result))\n"
          ]
        },
        {
          "output_type": "stream",
          "name": "stdout",
          "text": [
            "Test Error: \n",
            " Accuracy: 75.9%\n",
            " Avg loss: 0.957833\n",
            " Precision: 0.4159\n",
            " Recall: 0.4091\n",
            " F1 Score: 0.3868\n",
            " Matthew's Correlation Coefficient: 0.6315\n",
            "EarlyStopping counter: 5 out of 10\n",
            "Train_loss: 0.280281\n"
          ]
        },
        {
          "output_type": "stream",
          "name": "stderr",
          "text": [
            "/usr/local/lib/python3.10/dist-packages/sklearn/metrics/_classification.py:1344: UndefinedMetricWarning: Precision is ill-defined and being set to 0.0 in labels with no predicted samples. Use `zero_division` parameter to control this behavior.\n",
            "  _warn_prf(average, modifier, msg_start, len(result))\n"
          ]
        },
        {
          "output_type": "stream",
          "name": "stdout",
          "text": [
            "Test Error: \n",
            " Accuracy: 76.1%\n",
            " Avg loss: 0.924554\n",
            " Precision: 0.4141\n",
            " Recall: 0.4091\n",
            " F1 Score: 0.3881\n",
            " Matthew's Correlation Coefficient: 0.6319\n",
            "EarlyStopping counter: 6 out of 10\n",
            "Train_loss: 0.262323\n"
          ]
        },
        {
          "output_type": "stream",
          "name": "stderr",
          "text": [
            "/usr/local/lib/python3.10/dist-packages/sklearn/metrics/_classification.py:1344: UndefinedMetricWarning: Precision is ill-defined and being set to 0.0 in labels with no predicted samples. Use `zero_division` parameter to control this behavior.\n",
            "  _warn_prf(average, modifier, msg_start, len(result))\n"
          ]
        },
        {
          "output_type": "stream",
          "name": "stdout",
          "text": [
            "Test Error: \n",
            " Accuracy: 77.2%\n",
            " Avg loss: 0.894807\n",
            " Precision: 0.4099\n",
            " Recall: 0.4087\n",
            " F1 Score: 0.3938\n",
            " Matthew's Correlation Coefficient: 0.6425\n",
            "EarlyStopping counter: 7 out of 10\n",
            "Train_loss: 0.208792\n"
          ]
        },
        {
          "output_type": "stream",
          "name": "stderr",
          "text": [
            "/usr/local/lib/python3.10/dist-packages/sklearn/metrics/_classification.py:1344: UndefinedMetricWarning: Precision is ill-defined and being set to 0.0 in labels with no predicted samples. Use `zero_division` parameter to control this behavior.\n",
            "  _warn_prf(average, modifier, msg_start, len(result))\n"
          ]
        },
        {
          "output_type": "stream",
          "name": "stdout",
          "text": [
            "Test Error: \n",
            " Accuracy: 76.7%\n",
            " Avg loss: 0.891328\n",
            " Precision: 0.4132\n",
            " Recall: 0.4099\n",
            " F1 Score: 0.3934\n",
            " Matthew's Correlation Coefficient: 0.6387\n",
            "EarlyStopping counter: 8 out of 10\n",
            "Train_loss: 0.295069\n"
          ]
        },
        {
          "output_type": "stream",
          "name": "stderr",
          "text": [
            "/usr/local/lib/python3.10/dist-packages/sklearn/metrics/_classification.py:1344: UndefinedMetricWarning: Precision is ill-defined and being set to 0.0 in labels with no predicted samples. Use `zero_division` parameter to control this behavior.\n",
            "  _warn_prf(average, modifier, msg_start, len(result))\n"
          ]
        },
        {
          "output_type": "stream",
          "name": "stdout",
          "text": [
            "Test Error: \n",
            " Accuracy: 77.3%\n",
            " Avg loss: 0.864508\n",
            " Precision: 0.4260\n",
            " Recall: 0.4256\n",
            " F1 Score: 0.4144\n",
            " Matthew's Correlation Coefficient: 0.6448\n",
            "EarlyStopping counter: 9 out of 10\n",
            "Train_loss: 0.331605\n"
          ]
        },
        {
          "output_type": "stream",
          "name": "stderr",
          "text": [
            "/usr/local/lib/python3.10/dist-packages/sklearn/metrics/_classification.py:1344: UndefinedMetricWarning: Precision is ill-defined and being set to 0.0 in labels with no predicted samples. Use `zero_division` parameter to control this behavior.\n",
            "  _warn_prf(average, modifier, msg_start, len(result))\n"
          ]
        },
        {
          "output_type": "stream",
          "name": "stdout",
          "text": [
            "Test Error: \n",
            " Accuracy: 76.6%\n",
            " Avg loss: 0.875059\n",
            " Precision: 0.4171\n",
            " Recall: 0.4261\n",
            " F1 Score: 0.4100\n",
            " Matthew's Correlation Coefficient: 0.6375\n",
            "EarlyStopping counter: 10 out of 10\n",
            "Early stopping\n",
            "Finished training for lr=0.0001, layer_sizes=[128, 64, 32], dropouts=[0.1, 0.1, 0.1]. Best val accuracy: 78.90739117732983\n",
            "Train_loss: 1.872431\n"
          ]
        },
        {
          "output_type": "stream",
          "name": "stderr",
          "text": [
            "/usr/local/lib/python3.10/dist-packages/sklearn/metrics/_classification.py:1344: UndefinedMetricWarning: Recall is ill-defined and being set to 0.0 in labels with no true samples. Use `zero_division` parameter to control this behavior.\n",
            "  _warn_prf(average, modifier, msg_start, len(result))\n"
          ]
        },
        {
          "output_type": "stream",
          "name": "stdout",
          "text": [
            "Test Error: \n",
            " Accuracy: 49.4%\n",
            " Avg loss: 1.749255\n",
            " Precision: 0.2200\n",
            " Recall: 0.1862\n",
            " F1 Score: 0.1883\n",
            " Matthew's Correlation Coefficient: 0.1815\n",
            "Train_loss: 1.808295\n",
            "Test Error: \n",
            " Accuracy: 58.0%\n",
            " Avg loss: 1.686302\n",
            " Precision: 0.3000\n",
            " Recall: 0.2827\n",
            " F1 Score: 0.2749\n",
            " Matthew's Correlation Coefficient: 0.3327\n",
            "Train_loss: 1.763057\n"
          ]
        },
        {
          "output_type": "stream",
          "name": "stderr",
          "text": [
            "/usr/local/lib/python3.10/dist-packages/sklearn/metrics/_classification.py:1344: UndefinedMetricWarning: Precision is ill-defined and being set to 0.0 in labels with no predicted samples. Use `zero_division` parameter to control this behavior.\n",
            "  _warn_prf(average, modifier, msg_start, len(result))\n"
          ]
        },
        {
          "output_type": "stream",
          "name": "stdout",
          "text": [
            "Test Error: \n",
            " Accuracy: 63.9%\n",
            " Avg loss: 1.630111\n",
            " Precision: 0.3261\n",
            " Recall: 0.3147\n",
            " F1 Score: 0.3078\n",
            " Matthew's Correlation Coefficient: 0.4201\n",
            "Train_loss: 1.583630\n"
          ]
        },
        {
          "output_type": "stream",
          "name": "stderr",
          "text": [
            "/usr/local/lib/python3.10/dist-packages/sklearn/metrics/_classification.py:1344: UndefinedMetricWarning: Precision is ill-defined and being set to 0.0 in labels with no predicted samples. Use `zero_division` parameter to control this behavior.\n",
            "  _warn_prf(average, modifier, msg_start, len(result))\n"
          ]
        },
        {
          "output_type": "stream",
          "name": "stdout",
          "text": [
            "Test Error: \n",
            " Accuracy: 67.5%\n",
            " Avg loss: 1.565499\n",
            " Precision: 0.3539\n",
            " Recall: 0.3347\n",
            " F1 Score: 0.3266\n",
            " Matthew's Correlation Coefficient: 0.4858\n",
            "Train_loss: 1.467638\n"
          ]
        },
        {
          "output_type": "stream",
          "name": "stderr",
          "text": [
            "/usr/local/lib/python3.10/dist-packages/sklearn/metrics/_classification.py:1344: UndefinedMetricWarning: Precision is ill-defined and being set to 0.0 in labels with no predicted samples. Use `zero_division` parameter to control this behavior.\n",
            "  _warn_prf(average, modifier, msg_start, len(result))\n"
          ]
        },
        {
          "output_type": "stream",
          "name": "stdout",
          "text": [
            "Test Error: \n",
            " Accuracy: 69.4%\n",
            " Avg loss: 1.502395\n",
            " Precision: 0.3700\n",
            " Recall: 0.3418\n",
            " F1 Score: 0.3372\n",
            " Matthew's Correlation Coefficient: 0.5184\n",
            "Train_loss: 1.457232\n"
          ]
        },
        {
          "output_type": "stream",
          "name": "stderr",
          "text": [
            "/usr/local/lib/python3.10/dist-packages/sklearn/metrics/_classification.py:1344: UndefinedMetricWarning: Precision is ill-defined and being set to 0.0 in labels with no predicted samples. Use `zero_division` parameter to control this behavior.\n",
            "  _warn_prf(average, modifier, msg_start, len(result))\n"
          ]
        },
        {
          "output_type": "stream",
          "name": "stdout",
          "text": [
            "Test Error: \n",
            " Accuracy: 71.6%\n",
            " Avg loss: 1.446820\n",
            " Precision: 0.3744\n",
            " Recall: 0.3581\n",
            " F1 Score: 0.3516\n",
            " Matthew's Correlation Coefficient: 0.5524\n",
            "Train_loss: 1.332620\n"
          ]
        },
        {
          "output_type": "stream",
          "name": "stderr",
          "text": [
            "/usr/local/lib/python3.10/dist-packages/sklearn/metrics/_classification.py:1344: UndefinedMetricWarning: Precision is ill-defined and being set to 0.0 in labels with no predicted samples. Use `zero_division` parameter to control this behavior.\n",
            "  _warn_prf(average, modifier, msg_start, len(result))\n"
          ]
        },
        {
          "output_type": "stream",
          "name": "stdout",
          "text": [
            "Test Error: \n",
            " Accuracy: 72.4%\n",
            " Avg loss: 1.388127\n",
            " Precision: 0.3747\n",
            " Recall: 0.3667\n",
            " F1 Score: 0.3562\n",
            " Matthew's Correlation Coefficient: 0.5662\n",
            "Train_loss: 1.242739\n"
          ]
        },
        {
          "output_type": "stream",
          "name": "stderr",
          "text": [
            "/usr/local/lib/python3.10/dist-packages/sklearn/metrics/_classification.py:1344: UndefinedMetricWarning: Precision is ill-defined and being set to 0.0 in labels with no predicted samples. Use `zero_division` parameter to control this behavior.\n",
            "  _warn_prf(average, modifier, msg_start, len(result))\n"
          ]
        },
        {
          "output_type": "stream",
          "name": "stdout",
          "text": [
            "Test Error: \n",
            " Accuracy: 73.8%\n",
            " Avg loss: 1.321973\n",
            " Precision: 0.3815\n",
            " Recall: 0.3759\n",
            " F1 Score: 0.3648\n",
            " Matthew's Correlation Coefficient: 0.5897\n",
            "Train_loss: 1.101884\n"
          ]
        },
        {
          "output_type": "stream",
          "name": "stderr",
          "text": [
            "/usr/local/lib/python3.10/dist-packages/sklearn/metrics/_classification.py:1344: UndefinedMetricWarning: Precision is ill-defined and being set to 0.0 in labels with no predicted samples. Use `zero_division` parameter to control this behavior.\n",
            "  _warn_prf(average, modifier, msg_start, len(result))\n"
          ]
        },
        {
          "output_type": "stream",
          "name": "stdout",
          "text": [
            "Test Error: \n",
            " Accuracy: 74.2%\n",
            " Avg loss: 1.263061\n",
            " Precision: 0.3821\n",
            " Recall: 0.3783\n",
            " F1 Score: 0.3669\n",
            " Matthew's Correlation Coefficient: 0.5959\n",
            "Train_loss: 1.142109\n"
          ]
        },
        {
          "output_type": "stream",
          "name": "stderr",
          "text": [
            "/usr/local/lib/python3.10/dist-packages/sklearn/metrics/_classification.py:1344: UndefinedMetricWarning: Precision is ill-defined and being set to 0.0 in labels with no predicted samples. Use `zero_division` parameter to control this behavior.\n",
            "  _warn_prf(average, modifier, msg_start, len(result))\n"
          ]
        },
        {
          "output_type": "stream",
          "name": "stdout",
          "text": [
            "Test Error: \n",
            " Accuracy: 75.2%\n",
            " Avg loss: 1.199540\n",
            " Precision: 0.3810\n",
            " Recall: 0.3860\n",
            " F1 Score: 0.3727\n",
            " Matthew's Correlation Coefficient: 0.6100\n",
            "Train_loss: 1.025332\n"
          ]
        },
        {
          "output_type": "stream",
          "name": "stderr",
          "text": [
            "/usr/local/lib/python3.10/dist-packages/sklearn/metrics/_classification.py:1344: UndefinedMetricWarning: Precision is ill-defined and being set to 0.0 in labels with no predicted samples. Use `zero_division` parameter to control this behavior.\n",
            "  _warn_prf(average, modifier, msg_start, len(result))\n"
          ]
        },
        {
          "output_type": "stream",
          "name": "stdout",
          "text": [
            "Test Error: \n",
            " Accuracy: 76.2%\n",
            " Avg loss: 1.152545\n",
            " Precision: 0.3801\n",
            " Recall: 0.3935\n",
            " F1 Score: 0.3776\n",
            " Matthew's Correlation Coefficient: 0.6241\n",
            "Train_loss: 0.956578\n"
          ]
        },
        {
          "output_type": "stream",
          "name": "stderr",
          "text": [
            "/usr/local/lib/python3.10/dist-packages/sklearn/metrics/_classification.py:1344: UndefinedMetricWarning: Precision is ill-defined and being set to 0.0 in labels with no predicted samples. Use `zero_division` parameter to control this behavior.\n",
            "  _warn_prf(average, modifier, msg_start, len(result))\n"
          ]
        },
        {
          "output_type": "stream",
          "name": "stdout",
          "text": [
            "Test Error: \n",
            " Accuracy: 75.3%\n",
            " Avg loss: 1.096880\n",
            " Precision: 0.3821\n",
            " Recall: 0.3899\n",
            " F1 Score: 0.3717\n",
            " Matthew's Correlation Coefficient: 0.6169\n",
            "EarlyStopping counter: 1 out of 10\n",
            "Train_loss: 0.876832\n"
          ]
        },
        {
          "output_type": "stream",
          "name": "stderr",
          "text": [
            "/usr/local/lib/python3.10/dist-packages/sklearn/metrics/_classification.py:1344: UndefinedMetricWarning: Precision is ill-defined and being set to 0.0 in labels with no predicted samples. Use `zero_division` parameter to control this behavior.\n",
            "  _warn_prf(average, modifier, msg_start, len(result))\n"
          ]
        },
        {
          "output_type": "stream",
          "name": "stdout",
          "text": [
            "Test Error: \n",
            " Accuracy: 77.3%\n",
            " Avg loss: 1.043656\n",
            " Precision: 0.3797\n",
            " Recall: 0.3997\n",
            " F1 Score: 0.3842\n",
            " Matthew's Correlation Coefficient: 0.6374\n",
            "Train_loss: 0.935536\n"
          ]
        },
        {
          "output_type": "stream",
          "name": "stderr",
          "text": [
            "/usr/local/lib/python3.10/dist-packages/sklearn/metrics/_classification.py:1344: UndefinedMetricWarning: Precision is ill-defined and being set to 0.0 in labels with no predicted samples. Use `zero_division` parameter to control this behavior.\n",
            "  _warn_prf(average, modifier, msg_start, len(result))\n"
          ]
        },
        {
          "output_type": "stream",
          "name": "stdout",
          "text": [
            "Test Error: \n",
            " Accuracy: 77.1%\n",
            " Avg loss: 1.011970\n",
            " Precision: 0.3843\n",
            " Recall: 0.3992\n",
            " F1 Score: 0.3818\n",
            " Matthew's Correlation Coefficient: 0.6407\n",
            "EarlyStopping counter: 1 out of 10\n",
            "Train_loss: 0.747440\n"
          ]
        },
        {
          "output_type": "stream",
          "name": "stderr",
          "text": [
            "/usr/local/lib/python3.10/dist-packages/sklearn/metrics/_classification.py:1344: UndefinedMetricWarning: Precision is ill-defined and being set to 0.0 in labels with no predicted samples. Use `zero_division` parameter to control this behavior.\n",
            "  _warn_prf(average, modifier, msg_start, len(result))\n"
          ]
        },
        {
          "output_type": "stream",
          "name": "stdout",
          "text": [
            "Test Error: \n",
            " Accuracy: 77.8%\n",
            " Avg loss: 0.959454\n",
            " Precision: 0.3855\n",
            " Recall: 0.4026\n",
            " F1 Score: 0.3859\n",
            " Matthew's Correlation Coefficient: 0.6488\n",
            "Train_loss: 0.693944\n"
          ]
        },
        {
          "output_type": "stream",
          "name": "stderr",
          "text": [
            "/usr/local/lib/python3.10/dist-packages/sklearn/metrics/_classification.py:1344: UndefinedMetricWarning: Precision is ill-defined and being set to 0.0 in labels with no predicted samples. Use `zero_division` parameter to control this behavior.\n",
            "  _warn_prf(average, modifier, msg_start, len(result))\n"
          ]
        },
        {
          "output_type": "stream",
          "name": "stdout",
          "text": [
            "Test Error: \n",
            " Accuracy: 77.7%\n",
            " Avg loss: 0.922712\n",
            " Precision: 0.3838\n",
            " Recall: 0.4034\n",
            " F1 Score: 0.3850\n",
            " Matthew's Correlation Coefficient: 0.6487\n",
            "EarlyStopping counter: 1 out of 10\n",
            "Train_loss: 0.657568\n"
          ]
        },
        {
          "output_type": "stream",
          "name": "stderr",
          "text": [
            "/usr/local/lib/python3.10/dist-packages/sklearn/metrics/_classification.py:1344: UndefinedMetricWarning: Precision is ill-defined and being set to 0.0 in labels with no predicted samples. Use `zero_division` parameter to control this behavior.\n",
            "  _warn_prf(average, modifier, msg_start, len(result))\n"
          ]
        },
        {
          "output_type": "stream",
          "name": "stdout",
          "text": [
            "Test Error: \n",
            " Accuracy: 78.2%\n",
            " Avg loss: 0.888459\n",
            " Precision: 0.3840\n",
            " Recall: 0.4066\n",
            " F1 Score: 0.3872\n",
            " Matthew's Correlation Coefficient: 0.6558\n",
            "Train_loss: 0.693494\n"
          ]
        },
        {
          "output_type": "stream",
          "name": "stderr",
          "text": [
            "/usr/local/lib/python3.10/dist-packages/sklearn/metrics/_classification.py:1344: UndefinedMetricWarning: Precision is ill-defined and being set to 0.0 in labels with no predicted samples. Use `zero_division` parameter to control this behavior.\n",
            "  _warn_prf(average, modifier, msg_start, len(result))\n"
          ]
        },
        {
          "output_type": "stream",
          "name": "stdout",
          "text": [
            "Test Error: \n",
            " Accuracy: 78.8%\n",
            " Avg loss: 0.859054\n",
            " Precision: 0.3849\n",
            " Recall: 0.4106\n",
            " F1 Score: 0.3908\n",
            " Matthew's Correlation Coefficient: 0.6650\n",
            "Train_loss: 0.482014\n"
          ]
        },
        {
          "output_type": "stream",
          "name": "stderr",
          "text": [
            "/usr/local/lib/python3.10/dist-packages/sklearn/metrics/_classification.py:1344: UndefinedMetricWarning: Precision is ill-defined and being set to 0.0 in labels with no predicted samples. Use `zero_division` parameter to control this behavior.\n",
            "  _warn_prf(average, modifier, msg_start, len(result))\n"
          ]
        },
        {
          "output_type": "stream",
          "name": "stdout",
          "text": [
            "Test Error: \n",
            " Accuracy: 78.8%\n",
            " Avg loss: 0.836161\n",
            " Precision: 0.3872\n",
            " Recall: 0.4093\n",
            " F1 Score: 0.3909\n",
            " Matthew's Correlation Coefficient: 0.6653\n",
            "EarlyStopping counter: 1 out of 10\n",
            "Train_loss: 0.554308\n"
          ]
        },
        {
          "output_type": "stream",
          "name": "stderr",
          "text": [
            "/usr/local/lib/python3.10/dist-packages/sklearn/metrics/_classification.py:1344: UndefinedMetricWarning: Precision is ill-defined and being set to 0.0 in labels with no predicted samples. Use `zero_division` parameter to control this behavior.\n",
            "  _warn_prf(average, modifier, msg_start, len(result))\n"
          ]
        },
        {
          "output_type": "stream",
          "name": "stdout",
          "text": [
            "Test Error: \n",
            " Accuracy: 78.3%\n",
            " Avg loss: 0.811307\n",
            " Precision: 0.3822\n",
            " Recall: 0.4092\n",
            " F1 Score: 0.3865\n",
            " Matthew's Correlation Coefficient: 0.6595\n",
            "EarlyStopping counter: 2 out of 10\n",
            "Train_loss: 0.716109\n"
          ]
        },
        {
          "output_type": "stream",
          "name": "stderr",
          "text": [
            "/usr/local/lib/python3.10/dist-packages/sklearn/metrics/_classification.py:1344: UndefinedMetricWarning: Precision is ill-defined and being set to 0.0 in labels with no predicted samples. Use `zero_division` parameter to control this behavior.\n",
            "  _warn_prf(average, modifier, msg_start, len(result))\n"
          ]
        },
        {
          "output_type": "stream",
          "name": "stdout",
          "text": [
            "Test Error: \n",
            " Accuracy: 79.6%\n",
            " Avg loss: 0.786648\n",
            " Precision: 0.3854\n",
            " Recall: 0.4150\n",
            " F1 Score: 0.3944\n",
            " Matthew's Correlation Coefficient: 0.6758\n",
            "Train_loss: 0.487463\n"
          ]
        },
        {
          "output_type": "stream",
          "name": "stderr",
          "text": [
            "/usr/local/lib/python3.10/dist-packages/sklearn/metrics/_classification.py:1344: UndefinedMetricWarning: Precision is ill-defined and being set to 0.0 in labels with no predicted samples. Use `zero_division` parameter to control this behavior.\n",
            "  _warn_prf(average, modifier, msg_start, len(result))\n"
          ]
        },
        {
          "output_type": "stream",
          "name": "stdout",
          "text": [
            "Test Error: \n",
            " Accuracy: 79.9%\n",
            " Avg loss: 0.755288\n",
            " Precision: 0.3904\n",
            " Recall: 0.4153\n",
            " F1 Score: 0.3967\n",
            " Matthew's Correlation Coefficient: 0.6818\n",
            "Train_loss: 0.497599\n"
          ]
        },
        {
          "output_type": "stream",
          "name": "stderr",
          "text": [
            "/usr/local/lib/python3.10/dist-packages/sklearn/metrics/_classification.py:1344: UndefinedMetricWarning: Precision is ill-defined and being set to 0.0 in labels with no predicted samples. Use `zero_division` parameter to control this behavior.\n",
            "  _warn_prf(average, modifier, msg_start, len(result))\n"
          ]
        },
        {
          "output_type": "stream",
          "name": "stdout",
          "text": [
            "Test Error: \n",
            " Accuracy: 79.1%\n",
            " Avg loss: 0.735660\n",
            " Precision: 0.3863\n",
            " Recall: 0.4134\n",
            " F1 Score: 0.3920\n",
            " Matthew's Correlation Coefficient: 0.6716\n",
            "EarlyStopping counter: 1 out of 10\n",
            "Train_loss: 0.474660\n"
          ]
        },
        {
          "output_type": "stream",
          "name": "stderr",
          "text": [
            "/usr/local/lib/python3.10/dist-packages/sklearn/metrics/_classification.py:1344: UndefinedMetricWarning: Precision is ill-defined and being set to 0.0 in labels with no predicted samples. Use `zero_division` parameter to control this behavior.\n",
            "  _warn_prf(average, modifier, msg_start, len(result))\n"
          ]
        },
        {
          "output_type": "stream",
          "name": "stdout",
          "text": [
            "Test Error: \n",
            " Accuracy: 79.0%\n",
            " Avg loss: 0.716416\n",
            " Precision: 0.3882\n",
            " Recall: 0.4096\n",
            " F1 Score: 0.3913\n",
            " Matthew's Correlation Coefficient: 0.6685\n",
            "EarlyStopping counter: 2 out of 10\n",
            "Train_loss: 0.459175\n"
          ]
        },
        {
          "output_type": "stream",
          "name": "stderr",
          "text": [
            "/usr/local/lib/python3.10/dist-packages/sklearn/metrics/_classification.py:1344: UndefinedMetricWarning: Precision is ill-defined and being set to 0.0 in labels with no predicted samples. Use `zero_division` parameter to control this behavior.\n",
            "  _warn_prf(average, modifier, msg_start, len(result))\n"
          ]
        },
        {
          "output_type": "stream",
          "name": "stdout",
          "text": [
            "Test Error: \n",
            " Accuracy: 79.1%\n",
            " Avg loss: 0.714529\n",
            " Precision: 0.3854\n",
            " Recall: 0.4132\n",
            " F1 Score: 0.3912\n",
            " Matthew's Correlation Coefficient: 0.6716\n",
            "EarlyStopping counter: 3 out of 10\n",
            "Train_loss: 0.478937\n"
          ]
        },
        {
          "output_type": "stream",
          "name": "stderr",
          "text": [
            "/usr/local/lib/python3.10/dist-packages/sklearn/metrics/_classification.py:1344: UndefinedMetricWarning: Precision is ill-defined and being set to 0.0 in labels with no predicted samples. Use `zero_division` parameter to control this behavior.\n",
            "  _warn_prf(average, modifier, msg_start, len(result))\n"
          ]
        },
        {
          "output_type": "stream",
          "name": "stdout",
          "text": [
            "Test Error: \n",
            " Accuracy: 79.5%\n",
            " Avg loss: 0.680805\n",
            " Precision: 0.3904\n",
            " Recall: 0.4110\n",
            " F1 Score: 0.3951\n",
            " Matthew's Correlation Coefficient: 0.6740\n",
            "EarlyStopping counter: 4 out of 10\n",
            "Train_loss: 0.538427\n"
          ]
        },
        {
          "output_type": "stream",
          "name": "stderr",
          "text": [
            "/usr/local/lib/python3.10/dist-packages/sklearn/metrics/_classification.py:1344: UndefinedMetricWarning: Precision is ill-defined and being set to 0.0 in labels with no predicted samples. Use `zero_division` parameter to control this behavior.\n",
            "  _warn_prf(average, modifier, msg_start, len(result))\n"
          ]
        },
        {
          "output_type": "stream",
          "name": "stdout",
          "text": [
            "Test Error: \n",
            " Accuracy: 79.5%\n",
            " Avg loss: 0.685860\n",
            " Precision: 0.3856\n",
            " Recall: 0.4144\n",
            " F1 Score: 0.3929\n",
            " Matthew's Correlation Coefficient: 0.6761\n",
            "EarlyStopping counter: 5 out of 10\n",
            "Train_loss: 0.593409\n"
          ]
        },
        {
          "output_type": "stream",
          "name": "stderr",
          "text": [
            "/usr/local/lib/python3.10/dist-packages/sklearn/metrics/_classification.py:1344: UndefinedMetricWarning: Precision is ill-defined and being set to 0.0 in labels with no predicted samples. Use `zero_division` parameter to control this behavior.\n",
            "  _warn_prf(average, modifier, msg_start, len(result))\n"
          ]
        },
        {
          "output_type": "stream",
          "name": "stdout",
          "text": [
            "Test Error: \n",
            " Accuracy: 79.7%\n",
            " Avg loss: 0.673527\n",
            " Precision: 0.3859\n",
            " Recall: 0.4162\n",
            " F1 Score: 0.3950\n",
            " Matthew's Correlation Coefficient: 0.6792\n",
            "EarlyStopping counter: 6 out of 10\n",
            "Train_loss: 0.609625\n"
          ]
        },
        {
          "output_type": "stream",
          "name": "stderr",
          "text": [
            "/usr/local/lib/python3.10/dist-packages/sklearn/metrics/_classification.py:1344: UndefinedMetricWarning: Precision is ill-defined and being set to 0.0 in labels with no predicted samples. Use `zero_division` parameter to control this behavior.\n",
            "  _warn_prf(average, modifier, msg_start, len(result))\n"
          ]
        },
        {
          "output_type": "stream",
          "name": "stdout",
          "text": [
            "Test Error: \n",
            " Accuracy: 79.3%\n",
            " Avg loss: 0.674313\n",
            " Precision: 0.3838\n",
            " Recall: 0.4138\n",
            " F1 Score: 0.3913\n",
            " Matthew's Correlation Coefficient: 0.6736\n",
            "EarlyStopping counter: 7 out of 10\n",
            "Train_loss: 0.278432\n"
          ]
        },
        {
          "output_type": "stream",
          "name": "stderr",
          "text": [
            "/usr/local/lib/python3.10/dist-packages/sklearn/metrics/_classification.py:1344: UndefinedMetricWarning: Precision is ill-defined and being set to 0.0 in labels with no predicted samples. Use `zero_division` parameter to control this behavior.\n",
            "  _warn_prf(average, modifier, msg_start, len(result))\n"
          ]
        },
        {
          "output_type": "stream",
          "name": "stdout",
          "text": [
            "Test Error: \n",
            " Accuracy: 78.3%\n",
            " Avg loss: 0.679434\n",
            " Precision: 0.3788\n",
            " Recall: 0.4108\n",
            " F1 Score: 0.3853\n",
            " Matthew's Correlation Coefficient: 0.6621\n",
            "EarlyStopping counter: 8 out of 10\n",
            "Train_loss: 0.309088\n"
          ]
        },
        {
          "output_type": "stream",
          "name": "stderr",
          "text": [
            "/usr/local/lib/python3.10/dist-packages/sklearn/metrics/_classification.py:1344: UndefinedMetricWarning: Precision is ill-defined and being set to 0.0 in labels with no predicted samples. Use `zero_division` parameter to control this behavior.\n",
            "  _warn_prf(average, modifier, msg_start, len(result))\n"
          ]
        },
        {
          "output_type": "stream",
          "name": "stdout",
          "text": [
            "Test Error: \n",
            " Accuracy: 78.8%\n",
            " Avg loss: 0.672765\n",
            " Precision: 0.3803\n",
            " Recall: 0.4138\n",
            " F1 Score: 0.3886\n",
            " Matthew's Correlation Coefficient: 0.6684\n",
            "EarlyStopping counter: 9 out of 10\n",
            "Train_loss: 0.408152\n"
          ]
        },
        {
          "output_type": "stream",
          "name": "stderr",
          "text": [
            "/usr/local/lib/python3.10/dist-packages/sklearn/metrics/_classification.py:1344: UndefinedMetricWarning: Precision is ill-defined and being set to 0.0 in labels with no predicted samples. Use `zero_division` parameter to control this behavior.\n",
            "  _warn_prf(average, modifier, msg_start, len(result))\n"
          ]
        },
        {
          "output_type": "stream",
          "name": "stdout",
          "text": [
            "Test Error: \n",
            " Accuracy: 79.7%\n",
            " Avg loss: 0.640834\n",
            " Precision: 0.3846\n",
            " Recall: 0.4162\n",
            " F1 Score: 0.3944\n",
            " Matthew's Correlation Coefficient: 0.6783\n",
            "EarlyStopping counter: 10 out of 10\n",
            "Early stopping\n",
            "Finished training for lr=0.0001, layer_sizes=[128, 64, 32], dropouts=[0.5, 0.5, 0.5]. Best val accuracy: 79.6669588080631\n",
            "Train_loss: 1.924021\n"
          ]
        },
        {
          "output_type": "stream",
          "name": "stderr",
          "text": [
            "/usr/local/lib/python3.10/dist-packages/sklearn/metrics/_classification.py:1344: UndefinedMetricWarning: Recall is ill-defined and being set to 0.0 in labels with no true samples. Use `zero_division` parameter to control this behavior.\n",
            "  _warn_prf(average, modifier, msg_start, len(result))\n"
          ]
        },
        {
          "output_type": "stream",
          "name": "stdout",
          "text": [
            "Test Error: \n",
            " Accuracy: 29.1%\n",
            " Avg loss: 1.802790\n",
            " Precision: 0.2701\n",
            " Recall: 0.1498\n",
            " F1 Score: 0.1623\n",
            " Matthew's Correlation Coefficient: 0.1475\n",
            "Train_loss: 1.688162\n"
          ]
        },
        {
          "output_type": "stream",
          "name": "stderr",
          "text": [
            "/usr/local/lib/python3.10/dist-packages/sklearn/metrics/_classification.py:1344: UndefinedMetricWarning: Precision is ill-defined and being set to 0.0 in labels with no predicted samples. Use `zero_division` parameter to control this behavior.\n",
            "  _warn_prf(average, modifier, msg_start, len(result))\n",
            "/usr/local/lib/python3.10/dist-packages/sklearn/metrics/_classification.py:1344: UndefinedMetricWarning: Recall is ill-defined and being set to 0.0 in labels with no true samples. Use `zero_division` parameter to control this behavior.\n",
            "  _warn_prf(average, modifier, msg_start, len(result))\n"
          ]
        },
        {
          "output_type": "stream",
          "name": "stdout",
          "text": [
            "Test Error: \n",
            " Accuracy: 44.9%\n",
            " Avg loss: 1.689943\n",
            " Precision: 0.3043\n",
            " Recall: 0.2194\n",
            " F1 Score: 0.2493\n",
            " Matthew's Correlation Coefficient: 0.3095\n",
            "Train_loss: 1.574042\n"
          ]
        },
        {
          "output_type": "stream",
          "name": "stderr",
          "text": [
            "/usr/local/lib/python3.10/dist-packages/sklearn/metrics/_classification.py:1344: UndefinedMetricWarning: Precision is ill-defined and being set to 0.0 in labels with no predicted samples. Use `zero_division` parameter to control this behavior.\n",
            "  _warn_prf(average, modifier, msg_start, len(result))\n",
            "/usr/local/lib/python3.10/dist-packages/sklearn/metrics/_classification.py:1344: UndefinedMetricWarning: Recall is ill-defined and being set to 0.0 in labels with no true samples. Use `zero_division` parameter to control this behavior.\n",
            "  _warn_prf(average, modifier, msg_start, len(result))\n"
          ]
        },
        {
          "output_type": "stream",
          "name": "stdout",
          "text": [
            "Test Error: \n",
            " Accuracy: 60.0%\n",
            " Avg loss: 1.593639\n",
            " Precision: 0.3117\n",
            " Recall: 0.2768\n",
            " F1 Score: 0.2907\n",
            " Matthew's Correlation Coefficient: 0.4334\n",
            "Train_loss: 1.494337\n"
          ]
        },
        {
          "output_type": "stream",
          "name": "stderr",
          "text": [
            "/usr/local/lib/python3.10/dist-packages/sklearn/metrics/_classification.py:1344: UndefinedMetricWarning: Precision is ill-defined and being set to 0.0 in labels with no predicted samples. Use `zero_division` parameter to control this behavior.\n",
            "  _warn_prf(average, modifier, msg_start, len(result))\n",
            "/usr/local/lib/python3.10/dist-packages/sklearn/metrics/_classification.py:1344: UndefinedMetricWarning: Recall is ill-defined and being set to 0.0 in labels with no true samples. Use `zero_division` parameter to control this behavior.\n",
            "  _warn_prf(average, modifier, msg_start, len(result))\n"
          ]
        },
        {
          "output_type": "stream",
          "name": "stdout",
          "text": [
            "Test Error: \n",
            " Accuracy: 68.7%\n",
            " Avg loss: 1.512415\n",
            " Precision: 0.3131\n",
            " Recall: 0.3127\n",
            " F1 Score: 0.3111\n",
            " Matthew's Correlation Coefficient: 0.5283\n",
            "Train_loss: 1.358000\n"
          ]
        },
        {
          "output_type": "stream",
          "name": "stderr",
          "text": [
            "/usr/local/lib/python3.10/dist-packages/sklearn/metrics/_classification.py:1344: UndefinedMetricWarning: Precision is ill-defined and being set to 0.0 in labels with no predicted samples. Use `zero_division` parameter to control this behavior.\n",
            "  _warn_prf(average, modifier, msg_start, len(result))\n",
            "/usr/local/lib/python3.10/dist-packages/sklearn/metrics/_classification.py:1344: UndefinedMetricWarning: Recall is ill-defined and being set to 0.0 in labels with no true samples. Use `zero_division` parameter to control this behavior.\n",
            "  _warn_prf(average, modifier, msg_start, len(result))\n"
          ]
        },
        {
          "output_type": "stream",
          "name": "stdout",
          "text": [
            "Test Error: \n",
            " Accuracy: 73.9%\n",
            " Avg loss: 1.421160\n",
            " Precision: 0.3200\n",
            " Recall: 0.3291\n",
            " F1 Score: 0.3235\n",
            " Matthew's Correlation Coefficient: 0.5857\n",
            "Train_loss: 1.218766\n"
          ]
        },
        {
          "output_type": "stream",
          "name": "stderr",
          "text": [
            "/usr/local/lib/python3.10/dist-packages/sklearn/metrics/_classification.py:1344: UndefinedMetricWarning: Precision is ill-defined and being set to 0.0 in labels with no predicted samples. Use `zero_division` parameter to control this behavior.\n",
            "  _warn_prf(average, modifier, msg_start, len(result))\n",
            "/usr/local/lib/python3.10/dist-packages/sklearn/metrics/_classification.py:1344: UndefinedMetricWarning: Recall is ill-defined and being set to 0.0 in labels with no true samples. Use `zero_division` parameter to control this behavior.\n",
            "  _warn_prf(average, modifier, msg_start, len(result))\n"
          ]
        },
        {
          "output_type": "stream",
          "name": "stdout",
          "text": [
            "Test Error: \n",
            " Accuracy: 76.0%\n",
            " Avg loss: 1.356789\n",
            " Precision: 0.3242\n",
            " Recall: 0.3355\n",
            " F1 Score: 0.3286\n",
            " Matthew's Correlation Coefficient: 0.6135\n",
            "Train_loss: 1.069803\n"
          ]
        },
        {
          "output_type": "stream",
          "name": "stderr",
          "text": [
            "/usr/local/lib/python3.10/dist-packages/sklearn/metrics/_classification.py:1344: UndefinedMetricWarning: Precision is ill-defined and being set to 0.0 in labels with no predicted samples. Use `zero_division` parameter to control this behavior.\n",
            "  _warn_prf(average, modifier, msg_start, len(result))\n",
            "/usr/local/lib/python3.10/dist-packages/sklearn/metrics/_classification.py:1344: UndefinedMetricWarning: Recall is ill-defined and being set to 0.0 in labels with no true samples. Use `zero_division` parameter to control this behavior.\n",
            "  _warn_prf(average, modifier, msg_start, len(result))\n"
          ]
        },
        {
          "output_type": "stream",
          "name": "stdout",
          "text": [
            "Test Error: \n",
            " Accuracy: 76.8%\n",
            " Avg loss: 1.273445\n",
            " Precision: 0.3199\n",
            " Recall: 0.3415\n",
            " F1 Score: 0.3272\n",
            " Matthew's Correlation Coefficient: 0.6297\n",
            "Train_loss: 0.948682\n"
          ]
        },
        {
          "output_type": "stream",
          "name": "stderr",
          "text": [
            "/usr/local/lib/python3.10/dist-packages/sklearn/metrics/_classification.py:1344: UndefinedMetricWarning: Precision is ill-defined and being set to 0.0 in labels with no predicted samples. Use `zero_division` parameter to control this behavior.\n",
            "  _warn_prf(average, modifier, msg_start, len(result))\n",
            "/usr/local/lib/python3.10/dist-packages/sklearn/metrics/_classification.py:1344: UndefinedMetricWarning: Recall is ill-defined and being set to 0.0 in labels with no true samples. Use `zero_division` parameter to control this behavior.\n",
            "  _warn_prf(average, modifier, msg_start, len(result))\n"
          ]
        },
        {
          "output_type": "stream",
          "name": "stdout",
          "text": [
            "Test Error: \n",
            " Accuracy: 78.4%\n",
            " Avg loss: 1.200198\n",
            " Precision: 0.3281\n",
            " Recall: 0.3448\n",
            " F1 Score: 0.3341\n",
            " Matthew's Correlation Coefficient: 0.6523\n",
            "Train_loss: 0.939557\n"
          ]
        },
        {
          "output_type": "stream",
          "name": "stderr",
          "text": [
            "/usr/local/lib/python3.10/dist-packages/sklearn/metrics/_classification.py:1344: UndefinedMetricWarning: Precision is ill-defined and being set to 0.0 in labels with no predicted samples. Use `zero_division` parameter to control this behavior.\n",
            "  _warn_prf(average, modifier, msg_start, len(result))\n",
            "/usr/local/lib/python3.10/dist-packages/sklearn/metrics/_classification.py:1344: UndefinedMetricWarning: Recall is ill-defined and being set to 0.0 in labels with no true samples. Use `zero_division` parameter to control this behavior.\n",
            "  _warn_prf(average, modifier, msg_start, len(result))\n"
          ]
        },
        {
          "output_type": "stream",
          "name": "stdout",
          "text": [
            "Test Error: \n",
            " Accuracy: 78.8%\n",
            " Avg loss: 1.148994\n",
            " Precision: 0.3308\n",
            " Recall: 0.3469\n",
            " F1 Score: 0.3358\n",
            " Matthew's Correlation Coefficient: 0.6591\n",
            "Train_loss: 0.895578\n"
          ]
        },
        {
          "output_type": "stream",
          "name": "stderr",
          "text": [
            "/usr/local/lib/python3.10/dist-packages/sklearn/metrics/_classification.py:1344: UndefinedMetricWarning: Precision is ill-defined and being set to 0.0 in labels with no predicted samples. Use `zero_division` parameter to control this behavior.\n",
            "  _warn_prf(average, modifier, msg_start, len(result))\n"
          ]
        },
        {
          "output_type": "stream",
          "name": "stdout",
          "text": [
            "Test Error: \n",
            " Accuracy: 78.8%\n",
            " Avg loss: 1.083866\n",
            " Precision: 0.3857\n",
            " Recall: 0.4052\n",
            " F1 Score: 0.3912\n",
            " Matthew's Correlation Coefficient: 0.6609\n",
            "Train_loss: 0.910460\n"
          ]
        },
        {
          "output_type": "stream",
          "name": "stderr",
          "text": [
            "/usr/local/lib/python3.10/dist-packages/sklearn/metrics/_classification.py:1344: UndefinedMetricWarning: Precision is ill-defined and being set to 0.0 in labels with no predicted samples. Use `zero_division` parameter to control this behavior.\n",
            "  _warn_prf(average, modifier, msg_start, len(result))\n"
          ]
        },
        {
          "output_type": "stream",
          "name": "stdout",
          "text": [
            "Test Error: \n",
            " Accuracy: 79.2%\n",
            " Avg loss: 1.038031\n",
            " Precision: 0.3876\n",
            " Recall: 0.4071\n",
            " F1 Score: 0.3933\n",
            " Matthew's Correlation Coefficient: 0.6665\n",
            "Train_loss: 0.623294\n"
          ]
        },
        {
          "output_type": "stream",
          "name": "stderr",
          "text": [
            "/usr/local/lib/python3.10/dist-packages/sklearn/metrics/_classification.py:1344: UndefinedMetricWarning: Precision is ill-defined and being set to 0.0 in labels with no predicted samples. Use `zero_division` parameter to control this behavior.\n",
            "  _warn_prf(average, modifier, msg_start, len(result))\n"
          ]
        },
        {
          "output_type": "stream",
          "name": "stdout",
          "text": [
            "Test Error: \n",
            " Accuracy: 79.1%\n",
            " Avg loss: 1.007964\n",
            " Precision: 0.3794\n",
            " Recall: 0.4129\n",
            " F1 Score: 0.3908\n",
            " Matthew's Correlation Coefficient: 0.6686\n",
            "EarlyStopping counter: 1 out of 10\n",
            "Train_loss: 0.655812\n"
          ]
        },
        {
          "output_type": "stream",
          "name": "stderr",
          "text": [
            "/usr/local/lib/python3.10/dist-packages/sklearn/metrics/_classification.py:1344: UndefinedMetricWarning: Precision is ill-defined and being set to 0.0 in labels with no predicted samples. Use `zero_division` parameter to control this behavior.\n",
            "  _warn_prf(average, modifier, msg_start, len(result))\n"
          ]
        },
        {
          "output_type": "stream",
          "name": "stdout",
          "text": [
            "Test Error: \n",
            " Accuracy: 79.8%\n",
            " Avg loss: 0.945188\n",
            " Precision: 0.3879\n",
            " Recall: 0.4122\n",
            " F1 Score: 0.3965\n",
            " Matthew's Correlation Coefficient: 0.6767\n",
            "Train_loss: 0.620583\n"
          ]
        },
        {
          "output_type": "stream",
          "name": "stderr",
          "text": [
            "/usr/local/lib/python3.10/dist-packages/sklearn/metrics/_classification.py:1344: UndefinedMetricWarning: Precision is ill-defined and being set to 0.0 in labels with no predicted samples. Use `zero_division` parameter to control this behavior.\n",
            "  _warn_prf(average, modifier, msg_start, len(result))\n"
          ]
        },
        {
          "output_type": "stream",
          "name": "stdout",
          "text": [
            "Test Error: \n",
            " Accuracy: 79.8%\n",
            " Avg loss: 0.918706\n",
            " Precision: 0.3902\n",
            " Recall: 0.4109\n",
            " F1 Score: 0.3959\n",
            " Matthew's Correlation Coefficient: 0.6781\n",
            "EarlyStopping counter: 1 out of 10\n",
            "Train_loss: 0.574914\n"
          ]
        },
        {
          "output_type": "stream",
          "name": "stderr",
          "text": [
            "/usr/local/lib/python3.10/dist-packages/sklearn/metrics/_classification.py:1344: UndefinedMetricWarning: Precision is ill-defined and being set to 0.0 in labels with no predicted samples. Use `zero_division` parameter to control this behavior.\n",
            "  _warn_prf(average, modifier, msg_start, len(result))\n"
          ]
        },
        {
          "output_type": "stream",
          "name": "stdout",
          "text": [
            "Test Error: \n",
            " Accuracy: 79.8%\n",
            " Avg loss: 0.862707\n",
            " Precision: 0.3950\n",
            " Recall: 0.4072\n",
            " F1 Score: 0.3969\n",
            " Matthew's Correlation Coefficient: 0.6769\n",
            "EarlyStopping counter: 2 out of 10\n",
            "Train_loss: 0.449573\n"
          ]
        },
        {
          "output_type": "stream",
          "name": "stderr",
          "text": [
            "/usr/local/lib/python3.10/dist-packages/sklearn/metrics/_classification.py:1344: UndefinedMetricWarning: Precision is ill-defined and being set to 0.0 in labels with no predicted samples. Use `zero_division` parameter to control this behavior.\n",
            "  _warn_prf(average, modifier, msg_start, len(result))\n"
          ]
        },
        {
          "output_type": "stream",
          "name": "stdout",
          "text": [
            "Test Error: \n",
            " Accuracy: 79.6%\n",
            " Avg loss: 0.860933\n",
            " Precision: 0.3888\n",
            " Recall: 0.4100\n",
            " F1 Score: 0.3944\n",
            " Matthew's Correlation Coefficient: 0.6743\n",
            "EarlyStopping counter: 3 out of 10\n",
            "Train_loss: 0.506811\n"
          ]
        },
        {
          "output_type": "stream",
          "name": "stderr",
          "text": [
            "/usr/local/lib/python3.10/dist-packages/sklearn/metrics/_classification.py:1344: UndefinedMetricWarning: Precision is ill-defined and being set to 0.0 in labels with no predicted samples. Use `zero_division` parameter to control this behavior.\n",
            "  _warn_prf(average, modifier, msg_start, len(result))\n"
          ]
        },
        {
          "output_type": "stream",
          "name": "stdout",
          "text": [
            "Test Error: \n",
            " Accuracy: 78.7%\n",
            " Avg loss: 0.846525\n",
            " Precision: 0.3869\n",
            " Recall: 0.4052\n",
            " F1 Score: 0.3902\n",
            " Matthew's Correlation Coefficient: 0.6615\n",
            "EarlyStopping counter: 4 out of 10\n",
            "Train_loss: 0.390385\n"
          ]
        },
        {
          "output_type": "stream",
          "name": "stderr",
          "text": [
            "/usr/local/lib/python3.10/dist-packages/sklearn/metrics/_classification.py:1344: UndefinedMetricWarning: Precision is ill-defined and being set to 0.0 in labels with no predicted samples. Use `zero_division` parameter to control this behavior.\n",
            "  _warn_prf(average, modifier, msg_start, len(result))\n"
          ]
        },
        {
          "output_type": "stream",
          "name": "stdout",
          "text": [
            "Test Error: \n",
            " Accuracy: 79.8%\n",
            " Avg loss: 0.811938\n",
            " Precision: 0.3887\n",
            " Recall: 0.4106\n",
            " F1 Score: 0.3959\n",
            " Matthew's Correlation Coefficient: 0.6768\n",
            "EarlyStopping counter: 5 out of 10\n",
            "Train_loss: 0.398294\n"
          ]
        },
        {
          "output_type": "stream",
          "name": "stderr",
          "text": [
            "/usr/local/lib/python3.10/dist-packages/sklearn/metrics/_classification.py:1344: UndefinedMetricWarning: Precision is ill-defined and being set to 0.0 in labels with no predicted samples. Use `zero_division` parameter to control this behavior.\n",
            "  _warn_prf(average, modifier, msg_start, len(result))\n"
          ]
        },
        {
          "output_type": "stream",
          "name": "stdout",
          "text": [
            "Test Error: \n",
            " Accuracy: 80.0%\n",
            " Avg loss: 0.796556\n",
            " Precision: 0.3865\n",
            " Recall: 0.4129\n",
            " F1 Score: 0.3959\n",
            " Matthew's Correlation Coefficient: 0.6795\n",
            "Train_loss: 0.370644\n"
          ]
        },
        {
          "output_type": "stream",
          "name": "stderr",
          "text": [
            "/usr/local/lib/python3.10/dist-packages/sklearn/metrics/_classification.py:1344: UndefinedMetricWarning: Precision is ill-defined and being set to 0.0 in labels with no predicted samples. Use `zero_division` parameter to control this behavior.\n",
            "  _warn_prf(average, modifier, msg_start, len(result))\n"
          ]
        },
        {
          "output_type": "stream",
          "name": "stdout",
          "text": [
            "Test Error: \n",
            " Accuracy: 79.8%\n",
            " Avg loss: 0.778600\n",
            " Precision: 0.3890\n",
            " Recall: 0.4101\n",
            " F1 Score: 0.3961\n",
            " Matthew's Correlation Coefficient: 0.6763\n",
            "EarlyStopping counter: 1 out of 10\n",
            "Train_loss: 0.415468\n"
          ]
        },
        {
          "output_type": "stream",
          "name": "stderr",
          "text": [
            "/usr/local/lib/python3.10/dist-packages/sklearn/metrics/_classification.py:1344: UndefinedMetricWarning: Precision is ill-defined and being set to 0.0 in labels with no predicted samples. Use `zero_division` parameter to control this behavior.\n",
            "  _warn_prf(average, modifier, msg_start, len(result))\n"
          ]
        },
        {
          "output_type": "stream",
          "name": "stdout",
          "text": [
            "Test Error: \n",
            " Accuracy: 78.9%\n",
            " Avg loss: 0.756192\n",
            " Precision: 0.3868\n",
            " Recall: 0.4043\n",
            " F1 Score: 0.3909\n",
            " Matthew's Correlation Coefficient: 0.6621\n",
            "EarlyStopping counter: 2 out of 10\n",
            "Train_loss: 0.473941\n"
          ]
        },
        {
          "output_type": "stream",
          "name": "stderr",
          "text": [
            "/usr/local/lib/python3.10/dist-packages/sklearn/metrics/_classification.py:1344: UndefinedMetricWarning: Precision is ill-defined and being set to 0.0 in labels with no predicted samples. Use `zero_division` parameter to control this behavior.\n",
            "  _warn_prf(average, modifier, msg_start, len(result))\n"
          ]
        },
        {
          "output_type": "stream",
          "name": "stdout",
          "text": [
            "Test Error: \n",
            " Accuracy: 78.5%\n",
            " Avg loss: 0.757671\n",
            " Precision: 0.3841\n",
            " Recall: 0.4041\n",
            " F1 Score: 0.3879\n",
            " Matthew's Correlation Coefficient: 0.6587\n",
            "EarlyStopping counter: 3 out of 10\n",
            "Train_loss: 0.298823\n"
          ]
        },
        {
          "output_type": "stream",
          "name": "stderr",
          "text": [
            "/usr/local/lib/python3.10/dist-packages/sklearn/metrics/_classification.py:1344: UndefinedMetricWarning: Precision is ill-defined and being set to 0.0 in labels with no predicted samples. Use `zero_division` parameter to control this behavior.\n",
            "  _warn_prf(average, modifier, msg_start, len(result))\n"
          ]
        },
        {
          "output_type": "stream",
          "name": "stdout",
          "text": [
            "Test Error: \n",
            " Accuracy: 79.0%\n",
            " Avg loss: 0.744210\n",
            " Precision: 0.3858\n",
            " Recall: 0.4056\n",
            " F1 Score: 0.3908\n",
            " Matthew's Correlation Coefficient: 0.6639\n",
            "EarlyStopping counter: 4 out of 10\n",
            "Train_loss: 0.380481\n"
          ]
        },
        {
          "output_type": "stream",
          "name": "stderr",
          "text": [
            "/usr/local/lib/python3.10/dist-packages/sklearn/metrics/_classification.py:1344: UndefinedMetricWarning: Precision is ill-defined and being set to 0.0 in labels with no predicted samples. Use `zero_division` parameter to control this behavior.\n",
            "  _warn_prf(average, modifier, msg_start, len(result))\n"
          ]
        },
        {
          "output_type": "stream",
          "name": "stdout",
          "text": [
            "Test Error: \n",
            " Accuracy: 78.5%\n",
            " Avg loss: 0.751554\n",
            " Precision: 0.5469\n",
            " Recall: 0.4119\n",
            " F1 Score: 0.3963\n",
            " Matthew's Correlation Coefficient: 0.6594\n",
            "EarlyStopping counter: 5 out of 10\n",
            "Train_loss: 0.323666\n"
          ]
        },
        {
          "output_type": "stream",
          "name": "stderr",
          "text": [
            "/usr/local/lib/python3.10/dist-packages/sklearn/metrics/_classification.py:1344: UndefinedMetricWarning: Precision is ill-defined and being set to 0.0 in labels with no predicted samples. Use `zero_division` parameter to control this behavior.\n",
            "  _warn_prf(average, modifier, msg_start, len(result))\n"
          ]
        },
        {
          "output_type": "stream",
          "name": "stdout",
          "text": [
            "Test Error: \n",
            " Accuracy: 78.5%\n",
            " Avg loss: 0.740188\n",
            " Precision: 0.5489\n",
            " Recall: 0.4142\n",
            " F1 Score: 0.4055\n",
            " Matthew's Correlation Coefficient: 0.6580\n",
            "EarlyStopping counter: 6 out of 10\n",
            "Train_loss: 0.271647\n"
          ]
        },
        {
          "output_type": "stream",
          "name": "stderr",
          "text": [
            "/usr/local/lib/python3.10/dist-packages/sklearn/metrics/_classification.py:1344: UndefinedMetricWarning: Precision is ill-defined and being set to 0.0 in labels with no predicted samples. Use `zero_division` parameter to control this behavior.\n",
            "  _warn_prf(average, modifier, msg_start, len(result))\n"
          ]
        },
        {
          "output_type": "stream",
          "name": "stdout",
          "text": [
            "Test Error: \n",
            " Accuracy: 78.5%\n",
            " Avg loss: 0.733099\n",
            " Precision: 0.5479\n",
            " Recall: 0.4095\n",
            " F1 Score: 0.3967\n",
            " Matthew's Correlation Coefficient: 0.6579\n",
            "EarlyStopping counter: 7 out of 10\n",
            "Train_loss: 0.213551\n"
          ]
        },
        {
          "output_type": "stream",
          "name": "stderr",
          "text": [
            "/usr/local/lib/python3.10/dist-packages/sklearn/metrics/_classification.py:1344: UndefinedMetricWarning: Precision is ill-defined and being set to 0.0 in labels with no predicted samples. Use `zero_division` parameter to control this behavior.\n",
            "  _warn_prf(average, modifier, msg_start, len(result))\n"
          ]
        },
        {
          "output_type": "stream",
          "name": "stdout",
          "text": [
            "Test Error: \n",
            " Accuracy: 79.0%\n",
            " Avg loss: 0.719724\n",
            " Precision: 0.5154\n",
            " Recall: 0.4171\n",
            " F1 Score: 0.4076\n",
            " Matthew's Correlation Coefficient: 0.6661\n",
            "EarlyStopping counter: 8 out of 10\n",
            "Train_loss: 0.134345\n"
          ]
        },
        {
          "output_type": "stream",
          "name": "stderr",
          "text": [
            "/usr/local/lib/python3.10/dist-packages/sklearn/metrics/_classification.py:1344: UndefinedMetricWarning: Precision is ill-defined and being set to 0.0 in labels with no predicted samples. Use `zero_division` parameter to control this behavior.\n",
            "  _warn_prf(average, modifier, msg_start, len(result))\n"
          ]
        },
        {
          "output_type": "stream",
          "name": "stdout",
          "text": [
            "Test Error: \n",
            " Accuracy: 78.9%\n",
            " Avg loss: 0.723399\n",
            " Precision: 0.5019\n",
            " Recall: 0.4266\n",
            " F1 Score: 0.4212\n",
            " Matthew's Correlation Coefficient: 0.6667\n",
            "EarlyStopping counter: 9 out of 10\n",
            "Train_loss: 0.183426\n"
          ]
        },
        {
          "output_type": "stream",
          "name": "stderr",
          "text": [
            "/usr/local/lib/python3.10/dist-packages/sklearn/metrics/_classification.py:1344: UndefinedMetricWarning: Precision is ill-defined and being set to 0.0 in labels with no predicted samples. Use `zero_division` parameter to control this behavior.\n",
            "  _warn_prf(average, modifier, msg_start, len(result))\n"
          ]
        },
        {
          "output_type": "stream",
          "name": "stdout",
          "text": [
            "Test Error: \n",
            " Accuracy: 79.3%\n",
            " Avg loss: 0.710329\n",
            " Precision: 0.4794\n",
            " Recall: 0.4277\n",
            " F1 Score: 0.4266\n",
            " Matthew's Correlation Coefficient: 0.6699\n",
            "EarlyStopping counter: 10 out of 10\n",
            "Early stopping\n",
            "Finished training for lr=0.0001, layer_sizes=[128, 64, 32], dropouts=[0.3, 0.3, 0.3]. Best val accuracy: 79.6669588080631\n",
            "Train_loss: 1.857224\n"
          ]
        },
        {
          "output_type": "stream",
          "name": "stderr",
          "text": [
            "/usr/local/lib/python3.10/dist-packages/sklearn/metrics/_classification.py:1344: UndefinedMetricWarning: Recall is ill-defined and being set to 0.0 in labels with no true samples. Use `zero_division` parameter to control this behavior.\n",
            "  _warn_prf(average, modifier, msg_start, len(result))\n"
          ]
        },
        {
          "output_type": "stream",
          "name": "stdout",
          "text": [
            "Test Error: \n",
            " Accuracy: 69.2%\n",
            " Avg loss: 1.340687\n",
            " Precision: 0.2896\n",
            " Recall: 0.3234\n",
            " F1 Score: 0.2925\n",
            " Matthew's Correlation Coefficient: 0.5359\n",
            "Train_loss: 1.044932\n"
          ]
        },
        {
          "output_type": "stream",
          "name": "stderr",
          "text": [
            "/usr/local/lib/python3.10/dist-packages/sklearn/metrics/_classification.py:1344: UndefinedMetricWarning: Precision is ill-defined and being set to 0.0 in labels with no predicted samples. Use `zero_division` parameter to control this behavior.\n",
            "  _warn_prf(average, modifier, msg_start, len(result))\n"
          ]
        },
        {
          "output_type": "stream",
          "name": "stdout",
          "text": [
            "Test Error: \n",
            " Accuracy: 77.0%\n",
            " Avg loss: 1.027270\n",
            " Precision: 0.3765\n",
            " Recall: 0.4056\n",
            " F1 Score: 0.3807\n",
            " Matthew's Correlation Coefficient: 0.6403\n",
            "Train_loss: 0.699655\n"
          ]
        },
        {
          "output_type": "stream",
          "name": "stderr",
          "text": [
            "/usr/local/lib/python3.10/dist-packages/sklearn/metrics/_classification.py:1344: UndefinedMetricWarning: Precision is ill-defined and being set to 0.0 in labels with no predicted samples. Use `zero_division` parameter to control this behavior.\n",
            "  _warn_prf(average, modifier, msg_start, len(result))\n"
          ]
        },
        {
          "output_type": "stream",
          "name": "stdout",
          "text": [
            "Test Error: \n",
            " Accuracy: 79.1%\n",
            " Avg loss: 0.892674\n",
            " Precision: 0.4680\n",
            " Recall: 0.4164\n",
            " F1 Score: 0.3952\n",
            " Matthew's Correlation Coefficient: 0.6719\n",
            "Train_loss: 0.437633\n"
          ]
        },
        {
          "output_type": "stream",
          "name": "stderr",
          "text": [
            "/usr/local/lib/python3.10/dist-packages/sklearn/metrics/_classification.py:1344: UndefinedMetricWarning: Precision is ill-defined and being set to 0.0 in labels with no predicted samples. Use `zero_division` parameter to control this behavior.\n",
            "  _warn_prf(average, modifier, msg_start, len(result))\n"
          ]
        },
        {
          "output_type": "stream",
          "name": "stdout",
          "text": [
            "Test Error: \n",
            " Accuracy: 79.7%\n",
            " Avg loss: 0.810815\n",
            " Precision: 0.5519\n",
            " Recall: 0.4218\n",
            " F1 Score: 0.4028\n",
            " Matthew's Correlation Coefficient: 0.6808\n",
            "Train_loss: 0.317779\n"
          ]
        },
        {
          "output_type": "stream",
          "name": "stderr",
          "text": [
            "/usr/local/lib/python3.10/dist-packages/sklearn/metrics/_classification.py:1344: UndefinedMetricWarning: Precision is ill-defined and being set to 0.0 in labels with no predicted samples. Use `zero_division` parameter to control this behavior.\n",
            "  _warn_prf(average, modifier, msg_start, len(result))\n"
          ]
        },
        {
          "output_type": "stream",
          "name": "stdout",
          "text": [
            "Test Error: \n",
            " Accuracy: 78.1%\n",
            " Avg loss: 0.805632\n",
            " Precision: 0.4703\n",
            " Recall: 0.4236\n",
            " F1 Score: 0.4042\n",
            " Matthew's Correlation Coefficient: 0.6632\n",
            "EarlyStopping counter: 1 out of 10\n",
            "Train_loss: 0.245020\n"
          ]
        },
        {
          "output_type": "stream",
          "name": "stderr",
          "text": [
            "/usr/local/lib/python3.10/dist-packages/sklearn/metrics/_classification.py:1344: UndefinedMetricWarning: Precision is ill-defined and being set to 0.0 in labels with no predicted samples. Use `zero_division` parameter to control this behavior.\n",
            "  _warn_prf(average, modifier, msg_start, len(result))\n"
          ]
        },
        {
          "output_type": "stream",
          "name": "stdout",
          "text": [
            "Test Error: \n",
            " Accuracy: 79.3%\n",
            " Avg loss: 0.760282\n",
            " Precision: 0.4635\n",
            " Recall: 0.4334\n",
            " F1 Score: 0.4216\n",
            " Matthew's Correlation Coefficient: 0.6764\n",
            "EarlyStopping counter: 2 out of 10\n",
            "Train_loss: 0.210239\n"
          ]
        },
        {
          "output_type": "stream",
          "name": "stderr",
          "text": [
            "/usr/local/lib/python3.10/dist-packages/sklearn/metrics/_classification.py:1344: UndefinedMetricWarning: Precision is ill-defined and being set to 0.0 in labels with no predicted samples. Use `zero_division` parameter to control this behavior.\n",
            "  _warn_prf(average, modifier, msg_start, len(result))\n"
          ]
        },
        {
          "output_type": "stream",
          "name": "stdout",
          "text": [
            "Test Error: \n",
            " Accuracy: 79.3%\n",
            " Avg loss: 0.728756\n",
            " Precision: 0.4685\n",
            " Recall: 0.4366\n",
            " F1 Score: 0.4295\n",
            " Matthew's Correlation Coefficient: 0.6762\n",
            "EarlyStopping counter: 3 out of 10\n",
            "Train_loss: 0.147223\n"
          ]
        },
        {
          "output_type": "stream",
          "name": "stderr",
          "text": [
            "/usr/local/lib/python3.10/dist-packages/sklearn/metrics/_classification.py:1344: UndefinedMetricWarning: Precision is ill-defined and being set to 0.0 in labels with no predicted samples. Use `zero_division` parameter to control this behavior.\n",
            "  _warn_prf(average, modifier, msg_start, len(result))\n",
            "/usr/local/lib/python3.10/dist-packages/sklearn/metrics/_classification.py:1344: UndefinedMetricWarning: Recall is ill-defined and being set to 0.0 in labels with no true samples. Use `zero_division` parameter to control this behavior.\n",
            "  _warn_prf(average, modifier, msg_start, len(result))\n"
          ]
        },
        {
          "output_type": "stream",
          "name": "stdout",
          "text": [
            "Test Error: \n",
            " Accuracy: 79.7%\n",
            " Avg loss: 0.712614\n",
            " Precision: 0.3885\n",
            " Recall: 0.3818\n",
            " F1 Score: 0.3744\n",
            " Matthew's Correlation Coefficient: 0.6817\n",
            "Train_loss: 0.123295\n"
          ]
        },
        {
          "output_type": "stream",
          "name": "stderr",
          "text": [
            "/usr/local/lib/python3.10/dist-packages/sklearn/metrics/_classification.py:1344: UndefinedMetricWarning: Precision is ill-defined and being set to 0.0 in labels with no predicted samples. Use `zero_division` parameter to control this behavior.\n",
            "  _warn_prf(average, modifier, msg_start, len(result))\n",
            "/usr/local/lib/python3.10/dist-packages/sklearn/metrics/_classification.py:1344: UndefinedMetricWarning: Recall is ill-defined and being set to 0.0 in labels with no true samples. Use `zero_division` parameter to control this behavior.\n",
            "  _warn_prf(average, modifier, msg_start, len(result))\n"
          ]
        },
        {
          "output_type": "stream",
          "name": "stdout",
          "text": [
            "Test Error: \n",
            " Accuracy: 80.0%\n",
            " Avg loss: 0.697431\n",
            " Precision: 0.3933\n",
            " Recall: 0.3929\n",
            " F1 Score: 0.3865\n",
            " Matthew's Correlation Coefficient: 0.6853\n",
            "Train_loss: 0.090049\n"
          ]
        },
        {
          "output_type": "stream",
          "name": "stderr",
          "text": [
            "/usr/local/lib/python3.10/dist-packages/sklearn/metrics/_classification.py:1344: UndefinedMetricWarning: Precision is ill-defined and being set to 0.0 in labels with no predicted samples. Use `zero_division` parameter to control this behavior.\n",
            "  _warn_prf(average, modifier, msg_start, len(result))\n",
            "/usr/local/lib/python3.10/dist-packages/sklearn/metrics/_classification.py:1344: UndefinedMetricWarning: Recall is ill-defined and being set to 0.0 in labels with no true samples. Use `zero_division` parameter to control this behavior.\n",
            "  _warn_prf(average, modifier, msg_start, len(result))\n"
          ]
        },
        {
          "output_type": "stream",
          "name": "stdout",
          "text": [
            "Test Error: \n",
            " Accuracy: 80.1%\n",
            " Avg loss: 0.683780\n",
            " Precision: 0.5301\n",
            " Recall: 0.4033\n",
            " F1 Score: 0.3998\n",
            " Matthew's Correlation Coefficient: 0.6861\n",
            "Train_loss: 0.085343\n"
          ]
        },
        {
          "output_type": "stream",
          "name": "stderr",
          "text": [
            "/usr/local/lib/python3.10/dist-packages/sklearn/metrics/_classification.py:1344: UndefinedMetricWarning: Precision is ill-defined and being set to 0.0 in labels with no predicted samples. Use `zero_division` parameter to control this behavior.\n",
            "  _warn_prf(average, modifier, msg_start, len(result))\n",
            "/usr/local/lib/python3.10/dist-packages/sklearn/metrics/_classification.py:1344: UndefinedMetricWarning: Recall is ill-defined and being set to 0.0 in labels with no true samples. Use `zero_division` parameter to control this behavior.\n",
            "  _warn_prf(average, modifier, msg_start, len(result))\n"
          ]
        },
        {
          "output_type": "stream",
          "name": "stdout",
          "text": [
            "Test Error: \n",
            " Accuracy: 79.5%\n",
            " Avg loss: 0.705859\n",
            " Precision: 0.5209\n",
            " Recall: 0.3954\n",
            " F1 Score: 0.3886\n",
            " Matthew's Correlation Coefficient: 0.6798\n",
            "EarlyStopping counter: 1 out of 10\n",
            "Train_loss: 0.148553\n"
          ]
        },
        {
          "output_type": "stream",
          "name": "stderr",
          "text": [
            "/usr/local/lib/python3.10/dist-packages/sklearn/metrics/_classification.py:1344: UndefinedMetricWarning: Precision is ill-defined and being set to 0.0 in labels with no predicted samples. Use `zero_division` parameter to control this behavior.\n",
            "  _warn_prf(average, modifier, msg_start, len(result))\n",
            "/usr/local/lib/python3.10/dist-packages/sklearn/metrics/_classification.py:1344: UndefinedMetricWarning: Recall is ill-defined and being set to 0.0 in labels with no true samples. Use `zero_division` parameter to control this behavior.\n",
            "  _warn_prf(average, modifier, msg_start, len(result))\n"
          ]
        },
        {
          "output_type": "stream",
          "name": "stdout",
          "text": [
            "Test Error: \n",
            " Accuracy: 78.9%\n",
            " Avg loss: 0.707992\n",
            " Precision: 0.5256\n",
            " Recall: 0.3978\n",
            " F1 Score: 0.3917\n",
            " Matthew's Correlation Coefficient: 0.6716\n",
            "EarlyStopping counter: 2 out of 10\n",
            "Train_loss: 0.052268\n"
          ]
        },
        {
          "output_type": "stream",
          "name": "stderr",
          "text": [
            "/usr/local/lib/python3.10/dist-packages/sklearn/metrics/_classification.py:1344: UndefinedMetricWarning: Precision is ill-defined and being set to 0.0 in labels with no predicted samples. Use `zero_division` parameter to control this behavior.\n",
            "  _warn_prf(average, modifier, msg_start, len(result))\n",
            "/usr/local/lib/python3.10/dist-packages/sklearn/metrics/_classification.py:1344: UndefinedMetricWarning: Recall is ill-defined and being set to 0.0 in labels with no true samples. Use `zero_division` parameter to control this behavior.\n",
            "  _warn_prf(average, modifier, msg_start, len(result))\n"
          ]
        },
        {
          "output_type": "stream",
          "name": "stdout",
          "text": [
            "Test Error: \n",
            " Accuracy: 80.2%\n",
            " Avg loss: 0.682065\n",
            " Precision: 0.4545\n",
            " Recall: 0.4033\n",
            " F1 Score: 0.3971\n",
            " Matthew's Correlation Coefficient: 0.6878\n",
            "Train_loss: 0.037339\n"
          ]
        },
        {
          "output_type": "stream",
          "name": "stderr",
          "text": [
            "/usr/local/lib/python3.10/dist-packages/sklearn/metrics/_classification.py:1344: UndefinedMetricWarning: Precision is ill-defined and being set to 0.0 in labels with no predicted samples. Use `zero_division` parameter to control this behavior.\n",
            "  _warn_prf(average, modifier, msg_start, len(result))\n",
            "/usr/local/lib/python3.10/dist-packages/sklearn/metrics/_classification.py:1344: UndefinedMetricWarning: Recall is ill-defined and being set to 0.0 in labels with no true samples. Use `zero_division` parameter to control this behavior.\n",
            "  _warn_prf(average, modifier, msg_start, len(result))\n"
          ]
        },
        {
          "output_type": "stream",
          "name": "stdout",
          "text": [
            "Test Error: \n",
            " Accuracy: 78.3%\n",
            " Avg loss: 0.722405\n",
            " Precision: 0.4234\n",
            " Recall: 0.3950\n",
            " F1 Score: 0.3856\n",
            " Matthew's Correlation Coefficient: 0.6624\n",
            "EarlyStopping counter: 1 out of 10\n",
            "Train_loss: 0.049995\n"
          ]
        },
        {
          "output_type": "stream",
          "name": "stderr",
          "text": [
            "/usr/local/lib/python3.10/dist-packages/sklearn/metrics/_classification.py:1344: UndefinedMetricWarning: Precision is ill-defined and being set to 0.0 in labels with no predicted samples. Use `zero_division` parameter to control this behavior.\n",
            "  _warn_prf(average, modifier, msg_start, len(result))\n",
            "/usr/local/lib/python3.10/dist-packages/sklearn/metrics/_classification.py:1344: UndefinedMetricWarning: Recall is ill-defined and being set to 0.0 in labels with no true samples. Use `zero_division` parameter to control this behavior.\n",
            "  _warn_prf(average, modifier, msg_start, len(result))\n"
          ]
        },
        {
          "output_type": "stream",
          "name": "stdout",
          "text": [
            "Test Error: \n",
            " Accuracy: 78.7%\n",
            " Avg loss: 0.713397\n",
            " Precision: 0.4255\n",
            " Recall: 0.4009\n",
            " F1 Score: 0.3906\n",
            " Matthew's Correlation Coefficient: 0.6686\n",
            "EarlyStopping counter: 2 out of 10\n",
            "Train_loss: 0.028094\n"
          ]
        },
        {
          "output_type": "stream",
          "name": "stderr",
          "text": [
            "/usr/local/lib/python3.10/dist-packages/sklearn/metrics/_classification.py:1344: UndefinedMetricWarning: Precision is ill-defined and being set to 0.0 in labels with no predicted samples. Use `zero_division` parameter to control this behavior.\n",
            "  _warn_prf(average, modifier, msg_start, len(result))\n",
            "/usr/local/lib/python3.10/dist-packages/sklearn/metrics/_classification.py:1344: UndefinedMetricWarning: Recall is ill-defined and being set to 0.0 in labels with no true samples. Use `zero_division` parameter to control this behavior.\n",
            "  _warn_prf(average, modifier, msg_start, len(result))\n"
          ]
        },
        {
          "output_type": "stream",
          "name": "stdout",
          "text": [
            "Test Error: \n",
            " Accuracy: 79.4%\n",
            " Avg loss: 0.695290\n",
            " Precision: 0.4089\n",
            " Recall: 0.4012\n",
            " F1 Score: 0.3899\n",
            " Matthew's Correlation Coefficient: 0.6770\n",
            "EarlyStopping counter: 3 out of 10\n",
            "Train_loss: 0.040771\n"
          ]
        },
        {
          "output_type": "stream",
          "name": "stderr",
          "text": [
            "/usr/local/lib/python3.10/dist-packages/sklearn/metrics/_classification.py:1344: UndefinedMetricWarning: Precision is ill-defined and being set to 0.0 in labels with no predicted samples. Use `zero_division` parameter to control this behavior.\n",
            "  _warn_prf(average, modifier, msg_start, len(result))\n",
            "/usr/local/lib/python3.10/dist-packages/sklearn/metrics/_classification.py:1344: UndefinedMetricWarning: Recall is ill-defined and being set to 0.0 in labels with no true samples. Use `zero_division` parameter to control this behavior.\n",
            "  _warn_prf(average, modifier, msg_start, len(result))\n"
          ]
        },
        {
          "output_type": "stream",
          "name": "stdout",
          "text": [
            "Test Error: \n",
            " Accuracy: 79.4%\n",
            " Avg loss: 0.704519\n",
            " Precision: 0.4145\n",
            " Recall: 0.3989\n",
            " F1 Score: 0.3907\n",
            " Matthew's Correlation Coefficient: 0.6782\n",
            "EarlyStopping counter: 4 out of 10\n",
            "Train_loss: 0.032303\n"
          ]
        },
        {
          "output_type": "stream",
          "name": "stderr",
          "text": [
            "/usr/local/lib/python3.10/dist-packages/sklearn/metrics/_classification.py:1344: UndefinedMetricWarning: Precision is ill-defined and being set to 0.0 in labels with no predicted samples. Use `zero_division` parameter to control this behavior.\n",
            "  _warn_prf(average, modifier, msg_start, len(result))\n",
            "/usr/local/lib/python3.10/dist-packages/sklearn/metrics/_classification.py:1344: UndefinedMetricWarning: Recall is ill-defined and being set to 0.0 in labels with no true samples. Use `zero_division` parameter to control this behavior.\n",
            "  _warn_prf(average, modifier, msg_start, len(result))\n"
          ]
        },
        {
          "output_type": "stream",
          "name": "stdout",
          "text": [
            "Test Error: \n",
            " Accuracy: 79.0%\n",
            " Avg loss: 0.708898\n",
            " Precision: 0.4119\n",
            " Recall: 0.4011\n",
            " F1 Score: 0.3897\n",
            " Matthew's Correlation Coefficient: 0.6720\n",
            "EarlyStopping counter: 5 out of 10\n",
            "Train_loss: 0.018502\n"
          ]
        },
        {
          "output_type": "stream",
          "name": "stderr",
          "text": [
            "/usr/local/lib/python3.10/dist-packages/sklearn/metrics/_classification.py:1344: UndefinedMetricWarning: Precision is ill-defined and being set to 0.0 in labels with no predicted samples. Use `zero_division` parameter to control this behavior.\n",
            "  _warn_prf(average, modifier, msg_start, len(result))\n",
            "/usr/local/lib/python3.10/dist-packages/sklearn/metrics/_classification.py:1344: UndefinedMetricWarning: Recall is ill-defined and being set to 0.0 in labels with no true samples. Use `zero_division` parameter to control this behavior.\n",
            "  _warn_prf(average, modifier, msg_start, len(result))\n"
          ]
        },
        {
          "output_type": "stream",
          "name": "stdout",
          "text": [
            "Test Error: \n",
            " Accuracy: 79.7%\n",
            " Avg loss: 0.684955\n",
            " Precision: 0.4108\n",
            " Recall: 0.4009\n",
            " F1 Score: 0.3909\n",
            " Matthew's Correlation Coefficient: 0.6813\n",
            "EarlyStopping counter: 6 out of 10\n",
            "Train_loss: 0.020322\n"
          ]
        },
        {
          "output_type": "stream",
          "name": "stderr",
          "text": [
            "/usr/local/lib/python3.10/dist-packages/sklearn/metrics/_classification.py:1344: UndefinedMetricWarning: Precision is ill-defined and being set to 0.0 in labels with no predicted samples. Use `zero_division` parameter to control this behavior.\n",
            "  _warn_prf(average, modifier, msg_start, len(result))\n",
            "/usr/local/lib/python3.10/dist-packages/sklearn/metrics/_classification.py:1344: UndefinedMetricWarning: Recall is ill-defined and being set to 0.0 in labels with no true samples. Use `zero_division` parameter to control this behavior.\n",
            "  _warn_prf(average, modifier, msg_start, len(result))\n"
          ]
        },
        {
          "output_type": "stream",
          "name": "stdout",
          "text": [
            "Test Error: \n",
            " Accuracy: 79.4%\n",
            " Avg loss: 0.698468\n",
            " Precision: 0.4114\n",
            " Recall: 0.4035\n",
            " F1 Score: 0.3914\n",
            " Matthew's Correlation Coefficient: 0.6785\n",
            "EarlyStopping counter: 7 out of 10\n",
            "Train_loss: 0.014896\n"
          ]
        },
        {
          "output_type": "stream",
          "name": "stderr",
          "text": [
            "/usr/local/lib/python3.10/dist-packages/sklearn/metrics/_classification.py:1344: UndefinedMetricWarning: Precision is ill-defined and being set to 0.0 in labels with no predicted samples. Use `zero_division` parameter to control this behavior.\n",
            "  _warn_prf(average, modifier, msg_start, len(result))\n",
            "/usr/local/lib/python3.10/dist-packages/sklearn/metrics/_classification.py:1344: UndefinedMetricWarning: Recall is ill-defined and being set to 0.0 in labels with no true samples. Use `zero_division` parameter to control this behavior.\n",
            "  _warn_prf(average, modifier, msg_start, len(result))\n"
          ]
        },
        {
          "output_type": "stream",
          "name": "stdout",
          "text": [
            "Test Error: \n",
            " Accuracy: 79.3%\n",
            " Avg loss: 0.695843\n",
            " Precision: 0.4171\n",
            " Recall: 0.4013\n",
            " F1 Score: 0.3932\n",
            " Matthew's Correlation Coefficient: 0.6757\n",
            "EarlyStopping counter: 8 out of 10\n",
            "Train_loss: 0.016036\n"
          ]
        },
        {
          "output_type": "stream",
          "name": "stderr",
          "text": [
            "/usr/local/lib/python3.10/dist-packages/sklearn/metrics/_classification.py:1344: UndefinedMetricWarning: Precision is ill-defined and being set to 0.0 in labels with no predicted samples. Use `zero_division` parameter to control this behavior.\n",
            "  _warn_prf(average, modifier, msg_start, len(result))\n",
            "/usr/local/lib/python3.10/dist-packages/sklearn/metrics/_classification.py:1344: UndefinedMetricWarning: Recall is ill-defined and being set to 0.0 in labels with no true samples. Use `zero_division` parameter to control this behavior.\n",
            "  _warn_prf(average, modifier, msg_start, len(result))\n"
          ]
        },
        {
          "output_type": "stream",
          "name": "stdout",
          "text": [
            "Test Error: \n",
            " Accuracy: 79.1%\n",
            " Avg loss: 0.702977\n",
            " Precision: 0.3969\n",
            " Recall: 0.4023\n",
            " F1 Score: 0.3884\n",
            " Matthew's Correlation Coefficient: 0.6745\n",
            "EarlyStopping counter: 9 out of 10\n",
            "Train_loss: 0.013954\n"
          ]
        },
        {
          "output_type": "stream",
          "name": "stderr",
          "text": [
            "/usr/local/lib/python3.10/dist-packages/sklearn/metrics/_classification.py:1344: UndefinedMetricWarning: Precision is ill-defined and being set to 0.0 in labels with no predicted samples. Use `zero_division` parameter to control this behavior.\n",
            "  _warn_prf(average, modifier, msg_start, len(result))\n",
            "/usr/local/lib/python3.10/dist-packages/sklearn/metrics/_classification.py:1344: UndefinedMetricWarning: Recall is ill-defined and being set to 0.0 in labels with no true samples. Use `zero_division` parameter to control this behavior.\n",
            "  _warn_prf(average, modifier, msg_start, len(result))\n"
          ]
        },
        {
          "output_type": "stream",
          "name": "stdout",
          "text": [
            "Test Error: \n",
            " Accuracy: 78.6%\n",
            " Avg loss: 0.714160\n",
            " Precision: 0.4015\n",
            " Recall: 0.3991\n",
            " F1 Score: 0.3860\n",
            " Matthew's Correlation Coefficient: 0.6682\n",
            "EarlyStopping counter: 10 out of 10\n",
            "Early stopping\n",
            "Finished training for lr=0.0001, layer_sizes=[512, 256, 128], dropouts=[0.1, 0.1, 0.1]. Best val accuracy: 79.6669588080631\n",
            "Train_loss: 1.967696\n"
          ]
        },
        {
          "output_type": "stream",
          "name": "stderr",
          "text": [
            "/usr/local/lib/python3.10/dist-packages/sklearn/metrics/_classification.py:1344: UndefinedMetricWarning: Precision is ill-defined and being set to 0.0 in labels with no predicted samples. Use `zero_division` parameter to control this behavior.\n",
            "  _warn_prf(average, modifier, msg_start, len(result))\n",
            "/usr/local/lib/python3.10/dist-packages/sklearn/metrics/_classification.py:1344: UndefinedMetricWarning: Recall is ill-defined and being set to 0.0 in labels with no true samples. Use `zero_division` parameter to control this behavior.\n",
            "  _warn_prf(average, modifier, msg_start, len(result))\n"
          ]
        },
        {
          "output_type": "stream",
          "name": "stdout",
          "text": [
            "Test Error: \n",
            " Accuracy: 57.8%\n",
            " Avg loss: 1.706334\n",
            " Precision: 0.2473\n",
            " Recall: 0.2322\n",
            " F1 Score: 0.2335\n",
            " Matthew's Correlation Coefficient: 0.3177\n",
            "Train_loss: 1.656948\n"
          ]
        },
        {
          "output_type": "stream",
          "name": "stderr",
          "text": [
            "/usr/local/lib/python3.10/dist-packages/sklearn/metrics/_classification.py:1344: UndefinedMetricWarning: Precision is ill-defined and being set to 0.0 in labels with no predicted samples. Use `zero_division` parameter to control this behavior.\n",
            "  _warn_prf(average, modifier, msg_start, len(result))\n",
            "/usr/local/lib/python3.10/dist-packages/sklearn/metrics/_classification.py:1344: UndefinedMetricWarning: Recall is ill-defined and being set to 0.0 in labels with no true samples. Use `zero_division` parameter to control this behavior.\n",
            "  _warn_prf(average, modifier, msg_start, len(result))\n"
          ]
        },
        {
          "output_type": "stream",
          "name": "stdout",
          "text": [
            "Test Error: \n",
            " Accuracy: 71.3%\n",
            " Avg loss: 1.496298\n",
            " Precision: 0.2973\n",
            " Recall: 0.3092\n",
            " F1 Score: 0.3024\n",
            " Matthew's Correlation Coefficient: 0.5313\n",
            "Train_loss: 1.397556\n"
          ]
        },
        {
          "output_type": "stream",
          "name": "stderr",
          "text": [
            "/usr/local/lib/python3.10/dist-packages/sklearn/metrics/_classification.py:1344: UndefinedMetricWarning: Precision is ill-defined and being set to 0.0 in labels with no predicted samples. Use `zero_division` parameter to control this behavior.\n",
            "  _warn_prf(average, modifier, msg_start, len(result))\n",
            "/usr/local/lib/python3.10/dist-packages/sklearn/metrics/_classification.py:1344: UndefinedMetricWarning: Recall is ill-defined and being set to 0.0 in labels with no true samples. Use `zero_division` parameter to control this behavior.\n",
            "  _warn_prf(average, modifier, msg_start, len(result))\n"
          ]
        },
        {
          "output_type": "stream",
          "name": "stdout",
          "text": [
            "Test Error: \n",
            " Accuracy: 75.2%\n",
            " Avg loss: 1.307490\n",
            " Precision: 0.3253\n",
            " Recall: 0.3211\n",
            " F1 Score: 0.3197\n",
            " Matthew's Correlation Coefficient: 0.5971\n",
            "Train_loss: 1.082437\n"
          ]
        },
        {
          "output_type": "stream",
          "name": "stderr",
          "text": [
            "/usr/local/lib/python3.10/dist-packages/sklearn/metrics/_classification.py:1344: UndefinedMetricWarning: Precision is ill-defined and being set to 0.0 in labels with no predicted samples. Use `zero_division` parameter to control this behavior.\n",
            "  _warn_prf(average, modifier, msg_start, len(result))\n"
          ]
        },
        {
          "output_type": "stream",
          "name": "stdout",
          "text": [
            "Test Error: \n",
            " Accuracy: 76.8%\n",
            " Avg loss: 1.130172\n",
            " Precision: 0.3889\n",
            " Recall: 0.3876\n",
            " F1 Score: 0.3822\n",
            " Matthew's Correlation Coefficient: 0.6293\n",
            "Train_loss: 0.896143\n"
          ]
        },
        {
          "output_type": "stream",
          "name": "stderr",
          "text": [
            "/usr/local/lib/python3.10/dist-packages/sklearn/metrics/_classification.py:1344: UndefinedMetricWarning: Precision is ill-defined and being set to 0.0 in labels with no predicted samples. Use `zero_division` parameter to control this behavior.\n",
            "  _warn_prf(average, modifier, msg_start, len(result))\n"
          ]
        },
        {
          "output_type": "stream",
          "name": "stdout",
          "text": [
            "Test Error: \n",
            " Accuracy: 77.7%\n",
            " Avg loss: 0.993215\n",
            " Precision: 0.3906\n",
            " Recall: 0.3948\n",
            " F1 Score: 0.3862\n",
            " Matthew's Correlation Coefficient: 0.6441\n",
            "Train_loss: 0.954601\n"
          ]
        },
        {
          "output_type": "stream",
          "name": "stderr",
          "text": [
            "/usr/local/lib/python3.10/dist-packages/sklearn/metrics/_classification.py:1344: UndefinedMetricWarning: Precision is ill-defined and being set to 0.0 in labels with no predicted samples. Use `zero_division` parameter to control this behavior.\n",
            "  _warn_prf(average, modifier, msg_start, len(result))\n"
          ]
        },
        {
          "output_type": "stream",
          "name": "stdout",
          "text": [
            "Test Error: \n",
            " Accuracy: 79.1%\n",
            " Avg loss: 0.890463\n",
            " Precision: 0.3976\n",
            " Recall: 0.4028\n",
            " F1 Score: 0.3949\n",
            " Matthew's Correlation Coefficient: 0.6656\n",
            "Train_loss: 0.501292\n"
          ]
        },
        {
          "output_type": "stream",
          "name": "stderr",
          "text": [
            "/usr/local/lib/python3.10/dist-packages/sklearn/metrics/_classification.py:1344: UndefinedMetricWarning: Precision is ill-defined and being set to 0.0 in labels with no predicted samples. Use `zero_division` parameter to control this behavior.\n",
            "  _warn_prf(average, modifier, msg_start, len(result))\n"
          ]
        },
        {
          "output_type": "stream",
          "name": "stdout",
          "text": [
            "Test Error: \n",
            " Accuracy: 79.7%\n",
            " Avg loss: 0.827887\n",
            " Precision: 0.3921\n",
            " Recall: 0.4116\n",
            " F1 Score: 0.3965\n",
            " Matthew's Correlation Coefficient: 0.6770\n",
            "Train_loss: 0.562801\n"
          ]
        },
        {
          "output_type": "stream",
          "name": "stderr",
          "text": [
            "/usr/local/lib/python3.10/dist-packages/sklearn/metrics/_classification.py:1344: UndefinedMetricWarning: Precision is ill-defined and being set to 0.0 in labels with no predicted samples. Use `zero_division` parameter to control this behavior.\n",
            "  _warn_prf(average, modifier, msg_start, len(result))\n"
          ]
        },
        {
          "output_type": "stream",
          "name": "stdout",
          "text": [
            "Test Error: \n",
            " Accuracy: 79.1%\n",
            " Avg loss: 0.787713\n",
            " Precision: 0.3924\n",
            " Recall: 0.4076\n",
            " F1 Score: 0.3920\n",
            " Matthew's Correlation Coefficient: 0.6698\n",
            "EarlyStopping counter: 1 out of 10\n",
            "Train_loss: 0.305217\n"
          ]
        },
        {
          "output_type": "stream",
          "name": "stderr",
          "text": [
            "/usr/local/lib/python3.10/dist-packages/sklearn/metrics/_classification.py:1344: UndefinedMetricWarning: Precision is ill-defined and being set to 0.0 in labels with no predicted samples. Use `zero_division` parameter to control this behavior.\n",
            "  _warn_prf(average, modifier, msg_start, len(result))\n"
          ]
        },
        {
          "output_type": "stream",
          "name": "stdout",
          "text": [
            "Test Error: \n",
            " Accuracy: 79.2%\n",
            " Avg loss: 0.742373\n",
            " Precision: 0.3951\n",
            " Recall: 0.4072\n",
            " F1 Score: 0.3940\n",
            " Matthew's Correlation Coefficient: 0.6715\n",
            "EarlyStopping counter: 2 out of 10\n",
            "Train_loss: 0.455284\n"
          ]
        },
        {
          "output_type": "stream",
          "name": "stderr",
          "text": [
            "/usr/local/lib/python3.10/dist-packages/sklearn/metrics/_classification.py:1344: UndefinedMetricWarning: Precision is ill-defined and being set to 0.0 in labels with no predicted samples. Use `zero_division` parameter to control this behavior.\n",
            "  _warn_prf(average, modifier, msg_start, len(result))\n"
          ]
        },
        {
          "output_type": "stream",
          "name": "stdout",
          "text": [
            "Test Error: \n",
            " Accuracy: 79.3%\n",
            " Avg loss: 0.727901\n",
            " Precision: 0.3892\n",
            " Recall: 0.4115\n",
            " F1 Score: 0.3935\n",
            " Matthew's Correlation Coefficient: 0.6727\n",
            "EarlyStopping counter: 3 out of 10\n",
            "Train_loss: 0.311075\n"
          ]
        },
        {
          "output_type": "stream",
          "name": "stderr",
          "text": [
            "/usr/local/lib/python3.10/dist-packages/sklearn/metrics/_classification.py:1344: UndefinedMetricWarning: Precision is ill-defined and being set to 0.0 in labels with no predicted samples. Use `zero_division` parameter to control this behavior.\n",
            "  _warn_prf(average, modifier, msg_start, len(result))\n"
          ]
        },
        {
          "output_type": "stream",
          "name": "stdout",
          "text": [
            "Test Error: \n",
            " Accuracy: 79.1%\n",
            " Avg loss: 0.718039\n",
            " Precision: 0.3853\n",
            " Recall: 0.4129\n",
            " F1 Score: 0.3908\n",
            " Matthew's Correlation Coefficient: 0.6715\n",
            "EarlyStopping counter: 4 out of 10\n",
            "Train_loss: 0.279352\n"
          ]
        },
        {
          "output_type": "stream",
          "name": "stderr",
          "text": [
            "/usr/local/lib/python3.10/dist-packages/sklearn/metrics/_classification.py:1344: UndefinedMetricWarning: Precision is ill-defined and being set to 0.0 in labels with no predicted samples. Use `zero_division` parameter to control this behavior.\n",
            "  _warn_prf(average, modifier, msg_start, len(result))\n"
          ]
        },
        {
          "output_type": "stream",
          "name": "stdout",
          "text": [
            "Test Error: \n",
            " Accuracy: 79.7%\n",
            " Avg loss: 0.686040\n",
            " Precision: 0.3922\n",
            " Recall: 0.4114\n",
            " F1 Score: 0.3951\n",
            " Matthew's Correlation Coefficient: 0.6787\n",
            "EarlyStopping counter: 5 out of 10\n",
            "Train_loss: 0.363030\n"
          ]
        },
        {
          "output_type": "stream",
          "name": "stderr",
          "text": [
            "/usr/local/lib/python3.10/dist-packages/sklearn/metrics/_classification.py:1344: UndefinedMetricWarning: Precision is ill-defined and being set to 0.0 in labels with no predicted samples. Use `zero_division` parameter to control this behavior.\n",
            "  _warn_prf(average, modifier, msg_start, len(result))\n"
          ]
        },
        {
          "output_type": "stream",
          "name": "stdout",
          "text": [
            "Test Error: \n",
            " Accuracy: 79.8%\n",
            " Avg loss: 0.683190\n",
            " Precision: 0.3956\n",
            " Recall: 0.4114\n",
            " F1 Score: 0.3968\n",
            " Matthew's Correlation Coefficient: 0.6810\n",
            "Train_loss: 0.220361\n"
          ]
        },
        {
          "output_type": "stream",
          "name": "stderr",
          "text": [
            "/usr/local/lib/python3.10/dist-packages/sklearn/metrics/_classification.py:1344: UndefinedMetricWarning: Precision is ill-defined and being set to 0.0 in labels with no predicted samples. Use `zero_division` parameter to control this behavior.\n",
            "  _warn_prf(average, modifier, msg_start, len(result))\n"
          ]
        },
        {
          "output_type": "stream",
          "name": "stdout",
          "text": [
            "Test Error: \n",
            " Accuracy: 79.6%\n",
            " Avg loss: 0.685321\n",
            " Precision: 0.3916\n",
            " Recall: 0.4115\n",
            " F1 Score: 0.3938\n",
            " Matthew's Correlation Coefficient: 0.6784\n",
            "EarlyStopping counter: 1 out of 10\n",
            "Train_loss: 0.305567\n"
          ]
        },
        {
          "output_type": "stream",
          "name": "stderr",
          "text": [
            "/usr/local/lib/python3.10/dist-packages/sklearn/metrics/_classification.py:1344: UndefinedMetricWarning: Precision is ill-defined and being set to 0.0 in labels with no predicted samples. Use `zero_division` parameter to control this behavior.\n",
            "  _warn_prf(average, modifier, msg_start, len(result))\n"
          ]
        },
        {
          "output_type": "stream",
          "name": "stdout",
          "text": [
            "Test Error: \n",
            " Accuracy: 79.5%\n",
            " Avg loss: 0.680399\n",
            " Precision: 0.3879\n",
            " Recall: 0.4123\n",
            " F1 Score: 0.3933\n",
            " Matthew's Correlation Coefficient: 0.6763\n",
            "EarlyStopping counter: 2 out of 10\n",
            "Train_loss: 0.244507\n"
          ]
        },
        {
          "output_type": "stream",
          "name": "stderr",
          "text": [
            "/usr/local/lib/python3.10/dist-packages/sklearn/metrics/_classification.py:1344: UndefinedMetricWarning: Precision is ill-defined and being set to 0.0 in labels with no predicted samples. Use `zero_division` parameter to control this behavior.\n",
            "  _warn_prf(average, modifier, msg_start, len(result))\n"
          ]
        },
        {
          "output_type": "stream",
          "name": "stdout",
          "text": [
            "Test Error: \n",
            " Accuracy: 79.1%\n",
            " Avg loss: 0.686832\n",
            " Precision: 0.3892\n",
            " Recall: 0.4096\n",
            " F1 Score: 0.3910\n",
            " Matthew's Correlation Coefficient: 0.6705\n",
            "EarlyStopping counter: 3 out of 10\n",
            "Train_loss: 0.151036\n"
          ]
        },
        {
          "output_type": "stream",
          "name": "stderr",
          "text": [
            "/usr/local/lib/python3.10/dist-packages/sklearn/metrics/_classification.py:1344: UndefinedMetricWarning: Precision is ill-defined and being set to 0.0 in labels with no predicted samples. Use `zero_division` parameter to control this behavior.\n",
            "  _warn_prf(average, modifier, msg_start, len(result))\n"
          ]
        },
        {
          "output_type": "stream",
          "name": "stdout",
          "text": [
            "Test Error: \n",
            " Accuracy: 79.4%\n",
            " Avg loss: 0.682112\n",
            " Precision: 0.3852\n",
            " Recall: 0.4137\n",
            " F1 Score: 0.3919\n",
            " Matthew's Correlation Coefficient: 0.6759\n",
            "EarlyStopping counter: 4 out of 10\n",
            "Train_loss: 0.188619\n"
          ]
        },
        {
          "output_type": "stream",
          "name": "stderr",
          "text": [
            "/usr/local/lib/python3.10/dist-packages/sklearn/metrics/_classification.py:1344: UndefinedMetricWarning: Precision is ill-defined and being set to 0.0 in labels with no predicted samples. Use `zero_division` parameter to control this behavior.\n",
            "  _warn_prf(average, modifier, msg_start, len(result))\n"
          ]
        },
        {
          "output_type": "stream",
          "name": "stdout",
          "text": [
            "Test Error: \n",
            " Accuracy: 78.6%\n",
            " Avg loss: 0.706867\n",
            " Precision: 0.3876\n",
            " Recall: 0.4088\n",
            " F1 Score: 0.3884\n",
            " Matthew's Correlation Coefficient: 0.6659\n",
            "EarlyStopping counter: 5 out of 10\n",
            "Train_loss: 0.221504\n"
          ]
        },
        {
          "output_type": "stream",
          "name": "stderr",
          "text": [
            "/usr/local/lib/python3.10/dist-packages/sklearn/metrics/_classification.py:1344: UndefinedMetricWarning: Precision is ill-defined and being set to 0.0 in labels with no predicted samples. Use `zero_division` parameter to control this behavior.\n",
            "  _warn_prf(average, modifier, msg_start, len(result))\n"
          ]
        },
        {
          "output_type": "stream",
          "name": "stdout",
          "text": [
            "Test Error: \n",
            " Accuracy: 78.7%\n",
            " Avg loss: 0.703394\n",
            " Precision: 0.4367\n",
            " Recall: 0.4132\n",
            " F1 Score: 0.3920\n",
            " Matthew's Correlation Coefficient: 0.6671\n",
            "EarlyStopping counter: 6 out of 10\n",
            "Train_loss: 0.212510\n"
          ]
        },
        {
          "output_type": "stream",
          "name": "stderr",
          "text": [
            "/usr/local/lib/python3.10/dist-packages/sklearn/metrics/_classification.py:1344: UndefinedMetricWarning: Precision is ill-defined and being set to 0.0 in labels with no predicted samples. Use `zero_division` parameter to control this behavior.\n",
            "  _warn_prf(average, modifier, msg_start, len(result))\n"
          ]
        },
        {
          "output_type": "stream",
          "name": "stdout",
          "text": [
            "Test Error: \n",
            " Accuracy: 79.3%\n",
            " Avg loss: 0.690943\n",
            " Precision: 0.4588\n",
            " Recall: 0.4175\n",
            " F1 Score: 0.4042\n",
            " Matthew's Correlation Coefficient: 0.6741\n",
            "EarlyStopping counter: 7 out of 10\n",
            "Train_loss: 0.197421\n"
          ]
        },
        {
          "output_type": "stream",
          "name": "stderr",
          "text": [
            "/usr/local/lib/python3.10/dist-packages/sklearn/metrics/_classification.py:1344: UndefinedMetricWarning: Precision is ill-defined and being set to 0.0 in labels with no predicted samples. Use `zero_division` parameter to control this behavior.\n",
            "  _warn_prf(average, modifier, msg_start, len(result))\n"
          ]
        },
        {
          "output_type": "stream",
          "name": "stdout",
          "text": [
            "Test Error: \n",
            " Accuracy: 78.5%\n",
            " Avg loss: 0.706715\n",
            " Precision: 0.4452\n",
            " Recall: 0.4182\n",
            " F1 Score: 0.4071\n",
            " Matthew's Correlation Coefficient: 0.6633\n",
            "EarlyStopping counter: 8 out of 10\n",
            "Train_loss: 0.111939\n"
          ]
        },
        {
          "output_type": "stream",
          "name": "stderr",
          "text": [
            "/usr/local/lib/python3.10/dist-packages/sklearn/metrics/_classification.py:1344: UndefinedMetricWarning: Precision is ill-defined and being set to 0.0 in labels with no predicted samples. Use `zero_division` parameter to control this behavior.\n",
            "  _warn_prf(average, modifier, msg_start, len(result))\n"
          ]
        },
        {
          "output_type": "stream",
          "name": "stdout",
          "text": [
            "Test Error: \n",
            " Accuracy: 79.3%\n",
            " Avg loss: 0.695156\n",
            " Precision: 0.4604\n",
            " Recall: 0.4329\n",
            " F1 Score: 0.4271\n",
            " Matthew's Correlation Coefficient: 0.6748\n",
            "EarlyStopping counter: 9 out of 10\n",
            "Train_loss: 0.175056\n"
          ]
        },
        {
          "output_type": "stream",
          "name": "stderr",
          "text": [
            "/usr/local/lib/python3.10/dist-packages/sklearn/metrics/_classification.py:1344: UndefinedMetricWarning: Precision is ill-defined and being set to 0.0 in labels with no predicted samples. Use `zero_division` parameter to control this behavior.\n",
            "  _warn_prf(average, modifier, msg_start, len(result))\n"
          ]
        },
        {
          "output_type": "stream",
          "name": "stdout",
          "text": [
            "Test Error: \n",
            " Accuracy: 79.6%\n",
            " Avg loss: 0.689207\n",
            " Precision: 0.4574\n",
            " Recall: 0.4416\n",
            " F1 Score: 0.4357\n",
            " Matthew's Correlation Coefficient: 0.6785\n",
            "EarlyStopping counter: 10 out of 10\n",
            "Early stopping\n",
            "Finished training for lr=0.0001, layer_sizes=[512, 256, 128], dropouts=[0.5, 0.5, 0.5]. Best val accuracy: 79.6669588080631\n",
            "Train_loss: 2.116724\n"
          ]
        },
        {
          "output_type": "stream",
          "name": "stderr",
          "text": [
            "/usr/local/lib/python3.10/dist-packages/sklearn/metrics/_classification.py:1344: UndefinedMetricWarning: Recall is ill-defined and being set to 0.0 in labels with no true samples. Use `zero_division` parameter to control this behavior.\n",
            "  _warn_prf(average, modifier, msg_start, len(result))\n"
          ]
        },
        {
          "output_type": "stream",
          "name": "stdout",
          "text": [
            "Test Error: \n",
            " Accuracy: 48.1%\n",
            " Avg loss: 1.711792\n",
            " Precision: 0.2865\n",
            " Recall: 0.2602\n",
            " F1 Score: 0.2475\n",
            " Matthew's Correlation Coefficient: 0.3479\n",
            "Train_loss: 1.533884\n"
          ]
        },
        {
          "output_type": "stream",
          "name": "stderr",
          "text": [
            "/usr/local/lib/python3.10/dist-packages/sklearn/metrics/_classification.py:1344: UndefinedMetricWarning: Recall is ill-defined and being set to 0.0 in labels with no true samples. Use `zero_division` parameter to control this behavior.\n",
            "  _warn_prf(average, modifier, msg_start, len(result))\n"
          ]
        },
        {
          "output_type": "stream",
          "name": "stdout",
          "text": [
            "Test Error: \n",
            " Accuracy: 70.0%\n",
            " Avg loss: 1.360568\n",
            " Precision: 0.3001\n",
            " Recall: 0.3331\n",
            " F1 Score: 0.3028\n",
            " Matthew's Correlation Coefficient: 0.5575\n",
            "Train_loss: 1.038432\n"
          ]
        },
        {
          "output_type": "stream",
          "name": "stderr",
          "text": [
            "/usr/local/lib/python3.10/dist-packages/sklearn/metrics/_classification.py:1344: UndefinedMetricWarning: Precision is ill-defined and being set to 0.0 in labels with no predicted samples. Use `zero_division` parameter to control this behavior.\n",
            "  _warn_prf(average, modifier, msg_start, len(result))\n",
            "/usr/local/lib/python3.10/dist-packages/sklearn/metrics/_classification.py:1344: UndefinedMetricWarning: Recall is ill-defined and being set to 0.0 in labels with no true samples. Use `zero_division` parameter to control this behavior.\n",
            "  _warn_prf(average, modifier, msg_start, len(result))\n"
          ]
        },
        {
          "output_type": "stream",
          "name": "stdout",
          "text": [
            "Test Error: \n",
            " Accuracy: 73.6%\n",
            " Avg loss: 1.167322\n",
            " Precision: 0.3063\n",
            " Recall: 0.3400\n",
            " F1 Score: 0.3089\n",
            " Matthew's Correlation Coefficient: 0.6069\n",
            "Train_loss: 0.639907\n"
          ]
        },
        {
          "output_type": "stream",
          "name": "stderr",
          "text": [
            "/usr/local/lib/python3.10/dist-packages/sklearn/metrics/_classification.py:1344: UndefinedMetricWarning: Precision is ill-defined and being set to 0.0 in labels with no predicted samples. Use `zero_division` parameter to control this behavior.\n",
            "  _warn_prf(average, modifier, msg_start, len(result))\n"
          ]
        },
        {
          "output_type": "stream",
          "name": "stdout",
          "text": [
            "Test Error: \n",
            " Accuracy: 76.1%\n",
            " Avg loss: 1.025773\n",
            " Precision: 0.3672\n",
            " Recall: 0.4062\n",
            " F1 Score: 0.3731\n",
            " Matthew's Correlation Coefficient: 0.6381\n",
            "Train_loss: 0.609969\n"
          ]
        },
        {
          "output_type": "stream",
          "name": "stderr",
          "text": [
            "/usr/local/lib/python3.10/dist-packages/sklearn/metrics/_classification.py:1344: UndefinedMetricWarning: Precision is ill-defined and being set to 0.0 in labels with no predicted samples. Use `zero_division` parameter to control this behavior.\n",
            "  _warn_prf(average, modifier, msg_start, len(result))\n"
          ]
        },
        {
          "output_type": "stream",
          "name": "stdout",
          "text": [
            "Test Error: \n",
            " Accuracy: 76.8%\n",
            " Avg loss: 0.938640\n",
            " Precision: 0.3699\n",
            " Recall: 0.4089\n",
            " F1 Score: 0.3764\n",
            " Matthew's Correlation Coefficient: 0.6468\n",
            "Train_loss: 0.474770\n"
          ]
        },
        {
          "output_type": "stream",
          "name": "stderr",
          "text": [
            "/usr/local/lib/python3.10/dist-packages/sklearn/metrics/_classification.py:1344: UndefinedMetricWarning: Precision is ill-defined and being set to 0.0 in labels with no predicted samples. Use `zero_division` parameter to control this behavior.\n",
            "  _warn_prf(average, modifier, msg_start, len(result))\n"
          ]
        },
        {
          "output_type": "stream",
          "name": "stdout",
          "text": [
            "Test Error: \n",
            " Accuracy: 78.7%\n",
            " Avg loss: 0.849144\n",
            " Precision: 0.3772\n",
            " Recall: 0.4147\n",
            " F1 Score: 0.3869\n",
            " Matthew's Correlation Coefficient: 0.6692\n",
            "Train_loss: 0.398508\n"
          ]
        },
        {
          "output_type": "stream",
          "name": "stderr",
          "text": [
            "/usr/local/lib/python3.10/dist-packages/sklearn/metrics/_classification.py:1344: UndefinedMetricWarning: Precision is ill-defined and being set to 0.0 in labels with no predicted samples. Use `zero_division` parameter to control this behavior.\n",
            "  _warn_prf(average, modifier, msg_start, len(result))\n"
          ]
        },
        {
          "output_type": "stream",
          "name": "stdout",
          "text": [
            "Test Error: \n",
            " Accuracy: 78.3%\n",
            " Avg loss: 0.827575\n",
            " Precision: 0.5431\n",
            " Recall: 0.4167\n",
            " F1 Score: 0.3891\n",
            " Matthew's Correlation Coefficient: 0.6662\n",
            "EarlyStopping counter: 1 out of 10\n",
            "Train_loss: 0.243855\n"
          ]
        },
        {
          "output_type": "stream",
          "name": "stderr",
          "text": [
            "/usr/local/lib/python3.10/dist-packages/sklearn/metrics/_classification.py:1344: UndefinedMetricWarning: Precision is ill-defined and being set to 0.0 in labels with no predicted samples. Use `zero_division` parameter to control this behavior.\n",
            "  _warn_prf(average, modifier, msg_start, len(result))\n"
          ]
        },
        {
          "output_type": "stream",
          "name": "stdout",
          "text": [
            "Test Error: \n",
            " Accuracy: 78.7%\n",
            " Avg loss: 0.784780\n",
            " Precision: 0.5019\n",
            " Recall: 0.4214\n",
            " F1 Score: 0.4005\n",
            " Matthew's Correlation Coefficient: 0.6698\n",
            "Train_loss: 0.206640\n"
          ]
        },
        {
          "output_type": "stream",
          "name": "stderr",
          "text": [
            "/usr/local/lib/python3.10/dist-packages/sklearn/metrics/_classification.py:1344: UndefinedMetricWarning: Precision is ill-defined and being set to 0.0 in labels with no predicted samples. Use `zero_division` parameter to control this behavior.\n",
            "  _warn_prf(average, modifier, msg_start, len(result))\n"
          ]
        },
        {
          "output_type": "stream",
          "name": "stdout",
          "text": [
            "Test Error: \n",
            " Accuracy: 78.7%\n",
            " Avg loss: 0.763999\n",
            " Precision: 0.4812\n",
            " Recall: 0.4255\n",
            " F1 Score: 0.4087\n",
            " Matthew's Correlation Coefficient: 0.6685\n",
            "EarlyStopping counter: 1 out of 10\n",
            "Train_loss: 0.213412\n"
          ]
        },
        {
          "output_type": "stream",
          "name": "stderr",
          "text": [
            "/usr/local/lib/python3.10/dist-packages/sklearn/metrics/_classification.py:1344: UndefinedMetricWarning: Precision is ill-defined and being set to 0.0 in labels with no predicted samples. Use `zero_division` parameter to control this behavior.\n",
            "  _warn_prf(average, modifier, msg_start, len(result))\n"
          ]
        },
        {
          "output_type": "stream",
          "name": "stdout",
          "text": [
            "Test Error: \n",
            " Accuracy: 77.6%\n",
            " Avg loss: 0.775664\n",
            " Precision: 0.4341\n",
            " Recall: 0.4216\n",
            " F1 Score: 0.4031\n",
            " Matthew's Correlation Coefficient: 0.6544\n",
            "EarlyStopping counter: 2 out of 10\n",
            "Train_loss: 0.212790\n"
          ]
        },
        {
          "output_type": "stream",
          "name": "stderr",
          "text": [
            "/usr/local/lib/python3.10/dist-packages/sklearn/metrics/_classification.py:1344: UndefinedMetricWarning: Precision is ill-defined and being set to 0.0 in labels with no predicted samples. Use `zero_division` parameter to control this behavior.\n",
            "  _warn_prf(average, modifier, msg_start, len(result))\n"
          ]
        },
        {
          "output_type": "stream",
          "name": "stdout",
          "text": [
            "Test Error: \n",
            " Accuracy: 77.5%\n",
            " Avg loss: 0.763243\n",
            " Precision: 0.4429\n",
            " Recall: 0.4325\n",
            " F1 Score: 0.4174\n",
            " Matthew's Correlation Coefficient: 0.6543\n",
            "EarlyStopping counter: 3 out of 10\n",
            "Train_loss: 0.189213\n"
          ]
        },
        {
          "output_type": "stream",
          "name": "stderr",
          "text": [
            "/usr/local/lib/python3.10/dist-packages/sklearn/metrics/_classification.py:1344: UndefinedMetricWarning: Precision is ill-defined and being set to 0.0 in labels with no predicted samples. Use `zero_division` parameter to control this behavior.\n",
            "  _warn_prf(average, modifier, msg_start, len(result))\n"
          ]
        },
        {
          "output_type": "stream",
          "name": "stdout",
          "text": [
            "Test Error: \n",
            " Accuracy: 78.4%\n",
            " Avg loss: 0.736913\n",
            " Precision: 0.4488\n",
            " Recall: 0.4537\n",
            " F1 Score: 0.4404\n",
            " Matthew's Correlation Coefficient: 0.6656\n",
            "EarlyStopping counter: 4 out of 10\n",
            "Train_loss: 0.131616\n"
          ]
        },
        {
          "output_type": "stream",
          "name": "stderr",
          "text": [
            "/usr/local/lib/python3.10/dist-packages/sklearn/metrics/_classification.py:1344: UndefinedMetricWarning: Precision is ill-defined and being set to 0.0 in labels with no predicted samples. Use `zero_division` parameter to control this behavior.\n",
            "  _warn_prf(average, modifier, msg_start, len(result))\n"
          ]
        },
        {
          "output_type": "stream",
          "name": "stdout",
          "text": [
            "Test Error: \n",
            " Accuracy: 78.3%\n",
            " Avg loss: 0.731051\n",
            " Precision: 0.4418\n",
            " Recall: 0.4532\n",
            " F1 Score: 0.4375\n",
            " Matthew's Correlation Coefficient: 0.6642\n",
            "EarlyStopping counter: 5 out of 10\n",
            "Train_loss: 0.110490\n"
          ]
        },
        {
          "output_type": "stream",
          "name": "stderr",
          "text": [
            "/usr/local/lib/python3.10/dist-packages/sklearn/metrics/_classification.py:1344: UndefinedMetricWarning: Precision is ill-defined and being set to 0.0 in labels with no predicted samples. Use `zero_division` parameter to control this behavior.\n",
            "  _warn_prf(average, modifier, msg_start, len(result))\n"
          ]
        },
        {
          "output_type": "stream",
          "name": "stdout",
          "text": [
            "Test Error: \n",
            " Accuracy: 78.1%\n",
            " Avg loss: 0.721128\n",
            " Precision: 0.4199\n",
            " Recall: 0.4523\n",
            " F1 Score: 0.4286\n",
            " Matthew's Correlation Coefficient: 0.6619\n",
            "EarlyStopping counter: 6 out of 10\n",
            "Train_loss: 0.057890\n"
          ]
        },
        {
          "output_type": "stream",
          "name": "stderr",
          "text": [
            "/usr/local/lib/python3.10/dist-packages/sklearn/metrics/_classification.py:1344: UndefinedMetricWarning: Precision is ill-defined and being set to 0.0 in labels with no predicted samples. Use `zero_division` parameter to control this behavior.\n",
            "  _warn_prf(average, modifier, msg_start, len(result))\n"
          ]
        },
        {
          "output_type": "stream",
          "name": "stdout",
          "text": [
            "Test Error: \n",
            " Accuracy: 77.6%\n",
            " Avg loss: 0.731178\n",
            " Precision: 0.4153\n",
            " Recall: 0.4504\n",
            " F1 Score: 0.4240\n",
            " Matthew's Correlation Coefficient: 0.6542\n",
            "EarlyStopping counter: 7 out of 10\n",
            "Train_loss: 0.078324\n"
          ]
        },
        {
          "output_type": "stream",
          "name": "stderr",
          "text": [
            "/usr/local/lib/python3.10/dist-packages/sklearn/metrics/_classification.py:1344: UndefinedMetricWarning: Precision is ill-defined and being set to 0.0 in labels with no predicted samples. Use `zero_division` parameter to control this behavior.\n",
            "  _warn_prf(average, modifier, msg_start, len(result))\n"
          ]
        },
        {
          "output_type": "stream",
          "name": "stdout",
          "text": [
            "Test Error: \n",
            " Accuracy: 77.3%\n",
            " Avg loss: 0.742249\n",
            " Precision: 0.4141\n",
            " Recall: 0.4576\n",
            " F1 Score: 0.4256\n",
            " Matthew's Correlation Coefficient: 0.6517\n",
            "EarlyStopping counter: 8 out of 10\n",
            "Train_loss: 0.091562\n"
          ]
        },
        {
          "output_type": "stream",
          "name": "stderr",
          "text": [
            "/usr/local/lib/python3.10/dist-packages/sklearn/metrics/_classification.py:1344: UndefinedMetricWarning: Precision is ill-defined and being set to 0.0 in labels with no predicted samples. Use `zero_division` parameter to control this behavior.\n",
            "  _warn_prf(average, modifier, msg_start, len(result))\n"
          ]
        },
        {
          "output_type": "stream",
          "name": "stdout",
          "text": [
            "Test Error: \n",
            " Accuracy: 77.1%\n",
            " Avg loss: 0.744324\n",
            " Precision: 0.4150\n",
            " Recall: 0.4582\n",
            " F1 Score: 0.4260\n",
            " Matthew's Correlation Coefficient: 0.6488\n",
            "EarlyStopping counter: 9 out of 10\n",
            "Train_loss: 0.061216\n"
          ]
        },
        {
          "output_type": "stream",
          "name": "stderr",
          "text": [
            "/usr/local/lib/python3.10/dist-packages/sklearn/metrics/_classification.py:1344: UndefinedMetricWarning: Precision is ill-defined and being set to 0.0 in labels with no predicted samples. Use `zero_division` parameter to control this behavior.\n",
            "  _warn_prf(average, modifier, msg_start, len(result))\n"
          ]
        },
        {
          "output_type": "stream",
          "name": "stdout",
          "text": [
            "Test Error: \n",
            " Accuracy: 76.6%\n",
            " Avg loss: 0.758636\n",
            " Precision: 0.4081\n",
            " Recall: 0.4559\n",
            " F1 Score: 0.4194\n",
            " Matthew's Correlation Coefficient: 0.6449\n",
            "EarlyStopping counter: 10 out of 10\n",
            "Early stopping\n",
            "Finished training for lr=0.0001, layer_sizes=[512, 256, 128], dropouts=[0.3, 0.3, 0.3]. Best val accuracy: 79.6669588080631\n",
            "Train_loss: 2.063451\n"
          ]
        },
        {
          "output_type": "stream",
          "name": "stderr",
          "text": [
            "/usr/local/lib/python3.10/dist-packages/sklearn/metrics/_classification.py:1344: UndefinedMetricWarning: Precision is ill-defined and being set to 0.0 in labels with no predicted samples. Use `zero_division` parameter to control this behavior.\n",
            "  _warn_prf(average, modifier, msg_start, len(result))\n",
            "/usr/local/lib/python3.10/dist-packages/sklearn/metrics/_classification.py:1344: UndefinedMetricWarning: Recall is ill-defined and being set to 0.0 in labels with no true samples. Use `zero_division` parameter to control this behavior.\n",
            "  _warn_prf(average, modifier, msg_start, len(result))\n"
          ]
        },
        {
          "output_type": "stream",
          "name": "stdout",
          "text": [
            "Test Error: \n",
            " Accuracy: 75.2%\n",
            " Avg loss: 1.162313\n",
            " Precision: 0.3469\n",
            " Recall: 0.3446\n",
            " F1 Score: 0.3219\n",
            " Matthew's Correlation Coefficient: 0.6214\n",
            "Train_loss: 0.671225\n"
          ]
        },
        {
          "output_type": "stream",
          "name": "stderr",
          "text": [
            "/usr/local/lib/python3.10/dist-packages/sklearn/metrics/_classification.py:1344: UndefinedMetricWarning: Precision is ill-defined and being set to 0.0 in labels with no predicted samples. Use `zero_division` parameter to control this behavior.\n",
            "  _warn_prf(average, modifier, msg_start, len(result))\n"
          ]
        },
        {
          "output_type": "stream",
          "name": "stdout",
          "text": [
            "Test Error: \n",
            " Accuracy: 78.8%\n",
            " Avg loss: 0.817351\n",
            " Precision: 0.5447\n",
            " Recall: 0.4153\n",
            " F1 Score: 0.3971\n",
            " Matthew's Correlation Coefficient: 0.6664\n",
            "Train_loss: 0.295719\n"
          ]
        },
        {
          "output_type": "stream",
          "name": "stderr",
          "text": [
            "/usr/local/lib/python3.10/dist-packages/sklearn/metrics/_classification.py:1344: UndefinedMetricWarning: Precision is ill-defined and being set to 0.0 in labels with no predicted samples. Use `zero_division` parameter to control this behavior.\n",
            "  _warn_prf(average, modifier, msg_start, len(result))\n"
          ]
        },
        {
          "output_type": "stream",
          "name": "stdout",
          "text": [
            "Test Error: \n",
            " Accuracy: 79.1%\n",
            " Avg loss: 0.735270\n",
            " Precision: 0.4870\n",
            " Recall: 0.4299\n",
            " F1 Score: 0.4212\n",
            " Matthew's Correlation Coefficient: 0.6723\n",
            "Train_loss: 0.170260\n"
          ]
        },
        {
          "output_type": "stream",
          "name": "stderr",
          "text": [
            "/usr/local/lib/python3.10/dist-packages/sklearn/metrics/_classification.py:1344: UndefinedMetricWarning: Precision is ill-defined and being set to 0.0 in labels with no predicted samples. Use `zero_division` parameter to control this behavior.\n",
            "  _warn_prf(average, modifier, msg_start, len(result))\n"
          ]
        },
        {
          "output_type": "stream",
          "name": "stdout",
          "text": [
            "Test Error: \n",
            " Accuracy: 78.8%\n",
            " Avg loss: 0.723545\n",
            " Precision: 0.4757\n",
            " Recall: 0.4384\n",
            " F1 Score: 0.4306\n",
            " Matthew's Correlation Coefficient: 0.6705\n",
            "EarlyStopping counter: 1 out of 10\n",
            "Train_loss: 0.100347\n"
          ]
        },
        {
          "output_type": "stream",
          "name": "stderr",
          "text": [
            "/usr/local/lib/python3.10/dist-packages/sklearn/metrics/_classification.py:1344: UndefinedMetricWarning: Precision is ill-defined and being set to 0.0 in labels with no predicted samples. Use `zero_division` parameter to control this behavior.\n",
            "  _warn_prf(average, modifier, msg_start, len(result))\n"
          ]
        },
        {
          "output_type": "stream",
          "name": "stdout",
          "text": [
            "Test Error: \n",
            " Accuracy: 78.7%\n",
            " Avg loss: 0.726268\n",
            " Precision: 0.4505\n",
            " Recall: 0.4534\n",
            " F1 Score: 0.4397\n",
            " Matthew's Correlation Coefficient: 0.6710\n",
            "EarlyStopping counter: 2 out of 10\n",
            "Train_loss: 0.079475\n"
          ]
        },
        {
          "output_type": "stream",
          "name": "stderr",
          "text": [
            "/usr/local/lib/python3.10/dist-packages/sklearn/metrics/_classification.py:1344: UndefinedMetricWarning: Precision is ill-defined and being set to 0.0 in labels with no predicted samples. Use `zero_division` parameter to control this behavior.\n",
            "  _warn_prf(average, modifier, msg_start, len(result))\n"
          ]
        },
        {
          "output_type": "stream",
          "name": "stdout",
          "text": [
            "Test Error: \n",
            " Accuracy: 78.4%\n",
            " Avg loss: 0.702463\n",
            " Precision: 0.4393\n",
            " Recall: 0.4512\n",
            " F1 Score: 0.4370\n",
            " Matthew's Correlation Coefficient: 0.6629\n",
            "EarlyStopping counter: 3 out of 10\n",
            "Train_loss: 0.063248\n"
          ]
        },
        {
          "output_type": "stream",
          "name": "stderr",
          "text": [
            "/usr/local/lib/python3.10/dist-packages/sklearn/metrics/_classification.py:1344: UndefinedMetricWarning: Precision is ill-defined and being set to 0.0 in labels with no predicted samples. Use `zero_division` parameter to control this behavior.\n",
            "  _warn_prf(average, modifier, msg_start, len(result))\n"
          ]
        },
        {
          "output_type": "stream",
          "name": "stdout",
          "text": [
            "Test Error: \n",
            " Accuracy: 77.4%\n",
            " Avg loss: 0.741280\n",
            " Precision: 0.5962\n",
            " Recall: 0.4493\n",
            " F1 Score: 0.4375\n",
            " Matthew's Correlation Coefficient: 0.6527\n",
            "EarlyStopping counter: 4 out of 10\n",
            "Train_loss: 0.060070\n"
          ]
        },
        {
          "output_type": "stream",
          "name": "stderr",
          "text": [
            "/usr/local/lib/python3.10/dist-packages/sklearn/metrics/_classification.py:1344: UndefinedMetricWarning: Precision is ill-defined and being set to 0.0 in labels with no predicted samples. Use `zero_division` parameter to control this behavior.\n",
            "  _warn_prf(average, modifier, msg_start, len(result))\n"
          ]
        },
        {
          "output_type": "stream",
          "name": "stdout",
          "text": [
            "Test Error: \n",
            " Accuracy: 79.0%\n",
            " Avg loss: 0.687249\n",
            " Precision: 0.5975\n",
            " Recall: 0.4595\n",
            " F1 Score: 0.4489\n",
            " Matthew's Correlation Coefficient: 0.6715\n",
            "EarlyStopping counter: 5 out of 10\n",
            "Train_loss: 0.027774\n"
          ]
        },
        {
          "output_type": "stream",
          "name": "stderr",
          "text": [
            "/usr/local/lib/python3.10/dist-packages/sklearn/metrics/_classification.py:1344: UndefinedMetricWarning: Precision is ill-defined and being set to 0.0 in labels with no predicted samples. Use `zero_division` parameter to control this behavior.\n",
            "  _warn_prf(average, modifier, msg_start, len(result))\n"
          ]
        },
        {
          "output_type": "stream",
          "name": "stdout",
          "text": [
            "Test Error: \n",
            " Accuracy: 78.2%\n",
            " Avg loss: 0.715947\n",
            " Precision: 0.5510\n",
            " Recall: 0.4601\n",
            " F1 Score: 0.4582\n",
            " Matthew's Correlation Coefficient: 0.6608\n",
            "EarlyStopping counter: 6 out of 10\n",
            "Train_loss: 0.024298\n"
          ]
        },
        {
          "output_type": "stream",
          "name": "stderr",
          "text": [
            "/usr/local/lib/python3.10/dist-packages/sklearn/metrics/_classification.py:1344: UndefinedMetricWarning: Precision is ill-defined and being set to 0.0 in labels with no predicted samples. Use `zero_division` parameter to control this behavior.\n",
            "  _warn_prf(average, modifier, msg_start, len(result))\n"
          ]
        },
        {
          "output_type": "stream",
          "name": "stdout",
          "text": [
            "Test Error: \n",
            " Accuracy: 77.2%\n",
            " Avg loss: 0.732156\n",
            " Precision: 0.5344\n",
            " Recall: 0.4583\n",
            " F1 Score: 0.4484\n",
            " Matthew's Correlation Coefficient: 0.6489\n",
            "EarlyStopping counter: 7 out of 10\n",
            "Train_loss: 0.019736\n"
          ]
        },
        {
          "output_type": "stream",
          "name": "stderr",
          "text": [
            "/usr/local/lib/python3.10/dist-packages/sklearn/metrics/_classification.py:1344: UndefinedMetricWarning: Precision is ill-defined and being set to 0.0 in labels with no predicted samples. Use `zero_division` parameter to control this behavior.\n",
            "  _warn_prf(average, modifier, msg_start, len(result))\n",
            "/usr/local/lib/python3.10/dist-packages/sklearn/metrics/_classification.py:1344: UndefinedMetricWarning: Recall is ill-defined and being set to 0.0 in labels with no true samples. Use `zero_division` parameter to control this behavior.\n",
            "  _warn_prf(average, modifier, msg_start, len(result))\n"
          ]
        },
        {
          "output_type": "stream",
          "name": "stdout",
          "text": [
            "Test Error: \n",
            " Accuracy: 77.4%\n",
            " Avg loss: 0.740346\n",
            " Precision: 0.4613\n",
            " Recall: 0.3931\n",
            " F1 Score: 0.3856\n",
            " Matthew's Correlation Coefficient: 0.6523\n",
            "EarlyStopping counter: 8 out of 10\n",
            "Train_loss: 0.021259\n"
          ]
        },
        {
          "output_type": "stream",
          "name": "stderr",
          "text": [
            "/usr/local/lib/python3.10/dist-packages/sklearn/metrics/_classification.py:1344: UndefinedMetricWarning: Precision is ill-defined and being set to 0.0 in labels with no predicted samples. Use `zero_division` parameter to control this behavior.\n",
            "  _warn_prf(average, modifier, msg_start, len(result))\n",
            "/usr/local/lib/python3.10/dist-packages/sklearn/metrics/_classification.py:1344: UndefinedMetricWarning: Recall is ill-defined and being set to 0.0 in labels with no true samples. Use `zero_division` parameter to control this behavior.\n",
            "  _warn_prf(average, modifier, msg_start, len(result))\n"
          ]
        },
        {
          "output_type": "stream",
          "name": "stdout",
          "text": [
            "Test Error: \n",
            " Accuracy: 78.6%\n",
            " Avg loss: 0.696933\n",
            " Precision: 0.4739\n",
            " Recall: 0.3970\n",
            " F1 Score: 0.3958\n",
            " Matthew's Correlation Coefficient: 0.6671\n",
            "EarlyStopping counter: 9 out of 10\n",
            "Train_loss: 0.015622\n"
          ]
        },
        {
          "output_type": "stream",
          "name": "stderr",
          "text": [
            "/usr/local/lib/python3.10/dist-packages/sklearn/metrics/_classification.py:1344: UndefinedMetricWarning: Precision is ill-defined and being set to 0.0 in labels with no predicted samples. Use `zero_division` parameter to control this behavior.\n",
            "  _warn_prf(average, modifier, msg_start, len(result))\n",
            "/usr/local/lib/python3.10/dist-packages/sklearn/metrics/_classification.py:1344: UndefinedMetricWarning: Recall is ill-defined and being set to 0.0 in labels with no true samples. Use `zero_division` parameter to control this behavior.\n",
            "  _warn_prf(average, modifier, msg_start, len(result))\n"
          ]
        },
        {
          "output_type": "stream",
          "name": "stdout",
          "text": [
            "Test Error: \n",
            " Accuracy: 77.6%\n",
            " Avg loss: 0.745234\n",
            " Precision: 0.4383\n",
            " Recall: 0.3983\n",
            " F1 Score: 0.3879\n",
            " Matthew's Correlation Coefficient: 0.6570\n",
            "EarlyStopping counter: 10 out of 10\n",
            "Early stopping\n",
            "Finished training for lr=0.0001, layer_sizes=[1024, 512, 256], dropouts=[0.1, 0.1, 0.1]. Best val accuracy: 79.6669588080631\n",
            "Train_loss: 2.139598\n"
          ]
        },
        {
          "output_type": "stream",
          "name": "stderr",
          "text": [
            "/usr/local/lib/python3.10/dist-packages/sklearn/metrics/_classification.py:1344: UndefinedMetricWarning: Precision is ill-defined and being set to 0.0 in labels with no predicted samples. Use `zero_division` parameter to control this behavior.\n",
            "  _warn_prf(average, modifier, msg_start, len(result))\n",
            "/usr/local/lib/python3.10/dist-packages/sklearn/metrics/_classification.py:1344: UndefinedMetricWarning: Recall is ill-defined and being set to 0.0 in labels with no true samples. Use `zero_division` parameter to control this behavior.\n",
            "  _warn_prf(average, modifier, msg_start, len(result))\n"
          ]
        },
        {
          "output_type": "stream",
          "name": "stdout",
          "text": [
            "Test Error: \n",
            " Accuracy: 63.7%\n",
            " Avg loss: 1.654165\n",
            " Precision: 0.2781\n",
            " Recall: 0.3110\n",
            " F1 Score: 0.2809\n",
            " Matthew's Correlation Coefficient: 0.4670\n",
            "Train_loss: 1.434307\n"
          ]
        },
        {
          "output_type": "stream",
          "name": "stderr",
          "text": [
            "/usr/local/lib/python3.10/dist-packages/sklearn/metrics/_classification.py:1344: UndefinedMetricWarning: Precision is ill-defined and being set to 0.0 in labels with no predicted samples. Use `zero_division` parameter to control this behavior.\n",
            "  _warn_prf(average, modifier, msg_start, len(result))\n"
          ]
        },
        {
          "output_type": "stream",
          "name": "stdout",
          "text": [
            "Test Error: \n",
            " Accuracy: 74.9%\n",
            " Avg loss: 1.249208\n",
            " Precision: 0.5270\n",
            " Recall: 0.3964\n",
            " F1 Score: 0.3754\n",
            " Matthew's Correlation Coefficient: 0.6038\n",
            "Train_loss: 0.925541\n"
          ]
        },
        {
          "output_type": "stream",
          "name": "stderr",
          "text": [
            "/usr/local/lib/python3.10/dist-packages/sklearn/metrics/_classification.py:1344: UndefinedMetricWarning: Precision is ill-defined and being set to 0.0 in labels with no predicted samples. Use `zero_division` parameter to control this behavior.\n",
            "  _warn_prf(average, modifier, msg_start, len(result))\n"
          ]
        },
        {
          "output_type": "stream",
          "name": "stdout",
          "text": [
            "Test Error: \n",
            " Accuracy: 76.3%\n",
            " Avg loss: 1.038629\n",
            " Precision: 0.3651\n",
            " Recall: 0.4053\n",
            " F1 Score: 0.3762\n",
            " Matthew's Correlation Coefficient: 0.6329\n",
            "Train_loss: 0.534719\n"
          ]
        },
        {
          "output_type": "stream",
          "name": "stderr",
          "text": [
            "/usr/local/lib/python3.10/dist-packages/sklearn/metrics/_classification.py:1344: UndefinedMetricWarning: Precision is ill-defined and being set to 0.0 in labels with no predicted samples. Use `zero_division` parameter to control this behavior.\n",
            "  _warn_prf(average, modifier, msg_start, len(result))\n"
          ]
        },
        {
          "output_type": "stream",
          "name": "stdout",
          "text": [
            "Test Error: \n",
            " Accuracy: 76.7%\n",
            " Avg loss: 0.903216\n",
            " Precision: 0.3661\n",
            " Recall: 0.4078\n",
            " F1 Score: 0.3767\n",
            " Matthew's Correlation Coefficient: 0.6430\n",
            "Train_loss: 0.540528\n"
          ]
        },
        {
          "output_type": "stream",
          "name": "stderr",
          "text": [
            "/usr/local/lib/python3.10/dist-packages/sklearn/metrics/_classification.py:1344: UndefinedMetricWarning: Precision is ill-defined and being set to 0.0 in labels with no predicted samples. Use `zero_division` parameter to control this behavior.\n",
            "  _warn_prf(average, modifier, msg_start, len(result))\n"
          ]
        },
        {
          "output_type": "stream",
          "name": "stdout",
          "text": [
            "Test Error: \n",
            " Accuracy: 78.1%\n",
            " Avg loss: 0.804114\n",
            " Precision: 0.3743\n",
            " Recall: 0.4125\n",
            " F1 Score: 0.3839\n",
            " Matthew's Correlation Coefficient: 0.6613\n",
            "Train_loss: 0.468978\n"
          ]
        },
        {
          "output_type": "stream",
          "name": "stderr",
          "text": [
            "/usr/local/lib/python3.10/dist-packages/sklearn/metrics/_classification.py:1344: UndefinedMetricWarning: Precision is ill-defined and being set to 0.0 in labels with no predicted samples. Use `zero_division` parameter to control this behavior.\n",
            "  _warn_prf(average, modifier, msg_start, len(result))\n"
          ]
        },
        {
          "output_type": "stream",
          "name": "stdout",
          "text": [
            "Test Error: \n",
            " Accuracy: 76.7%\n",
            " Avg loss: 0.808704\n",
            " Precision: 0.5353\n",
            " Recall: 0.4130\n",
            " F1 Score: 0.3806\n",
            " Matthew's Correlation Coefficient: 0.6499\n",
            "EarlyStopping counter: 1 out of 10\n",
            "Train_loss: 0.439401\n"
          ]
        },
        {
          "output_type": "stream",
          "name": "stderr",
          "text": [
            "/usr/local/lib/python3.10/dist-packages/sklearn/metrics/_classification.py:1344: UndefinedMetricWarning: Precision is ill-defined and being set to 0.0 in labels with no predicted samples. Use `zero_division` parameter to control this behavior.\n",
            "  _warn_prf(average, modifier, msg_start, len(result))\n"
          ]
        },
        {
          "output_type": "stream",
          "name": "stdout",
          "text": [
            "Test Error: \n",
            " Accuracy: 78.7%\n",
            " Avg loss: 0.725073\n",
            " Precision: 0.5434\n",
            " Recall: 0.4178\n",
            " F1 Score: 0.3921\n",
            " Matthew's Correlation Coefficient: 0.6693\n",
            "Train_loss: 0.355518\n"
          ]
        },
        {
          "output_type": "stream",
          "name": "stderr",
          "text": [
            "/usr/local/lib/python3.10/dist-packages/sklearn/metrics/_classification.py:1344: UndefinedMetricWarning: Precision is ill-defined and being set to 0.0 in labels with no predicted samples. Use `zero_division` parameter to control this behavior.\n",
            "  _warn_prf(average, modifier, msg_start, len(result))\n"
          ]
        },
        {
          "output_type": "stream",
          "name": "stdout",
          "text": [
            "Test Error: \n",
            " Accuracy: 77.2%\n",
            " Avg loss: 0.756820\n",
            " Precision: 0.5390\n",
            " Recall: 0.4173\n",
            " F1 Score: 0.3875\n",
            " Matthew's Correlation Coefficient: 0.6566\n",
            "EarlyStopping counter: 1 out of 10\n",
            "Train_loss: 0.317365\n"
          ]
        },
        {
          "output_type": "stream",
          "name": "stderr",
          "text": [
            "/usr/local/lib/python3.10/dist-packages/sklearn/metrics/_classification.py:1344: UndefinedMetricWarning: Precision is ill-defined and being set to 0.0 in labels with no predicted samples. Use `zero_division` parameter to control this behavior.\n",
            "  _warn_prf(average, modifier, msg_start, len(result))\n"
          ]
        },
        {
          "output_type": "stream",
          "name": "stdout",
          "text": [
            "Test Error: \n",
            " Accuracy: 78.5%\n",
            " Avg loss: 0.709602\n",
            " Precision: 0.5427\n",
            " Recall: 0.4224\n",
            " F1 Score: 0.3992\n",
            " Matthew's Correlation Coefficient: 0.6686\n",
            "EarlyStopping counter: 2 out of 10\n",
            "Train_loss: 0.266353\n"
          ]
        },
        {
          "output_type": "stream",
          "name": "stderr",
          "text": [
            "/usr/local/lib/python3.10/dist-packages/sklearn/metrics/_classification.py:1344: UndefinedMetricWarning: Precision is ill-defined and being set to 0.0 in labels with no predicted samples. Use `zero_division` parameter to control this behavior.\n",
            "  _warn_prf(average, modifier, msg_start, len(result))\n"
          ]
        },
        {
          "output_type": "stream",
          "name": "stdout",
          "text": [
            "Test Error: \n",
            " Accuracy: 77.6%\n",
            " Avg loss: 0.731604\n",
            " Precision: 0.4662\n",
            " Recall: 0.4238\n",
            " F1 Score: 0.4013\n",
            " Matthew's Correlation Coefficient: 0.6594\n",
            "EarlyStopping counter: 3 out of 10\n",
            "Train_loss: 0.287519\n"
          ]
        },
        {
          "output_type": "stream",
          "name": "stderr",
          "text": [
            "/usr/local/lib/python3.10/dist-packages/sklearn/metrics/_classification.py:1344: UndefinedMetricWarning: Precision is ill-defined and being set to 0.0 in labels with no predicted samples. Use `zero_division` parameter to control this behavior.\n",
            "  _warn_prf(average, modifier, msg_start, len(result))\n"
          ]
        },
        {
          "output_type": "stream",
          "name": "stdout",
          "text": [
            "Test Error: \n",
            " Accuracy: 78.6%\n",
            " Avg loss: 0.696830\n",
            " Precision: 0.4301\n",
            " Recall: 0.4380\n",
            " F1 Score: 0.4198\n",
            " Matthew's Correlation Coefficient: 0.6712\n",
            "EarlyStopping counter: 4 out of 10\n",
            "Train_loss: 0.117169\n"
          ]
        },
        {
          "output_type": "stream",
          "name": "stderr",
          "text": [
            "/usr/local/lib/python3.10/dist-packages/sklearn/metrics/_classification.py:1344: UndefinedMetricWarning: Precision is ill-defined and being set to 0.0 in labels with no predicted samples. Use `zero_division` parameter to control this behavior.\n",
            "  _warn_prf(average, modifier, msg_start, len(result))\n"
          ]
        },
        {
          "output_type": "stream",
          "name": "stdout",
          "text": [
            "Test Error: \n",
            " Accuracy: 77.2%\n",
            " Avg loss: 0.743785\n",
            " Precision: 0.4268\n",
            " Recall: 0.4390\n",
            " F1 Score: 0.4175\n",
            " Matthew's Correlation Coefficient: 0.6549\n",
            "EarlyStopping counter: 5 out of 10\n",
            "Train_loss: 0.093820\n"
          ]
        },
        {
          "output_type": "stream",
          "name": "stderr",
          "text": [
            "/usr/local/lib/python3.10/dist-packages/sklearn/metrics/_classification.py:1344: UndefinedMetricWarning: Precision is ill-defined and being set to 0.0 in labels with no predicted samples. Use `zero_division` parameter to control this behavior.\n",
            "  _warn_prf(average, modifier, msg_start, len(result))\n"
          ]
        },
        {
          "output_type": "stream",
          "name": "stdout",
          "text": [
            "Test Error: \n",
            " Accuracy: 77.0%\n",
            " Avg loss: 0.750350\n",
            " Precision: 0.4183\n",
            " Recall: 0.4430\n",
            " F1 Score: 0.4171\n",
            " Matthew's Correlation Coefficient: 0.6526\n",
            "EarlyStopping counter: 6 out of 10\n",
            "Train_loss: 0.156402\n"
          ]
        },
        {
          "output_type": "stream",
          "name": "stderr",
          "text": [
            "/usr/local/lib/python3.10/dist-packages/sklearn/metrics/_classification.py:1344: UndefinedMetricWarning: Precision is ill-defined and being set to 0.0 in labels with no predicted samples. Use `zero_division` parameter to control this behavior.\n",
            "  _warn_prf(average, modifier, msg_start, len(result))\n"
          ]
        },
        {
          "output_type": "stream",
          "name": "stdout",
          "text": [
            "Test Error: \n",
            " Accuracy: 78.7%\n",
            " Avg loss: 0.713753\n",
            " Precision: 0.4321\n",
            " Recall: 0.4619\n",
            " F1 Score: 0.4377\n",
            " Matthew's Correlation Coefficient: 0.6723\n",
            "Train_loss: 0.236734\n"
          ]
        },
        {
          "output_type": "stream",
          "name": "stderr",
          "text": [
            "/usr/local/lib/python3.10/dist-packages/sklearn/metrics/_classification.py:1344: UndefinedMetricWarning: Precision is ill-defined and being set to 0.0 in labels with no predicted samples. Use `zero_division` parameter to control this behavior.\n",
            "  _warn_prf(average, modifier, msg_start, len(result))\n"
          ]
        },
        {
          "output_type": "stream",
          "name": "stdout",
          "text": [
            "Test Error: \n",
            " Accuracy: 78.1%\n",
            " Avg loss: 0.717081\n",
            " Precision: 0.4246\n",
            " Recall: 0.4650\n",
            " F1 Score: 0.4347\n",
            " Matthew's Correlation Coefficient: 0.6651\n",
            "EarlyStopping counter: 1 out of 10\n",
            "Train_loss: 0.134978\n"
          ]
        },
        {
          "output_type": "stream",
          "name": "stderr",
          "text": [
            "/usr/local/lib/python3.10/dist-packages/sklearn/metrics/_classification.py:1344: UndefinedMetricWarning: Precision is ill-defined and being set to 0.0 in labels with no predicted samples. Use `zero_division` parameter to control this behavior.\n",
            "  _warn_prf(average, modifier, msg_start, len(result))\n"
          ]
        },
        {
          "output_type": "stream",
          "name": "stdout",
          "text": [
            "Test Error: \n",
            " Accuracy: 78.6%\n",
            " Avg loss: 0.709642\n",
            " Precision: 0.4231\n",
            " Recall: 0.4729\n",
            " F1 Score: 0.4382\n",
            " Matthew's Correlation Coefficient: 0.6711\n",
            "EarlyStopping counter: 2 out of 10\n",
            "Train_loss: 0.130054\n"
          ]
        },
        {
          "output_type": "stream",
          "name": "stderr",
          "text": [
            "/usr/local/lib/python3.10/dist-packages/sklearn/metrics/_classification.py:1344: UndefinedMetricWarning: Precision is ill-defined and being set to 0.0 in labels with no predicted samples. Use `zero_division` parameter to control this behavior.\n",
            "  _warn_prf(average, modifier, msg_start, len(result))\n"
          ]
        },
        {
          "output_type": "stream",
          "name": "stdout",
          "text": [
            "Test Error: \n",
            " Accuracy: 76.9%\n",
            " Avg loss: 0.743096\n",
            " Precision: 0.4106\n",
            " Recall: 0.4653\n",
            " F1 Score: 0.4246\n",
            " Matthew's Correlation Coefficient: 0.6510\n",
            "EarlyStopping counter: 3 out of 10\n",
            "Train_loss: 0.043420\n"
          ]
        },
        {
          "output_type": "stream",
          "name": "stderr",
          "text": [
            "/usr/local/lib/python3.10/dist-packages/sklearn/metrics/_classification.py:1344: UndefinedMetricWarning: Precision is ill-defined and being set to 0.0 in labels with no predicted samples. Use `zero_division` parameter to control this behavior.\n",
            "  _warn_prf(average, modifier, msg_start, len(result))\n"
          ]
        },
        {
          "output_type": "stream",
          "name": "stdout",
          "text": [
            "Test Error: \n",
            " Accuracy: 77.7%\n",
            " Avg loss: 0.737678\n",
            " Precision: 0.4202\n",
            " Recall: 0.4750\n",
            " F1 Score: 0.4339\n",
            " Matthew's Correlation Coefficient: 0.6608\n",
            "EarlyStopping counter: 4 out of 10\n",
            "Train_loss: 0.084211\n"
          ]
        },
        {
          "output_type": "stream",
          "name": "stderr",
          "text": [
            "/usr/local/lib/python3.10/dist-packages/sklearn/metrics/_classification.py:1344: UndefinedMetricWarning: Precision is ill-defined and being set to 0.0 in labels with no predicted samples. Use `zero_division` parameter to control this behavior.\n",
            "  _warn_prf(average, modifier, msg_start, len(result))\n"
          ]
        },
        {
          "output_type": "stream",
          "name": "stdout",
          "text": [
            "Test Error: \n",
            " Accuracy: 78.1%\n",
            " Avg loss: 0.730380\n",
            " Precision: 0.4235\n",
            " Recall: 0.4761\n",
            " F1 Score: 0.4363\n",
            " Matthew's Correlation Coefficient: 0.6642\n",
            "EarlyStopping counter: 5 out of 10\n",
            "Train_loss: 0.131696\n"
          ]
        },
        {
          "output_type": "stream",
          "name": "stderr",
          "text": [
            "/usr/local/lib/python3.10/dist-packages/sklearn/metrics/_classification.py:1344: UndefinedMetricWarning: Precision is ill-defined and being set to 0.0 in labels with no predicted samples. Use `zero_division` parameter to control this behavior.\n",
            "  _warn_prf(average, modifier, msg_start, len(result))\n"
          ]
        },
        {
          "output_type": "stream",
          "name": "stdout",
          "text": [
            "Test Error: \n",
            " Accuracy: 77.8%\n",
            " Avg loss: 0.743177\n",
            " Precision: 0.4208\n",
            " Recall: 0.4708\n",
            " F1 Score: 0.4322\n",
            " Matthew's Correlation Coefficient: 0.6604\n",
            "EarlyStopping counter: 6 out of 10\n",
            "Train_loss: 0.031829\n"
          ]
        },
        {
          "output_type": "stream",
          "name": "stderr",
          "text": [
            "/usr/local/lib/python3.10/dist-packages/sklearn/metrics/_classification.py:1344: UndefinedMetricWarning: Precision is ill-defined and being set to 0.0 in labels with no predicted samples. Use `zero_division` parameter to control this behavior.\n",
            "  _warn_prf(average, modifier, msg_start, len(result))\n"
          ]
        },
        {
          "output_type": "stream",
          "name": "stdout",
          "text": [
            "Test Error: \n",
            " Accuracy: 77.3%\n",
            " Avg loss: 0.757884\n",
            " Precision: 0.4175\n",
            " Recall: 0.4770\n",
            " F1 Score: 0.4301\n",
            " Matthew's Correlation Coefficient: 0.6561\n",
            "EarlyStopping counter: 7 out of 10\n",
            "Train_loss: 0.059200\n"
          ]
        },
        {
          "output_type": "stream",
          "name": "stderr",
          "text": [
            "/usr/local/lib/python3.10/dist-packages/sklearn/metrics/_classification.py:1344: UndefinedMetricWarning: Precision is ill-defined and being set to 0.0 in labels with no predicted samples. Use `zero_division` parameter to control this behavior.\n",
            "  _warn_prf(average, modifier, msg_start, len(result))\n"
          ]
        },
        {
          "output_type": "stream",
          "name": "stdout",
          "text": [
            "Test Error: \n",
            " Accuracy: 78.2%\n",
            " Avg loss: 0.711447\n",
            " Precision: 0.5897\n",
            " Recall: 0.4833\n",
            " F1 Score: 0.4513\n",
            " Matthew's Correlation Coefficient: 0.6641\n",
            "EarlyStopping counter: 8 out of 10\n",
            "Train_loss: 0.046438\n"
          ]
        },
        {
          "output_type": "stream",
          "name": "stderr",
          "text": [
            "/usr/local/lib/python3.10/dist-packages/sklearn/metrics/_classification.py:1344: UndefinedMetricWarning: Precision is ill-defined and being set to 0.0 in labels with no predicted samples. Use `zero_division` parameter to control this behavior.\n",
            "  _warn_prf(average, modifier, msg_start, len(result))\n"
          ]
        },
        {
          "output_type": "stream",
          "name": "stdout",
          "text": [
            "Test Error: \n",
            " Accuracy: 77.6%\n",
            " Avg loss: 0.757584\n",
            " Precision: 0.5867\n",
            " Recall: 0.4793\n",
            " F1 Score: 0.4455\n",
            " Matthew's Correlation Coefficient: 0.6580\n",
            "EarlyStopping counter: 9 out of 10\n",
            "Train_loss: 0.088415\n"
          ]
        },
        {
          "output_type": "stream",
          "name": "stderr",
          "text": [
            "/usr/local/lib/python3.10/dist-packages/sklearn/metrics/_classification.py:1344: UndefinedMetricWarning: Precision is ill-defined and being set to 0.0 in labels with no predicted samples. Use `zero_division` parameter to control this behavior.\n",
            "  _warn_prf(average, modifier, msg_start, len(result))\n"
          ]
        },
        {
          "output_type": "stream",
          "name": "stdout",
          "text": [
            "Test Error: \n",
            " Accuracy: 77.8%\n",
            " Avg loss: 0.761734\n",
            " Precision: 0.4623\n",
            " Recall: 0.4769\n",
            " F1 Score: 0.4442\n",
            " Matthew's Correlation Coefficient: 0.6599\n",
            "EarlyStopping counter: 10 out of 10\n",
            "Early stopping\n",
            "Finished training for lr=0.0001, layer_sizes=[1024, 512, 256], dropouts=[0.5, 0.5, 0.5]. Best val accuracy: 79.6669588080631\n",
            "Train_loss: 2.073949\n"
          ]
        },
        {
          "output_type": "stream",
          "name": "stderr",
          "text": [
            "/usr/local/lib/python3.10/dist-packages/sklearn/metrics/_classification.py:1344: UndefinedMetricWarning: Precision is ill-defined and being set to 0.0 in labels with no predicted samples. Use `zero_division` parameter to control this behavior.\n",
            "  _warn_prf(average, modifier, msg_start, len(result))\n"
          ]
        },
        {
          "output_type": "stream",
          "name": "stdout",
          "text": [
            "Test Error: \n",
            " Accuracy: 72.2%\n",
            " Avg loss: 1.354274\n",
            " Precision: 0.3595\n",
            " Recall: 0.3727\n",
            " F1 Score: 0.3536\n",
            " Matthew's Correlation Coefficient: 0.5647\n",
            "Train_loss: 1.078513\n"
          ]
        },
        {
          "output_type": "stream",
          "name": "stderr",
          "text": [
            "/usr/local/lib/python3.10/dist-packages/sklearn/metrics/_classification.py:1344: UndefinedMetricWarning: Precision is ill-defined and being set to 0.0 in labels with no predicted samples. Use `zero_division` parameter to control this behavior.\n",
            "  _warn_prf(average, modifier, msg_start, len(result))\n"
          ]
        },
        {
          "output_type": "stream",
          "name": "stdout",
          "text": [
            "Test Error: \n",
            " Accuracy: 75.8%\n",
            " Avg loss: 0.968653\n",
            " Precision: 0.3715\n",
            " Recall: 0.3960\n",
            " F1 Score: 0.3708\n",
            " Matthew's Correlation Coefficient: 0.6250\n",
            "Train_loss: 0.498196\n"
          ]
        },
        {
          "output_type": "stream",
          "name": "stderr",
          "text": [
            "/usr/local/lib/python3.10/dist-packages/sklearn/metrics/_classification.py:1344: UndefinedMetricWarning: Precision is ill-defined and being set to 0.0 in labels with no predicted samples. Use `zero_division` parameter to control this behavior.\n",
            "  _warn_prf(average, modifier, msg_start, len(result))\n"
          ]
        },
        {
          "output_type": "stream",
          "name": "stdout",
          "text": [
            "Test Error: \n",
            " Accuracy: 79.0%\n",
            " Avg loss: 0.825154\n",
            " Precision: 0.5459\n",
            " Recall: 0.4150\n",
            " F1 Score: 0.3941\n",
            " Matthew's Correlation Coefficient: 0.6697\n",
            "Train_loss: 0.415922\n"
          ]
        },
        {
          "output_type": "stream",
          "name": "stderr",
          "text": [
            "/usr/local/lib/python3.10/dist-packages/sklearn/metrics/_classification.py:1344: UndefinedMetricWarning: Precision is ill-defined and being set to 0.0 in labels with no predicted samples. Use `zero_division` parameter to control this behavior.\n",
            "  _warn_prf(average, modifier, msg_start, len(result))\n"
          ]
        },
        {
          "output_type": "stream",
          "name": "stdout",
          "text": [
            "Test Error: \n",
            " Accuracy: 78.6%\n",
            " Avg loss: 0.772197\n",
            " Precision: 0.4898\n",
            " Recall: 0.4177\n",
            " F1 Score: 0.3959\n",
            " Matthew's Correlation Coefficient: 0.6663\n",
            "EarlyStopping counter: 1 out of 10\n",
            "Train_loss: 0.264429\n"
          ]
        },
        {
          "output_type": "stream",
          "name": "stderr",
          "text": [
            "/usr/local/lib/python3.10/dist-packages/sklearn/metrics/_classification.py:1344: UndefinedMetricWarning: Precision is ill-defined and being set to 0.0 in labels with no predicted samples. Use `zero_division` parameter to control this behavior.\n",
            "  _warn_prf(average, modifier, msg_start, len(result))\n"
          ]
        },
        {
          "output_type": "stream",
          "name": "stdout",
          "text": [
            "Test Error: \n",
            " Accuracy: 79.0%\n",
            " Avg loss: 0.721157\n",
            " Precision: 0.5056\n",
            " Recall: 0.4182\n",
            " F1 Score: 0.4024\n",
            " Matthew's Correlation Coefficient: 0.6697\n",
            "EarlyStopping counter: 2 out of 10\n",
            "Train_loss: 0.172569\n"
          ]
        },
        {
          "output_type": "stream",
          "name": "stderr",
          "text": [
            "/usr/local/lib/python3.10/dist-packages/sklearn/metrics/_classification.py:1344: UndefinedMetricWarning: Precision is ill-defined and being set to 0.0 in labels with no predicted samples. Use `zero_division` parameter to control this behavior.\n",
            "  _warn_prf(average, modifier, msg_start, len(result))\n"
          ]
        },
        {
          "output_type": "stream",
          "name": "stdout",
          "text": [
            "Test Error: \n",
            " Accuracy: 77.9%\n",
            " Avg loss: 0.738708\n",
            " Precision: 0.4779\n",
            " Recall: 0.4331\n",
            " F1 Score: 0.4247\n",
            " Matthew's Correlation Coefficient: 0.6580\n",
            "EarlyStopping counter: 3 out of 10\n",
            "Train_loss: 0.120369\n"
          ]
        },
        {
          "output_type": "stream",
          "name": "stderr",
          "text": [
            "/usr/local/lib/python3.10/dist-packages/sklearn/metrics/_classification.py:1344: UndefinedMetricWarning: Precision is ill-defined and being set to 0.0 in labels with no predicted samples. Use `zero_division` parameter to control this behavior.\n",
            "  _warn_prf(average, modifier, msg_start, len(result))\n"
          ]
        },
        {
          "output_type": "stream",
          "name": "stdout",
          "text": [
            "Test Error: \n",
            " Accuracy: 77.2%\n",
            " Avg loss: 0.764745\n",
            " Precision: 0.4216\n",
            " Recall: 0.4415\n",
            " F1 Score: 0.4193\n",
            " Matthew's Correlation Coefficient: 0.6540\n",
            "EarlyStopping counter: 4 out of 10\n",
            "Train_loss: 0.099044\n"
          ]
        },
        {
          "output_type": "stream",
          "name": "stderr",
          "text": [
            "/usr/local/lib/python3.10/dist-packages/sklearn/metrics/_classification.py:1344: UndefinedMetricWarning: Precision is ill-defined and being set to 0.0 in labels with no predicted samples. Use `zero_division` parameter to control this behavior.\n",
            "  _warn_prf(average, modifier, msg_start, len(result))\n"
          ]
        },
        {
          "output_type": "stream",
          "name": "stdout",
          "text": [
            "Test Error: \n",
            " Accuracy: 77.9%\n",
            " Avg loss: 0.733494\n",
            " Precision: 0.4188\n",
            " Recall: 0.4507\n",
            " F1 Score: 0.4259\n",
            " Matthew's Correlation Coefficient: 0.6613\n",
            "EarlyStopping counter: 5 out of 10\n",
            "Train_loss: 0.162516\n"
          ]
        },
        {
          "output_type": "stream",
          "name": "stderr",
          "text": [
            "/usr/local/lib/python3.10/dist-packages/sklearn/metrics/_classification.py:1344: UndefinedMetricWarning: Precision is ill-defined and being set to 0.0 in labels with no predicted samples. Use `zero_division` parameter to control this behavior.\n",
            "  _warn_prf(average, modifier, msg_start, len(result))\n"
          ]
        },
        {
          "output_type": "stream",
          "name": "stdout",
          "text": [
            "Test Error: \n",
            " Accuracy: 78.4%\n",
            " Avg loss: 0.722041\n",
            " Precision: 0.4228\n",
            " Recall: 0.4488\n",
            " F1 Score: 0.4275\n",
            " Matthew's Correlation Coefficient: 0.6666\n",
            "EarlyStopping counter: 6 out of 10\n",
            "Train_loss: 0.079491\n"
          ]
        },
        {
          "output_type": "stream",
          "name": "stderr",
          "text": [
            "/usr/local/lib/python3.10/dist-packages/sklearn/metrics/_classification.py:1344: UndefinedMetricWarning: Precision is ill-defined and being set to 0.0 in labels with no predicted samples. Use `zero_division` parameter to control this behavior.\n",
            "  _warn_prf(average, modifier, msg_start, len(result))\n"
          ]
        },
        {
          "output_type": "stream",
          "name": "stdout",
          "text": [
            "Test Error: \n",
            " Accuracy: 78.3%\n",
            " Avg loss: 0.729388\n",
            " Precision: 0.4216\n",
            " Recall: 0.4548\n",
            " F1 Score: 0.4298\n",
            " Matthew's Correlation Coefficient: 0.6650\n",
            "EarlyStopping counter: 7 out of 10\n",
            "Train_loss: 0.093511\n"
          ]
        },
        {
          "output_type": "stream",
          "name": "stderr",
          "text": [
            "/usr/local/lib/python3.10/dist-packages/sklearn/metrics/_classification.py:1344: UndefinedMetricWarning: Precision is ill-defined and being set to 0.0 in labels with no predicted samples. Use `zero_division` parameter to control this behavior.\n",
            "  _warn_prf(average, modifier, msg_start, len(result))\n"
          ]
        },
        {
          "output_type": "stream",
          "name": "stdout",
          "text": [
            "Test Error: \n",
            " Accuracy: 78.6%\n",
            " Avg loss: 0.724390\n",
            " Precision: 0.4212\n",
            " Recall: 0.4606\n",
            " F1 Score: 0.4326\n",
            " Matthew's Correlation Coefficient: 0.6696\n",
            "EarlyStopping counter: 8 out of 10\n",
            "Train_loss: 0.043471\n"
          ]
        },
        {
          "output_type": "stream",
          "name": "stderr",
          "text": [
            "/usr/local/lib/python3.10/dist-packages/sklearn/metrics/_classification.py:1344: UndefinedMetricWarning: Precision is ill-defined and being set to 0.0 in labels with no predicted samples. Use `zero_division` parameter to control this behavior.\n",
            "  _warn_prf(average, modifier, msg_start, len(result))\n"
          ]
        },
        {
          "output_type": "stream",
          "name": "stdout",
          "text": [
            "Test Error: \n",
            " Accuracy: 78.0%\n",
            " Avg loss: 0.735733\n",
            " Precision: 0.4205\n",
            " Recall: 0.4544\n",
            " F1 Score: 0.4284\n",
            " Matthew's Correlation Coefficient: 0.6605\n",
            "EarlyStopping counter: 9 out of 10\n",
            "Train_loss: 0.034161\n"
          ]
        },
        {
          "output_type": "stream",
          "name": "stderr",
          "text": [
            "/usr/local/lib/python3.10/dist-packages/sklearn/metrics/_classification.py:1344: UndefinedMetricWarning: Precision is ill-defined and being set to 0.0 in labels with no predicted samples. Use `zero_division` parameter to control this behavior.\n",
            "  _warn_prf(average, modifier, msg_start, len(result))\n"
          ]
        },
        {
          "output_type": "stream",
          "name": "stdout",
          "text": [
            "Test Error: \n",
            " Accuracy: 78.7%\n",
            " Avg loss: 0.712366\n",
            " Precision: 0.5890\n",
            " Recall: 0.4637\n",
            " F1 Score: 0.4459\n",
            " Matthew's Correlation Coefficient: 0.6688\n",
            "EarlyStopping counter: 10 out of 10\n",
            "Early stopping\n",
            "Finished training for lr=0.0001, layer_sizes=[1024, 512, 256], dropouts=[0.3, 0.3, 0.3]. Best val accuracy: 79.6669588080631\n",
            "Best parameters are: {'lr': 0.0001, 'layer_sizes': [128, 64, 32], 'dropouts': [0.5, 0.5, 0.5]} with accuracy: 79.6669588080631\n",
            "Test Error: \n",
            " Accuracy: 94.5%\n",
            " Avg loss: 0.328734\n",
            " Precision: 0.9578\n",
            " Recall: 0.5166\n",
            " F1 Score: 0.5531\n",
            " Matthew's Correlation Coefficient: 0.9150\n",
            "Test accuracy with best model: 94.47852760736197\n"
          ]
        }
      ]
    }
  ]
}